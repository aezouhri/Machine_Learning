{
 "cells": [
  {
   "cell_type": "code",
   "execution_count": null,
   "metadata": {},
   "outputs": [],
   "source": [
    "%matplotlib inline\n",
    "import numpy as np\n",
    "import matplotlib.pyplot as plt\n",
    "from scipy import stats\n",
    "from sklearn.datasets import fetch_openml\n",
    "import pickle\n",
    "from scipy.special import expit,softmax\n",
    "from sklearn.model_selection import train_test_split"
   ]
  },
  {
   "cell_type": "markdown",
   "metadata": {},
   "source": [
    "## Open MNIST data and create a subset with desired digits\n",
    "\n",
    "<font color=red>Change the code below to select a different subset </font>"
   ]
  },
  {
   "cell_type": "code",
   "execution_count": null,
   "metadata": {},
   "outputs": [],
   "source": [
    "X, y = fetch_openml(\"mnist_784\", version=1, return_X_y=True, as_frame=False)\n",
    "y = np.asarray([int(numeric_string) for numeric_string in y])\n",
    "\n",
    "# Saving the temporary variables for fast retrieval\n",
    "with open('temp.pickle', 'wb') as handle:\n",
    "    pickle.dump([X, y], handle)\n"
   ]
  },
  {
   "cell_type": "code",
   "execution_count": null,
   "metadata": {},
   "outputs": [],
   "source": [
    "# loading the temporary variables for fast retrieval\n",
    "with open('temp.pickle', 'rb') as handle:\n",
    "    X, y = pickle.load(handle)\n",
    "\n",
    "X = X\n",
    "    \n",
    "Nclasses = 3\n",
    "labelclasses = y<Nclasses\n",
    "Xnew = X[labelclasses]\n",
    "ynew = y[labelclasses]\n",
    "Nfeatures = np.size(Xnew,1)\n",
    "Nsamples = np.size(Xnew,0)\n"
   ]
  },
  {
   "cell_type": "code",
   "execution_count": null,
   "metadata": {},
   "outputs": [],
   "source": [
    " \n",
    "X_train, X_test, y_train, y_test = train_test_split(Xnew, ynew, test_size=0.2, random_state=1)\n",
    "X_train, X_val, y_train, y_val = train_test_split(X, y, test_size=.125, random_state=1) # 0.25 x 0.8 = 0.2\n",
    "\n",
    "Nsamples = X_train.shape[0]\n",
    "Nfeatures = X_train.shape[1]\n",
    "\n",
    "X_train = X_train.T\n",
    "X_val = X_val.T\n",
    "X_test = X_test.T\n",
    "\n"
   ]
  },
  {
   "cell_type": "code",
   "execution_count": null,
   "metadata": {},
   "outputs": [],
   "source": [
    "def testLinearMCClassifier(a,X,y):\n",
    "    X = X.T\n",
    "    temp = np.zeros((X.shape[0],1))\n",
    "    X = np.append(X,temp,axis=1)\n",
    "    temp=[]\n",
    "    predict=np.zeros(Nclasses)\n",
    "    misclassifications =0\n",
    "    for i in range(X.shape[0]):\n",
    "        predict = X[i]@a.T\n",
    "        misclassifications =np.sum(np.argmax(predict) != y[i])\n",
    "  \n",
    "          \n",
    "    return misclassifications\n",
    "        "
   ]
  },
  {
   "cell_type": "code",
   "execution_count": null,
   "metadata": {},
   "outputs": [
    {
     "name": "stdout",
     "output_type": "stream",
     "text": [
      "Mis-classifications= 0 out of 61250 equivalent to 0.0 %\n",
      "Mis-classifications= 1 out of 8750 equivalent to 0.011428571428571429 %\n",
      "Mis-classifications= 0 out of 4354 equivalent to 0.0 %\n"
     ]
    }
   ],
   "source": [
    "\n",
    "def gaussianMultiChannelClassifier(Xtrain,ytrain):\n",
    "    Xtrain = Xtrain.T\n",
    "    matrix_one = np.zeros((Nclasses,Nfeatures+1))\n",
    "    \n",
    "    for i in range(Nclasses):\n",
    "        classi= Xtrain[ytrain==i]\n",
    "        mu = np.mean(classi,axis=0,keepdims = True)\n",
    "        temp = np.concatenate(((2*mu).T,(mu@mu.T)),axis =0)\n",
    "        matrix_one[i] = temp.T                      \n",
    "\n",
    "    return matrix_one\n",
    "        \n",
    "\n",
    "#------SIMPLE TESTING ON THE TRAINING DATA ITSELF --------------\n",
    "a = gaussianMultiChannelClassifier(X_train,y_train)\n",
    "#plt.imshow(np.reshape(a[0:784],(28,28)))\n",
    "\n",
    "train = testLinearMCClassifier(a,X_train,y_train)\n",
    "val = testLinearMCClassifier(a,X_val,y_val)\n",
    "test = testLinearMCClassifier(a,X_test,y_test)\n",
    "print(\"Mis-classifications=\", train, \"out of\",X_train.T.shape[0], \"equivalent to\",(train/X_train.T.shape[0])*100 ,\"%\")\n",
    "print(\"Mis-classifications=\", val, \"out of\",X_val.T.shape[0], \"equivalent to\",(val/X_val.T.shape[0])*100 ,\"%\")\n",
    "print(\"Mis-classifications=\", test, \"out of\",X_test.T.shape[0], \"equivalent to\",(test/X_test.T.shape[0])*100 ,\"%\")                  "
   ]
  },
  {
   "cell_type": "code",
   "execution_count": null,
   "metadata": {},
   "outputs": [],
   "source": []
  },
  {
   "cell_type": "code",
   "execution_count": null,
   "metadata": {},
   "outputs": [
    {
     "name": "stdout",
     "output_type": "stream",
     "text": [
      "Mis-classifications= 0 out of 61250 equivalent to 0.0 %\n",
      "Mis-classifications= 1 out of 8750 equivalent to 0.011428571428571429 %\n",
      "Mis-classifications= 1 out of 4354 equivalent to 0.022967386311437757 %\n"
     ]
    },
    {
     "data": {
      "image/png": "[encoded data removed]",
      "text/plain": [
       "<Figure size 640x480 with 1 Axes>"
      ]
     },
     "metadata": {},
     "output_type": "display_data"
    }
   ],
   "source": [
    "\n",
    "def logisticRegressionMultiClassClassifier(Xtrain,ytrain,iterations=100,step_size=1e-4,verbose=False):\n",
    "\n",
    "    Xtrain = Xtrain.T    \n",
    "    test = np.zeros((Xtrain.shape[0],1))\n",
    "    Xtrain = np.append(Xtrain,test,axis=1)\n",
    "    a = 0.01*np.random.randn(Nfeatures+1)\n",
    "    t = np.squeeze(a.T@Xtrain.T)\n",
    "    s = softmax(t)\n",
    "    error = s-ytrain\n",
    "    for i in range(iterations):\n",
    "        replace_y = ytrain\n",
    "        temp=[1 if replace_y[x] ==1 else 0 for x in range(replace_y.shape[0])]\n",
    "        for j in range(Nclasses):\n",
    "            t = np.squeeze(np.matmul(np.transpose(a),Xtrain.T)).T\n",
    "            s = softmax(t)\n",
    "            error = s-temp\n",
    "            gradient = Xtrain.T@error \n",
    "            a = a - step_size*gradient\n",
    "    \n",
    "    return a\n",
    "    #YOUR CODE HERE\n",
    "    \n",
    "#------SIMPLE TESTING ON THE TRAINING DATA ITSELF --------------\n",
    "a = logisticRegressionMultiClassClassifier(X_train,y_train,iterations=500,verbose=False)\n",
    "plt.imshow(np.reshape(a[0:784],(28,28)))\n",
    "\n",
    "train = testLinearMCClassifier(a,X_train,y_train)\n",
    "val = testLinearMCClassifier(a,X_val,y_val)\n",
    "test = testLinearMCClassifier(a,X_test,y_test)\n",
    "print(\"Mis-classifications=\", train, \"out of\",X_train.T.shape[0], \"equivalent to\",(train/X_train.T.shape[0])*100 ,\"%\")\n",
    "print(\"Mis-classifications=\", val, \"out of\",X_val.T.shape[0], \"equivalent to\",(val/X_val.T.shape[0])*100 ,\"%\")\n",
    "print(\"Mis-classifications=\", test, \"out of\",X_test.T.shape[0], \"equivalent to\",(test/X_test.T.shape[0])*100 ,\"%\")  \n"
   ]
  },
  {
   "cell_type": "code",
   "execution_count": null,
   "metadata": {},
   "outputs": [
    {
     "name": "stdout",
     "output_type": "stream",
     "text": [
      "Mis-classifications= 0 out of 61250 equivalent to 0.0 %\n",
      "Mis-classifications= 1 out of 8750 equivalent to 0.011428571428571429 %\n",
      "Mis-classifications= 1 out of 4354 equivalent to 0.022967386311437757 %\n"
     ]
    },
    {
     "data": {
      "image/png": "[encoded data removed]",
      "text/plain": [
       "<Figure size 640x480 with 1 Axes>"
      ]
     },
     "metadata": {},
     "output_type": "display_data"
    }
   ],
   "source": [
    "\n",
    "def logisticRegressionMultiClassClassifierWithRegularization(Xtrain,ytrain,iterations=100,step_size=1e-4,lam=0,verbose=False):\n",
    "    Xtrain = Xtrain.T\n",
    "    test = np.zeros((Xtrain.shape[0],1))\n",
    "    Xtrain = np.append(Xtrain,test,axis=1)  \n",
    "\n",
    "    a = 0.01*np.random.randn(Nfeatures+1)\n",
    "    t = np.squeeze(a.T@Xtrain.T)\n",
    "    s = softmax(t)\n",
    "    error = s-ytrain\n",
    "    for i in range(iterations):\n",
    "        replace_y = ytrain\n",
    "        temp=[1 if replace_y[x] ==1 else 0 for x in range(replace_y.shape[0])]\n",
    "        for j in range(Nclasses):\n",
    "            t = np.squeeze(np.matmul(np.transpose(a),Xtrain.T)).T\n",
    "            s = softmax(t)\n",
    "            error = s-temp\n",
    "            gradient = Xtrain.T@error + (np.dot((np.dot(lam,a)),2))\n",
    "            a = a - step_size*gradient\n",
    "    return a\n",
    "\n",
    "a = logisticRegressionMultiClassClassifierWithRegularization(X_train,y_train,iterations=500,verbose=False,lam=1)\n",
    "plt.imshow(np.reshape(a[0:784],(28,28)))\n",
    "\n",
    "train = testLinearMCClassifier(a,X_train,y_train)\n",
    "val = testLinearMCClassifier(a,X_val,y_val)\n",
    "test = testLinearMCClassifier(a,X_test,y_test)\n",
    "print(\"Mis-classifications=\", train, \"out of\",X_train.T.shape[0], \"equivalent to\",(train/X_train.T.shape[0])*100 ,\"%\")\n",
    "print(\"Mis-classifications=\", val, \"out of\",X_val.T.shape[0], \"equivalent to\",(val/X_val.T.shape[0])*100 ,\"%\")\n",
    "print(\"Mis-classifications=\", test, \"out of\",X_test.T.shape[0], \"equivalent to\",(test/X_test.T.shape[0])*100 ,\"%\")  \n"
   ]
  },
  {
   "cell_type": "code",
   "execution_count": null,
   "metadata": {},
   "outputs": [
    {
     "ename": "ValueError",
     "evalue": "matmul: Input operand 1 has a mismatch in its core dimension 0, with gufunc signature (n?,k),(k,m?)->(n?,m?) (size 61251 is different from 785)",
     "output_type": "error",
     "traceback": [
      "\u001b[1;31m---------------------------------------------------------------------------\u001b[0m\n",
      "\u001b[1;31mValueError\u001b[0m                                Traceback (most recent call last)\n",
      "\u001b[1;32mc:\\Users\\Adnane Ezouhri\\Desktop\\School\\Machine_Learning\\Project\\Component2.ipynb Cell 11\u001b[0m line \u001b[0;36m1\n",
      "\u001b[0;32m     <a href='vscode-notebook-cell:/c%3A/Users/Adnane%20Ezouhri/Desktop/School/Machine_Learning/Project/Component2.ipynb#X13sZmlsZQ%3D%3D?line=12'>13</a>\u001b[0m     lamopt \u001b[39m=\u001b[39m \u001b[39mmin\u001b[39m(temp)\n",
      "\u001b[0;32m     <a href='vscode-notebook-cell:/c%3A/Users/Adnane%20Ezouhri/Desktop/School/Machine_Learning/Project/Component2.ipynb#X13sZmlsZQ%3D%3D?line=14'>15</a>\u001b[0m     \u001b[39mreturn\u001b[39;00m lamopt\n",
      "\u001b[1;32m---> <a href='vscode-notebook-cell:/c%3A/Users/Adnane%20Ezouhri/Desktop/School/Machine_Learning/Project/Component2.ipynb#X13sZmlsZQ%3D%3D?line=17'>18</a>\u001b[0m a1 \u001b[39m=\u001b[39m Optimize_MC_Hyperparameters(X_train,y_train)\n",
      "\u001b[0;32m     <a href='vscode-notebook-cell:/c%3A/Users/Adnane%20Ezouhri/Desktop/School/Machine_Learning/Project/Component2.ipynb#X13sZmlsZQ%3D%3D?line=18'>19</a>\u001b[0m \u001b[39m# a = logisticRegressionMultiClassClassifierWithRegularization(X_train,y_train,iterations=500,verbose=False,lam = a1)\u001b[39;00m\n",
      "\u001b[0;32m     <a href='vscode-notebook-cell:/c%3A/Users/Adnane%20Ezouhri/Desktop/School/Machine_Learning/Project/Component2.ipynb#X13sZmlsZQ%3D%3D?line=19'>20</a>\u001b[0m plt\u001b[39m.\u001b[39mimshow(np\u001b[39m.\u001b[39mreshape(a[\u001b[39m0\u001b[39m:\u001b[39m784\u001b[39m],(\u001b[39m28\u001b[39m,\u001b[39m28\u001b[39m)))\n",
      "\n",
      "\u001b[1;32mc:\\Users\\Adnane Ezouhri\\Desktop\\School\\Machine_Learning\\Project\\Component2.ipynb Cell 11\u001b[0m line \u001b[0;36m9\n",
      "\u001b[0;32m      <a href='vscode-notebook-cell:/c%3A/Users/Adnane%20Ezouhri/Desktop/School/Machine_Learning/Project/Component2.ipynb#X13sZmlsZQ%3D%3D?line=6'>7</a>\u001b[0m \u001b[39m#looping to find the best lamda to call the logisticRegressionWithRegularization method\u001b[39;00m\n",
      "\u001b[0;32m      <a href='vscode-notebook-cell:/c%3A/Users/Adnane%20Ezouhri/Desktop/School/Machine_Learning/Project/Component2.ipynb#X13sZmlsZQ%3D%3D?line=7'>8</a>\u001b[0m \u001b[39mfor\u001b[39;00m i \u001b[39min\u001b[39;00m lam:\n",
      "\u001b[1;32m----> <a href='vscode-notebook-cell:/c%3A/Users/Adnane%20Ezouhri/Desktop/School/Machine_Learning/Project/Component2.ipynb#X13sZmlsZQ%3D%3D?line=8'>9</a>\u001b[0m     a \u001b[39m=\u001b[39mlogisticRegressionMultiClassClassifierWithRegularization(Xtrain,ytrain,\u001b[39m100\u001b[39;49m,\u001b[39m1e-4\u001b[39;49m,i,\u001b[39mFalse\u001b[39;49;00m)\n",
      "\u001b[0;32m     <a href='vscode-notebook-cell:/c%3A/Users/Adnane%20Ezouhri/Desktop/School/Machine_Learning/Project/Component2.ipynb#X13sZmlsZQ%3D%3D?line=9'>10</a>\u001b[0m     b \u001b[39m=\u001b[39m testLinearMCClassifier(a,Xtrain,ytrain)\n",
      "\u001b[0;32m     <a href='vscode-notebook-cell:/c%3A/Users/Adnane%20Ezouhri/Desktop/School/Machine_Learning/Project/Component2.ipynb#X13sZmlsZQ%3D%3D?line=10'>11</a>\u001b[0m     temp\u001b[39m.\u001b[39mappend(b)\n",
      "\n",
      "\u001b[1;32mc:\\Users\\Adnane Ezouhri\\Desktop\\School\\Machine_Learning\\Project\\Component2.ipynb Cell 11\u001b[0m line \u001b[0;36m7\n",
      "\u001b[0;32m      <a href='vscode-notebook-cell:/c%3A/Users/Adnane%20Ezouhri/Desktop/School/Machine_Learning/Project/Component2.ipynb#X13sZmlsZQ%3D%3D?line=3'>4</a>\u001b[0m Xtrain \u001b[39m=\u001b[39m np\u001b[39m.\u001b[39mappend(Xtrain,test,axis\u001b[39m=\u001b[39m\u001b[39m1\u001b[39m)  \n",
      "\u001b[0;32m      <a href='vscode-notebook-cell:/c%3A/Users/Adnane%20Ezouhri/Desktop/School/Machine_Learning/Project/Component2.ipynb#X13sZmlsZQ%3D%3D?line=5'>6</a>\u001b[0m a \u001b[39m=\u001b[39m \u001b[39m0.01\u001b[39m\u001b[39m*\u001b[39mnp\u001b[39m.\u001b[39mrandom\u001b[39m.\u001b[39mrandn(Nfeatures\u001b[39m+\u001b[39m\u001b[39m1\u001b[39m)\n",
      "\u001b[1;32m----> <a href='vscode-notebook-cell:/c%3A/Users/Adnane%20Ezouhri/Desktop/School/Machine_Learning/Project/Component2.ipynb#X13sZmlsZQ%3D%3D?line=6'>7</a>\u001b[0m t \u001b[39m=\u001b[39m np\u001b[39m.\u001b[39msqueeze(a\u001b[39m.\u001b[39;49mT\u001b[39m@Xtrain\u001b[39;49m\u001b[39m.\u001b[39;49mT)\n",
      "\u001b[0;32m      <a href='vscode-notebook-cell:/c%3A/Users/Adnane%20Ezouhri/Desktop/School/Machine_Learning/Project/Component2.ipynb#X13sZmlsZQ%3D%3D?line=7'>8</a>\u001b[0m s \u001b[39m=\u001b[39m softmax(t)\n",
      "\u001b[0;32m      <a href='vscode-notebook-cell:/c%3A/Users/Adnane%20Ezouhri/Desktop/School/Machine_Learning/Project/Component2.ipynb#X13sZmlsZQ%3D%3D?line=8'>9</a>\u001b[0m error \u001b[39m=\u001b[39m s\u001b[39m-\u001b[39mytrain\n",
      "\n",
      "\u001b[1;31mValueError\u001b[0m: matmul: Input operand 1 has a mismatch in its core dimension 0, with gufunc signature (n?,k),(k,m?)->(n?,m?) (size 61251 is different from 785)"
     ]
    }
   ],
   "source": [
    "def Optimize_MC_Hyperparameters(Xtrain,ytrain):\n",
    "    # YOUR CODE HERE\n",
    "    #0-100 with step size 100\n",
    "    Xtrain = Xtrain.T \n",
    "    temp = []\n",
    "    lam= np.linspace(0,100,num = 100)\n",
    "    #looping to find the best lamda to call the logisticRegressionWithRegularization method\n",
    "    for i in lam:\n",
    "        a =logisticRegressionMultiClassClassifierWithRegularization(Xtrain,ytrain,100,1e-4,i,False)\n",
    "        b = testLinearMCClassifier(a,Xtrain,ytrain)\n",
    "        temp.append(b)\n",
    "        \n",
    "    lamopt = min(temp)\n",
    "\n",
    "    return lamopt\n",
    "\n",
    "\n",
    "a1 = Optimize_MC_Hyperparameters(X_train,y_train)\n",
    "# a = logisticRegressionMultiClassClassifierWithRegularization(X_train,y_train,iterations=500,verbose=False,lam = a1)\n",
    "plt.imshow(np.reshape(a[0:784],(28,28)))\n",
    "train = testLinearMCClassifier(a,X_train,y_train)\n",
    "val = testLinearMCClassifier(a,X_val,y_val)\n",
    "test = testLinearMCClassifier(a,X_test,y_test)\n",
    "print(\"Mis-classifications=\", train, \"out of\",X_train.T.shape[0], \"equivalent to\",(train/X_train.T.shape[0])*100 ,\"%\")\n",
    "print(\"Mis-classifications=\", val, \"out of\",X_val.T.shape[0], \"equivalent to\",(val/X_val.T.shape[0])*100 ,\"%\")\n",
    "print(\"Mis-classifications=\", test, \"out of\",X_test.T.shape[0], \"equivalent to\",(test/X_test.T.shape[0])*100 ,\"%\")  "
   ]
  },
  {
   "cell_type": "code",
   "execution_count": null,
   "metadata": {},
   "outputs": [
    {
     "name": "stdout",
     "output_type": "stream",
     "text": [
      "This is for a1\n",
      "Mis-classifications= 44955 out of 61250 equivalent to 73.39591836734694 %\n",
      "Mis-classifications= 6355 out of 8750 equivalent to 72.62857142857143 %\n",
      "Mis-classifications= 617 out of 4354 equivalent to 14.170877354157096 %\n",
      "-------------------------------------------------------------------------------------------------------\n"
     ]
    },
    {
     "ename": "IndexError",
     "evalue": "index 3 is out of bounds for axis 0 with size 3",
     "output_type": "error",
     "traceback": [
      "\u001b[0;31m---------------------------------------------------------------------------\u001b[0m\n",
      "\u001b[0;31mIndexError\u001b[0m                                Traceback (most recent call last)\n",
      "Input \u001b[0;32mIn [88]\u001b[0m, in \u001b[0;36m<cell line: 14>\u001b[0;34m()\u001b[0m\n",
      "\u001b[1;32m     11\u001b[0m \u001b[38;5;28mprint\u001b[39m(\u001b[38;5;124m\"\u001b[39m\u001b[38;5;124m-------------------------------------------------------------------------------------------------------\u001b[39m\u001b[38;5;124m\"\u001b[39m)\n",
      "\u001b[1;32m     12\u001b[0m \u001b[38;5;66;03m#######################################\u001b[39;00m\n",
      "\u001b[1;32m     13\u001b[0m \u001b[38;5;66;03m# This is a2 and you will notice that the percentage is better than a1\u001b[39;00m\n",
      "\u001b[0;32m---> 14\u001b[0m a2 \u001b[38;5;241m=\u001b[39m \u001b[43mlogisticRegressionMultiClassClassifier\u001b[49m\u001b[43m(\u001b[49m\u001b[43mX_train\u001b[49m\u001b[43m,\u001b[49m\u001b[43my_train\u001b[49m\u001b[43m)\u001b[49m\n",
      "\u001b[1;32m     15\u001b[0m train1 \u001b[38;5;241m=\u001b[39m testLinearMCClassifier(a2,X_train,y_train)\n",
      "\u001b[1;32m     16\u001b[0m val1 \u001b[38;5;241m=\u001b[39m testLinearMCClassifier(a2,X_val,y_val)\n",
      "\n",
      "Input \u001b[0;32mIn [84]\u001b[0m, in \u001b[0;36mlogisticRegressionMultiClassClassifier\u001b[0;34m(Xtrain, ytrain, iterations, step_size, verbose)\u001b[0m\n",
      "\u001b[1;32m     18\u001b[0m         gradient \u001b[38;5;241m=\u001b[39m Xtrain\u001b[38;5;241m.\u001b[39mT\u001b[38;5;129m@error\u001b[39m \n",
      "\u001b[1;32m     19\u001b[0m         a \u001b[38;5;241m=\u001b[39m a \u001b[38;5;241m-\u001b[39m step_size\u001b[38;5;241m*\u001b[39mgradient\n",
      "\u001b[0;32m---> 20\u001b[0m     \u001b[43mlist_a\u001b[49m\u001b[43m[\u001b[49m\u001b[43mi\u001b[49m\u001b[43m]\u001b[49m \u001b[38;5;241m=\u001b[39m a\n",
      "\u001b[1;32m     22\u001b[0m \u001b[38;5;28;01mreturn\u001b[39;00m list_a\n",
      "\n",
      "\u001b[0;31mIndexError\u001b[0m: index 3 is out of bounds for axis 0 with size 3"
     ]
    }
   ],
   "source": [
    "#call all the method and set them eqiual to a1-4 and show that we see lower class\n",
    "# This is a1 and you can tell that this one will be the highest precentage so the worst one to pick\n",
    "a1 = gaussianMultiChannelClassifier(X_train,y_train)\n",
    "train = testLinearMCClassifier(a1,X_train,y_train)\n",
    "val = testLinearMCClassifier(a1,X_val,y_val)\n",
    "test = testLinearMCClassifier(a1,X_test,y_test)\n",
    "print(\"This is for a1\")\n",
    "print(\"Mis-classifications=\", train, \"out of\",X_train.T.shape[0], \"equivalent to\",(train/X_train.T.shape[0])*100 ,\"%\")\n",
    "print(\"Mis-classifications=\", val, \"out of\",X_val.T.shape[0], \"equivalent to\",(val/X_val.T.shape[0])*100 ,\"%\")\n",
    "print(\"Mis-classifications=\", test, \"out of\",X_test.T.shape[0], \"equivalent to\",(test/X_test.T.shape[0])*100 ,\"%\") \n",
    "print(\"-------------------------------------------------------------------------------------------------------\")\n",
    "#######################################\n",
    "# This is a2 and you will notice that the percentage is better than a1\n",
    "a2 = logisticRegressionMultiClassClassifier(X_train,y_train)\n",
    "train1 = testLinearMCClassifier(a2,X_train,y_train)\n",
    "val1 = testLinearMCClassifier(a2,X_val,y_val)\n",
    "test1 = testLinearMCClassifier(a2,X_test,y_test)\n",
    "print(\"This is for a2\")\n",
    "print(\"Mis-classifications=\", train, \"out of\",X_train.T.shape[0], \"equivalent to\",(train/X_train.T.shape[0])*100 ,\"%\")\n",
    "print(\"Mis-classifications=\", val, \"out of\",X_val.T.shape[0], \"equivalent to\",(val/X_val.T.shape[0])*100 ,\"%\")\n",
    "print(\"Mis-classifications=\", test, \"out of\",X_test.T.shape[0], \"equivalent to\",(test/X_test.T.shape[0])*100 ,\"%\") \n",
    "print(\"-------------------------------------------------------------------------------------------------------\")\n",
    "#######################################\n",
    "# This is a3 and you will notice that the percentage is better than a1 and a2\n",
    "a3 = logisticRegressionMultiClassClassifierWithRegularization(X_train,y_train,iterations=500,verbose=False)\n",
    "train2 = testLinearMCClassifier(a3,X_train,y_train)\n",
    "val2 = testLinearMCClassifier(a3,X_val,y_val)\n",
    "test2 = testLinearMCClassifier(a3,X_test,y_test)\n",
    "print(\"This is for a3\")\n",
    "print(\"Mis-classifications=\", train, \"out of\",X_train.T.shape[0], \"equivalent to\",(train/X_train.T.shape[0])*100 ,\"%\")\n",
    "print(\"Mis-classifications=\", val, \"out of\",X_val.T.shape[0], \"equivalent to\",(val/X_val.T.shape[0])*100 ,\"%\")\n",
    "print(\"Mis-classifications=\", test, \"out of\",X_test.T.shape[0], \"equivalent to\",(test/X_test.T.shape[0])*100 ,\"%\") \n",
    "print(\"-------------------------------------------------------------------------------------------------------\")\n",
    "#######################################\n",
    "# This is a4 and you will notice that the percentage is better then everyone\n",
    "a4 = Optimize_MC_Hyperparameters(X_train,y_train,iterations=500,verbose=False,lam=1)\n",
    "train3 = testLinearMCClassifier(a4,X_train,y_train)\n",
    "val3 = testLinearMCClassifier(a4,X_val,y_val)\n",
    "test3 = testLinearMCClassifier(a4,X_test,y_test)\n",
    "print(\"This is for a4\")\n",
    "print(\"Mis-classifications=\", train, \"out of\",X_train.T.shape[0], \"equivalent to\",(train/X_train.T.shape[0])*100 ,\"%\")\n",
    "print(\"Mis-classifications=\", val, \"out of\",X_val.T.shape[0], \"equivalent to\",(val/X_val.T.shape[0])*100 ,\"%\")\n",
    "print(\"Mis-classifications=\", test, \"out of\",X_test.T.shape[0], \"equivalent to\",(test/X_test.T.shape[0])*100 ,\"%\") \n",
    "print(\"-------------------------------------------------------------------------------------------------------\")\n",
    "\n",
    "####################\n"
   ]
  }
 ],
 "metadata": {
  "language_info": {
   "name": "python"
  }
 },
 "nbformat": 4,
 "nbformat_minor": 2
}
