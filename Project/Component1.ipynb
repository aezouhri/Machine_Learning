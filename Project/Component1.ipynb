{
 "cells": [
  {
   "cell_type": "code",
   "execution_count": 2,
   "metadata": {},
   "outputs": [],
   "source": [
    "%matplotlib inline\n",
    "import numpy as np\n",
    "import matplotlib.pyplot as plt\n",
    "from scipy import stats\n",
    "from sklearn.datasets import fetch_openml\n",
    "import pickle\n",
    "from scipy.special import expit\n",
    "from sklearn.model_selection import train_test_split"
   ]
  },
  {
   "cell_type": "markdown",
   "metadata": {},
   "source": [
    "## Open MNIST data and create a subset with desired digits\n",
    "MNIST dataset contains 70,000 images of hand-written digits from 0 to 9. Each image has a grey-scale resolution of 28 $\\times$ 28 (i.e., 784 pixels). Each pixel has an integer value ranging from 0 (bright) to 255 (dark).\n",
    "\n",
    "<font color=red>Change the code below to select a different subset </font>"
   ]
  },
  {
   "cell_type": "code",
   "execution_count": 3,
   "metadata": {},
   "outputs": [
    {
     "name": "stderr",
     "output_type": "stream",
     "text": [
      "c:\\Users\\Adnane Ezouhri\\Desktop\\School\\Machine_Learning\\.venv\\lib\\site-packages\\sklearn\\datasets\\_openml.py:1022: FutureWarning: The default value of `parser` will change from `'liac-arff'` to `'auto'` in 1.4. You can set `parser='auto'` to silence this warning. Therefore, an `ImportError` will be raised from 1.4 if the dataset is dense and pandas is not installed. Note that the pandas parser may return different data types. See the Notes Section in fetch_openml's API doc for details.\n",
      "  warn(\n"
     ]
    }
   ],
   "source": [
    "training_features, labels = fetch_openml(\"mnist_784\", version=1, return_X_y=True, as_frame=False)\n",
    "labels = np.asarray([int(numeric_string) for numeric_string in labels])\n",
    "\n",
    "# Change the conditions below to compare between other two digits.\n",
    "class1Indices = (labels==0)\n",
    "class2Indices = (labels==1)\n",
    "\n",
    "x1 = training_features[class1Indices]\n",
    "x2 = training_features[class2Indices]\n",
    "\n",
    "training_features = np.concatenate((x1,x2),axis=0)\n",
    "training_labels = np.concatenate((np.zeros(x1.shape[0]),np.ones(x2.shape[0])),axis=0)\n",
    "\n",
    "# Saving the temporary variables for fast retrieval\n",
    "with open('temp.pickle', 'wb') as handle:\n",
    "    pickle.dump([training_features, training_labels], handle)\n",
    "\n"
   ]
  },
  {
   "cell_type": "markdown",
   "metadata": {},
   "source": [
    "# Split the data to training, testing, and validation subsets"
   ]
  },
  {
   "cell_type": "code",
   "execution_count": 4,
   "metadata": {},
   "outputs": [],
   "source": [
    "# loading the temporary variables for fast retrieval\n",
    "with open('temp.pickle', 'rb') as handle:\n",
    "    training_features, training_labels = pickle.load(handle)\n",
    "    \n",
    "# Split the data to training, testing, and validation subsets\n",
    "    \n",
    "X_train, X_test, y_train, y_test = train_test_split(training_features, training_labels, test_size=0.3, random_state=1)\n",
    "\n",
    "X_train, X_val, y_train, y_val = train_test_split(X_train, y_train, test_size=0.14, random_state=1) # 0.25 x 0.8 = 0.2\n",
    "\n",
    "\n",
    "Nsamples = X_train.shape[0]\n",
    "Nfeatures = X_train.shape[1]\n"
   ]
  },
  {
   "cell_type": "markdown",
   "metadata": {},
   "source": [
    "# Accuracy of a classifier"
   ]
  },
  {
   "cell_type": "code",
   "execution_count": 17,
   "metadata": {},
   "outputs": [],
   "source": [
    "def testLinearClassifier(weights, features, labels):\n",
    "    # Add a bias term to the feature vectors\n",
    "    biased_features = np.hstack((features, np.ones((features.shape[0], 1))))\n",
    "    \n",
    "    # Compute the predictions\n",
    "    sum_weighted = np.dot(weights.T, biased_features.T)\n",
    "    predicted_labels = (sum_weighted > 0).astype(int)\n",
    "    \n",
    "    # Count the misclassifications\n",
    "    misclassifications = np.sum(predicted_labels != labels)\n",
    "    \n",
    "    return misclassifications\n",
    "\n"
   ]
  },
  {
   "cell_type": "markdown",
   "metadata": {},
   "source": [
    "## Define and test gaussianClassifierWithIdentityCovariance "
   ]
  },
  {
   "cell_type": "code",
   "execution_count": 18,
   "metadata": {},
   "outputs": [
    {
     "data": {
      "image/png": "[encoded data removed]",
      "text/plain": [
       "<Figure size 640x480 with 1 Axes>"
      ]
     },
     "metadata": {},
     "output_type": "display_data"
    }
   ],
   "source": [
    "#------TRAINING CODE --------------\n",
    "\n",
    "def gaussianClassifierWithIdentityCovariance(training_features, training_labels):\n",
    "    \n",
    "    biased_features = np.hstack((training_features, np.ones((training_features.shape[0], 1))))\n",
    "    \n",
    "    # Split the dataset into two classes\n",
    "    features_C1 = biased_features[training_labels == 1]\n",
    "    features_C2 = biased_features[training_labels == 0]\n",
    "\n",
    "    # Compute the means\n",
    "    mu1 = np.mean(features_C1, axis=0)\n",
    "    mu2 = np.mean(features_C2, axis=0)\n",
    "\n",
    "    # Compute the weights\n",
    "    weights = mu1-mu2  \n",
    "\n",
    "    return weights\n",
    "    #YOUR CODE HERE\n",
    "\n",
    "\n",
    "#------SIMPLE TESTING ON THE TRAINING DATA ITSELF --------------\n",
    "weights = gaussianClassifierWithIdentityCovariance(X_train,y_train)\n",
    "plt.imshow(np.reshape(weights[0:784],(28,28)))\n",
    "\n",
    "train = testLinearClassifier(weights,X_train,y_train)\n",
    "val = testLinearClassifier(weights,X_val,y_val)\n",
    "test = testLinearClassifier(weights,X_test,y_test)\n",
    "\n"
   ]
  },
  {
   "cell_type": "markdown",
   "metadata": {},
   "source": [
    "## Define and test gaussianClassifierWithCommonCovariance "
   ]
  },
  {
   "cell_type": "code",
   "execution_count": 19,
   "metadata": {},
   "outputs": [
    {
     "data": {
      "image/png": "[encoded data removed]",
      "text/plain": [
       "<Figure size 640x480 with 1 Axes>"
      ]
     },
     "metadata": {},
     "output_type": "display_data"
    }
   ],
   "source": [
    "#------TRAINING CODE --------------\n",
    "\n",
    "def gaussianClassifierWithCommonCovariance(training_features, training_labels):\n",
    "    # Split the dataset into two classes\n",
    "\n",
    "    biased_features = np.hstack((training_features, np.ones((training_features.shape[0], 1))))\n",
    "\n",
    "    features_C1 = biased_features[training_labels == 1]\n",
    "    features_C2 = biased_features[training_labels == 0]\n",
    "\n",
    "    # Compute the means\n",
    "    mu1 = np.mean(features_C1, axis=0)\n",
    "    mu2 = np.mean(features_C2, axis=0)\n",
    "\n",
    "    # Compute the common covariance matrix\n",
    "    common_covariance = np.cov(biased_features.T)\n",
    "\n",
    "\n",
    "    weights = np.dot(np.linalg.pinv(common_covariance), (mu1 - mu2))\n",
    "\n",
    "\n",
    "    return weights\n",
    "\n",
    "    #YOUR CODE HERE\n",
    "\n",
    "    \n",
    "#------SIMPLE TESTING ON THE TRAINING DATA ITSELF --------------\n",
    "weights = gaussianClassifierWithCommonCovariance(X_train,y_train)\n",
    "plt.imshow(np.reshape(weights[0:784],(28,28)))\n",
    "\n",
    "train = testLinearClassifier(weights,X_train,y_train)\n",
    "val = testLinearClassifier(weights,X_val,y_val)\n",
    "test = testLinearClassifier(weights,X_test,y_test)\n"
   ]
  },
  {
   "cell_type": "markdown",
   "metadata": {},
   "source": [
    "## Define and test logisticRegression \n",
    "\n",
    "You may choose the step size as 1e-4. You can try changing it.\n",
    "\n",
    "Use the expit() function from scipy.special.expit to implement sigmoid without overflow errors "
   ]
  },
  {
   "cell_type": "code",
   "execution_count": 23,
   "metadata": {},
   "outputs": [
    {
     "data": {
      "image/png": "[encoded data removed]",
      "text/plain": [
       "<Figure size 640x480 with 1 Axes>"
      ]
     },
     "metadata": {},
     "output_type": "display_data"
    }
   ],
   "source": [
    "def logisticRegression(\n",
    "    training_features, training_labels, iterations=100, step_size=1e-4, verbose=False\n",
    "):\n",
    "    # Add a bias term to the feature vectors\n",
    "    biased_training_features = np.hstack(\n",
    "        (training_features, np.ones((training_features.shape[0], 1)))\n",
    "    )\n",
    "    # Initialize the weights\n",
    "    weights = 0.01 * np.random.randn(biased_training_features.shape[1])\n",
    "\n",
    "\n",
    "\n",
    "    for i in range(iterations):\n",
    "        # Calculate the model predictions\n",
    "        lin_comb = np.dot(biased_training_features, weights)\n",
    "\n",
    "        predictions = expit(lin_comb)\n",
    "\n",
    "        error = predictions - training_labels\n",
    "\n",
    "        gradient = np.dot(biased_training_features.T, error)\n",
    "\n",
    "        # Update the weights\n",
    "        weights -= step_size * gradient\n",
    "\n",
    "    return weights\n",
    "    # YOUR CODE HERE\n",
    "\n",
    "\n",
    "# ------SIMPLE TESTING ON THE TRAINING DATA ITSELF --------------\n",
    "weights = logisticRegression(X_train, y_train, iterations=500)\n",
    "plt.imshow(np.reshape(weights[0:784], (28, 28)))\n",
    "\n",
    "train = testLinearClassifier(weights, X_train, y_train)\n",
    "val = testLinearClassifier(weights, X_val, y_val)\n",
    "test = testLinearClassifier(weights, X_test, y_test)"
   ]
  },
  {
   "cell_type": "code",
   "execution_count": 24,
   "metadata": {},
   "outputs": [
    {
     "data": {
      "image/png": "[encoded data removed]",
      "text/plain": [
       "<Figure size 640x480 with 1 Axes>"
      ]
     },
     "metadata": {},
     "output_type": "display_data"
    }
   ],
   "source": [
    "def logisticRegressionWithRegularization(training_features, training_labels, iterations=100, step_size=1e-4, lam=1, verbose= False):\n",
    "# Add a bias term to the feature vectors\n",
    "    biased_training_features = np.hstack(\n",
    "        (training_features, np.ones((training_features.shape[0], 1)))\n",
    "    )\n",
    "    # Initialize the weights\n",
    "    weights = 0.01 * np.random.randn(biased_training_features.shape[1])\n",
    "\n",
    "\n",
    "\n",
    "    for i in range(iterations):\n",
    "        # Calculate the model predictions\n",
    "        lin_comb = np.dot(biased_training_features, weights)\n",
    "\n",
    "        predictions = expit(lin_comb)\n",
    "\n",
    "        error = predictions - training_labels\n",
    "\n",
    "        gradient = np.dot(biased_training_features.T, error) + 2* lam* weights\n",
    "\n",
    "        # Update the weights\n",
    "        weights -= step_size * gradient\n",
    "\n",
    "    return weights\n",
    "\n",
    "    #YOUR CODE HERE\n",
    "\n",
    "    \n",
    "#------SIMPLE TESTING ON THE TRAINING DATA ITSELF --------------\n",
    "weights = logisticRegressionWithRegularization(X_train,y_train,iterations=500,verbose=False,lam=1)\n",
    "plt.imshow(np.reshape(weights[0:784],(28,28)))\n",
    "\n",
    "train = testLinearClassifier(weights,X_train,y_train)\n",
    "val = testLinearClassifier(weights,X_val,y_val)\n",
    "test = testLinearClassifier(weights,X_test,y_test)\n"
   ]
  },
  {
   "cell_type": "code",
   "execution_count": 29,
   "metadata": {},
   "outputs": [
    {
     "data": {
      "image/png": "[encoded data removed]",
      "text/plain": [
       "<Figure size 640x480 with 1 Axes>"
      ]
     },
     "metadata": {},
     "output_type": "display_data"
    }
   ],
   "source": [
    "def optimizeHyperparameters(training_features, training_labels):\n",
    "    missclassifications_given_lam = []\n",
    "\n",
    "    lam= np.linspace(0, 100, num=100)\n",
    "\n",
    "    for l in lam:\n",
    "        weights = logisticRegressionWithRegularization(X_train,y_train,iterations=500,verbose=False,lam=l)\n",
    "        missclassifications_given_lam.append(testLinearClassifier(weights,training_features,training_labels))\n",
    "    \n",
    "    top_lam = lam[np.argmin(missclassifications_given_lam)]\n",
    "\n",
    "    return top_lam\n",
    "\n",
    "optimal_lam = optimizeHyperparameters(X_val,y_val)\n",
    "optimal_weights = logisticRegressionWithRegularization(X_train,y_train,iterations=500,lam=optimal_lam)\n",
    "plt.imshow(np.reshape(optimal_weights[:-1],(28,28)))\n",
    "\n",
    "train = testLinearClassifier(optimal_weights,X_train,y_train)\n",
    "val = testLinearClassifier(optimal_weights,X_val,y_val)\n",
    "test = testLinearClassifier(optimal_weights,X_test,y_test)\n",
    "\n",
    "\n"
   ]
  },
  {
   "cell_type": "markdown",
   "metadata": {},
   "source": [
    "# REPORT TEST ERRORS OF THE BEST MODELS\n",
    "\n",
    "YOUR CODE BELOW"
   ]
  },
  {
   "cell_type": "code",
   "execution_count": 28,
   "metadata": {},
   "outputs": [
    {
     "name": "stdout",
     "output_type": "stream",
     "text": [
      "Gaussian Classifier with Identity Covariance Results:\n",
      "Training missclassification : 184 out of 8897, representing 2.07%\n",
      "Training missclassification : 26 out of 8897, representing 1.79%\n",
      "Training missclassification : 99 out of 8897, representing 2.23%\n",
      "---------------------------------------------------------------------------------------------------------------\n",
      "Gaussian Classifier with Common Covariance Results:\n",
      "Training missclassification : 55 out of 8897, representing 0.62%\n",
      "Training missclassification : 15 out of 8897, representing 1.04%\n",
      "Training missclassification : 31 out of 8897, representing 0.70%\n",
      "---------------------------------------------------------------------------------------------------------------\n",
      "Logistic Regression Results:\n",
      "Training missclassification : 12 out of 8897, representing 0.13%\n",
      "Training missclassification : 0 out of 8897, representing 0.00%\n",
      "Training missclassification : 4 out of 8897, representing 0.09%\n",
      "---------------------------------------------------------------------------------------------------------------\n",
      "Logitic Regression with Regularization Results:\n",
      "Training missclassification : 6 out of 8897, representing 0.07%\n",
      "Training missclassification : 1 out of 8897, representing 0.07%\n",
      "Training missclassification : 5 out of 8897, representing 0.11%\n",
      "---------------------------------------------------------------------------------------------------------------\n",
      "Logistic Regression with Regularization and Hyperparameter Optimization Results:\n",
      "Training missclassification : 10 out of 8897, representing 0.11%\n",
      "Training missclassification : 0 out of 8897, representing 0.00%\n",
      "Training missclassification : 4 out of 8897, representing 0.09%\n",
      "---------------------------------------------------------------------------------------------------------------\n"
     ]
    }
   ],
   "source": [
    "# Gaussian Classifier with Identity Covariance\n",
    "print(\"Gaussian Classifier with Identity Covariance Results:\")\n",
    "weights = gaussianClassifierWithIdentityCovariance(X_train,y_train)\n",
    "train = testLinearClassifier(weights,X_train,y_train)\n",
    "val = testLinearClassifier(weights,X_val,y_val)\n",
    "test = testLinearClassifier(weights,X_test,y_test)\n",
    "print(f\"Training missclassification : {train} out of {X_train.shape[0]}, representing {train/X_train.shape[0]*100:.2f}%\")\n",
    "print(f\"Training missclassification : {val} out of {X_train.shape[0]}, representing {val/X_val.shape[0]*100:.2f}%\")\n",
    "print(f\"Training missclassification : {test} out of {X_train.shape[0]}, representing {test/X_test.shape[0]*100:.2f}%\")\n",
    "print(\"---------------------------------------------------------------------------------------------------------------\")\n",
    "\n",
    "# Gaussian Classifier with Common Covariance\n",
    "print(\"Gaussian Classifier with Common Covariance Results:\")\n",
    "weights = gaussianClassifierWithCommonCovariance(X_train,y_train)\n",
    "train = testLinearClassifier(weights,X_train,y_train)\n",
    "val = testLinearClassifier(weights,X_val,y_val)\n",
    "test = testLinearClassifier(weights,X_test,y_test)\n",
    "print(f\"Training missclassification : {train} out of {X_train.shape[0]}, representing {train/X_train.shape[0]*100:.2f}%\")\n",
    "print(f\"Training missclassification : {val} out of {X_train.shape[0]}, representing {val/X_val.shape[0]*100:.2f}%\")\n",
    "print(f\"Training missclassification : {test} out of {X_train.shape[0]}, representing {test/X_test.shape[0]*100:.2f}%\")\n",
    "print(\"---------------------------------------------------------------------------------------------------------------\")\n",
    "\n",
    "# Logistic Regression\n",
    "print(\"Logistic Regression Results:\")\n",
    "weights = logisticRegression(X_train,y_train, iterations=500, step_size=1e-4)\n",
    "train = testLinearClassifier(weights,X_train,y_train)\n",
    "val = testLinearClassifier(weights,X_val,y_val)\n",
    "test = testLinearClassifier(weights,X_test,y_test)\n",
    "print(f\"Training missclassification : {train} out of {X_train.shape[0]}, representing {train/X_train.shape[0]*100:.2f}%\")\n",
    "print(f\"Training missclassification : {val} out of {X_train.shape[0]}, representing {val/X_val.shape[0]*100:.2f}%\")\n",
    "print(f\"Training missclassification : {test} out of {X_train.shape[0]}, representing {test/X_test.shape[0]*100:.2f}%\")\n",
    "print(\"---------------------------------------------------------------------------------------------------------------\")\n",
    "\n",
    "# Logitic Regression with Regularization\n",
    "print(\"Logitic Regression with Regularization Results:\")\n",
    "weights = logisticRegressionWithRegularization(X_train,y_train, iterations=500, step_size=1e-4, lam=1)\n",
    "train = testLinearClassifier(weights,X_train,y_train)\n",
    "val = testLinearClassifier(weights,X_val,y_val)\n",
    "test = testLinearClassifier(weights,X_test,y_test)\n",
    "\n",
    "print(f\"Training missclassification : {train} out of {X_train.shape[0]}, representing {train/X_train.shape[0]*100:.2f}%\")\n",
    "print(f\"Training missclassification : {val} out of {X_train.shape[0]}, representing {val/X_val.shape[0]*100:.2f}%\")\n",
    "print(f\"Training missclassification : {test} out of {X_train.shape[0]}, representing {test/X_test.shape[0]*100:.2f}%\")\n",
    "print(\"---------------------------------------------------------------------------------------------------------------\")\n",
    "\n",
    "# Logitic Regression with Regularization and Hyperparameter Optimization\n",
    "print(\"Logistic Regression with Regularization and Hyperparameter Optimization Results:\")\n",
    "optimal_lam = optimizeHyperparameters(X_val,y_val)\n",
    "weights = logisticRegressionWithRegularization(X_train,y_train,iterations=500,lam=optimal_lam)\n",
    "train = testLinearClassifier(weights,X_train,y_train)\n",
    "val = testLinearClassifier(weights,X_val,y_val)\n",
    "test = testLinearClassifier(weights,X_test,y_test)\n",
    "\n",
    "print(f\"Training missclassification : {train} out of {X_train.shape[0]}, representing {train/X_train.shape[0]*100:.2f}%\")\n",
    "print(f\"Training missclassification : {val} out of {X_train.shape[0]}, representing {val/X_val.shape[0]*100:.2f}%\")\n",
    "print(f\"Training missclassification : {test} out of {X_train.shape[0]}, representing {test/X_test.shape[0]*100:.2f}%\")\n",
    "print(\"---------------------------------------------------------------------------------------------------------------\")\n"
   ]
  }
 ],
 "metadata": {
  "anaconda-cloud": {},
  "kernelspec": {
   "display_name": "Python 3 (ipykernel)",
   "language": "python",
   "name": "python3"
  },
  "language_info": {
   "codemirror_mode": {
    "name": "ipython",
    "version": 3
   },
   "file_extension": ".py",
   "mimetype": "text/x-python",
   "name": "python",
   "nbconvert_exporter": "python",
   "pygments_lexer": "ipython3",
   "version": "3.10.11"
  }
 },
 "nbformat": 4,
 "nbformat_minor": 4
}
