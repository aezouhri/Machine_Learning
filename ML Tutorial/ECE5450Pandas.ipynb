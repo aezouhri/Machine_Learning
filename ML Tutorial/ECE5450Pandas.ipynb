{
  "cells": [
    {
      "cell_type": "markdown",
      "metadata": {},
      "source": [
        "# ECE:5450 Pandas Tutorial"
      ]
    },
    {
      "cell_type": "markdown",
      "metadata": {
        "id": "qvTecanMe46Q"
      },
      "source": [
        "# Code Preface"
      ]
    },
    {
      "cell_type": "markdown",
      "metadata": {
        "id": "uxE4uqwMfpUg"
      },
      "source": [
        "Below is some code that we will make use of to make our lives easier.  Imports and functions are usually introduced throughout this notebook as needed. But sometimes you need to jump around and run things out of order. This cell below makes it easier to do that by running it before you begin.\n",
        "\n",
        "**You don't need to look at this code now.**"
      ]
    },
    {
      "cell_type": "code",
      "execution_count": 96,
      "metadata": {
        "id": "zVOikh64e3qT"
      },
      "outputs": [],
      "source": [
        "# imports for modules we will use:\n",
        "import pandas as pd\n",
        "import numpy as np\n",
        "import seaborn as sns\n",
        "#import feather\n",
        "import datetime\n",
        "import pandas_datareader.data as web\n",
        "import matplotlib.pyplot as plt\n",
        "plt.rcParams.update({'font.size': 20, 'figure.figsize': (20, 10)}) # set font and plot size\n",
        "\n",
        "\n",
        "# Some code to make displaying multiple dataframes side by side better\n",
        "class display(object):\n",
        "    \"\"\"Display HTML representation of multiple objects\"\"\"\n",
        "    template = \"\"\"<div style=\"float: left; padding: 10px;\">\n",
        "    <p style='font-family:\"Courier New\", Courier, monospace'>{0}</p>{1}\n",
        "    </div>\"\"\"\n",
        "    def __init__(self, *args):\n",
        "        self.args = args\n",
        "        \n",
        "    def _repr_html_(self):\n",
        "        return '\\n'.join(self.template.format(a, eval(a)._repr_html_())\n",
        "                         for a in self.args)\n",
        "    \n",
        "    def __repr__(self):\n",
        "        return '\\n\\n'.join(a + '\\n' + repr(eval(a))\n",
        "                           for a in self.args)\n",
        "\n",
        "\n",
        "# Some code to generate example dataframes\n",
        "def make_df(cols, ind):\n",
        "    \"\"\"Quickly make a DataFrame\"\"\"\n",
        "    data = {c: [str(c) + str(i) for i in ind]\n",
        "            for c in cols}\n",
        "    return pd.DataFrame(data, ind)\n",
        "\n",
        "# Load imdbb datasets that we'll use\n",
        "imdbFile = 'IMDB-Movie-Data.csv'\n",
        "movies_df = pd.read_csv(imdbFile, index_col=\"Title\")\n",
        "movies_df.columns = ['rank', 'genre', 'description', 'director', 'actors', 'year', 'runtime', \n",
        "                     'rating', 'votes', 'revenue_millions', 'metascore']\n",
        "\n",
        "planets = sns.load_dataset('planets')\n",
        "\n",
        "titanic = sns.load_dataset('titanic')"
      ]
    },
    {
      "cell_type": "markdown",
      "metadata": {
        "id": "u3GUWHlBKnkr"
      },
      "source": [
        "# Pandas"
      ]
    },
    {
      "cell_type": "markdown",
      "metadata": {
        "id": "AcswF_j4Knkv"
      },
      "source": [
        "<img src='https://drive.google.com/uc?id=1QblXB3vwRh63bXvi7pM_yk4PsG6MMw1i' width=500>\n",
        "\n",
        "The *pandas* package is the most important tool at the disposal of Data Scientists and Analysts working in Python today. The powerful machine learning and glamorous visualization tools may get all the attention, but pandas is the backbone of most data projects. \n",
        "\n",
        ">\\[*pandas*\\] is derived from the term \"**pan**el **da**ta\", an econometrics term for data sets that include observations over multiple time periods for the same individuals. — [Wikipedia](https://en.wikipedia.org/wiki/Pandas_%28software%29)\n",
        "\n",
        "If you're thinking about data science as a career, then it is imperative that one of the first things you do is learn pandas. In this post, we will go over the essential bits of information about pandas, including how to install it, its uses, and how it works with other common Python data analysis packages such as **matplotlib** and **sci-kit learn**."
      ]
    },
    {
      "cell_type": "markdown",
      "metadata": {
        "id": "G62x56FfKnk1"
      },
      "source": [
        "<img src=\"https://drive.google.com/uc?id=1Hsr__ImXc8TRS44Od6jrRzLl1y3Y3cLL\" width=500px />"
      ]
    },
    {
      "cell_type": "markdown",
      "metadata": {
        "id": "0tSEwOAuLPkh"
      },
      "source": [
        "# What's Pandas for?"
      ]
    },
    {
      "cell_type": "markdown",
      "metadata": {
        "id": "CPn2Ny4hKnk3"
      },
      "source": [
        "Pandas has so many uses that it might make sense to list the things it can't do instead of what it can do. \n",
        "\n",
        "This tool is essentially your data’s home. Through pandas, you get acquainted with your data by cleaning, transforming, and analyzing it. \n",
        "\n",
        "For example, say you want to explore a dataset stored in a CSV on your computer. Pandas will extract the data from that CSV into a DataFrame — a table, basically — then let you do things like:\n",
        "\n",
        "- Calculate statistics and answer questions about the data, like\n",
        "\n",
        "\n",
        "    - What's the average, median, max, or min of each column? \n",
        "    - Does column A correlate with column B?\n",
        "    - What does the distribution of data in column C look like?\n",
        "\n",
        "\n",
        "- Clean the data by doing things like removing missing values and filtering rows or columns by some criteria\n",
        "\n",
        "\n",
        "- Visualize the data with help from Matplotlib. Plot bars, lines, histograms, bubbles, and more. \n",
        "\n",
        "\n",
        "- Store the cleaned, transformed data back into a CSV, other file or database\n",
        "\n",
        "\n",
        "Before you jump into the modeling or the complex visualizations you need to have a good understanding of the nature of your dataset and pandas is the best avenue through which to do that.\n",
        "\n"
      ]
    },
    {
      "cell_type": "markdown",
      "metadata": {
        "id": "oNOWs_wyLV8I"
      },
      "source": [
        "# How does pandas fit into the data science toolkit?"
      ]
    },
    {
      "cell_type": "markdown",
      "metadata": {
        "id": "aq1tpQIdKnk7"
      },
      "source": [
        "Not only is the pandas library a central component of the data science toolkit but it is used in conjunction with other libraries in that collection. \n",
        "\n",
        "Pandas is built on top of the **NumPy** package, meaning a lot of the structure of NumPy is used or replicated in Pandas. Data in pandas is often used to feed statistical analysis in **SciPy**, plotting functions from **Matplotlib**, and machine learning algorithms in **Scikit-learn**.\n",
        "\n",
        "Before we do anything else, we have to import pandas. For brevity we'll import is as ``pd`` so we don't have to type ``pandas.`` everywhere."
      ]
    },
    {
      "cell_type": "code",
      "execution_count": 54,
      "metadata": {
        "id": "ntRm7WB4Knlo"
      },
      "outputs": [],
      "source": [
        "import pandas as pd"
      ]
    },
    {
      "cell_type": "markdown",
      "metadata": {
        "id": "cdY9ynw8Knl0"
      },
      "source": [
        "Now to the basic components of pandas."
      ]
    },
    {
      "cell_type": "markdown",
      "metadata": {
        "id": "lzdV9m1YOGJE"
      },
      "source": [
        "# Core components of pandas: Series and DataFrames"
      ]
    },
    {
      "cell_type": "markdown",
      "metadata": {
        "id": "kgp8GqfyKnl3"
      },
      "source": [
        "The primary two components of pandas are the `Series` and `DataFrame`. \n",
        "\n",
        "A `Series` is essentially a column, and a `DataFrame` is a multi-dimensional table made up of a collection of Series. \n",
        "\n",
        "<img src=\"https://drive.google.com/uc?id=1GNUYVXJ_dZK94GBJZWLbvAD2xOC0K342\" width=600px />\n",
        "\n",
        "DataFrames and Series are quite similar in that many operations that you can do with one you can do with the other, such as filling in null values and calculating the mean.\n",
        "\n",
        "You'll see how these components work when we start working with data below. "
      ]
    },
    {
      "cell_type": "markdown",
      "metadata": {
        "id": "2d0cysIBlFpX"
      },
      "source": [
        "## Creating DataFrames from scratch"
      ]
    },
    {
      "cell_type": "markdown",
      "metadata": {
        "id": "reaSxs_AKnl9"
      },
      "source": [
        "Creating DataFrames right in Python is good to know and quite useful when testing new methods and functions you find in the pandas docs.\n",
        "\n",
        "There are *many* ways to create a DataFrame from scratch, but a great option is to just use a simple `dict` of `list`s. \n",
        "\n",
        "Let's say we have a fruit stand that sells apples and oranges. We want to have a column for each fruit and a row for each customer purchase. To organize this as a dictionary for pandas we could do something like:"
      ]
    },
    {
      "cell_type": "code",
      "execution_count": 55,
      "metadata": {
        "id": "vg2uELI_Knl_"
      },
      "outputs": [],
      "source": [
        "data = {\n",
        "    'apples': [3, 2, 0, 1], \n",
        "    'oranges': [0, 3, 7, 2]\n",
        "}"
      ]
    },
    {
      "cell_type": "markdown",
      "metadata": {
        "id": "ywLmVE1GKnmM"
      },
      "source": [
        "And then pass it to the pandas DataFrame constructor:"
      ]
    },
    {
      "cell_type": "code",
      "execution_count": 56,
      "metadata": {
        "id": "zSyM0i38KnmN"
      },
      "outputs": [
        {
          "data": {
            "text/html": [
              "<div>\n",
              "<style scoped>\n",
              "    .dataframe tbody tr th:only-of-type {\n",
              "        vertical-align: middle;\n",
              "    }\n",
              "\n",
              "    .dataframe tbody tr th {\n",
              "        vertical-align: top;\n",
              "    }\n",
              "\n",
              "    .dataframe thead th {\n",
              "        text-align: right;\n",
              "    }\n",
              "</style>\n",
              "<table border=\"1\" class=\"dataframe\">\n",
              "  <thead>\n",
              "    <tr style=\"text-align: right;\">\n",
              "      <th></th>\n",
              "      <th>apples</th>\n",
              "      <th>oranges</th>\n",
              "    </tr>\n",
              "  </thead>\n",
              "  <tbody>\n",
              "    <tr>\n",
              "      <th>0</th>\n",
              "      <td>3</td>\n",
              "      <td>0</td>\n",
              "    </tr>\n",
              "    <tr>\n",
              "      <th>1</th>\n",
              "      <td>2</td>\n",
              "      <td>3</td>\n",
              "    </tr>\n",
              "    <tr>\n",
              "      <th>2</th>\n",
              "      <td>0</td>\n",
              "      <td>7</td>\n",
              "    </tr>\n",
              "    <tr>\n",
              "      <th>3</th>\n",
              "      <td>1</td>\n",
              "      <td>2</td>\n",
              "    </tr>\n",
              "  </tbody>\n",
              "</table>\n",
              "</div>"
            ],
            "text/plain": [
              "   apples  oranges\n",
              "0       3        0\n",
              "1       2        3\n",
              "2       0        7\n",
              "3       1        2"
            ]
          },
          "execution_count": 56,
          "metadata": {},
          "output_type": "execute_result"
        }
      ],
      "source": [
        "purchases = pd.DataFrame(data)\n",
        "\n",
        "purchases"
      ]
    },
    {
      "cell_type": "markdown",
      "metadata": {
        "id": "hmJw3BhpKnma"
      },
      "source": [
        "**How did that work?**\n",
        "\n",
        "Each *(key, value)* item in `data` corresponds to a *column* in the resulting DataFrame.\n",
        "\n",
        "The **Index** of this DataFrame was given to us on creation as the numbers 0-3, but we could also create our own when we initialize the DataFrame. \n",
        "\n",
        "Let's have customer names as our index: "
      ]
    },
    {
      "cell_type": "code",
      "execution_count": 57,
      "metadata": {
        "id": "9oCR9N3JKnmd"
      },
      "outputs": [
        {
          "data": {
            "text/html": [
              "<div>\n",
              "<style scoped>\n",
              "    .dataframe tbody tr th:only-of-type {\n",
              "        vertical-align: middle;\n",
              "    }\n",
              "\n",
              "    .dataframe tbody tr th {\n",
              "        vertical-align: top;\n",
              "    }\n",
              "\n",
              "    .dataframe thead th {\n",
              "        text-align: right;\n",
              "    }\n",
              "</style>\n",
              "<table border=\"1\" class=\"dataframe\">\n",
              "  <thead>\n",
              "    <tr style=\"text-align: right;\">\n",
              "      <th></th>\n",
              "      <th>apples</th>\n",
              "      <th>oranges</th>\n",
              "    </tr>\n",
              "  </thead>\n",
              "  <tbody>\n",
              "    <tr>\n",
              "      <th>June</th>\n",
              "      <td>3</td>\n",
              "      <td>0</td>\n",
              "    </tr>\n",
              "    <tr>\n",
              "      <th>Robert</th>\n",
              "      <td>2</td>\n",
              "      <td>3</td>\n",
              "    </tr>\n",
              "    <tr>\n",
              "      <th>Lily</th>\n",
              "      <td>0</td>\n",
              "      <td>7</td>\n",
              "    </tr>\n",
              "    <tr>\n",
              "      <th>David</th>\n",
              "      <td>1</td>\n",
              "      <td>2</td>\n",
              "    </tr>\n",
              "  </tbody>\n",
              "</table>\n",
              "</div>"
            ],
            "text/plain": [
              "        apples  oranges\n",
              "June         3        0\n",
              "Robert       2        3\n",
              "Lily         0        7\n",
              "David        1        2"
            ]
          },
          "execution_count": 57,
          "metadata": {},
          "output_type": "execute_result"
        }
      ],
      "source": [
        "purchases = pd.DataFrame(data, index=['June', 'Robert', 'Lily', 'David'])\n",
        "\n",
        "purchases"
      ]
    },
    {
      "cell_type": "markdown",
      "metadata": {
        "id": "UE08lxOgKnmj"
      },
      "source": [
        "So now we could **loc**ate a customer's order by using their name:"
      ]
    },
    {
      "cell_type": "code",
      "execution_count": 58,
      "metadata": {
        "id": "BKnI37ugKnml"
      },
      "outputs": [
        {
          "data": {
            "text/plain": [
              "pandas.core.series.Series"
            ]
          },
          "execution_count": 58,
          "metadata": {},
          "output_type": "execute_result"
        }
      ],
      "source": [
        "type(purchases.loc['June'])"
      ]
    },
    {
      "cell_type": "markdown",
      "metadata": {
        "id": "gJ0sv0xtKnmp"
      },
      "source": [
        "There's more on locating and extracting data from the DataFrame later, but now you should be able to create a DataFrame with any random data to learn on.\n",
        "\n",
        "Let's move on to some quick methods for creating DataFrames from various other sources."
      ]
    },
    {
      "cell_type": "markdown",
      "metadata": {
        "id": "liYk79MN9VOT"
      },
      "source": [
        "# Exercise: Create a dataframe of characters from your favorite movie"
      ]
    },
    {
      "cell_type": "markdown",
      "metadata": {
        "id": "Ed3wIZHU9i4p"
      },
      "source": [
        "Create a dataframe from scratch of characters from your favorite movie\n",
        "\n",
        "Columns could include:\n",
        "- actor name\n",
        "- character gender\n",
        "- A boolean that is True if the character is a villain\n",
        "- ... and any other column you'd like to add\n",
        "\n",
        "Make the index of the dataframe the character name"
      ]
    },
    {
      "cell_type": "code",
      "execution_count": 59,
      "metadata": {
        "id": "_MGXE-wS9yqn"
      },
      "outputs": [],
      "source": [
        "# Create your dataframe here\n"
      ]
    },
    {
      "cell_type": "markdown",
      "metadata": {
        "id": "QwPNQU3iP9NX"
      },
      "source": [
        "# How to read data with pandas"
      ]
    },
    {
      "cell_type": "markdown",
      "metadata": {
        "id": "I1guXRvAKnmq"
      },
      "source": [
        "It’s quite simple to load data from various file formats into a DataFrame. In the following examples we'll keep using our apples and oranges data, but this time, read it from various files."
      ]
    },
    {
      "cell_type": "markdown",
      "metadata": {
        "id": "icDIyFyTKnmr"
      },
      "source": [
        "## Reading data from CSVs\n",
        "\n",
        "With CSV files all you need is a single line to load in the data:"
      ]
    },
    {
      "cell_type": "code",
      "execution_count": 60,
      "metadata": {
        "id": "1eaqx8_-Knms"
      },
      "outputs": [
        {
          "data": {
            "text/html": [
              "<div>\n",
              "<style scoped>\n",
              "    .dataframe tbody tr th:only-of-type {\n",
              "        vertical-align: middle;\n",
              "    }\n",
              "\n",
              "    .dataframe tbody tr th {\n",
              "        vertical-align: top;\n",
              "    }\n",
              "\n",
              "    .dataframe thead th {\n",
              "        text-align: right;\n",
              "    }\n",
              "</style>\n",
              "<table border=\"1\" class=\"dataframe\">\n",
              "  <thead>\n",
              "    <tr style=\"text-align: right;\">\n",
              "      <th></th>\n",
              "      <th>Unnamed: 0</th>\n",
              "      <th>apples</th>\n",
              "      <th>oranges</th>\n",
              "    </tr>\n",
              "  </thead>\n",
              "  <tbody>\n",
              "    <tr>\n",
              "      <th>0</th>\n",
              "      <td>June</td>\n",
              "      <td>3</td>\n",
              "      <td>0</td>\n",
              "    </tr>\n",
              "    <tr>\n",
              "      <th>1</th>\n",
              "      <td>Robert</td>\n",
              "      <td>2</td>\n",
              "      <td>3</td>\n",
              "    </tr>\n",
              "    <tr>\n",
              "      <th>2</th>\n",
              "      <td>Lily</td>\n",
              "      <td>0</td>\n",
              "      <td>7</td>\n",
              "    </tr>\n",
              "    <tr>\n",
              "      <th>3</th>\n",
              "      <td>David</td>\n",
              "      <td>1</td>\n",
              "      <td>2</td>\n",
              "    </tr>\n",
              "  </tbody>\n",
              "</table>\n",
              "</div>"
            ],
            "text/plain": [
              "  Unnamed: 0  apples  oranges\n",
              "0       June       3        0\n",
              "1     Robert       2        3\n",
              "2       Lily       0        7\n",
              "3      David       1        2"
            ]
          },
          "execution_count": 60,
          "metadata": {},
          "output_type": "execute_result"
        }
      ],
      "source": [
        "purchasesFile='purchases.csv'\n",
        "df = pd.read_csv(purchasesFile) \n",
        "\n",
        "df"
      ]
    },
    {
      "cell_type": "markdown",
      "metadata": {
        "id": "GbsKtWXcKnmv"
      },
      "source": [
        "CSVs don't have indexes like our DataFrames, so all we need to do is just designate the `index_col` when reading:"
      ]
    },
    {
      "cell_type": "code",
      "execution_count": 61,
      "metadata": {
        "id": "tx-wXS60Knmw"
      },
      "outputs": [
        {
          "data": {
            "text/html": [
              "<div>\n",
              "<style scoped>\n",
              "    .dataframe tbody tr th:only-of-type {\n",
              "        vertical-align: middle;\n",
              "    }\n",
              "\n",
              "    .dataframe tbody tr th {\n",
              "        vertical-align: top;\n",
              "    }\n",
              "\n",
              "    .dataframe thead th {\n",
              "        text-align: right;\n",
              "    }\n",
              "</style>\n",
              "<table border=\"1\" class=\"dataframe\">\n",
              "  <thead>\n",
              "    <tr style=\"text-align: right;\">\n",
              "      <th></th>\n",
              "      <th>apples</th>\n",
              "      <th>oranges</th>\n",
              "    </tr>\n",
              "  </thead>\n",
              "  <tbody>\n",
              "    <tr>\n",
              "      <th>June</th>\n",
              "      <td>3</td>\n",
              "      <td>0</td>\n",
              "    </tr>\n",
              "    <tr>\n",
              "      <th>Robert</th>\n",
              "      <td>2</td>\n",
              "      <td>3</td>\n",
              "    </tr>\n",
              "    <tr>\n",
              "      <th>Lily</th>\n",
              "      <td>0</td>\n",
              "      <td>7</td>\n",
              "    </tr>\n",
              "    <tr>\n",
              "      <th>David</th>\n",
              "      <td>1</td>\n",
              "      <td>2</td>\n",
              "    </tr>\n",
              "  </tbody>\n",
              "</table>\n",
              "</div>"
            ],
            "text/plain": [
              "        apples  oranges\n",
              "June         3        0\n",
              "Robert       2        3\n",
              "Lily         0        7\n",
              "David        1        2"
            ]
          },
          "execution_count": 61,
          "metadata": {},
          "output_type": "execute_result"
        }
      ],
      "source": [
        "df = pd.read_csv(purchasesFile, index_col=0) # Set the index to be the 0th column\n",
        "\n",
        "df"
      ]
    },
    {
      "cell_type": "markdown",
      "metadata": {
        "id": "hVnGGSWeKnm0"
      },
      "source": [
        "Here we're setting the index to be column zero.\n",
        "\n",
        "You'll find that most CSVs won't ever have an index column and so usually you don't have to worry about this step.\n",
        "\n",
        "It's also possible to set an index on a dataframe after its been created with `df.set_index('someIndex')`. You can read more about it [here](https://pandas.pydata.org/pandas-docs/stable/reference/api/pandas.DataFrame.set_index.html).\n",
        "\n"
      ]
    },
    {
      "cell_type": "markdown",
      "metadata": {
        "id": "CMtzYY15UOkE"
      },
      "source": [
        "## Reading data from JSON"
      ]
    },
    {
      "cell_type": "markdown",
      "metadata": {
        "id": "zgVVZZ54UIPk"
      },
      "source": [
        "If you have a JSON file — which is essentially a stored Python `dict` — pandas can read this just as easily:"
      ]
    },
    {
      "cell_type": "code",
      "execution_count": 62,
      "metadata": {
        "id": "EkDbLdspKnm2"
      },
      "outputs": [
        {
          "data": {
            "text/html": [
              "<div>\n",
              "<style scoped>\n",
              "    .dataframe tbody tr th:only-of-type {\n",
              "        vertical-align: middle;\n",
              "    }\n",
              "\n",
              "    .dataframe tbody tr th {\n",
              "        vertical-align: top;\n",
              "    }\n",
              "\n",
              "    .dataframe thead th {\n",
              "        text-align: right;\n",
              "    }\n",
              "</style>\n",
              "<table border=\"1\" class=\"dataframe\">\n",
              "  <thead>\n",
              "    <tr style=\"text-align: right;\">\n",
              "      <th></th>\n",
              "      <th>apples</th>\n",
              "      <th>oranges</th>\n",
              "    </tr>\n",
              "  </thead>\n",
              "  <tbody>\n",
              "    <tr>\n",
              "      <th>June</th>\n",
              "      <td>3</td>\n",
              "      <td>0</td>\n",
              "    </tr>\n",
              "    <tr>\n",
              "      <th>Robert</th>\n",
              "      <td>2</td>\n",
              "      <td>3</td>\n",
              "    </tr>\n",
              "    <tr>\n",
              "      <th>Lily</th>\n",
              "      <td>0</td>\n",
              "      <td>7</td>\n",
              "    </tr>\n",
              "    <tr>\n",
              "      <th>David</th>\n",
              "      <td>1</td>\n",
              "      <td>2</td>\n",
              "    </tr>\n",
              "  </tbody>\n",
              "</table>\n",
              "</div>"
            ],
            "text/plain": [
              "        apples  oranges\n",
              "June         3        0\n",
              "Robert       2        3\n",
              "Lily         0        7\n",
              "David        1        2"
            ]
          },
          "execution_count": 62,
          "metadata": {},
          "output_type": "execute_result"
        }
      ],
      "source": [
        "purchasesJSONFile='purchases.json'\n",
        "df = pd.read_json(purchasesJSONFile)\n",
        "\n",
        "df"
      ]
    },
    {
      "cell_type": "markdown",
      "metadata": {
        "id": "gzjcnWMcKnnF"
      },
      "source": [
        "Notice this time our index came with us correctly since using JSON allowed indexes to work through nesting. You can open the `purchases.json` file by pasting the purchasesJSONFile link above into an empty tab on your browser so you can see the file structure.\n",
        "\n",
        "Pandas will try to figure out how to create a DataFrame by analyzing structure of your JSON, and sometimes it doesn't get it right. Often you'll need to set the `orient` keyword argument depending on the structure, so check out [read_json docs](https://pandas.pydata.org/pandas-docs/stable/generated/pandas.read_json.html) about that argument to see which orientation you're using."
      ]
    },
    {
      "cell_type": "markdown",
      "metadata": {
        "id": "I8ANw4ehU6c_"
      },
      "source": [
        "## Reading data from a SQL database"
      ]
    },
    {
      "cell_type": "markdown",
      "metadata": {
        "id": "LNCnCkvzU7vb"
      },
      "source": [
        "If you’re working with data from a SQL database you would need to first establish a connection using an appropriate Python library, then pass a query to pandas. \n",
        "\n",
        "I'm not going to demonstrate this with code here, as it requires installing a mysql module in Google Colab and having a database running that it can connect to.  However, I'll show you some example code to give you an idea:\n",
        "```\n",
        "import pymysql\n",
        "\n",
        "# Connect to the database:\n",
        "con = pymysql.connect(host='localhost',user='user',password='password',db='db')\n",
        "\n",
        "# read the results of a query into a dataframe:\n",
        "df = pd.read_sql_query(\"SELECT * FROM purchases\", con)\n",
        "``` "
      ]
    },
    {
      "cell_type": "markdown",
      "metadata": {
        "id": "0XDB_Tt0Knnn"
      },
      "source": [
        "## Converting back to a CSV, JSON, or SQL"
      ]
    },
    {
      "cell_type": "markdown",
      "metadata": {
        "id": "QKn_wXbnX0sa"
      },
      "source": [
        "So after extensive work on cleaning your data, you’re now ready to save it as a file of your choice. Similar to the ways we read in data, pandas provides intuitive commands to save it:"
      ]
    },
    {
      "cell_type": "code",
      "execution_count": 63,
      "metadata": {
        "id": "0355CTcyKnnp"
      },
      "outputs": [],
      "source": [
        "df.to_csv('new_purchases.csv')\n",
        "\n",
        "df.to_json('new_purchases.json')\n",
        "\n",
        "#df.to_sql('new_purchases', con) # This line is commented out, because we didn't establish a connection to a dB"
      ]
    },
    {
      "cell_type": "markdown",
      "metadata": {
        "id": "CvS3ZHVEOCJN"
      },
      "source": [
        "Check out the local Files in Google Colab ( little right arrow under \"+Code\") to verify that these files have indeed been created on our local machine.\n",
        "\n",
        "When we save JSON and CSV files, all we have to input into those functions is our desired filename with the appropriate file extension. With SQL, we’re not creating a new file but instead inserting a new table into the database using our `con` variable from before.\n",
        "\n",
        "Let's move on to importing some real-world data and detailing a few of the operations you'll be using a lot."
      ]
    },
    {
      "cell_type": "markdown",
      "metadata": {
        "id": "103xl_8p-XFh"
      },
      "source": [
        "# Exercise: Write your Movie Character dataframe out to a csv file"
      ]
    },
    {
      "cell_type": "markdown",
      "metadata": {
        "id": "JunbhtjPKzR1"
      },
      "source": [
        "Using the movie character dataframe that you created earlier, write it out to the csv file \"moviechars_df.csv\".\n"
      ]
    },
    {
      "cell_type": "code",
      "execution_count": 64,
      "metadata": {
        "id": "827y9-Kb-eRy"
      },
      "outputs": [],
      "source": [
        "# write your code here\n"
      ]
    },
    {
      "cell_type": "markdown",
      "metadata": {
        "id": "Pwxc_j9T-jAT"
      },
      "source": [
        "Now, open the file by using Google Colab's interface, to verify that it makes wrote correctly and makes sense."
      ]
    },
    {
      "cell_type": "markdown",
      "metadata": {
        "id": "V7Zd1WrpOH4j"
      },
      "source": [
        "# Basic DataFrame operations"
      ]
    },
    {
      "cell_type": "markdown",
      "metadata": {
        "id": "466GPuL1Knnt"
      },
      "source": [
        "DataFrames possess hundreds of methods and other operations that are crucial to any analysis. As a beginner, you should know the operations that perform simple transformations of your data and those that provide fundamental statistical analysis.\n",
        "\n",
        "Let's load in the IMDB movies dataset to begin:"
      ]
    },
    {
      "cell_type": "code",
      "execution_count": 65,
      "metadata": {
        "id": "FDSvCLJgKnnv"
      },
      "outputs": [
        {
          "data": {
            "text/html": [
              "<div>\n",
              "<style scoped>\n",
              "    .dataframe tbody tr th:only-of-type {\n",
              "        vertical-align: middle;\n",
              "    }\n",
              "\n",
              "    .dataframe tbody tr th {\n",
              "        vertical-align: top;\n",
              "    }\n",
              "\n",
              "    .dataframe thead th {\n",
              "        text-align: right;\n",
              "    }\n",
              "</style>\n",
              "<table border=\"1\" class=\"dataframe\">\n",
              "  <thead>\n",
              "    <tr style=\"text-align: right;\">\n",
              "      <th></th>\n",
              "      <th>Rank</th>\n",
              "      <th>Genre</th>\n",
              "      <th>Description</th>\n",
              "      <th>Director</th>\n",
              "      <th>Actors</th>\n",
              "      <th>Year</th>\n",
              "      <th>Runtime (Minutes)</th>\n",
              "      <th>Rating</th>\n",
              "      <th>Votes</th>\n",
              "      <th>Revenue (Millions)</th>\n",
              "      <th>Metascore</th>\n",
              "    </tr>\n",
              "    <tr>\n",
              "      <th>Title</th>\n",
              "      <th></th>\n",
              "      <th></th>\n",
              "      <th></th>\n",
              "      <th></th>\n",
              "      <th></th>\n",
              "      <th></th>\n",
              "      <th></th>\n",
              "      <th></th>\n",
              "      <th></th>\n",
              "      <th></th>\n",
              "      <th></th>\n",
              "    </tr>\n",
              "  </thead>\n",
              "  <tbody>\n",
              "    <tr>\n",
              "      <th>Guardians of the Galaxy</th>\n",
              "      <td>1</td>\n",
              "      <td>Action,Adventure,Sci-Fi</td>\n",
              "      <td>A group of intergalactic criminals are forced ...</td>\n",
              "      <td>James Gunn</td>\n",
              "      <td>Chris Pratt, Vin Diesel, Bradley Cooper, Zoe S...</td>\n",
              "      <td>2014</td>\n",
              "      <td>121</td>\n",
              "      <td>8.1</td>\n",
              "      <td>757074</td>\n",
              "      <td>333.13</td>\n",
              "      <td>76.0</td>\n",
              "    </tr>\n",
              "    <tr>\n",
              "      <th>Prometheus</th>\n",
              "      <td>2</td>\n",
              "      <td>Adventure,Mystery,Sci-Fi</td>\n",
              "      <td>Following clues to the origin of mankind, a te...</td>\n",
              "      <td>Ridley Scott</td>\n",
              "      <td>Noomi Rapace, Logan Marshall-Green, Michael Fa...</td>\n",
              "      <td>2012</td>\n",
              "      <td>124</td>\n",
              "      <td>7.0</td>\n",
              "      <td>485820</td>\n",
              "      <td>126.46</td>\n",
              "      <td>65.0</td>\n",
              "    </tr>\n",
              "    <tr>\n",
              "      <th>Split</th>\n",
              "      <td>3</td>\n",
              "      <td>Horror,Thriller</td>\n",
              "      <td>Three girls are kidnapped by a man with a diag...</td>\n",
              "      <td>M. Night Shyamalan</td>\n",
              "      <td>James McAvoy, Anya Taylor-Joy, Haley Lu Richar...</td>\n",
              "      <td>2016</td>\n",
              "      <td>117</td>\n",
              "      <td>7.3</td>\n",
              "      <td>157606</td>\n",
              "      <td>138.12</td>\n",
              "      <td>62.0</td>\n",
              "    </tr>\n",
              "    <tr>\n",
              "      <th>Sing</th>\n",
              "      <td>4</td>\n",
              "      <td>Animation,Comedy,Family</td>\n",
              "      <td>In a city of humanoid animals, a hustling thea...</td>\n",
              "      <td>Christophe Lourdelet</td>\n",
              "      <td>Matthew McConaughey,Reese Witherspoon, Seth Ma...</td>\n",
              "      <td>2016</td>\n",
              "      <td>108</td>\n",
              "      <td>7.2</td>\n",
              "      <td>60545</td>\n",
              "      <td>270.32</td>\n",
              "      <td>59.0</td>\n",
              "    </tr>\n",
              "    <tr>\n",
              "      <th>Suicide Squad</th>\n",
              "      <td>5</td>\n",
              "      <td>Action,Adventure,Fantasy</td>\n",
              "      <td>A secret government agency recruits some of th...</td>\n",
              "      <td>David Ayer</td>\n",
              "      <td>Will Smith, Jared Leto, Margot Robbie, Viola D...</td>\n",
              "      <td>2016</td>\n",
              "      <td>123</td>\n",
              "      <td>6.2</td>\n",
              "      <td>393727</td>\n",
              "      <td>325.02</td>\n",
              "      <td>40.0</td>\n",
              "    </tr>\n",
              "    <tr>\n",
              "      <th>...</th>\n",
              "      <td>...</td>\n",
              "      <td>...</td>\n",
              "      <td>...</td>\n",
              "      <td>...</td>\n",
              "      <td>...</td>\n",
              "      <td>...</td>\n",
              "      <td>...</td>\n",
              "      <td>...</td>\n",
              "      <td>...</td>\n",
              "      <td>...</td>\n",
              "      <td>...</td>\n",
              "    </tr>\n",
              "    <tr>\n",
              "      <th>Secret in Their Eyes</th>\n",
              "      <td>996</td>\n",
              "      <td>Crime,Drama,Mystery</td>\n",
              "      <td>A tight-knit team of rising investigators, alo...</td>\n",
              "      <td>Billy Ray</td>\n",
              "      <td>Chiwetel Ejiofor, Nicole Kidman, Julia Roberts...</td>\n",
              "      <td>2015</td>\n",
              "      <td>111</td>\n",
              "      <td>6.2</td>\n",
              "      <td>27585</td>\n",
              "      <td>NaN</td>\n",
              "      <td>45.0</td>\n",
              "    </tr>\n",
              "    <tr>\n",
              "      <th>Hostel: Part II</th>\n",
              "      <td>997</td>\n",
              "      <td>Horror</td>\n",
              "      <td>Three American college students studying abroa...</td>\n",
              "      <td>Eli Roth</td>\n",
              "      <td>Lauren German, Heather Matarazzo, Bijou Philli...</td>\n",
              "      <td>2007</td>\n",
              "      <td>94</td>\n",
              "      <td>5.5</td>\n",
              "      <td>73152</td>\n",
              "      <td>17.54</td>\n",
              "      <td>46.0</td>\n",
              "    </tr>\n",
              "    <tr>\n",
              "      <th>Step Up 2: The Streets</th>\n",
              "      <td>998</td>\n",
              "      <td>Drama,Music,Romance</td>\n",
              "      <td>Romantic sparks occur between two dance studen...</td>\n",
              "      <td>Jon M. Chu</td>\n",
              "      <td>Robert Hoffman, Briana Evigan, Cassie Ventura,...</td>\n",
              "      <td>2008</td>\n",
              "      <td>98</td>\n",
              "      <td>6.2</td>\n",
              "      <td>70699</td>\n",
              "      <td>58.01</td>\n",
              "      <td>50.0</td>\n",
              "    </tr>\n",
              "    <tr>\n",
              "      <th>Search Party</th>\n",
              "      <td>999</td>\n",
              "      <td>Adventure,Comedy</td>\n",
              "      <td>A pair of friends embark on a mission to reuni...</td>\n",
              "      <td>Scot Armstrong</td>\n",
              "      <td>Adam Pally, T.J. Miller, Thomas Middleditch,Sh...</td>\n",
              "      <td>2014</td>\n",
              "      <td>93</td>\n",
              "      <td>5.6</td>\n",
              "      <td>4881</td>\n",
              "      <td>NaN</td>\n",
              "      <td>22.0</td>\n",
              "    </tr>\n",
              "    <tr>\n",
              "      <th>Nine Lives</th>\n",
              "      <td>1000</td>\n",
              "      <td>Comedy,Family,Fantasy</td>\n",
              "      <td>A stuffy businessman finds himself trapped ins...</td>\n",
              "      <td>Barry Sonnenfeld</td>\n",
              "      <td>Kevin Spacey, Jennifer Garner, Robbie Amell,Ch...</td>\n",
              "      <td>2016</td>\n",
              "      <td>87</td>\n",
              "      <td>5.3</td>\n",
              "      <td>12435</td>\n",
              "      <td>19.64</td>\n",
              "      <td>11.0</td>\n",
              "    </tr>\n",
              "  </tbody>\n",
              "</table>\n",
              "<p>1000 rows × 11 columns</p>\n",
              "</div>"
            ],
            "text/plain": [
              "                         Rank                     Genre  \\\n",
              "Title                                                     \n",
              "Guardians of the Galaxy     1   Action,Adventure,Sci-Fi   \n",
              "Prometheus                  2  Adventure,Mystery,Sci-Fi   \n",
              "Split                       3           Horror,Thriller   \n",
              "Sing                        4   Animation,Comedy,Family   \n",
              "Suicide Squad               5  Action,Adventure,Fantasy   \n",
              "...                       ...                       ...   \n",
              "Secret in Their Eyes      996       Crime,Drama,Mystery   \n",
              "Hostel: Part II           997                    Horror   \n",
              "Step Up 2: The Streets    998       Drama,Music,Romance   \n",
              "Search Party              999          Adventure,Comedy   \n",
              "Nine Lives               1000     Comedy,Family,Fantasy   \n",
              "\n",
              "                                                               Description  \\\n",
              "Title                                                                        \n",
              "Guardians of the Galaxy  A group of intergalactic criminals are forced ...   \n",
              "Prometheus               Following clues to the origin of mankind, a te...   \n",
              "Split                    Three girls are kidnapped by a man with a diag...   \n",
              "Sing                     In a city of humanoid animals, a hustling thea...   \n",
              "Suicide Squad            A secret government agency recruits some of th...   \n",
              "...                                                                    ...   \n",
              "Secret in Their Eyes     A tight-knit team of rising investigators, alo...   \n",
              "Hostel: Part II          Three American college students studying abroa...   \n",
              "Step Up 2: The Streets   Romantic sparks occur between two dance studen...   \n",
              "Search Party             A pair of friends embark on a mission to reuni...   \n",
              "Nine Lives               A stuffy businessman finds himself trapped ins...   \n",
              "\n",
              "                                     Director  \\\n",
              "Title                                           \n",
              "Guardians of the Galaxy            James Gunn   \n",
              "Prometheus                       Ridley Scott   \n",
              "Split                      M. Night Shyamalan   \n",
              "Sing                     Christophe Lourdelet   \n",
              "Suicide Squad                      David Ayer   \n",
              "...                                       ...   \n",
              "Secret in Their Eyes                Billy Ray   \n",
              "Hostel: Part II                      Eli Roth   \n",
              "Step Up 2: The Streets             Jon M. Chu   \n",
              "Search Party                   Scot Armstrong   \n",
              "Nine Lives                   Barry Sonnenfeld   \n",
              "\n",
              "                                                                    Actors  \\\n",
              "Title                                                                        \n",
              "Guardians of the Galaxy  Chris Pratt, Vin Diesel, Bradley Cooper, Zoe S...   \n",
              "Prometheus               Noomi Rapace, Logan Marshall-Green, Michael Fa...   \n",
              "Split                    James McAvoy, Anya Taylor-Joy, Haley Lu Richar...   \n",
              "Sing                     Matthew McConaughey,Reese Witherspoon, Seth Ma...   \n",
              "Suicide Squad            Will Smith, Jared Leto, Margot Robbie, Viola D...   \n",
              "...                                                                    ...   \n",
              "Secret in Their Eyes     Chiwetel Ejiofor, Nicole Kidman, Julia Roberts...   \n",
              "Hostel: Part II          Lauren German, Heather Matarazzo, Bijou Philli...   \n",
              "Step Up 2: The Streets   Robert Hoffman, Briana Evigan, Cassie Ventura,...   \n",
              "Search Party             Adam Pally, T.J. Miller, Thomas Middleditch,Sh...   \n",
              "Nine Lives               Kevin Spacey, Jennifer Garner, Robbie Amell,Ch...   \n",
              "\n",
              "                         Year  Runtime (Minutes)  Rating   Votes  \\\n",
              "Title                                                              \n",
              "Guardians of the Galaxy  2014                121     8.1  757074   \n",
              "Prometheus               2012                124     7.0  485820   \n",
              "Split                    2016                117     7.3  157606   \n",
              "Sing                     2016                108     7.2   60545   \n",
              "Suicide Squad            2016                123     6.2  393727   \n",
              "...                       ...                ...     ...     ...   \n",
              "Secret in Their Eyes     2015                111     6.2   27585   \n",
              "Hostel: Part II          2007                 94     5.5   73152   \n",
              "Step Up 2: The Streets   2008                 98     6.2   70699   \n",
              "Search Party             2014                 93     5.6    4881   \n",
              "Nine Lives               2016                 87     5.3   12435   \n",
              "\n",
              "                         Revenue (Millions)  Metascore  \n",
              "Title                                                   \n",
              "Guardians of the Galaxy              333.13       76.0  \n",
              "Prometheus                           126.46       65.0  \n",
              "Split                                138.12       62.0  \n",
              "Sing                                 270.32       59.0  \n",
              "Suicide Squad                        325.02       40.0  \n",
              "...                                     ...        ...  \n",
              "Secret in Their Eyes                    NaN       45.0  \n",
              "Hostel: Part II                       17.54       46.0  \n",
              "Step Up 2: The Streets                58.01       50.0  \n",
              "Search Party                            NaN       22.0  \n",
              "Nine Lives                            19.64       11.0  \n",
              "\n",
              "[1000 rows x 11 columns]"
            ]
          },
          "execution_count": 65,
          "metadata": {},
          "output_type": "execute_result"
        }
      ],
      "source": [
        "imdbFile = 'IMDB-Movie-Data.csv'\n",
        "movies_df = pd.read_csv(imdbFile, index_col=\"Title\")\n",
        "movies_df"
      ]
    },
    {
      "cell_type": "markdown",
      "metadata": {
        "id": "TEq9JPO2Knny"
      },
      "source": [
        "We're loading this dataset from a CSV and designating the movie titles to be our index.\n",
        "\n",
        "Because we did this, Title won't be a column name in our DataFrame (it's the index). If for some reason, we wanted to make an index a column again, we could use the `reset_index()` method:"
      ]
    },
    {
      "cell_type": "code",
      "execution_count": 66,
      "metadata": {
        "id": "zk9Q6d5NP-_6"
      },
      "outputs": [
        {
          "data": {
            "text/html": [
              "<div>\n",
              "<style scoped>\n",
              "    .dataframe tbody tr th:only-of-type {\n",
              "        vertical-align: middle;\n",
              "    }\n",
              "\n",
              "    .dataframe tbody tr th {\n",
              "        vertical-align: top;\n",
              "    }\n",
              "\n",
              "    .dataframe thead th {\n",
              "        text-align: right;\n",
              "    }\n",
              "</style>\n",
              "<table border=\"1\" class=\"dataframe\">\n",
              "  <thead>\n",
              "    <tr style=\"text-align: right;\">\n",
              "      <th></th>\n",
              "      <th>Title</th>\n",
              "      <th>Rank</th>\n",
              "      <th>Genre</th>\n",
              "      <th>Description</th>\n",
              "      <th>Director</th>\n",
              "      <th>Actors</th>\n",
              "      <th>Year</th>\n",
              "      <th>Runtime (Minutes)</th>\n",
              "      <th>Rating</th>\n",
              "      <th>Votes</th>\n",
              "      <th>Revenue (Millions)</th>\n",
              "      <th>Metascore</th>\n",
              "    </tr>\n",
              "  </thead>\n",
              "  <tbody>\n",
              "    <tr>\n",
              "      <th>0</th>\n",
              "      <td>Guardians of the Galaxy</td>\n",
              "      <td>1</td>\n",
              "      <td>Action,Adventure,Sci-Fi</td>\n",
              "      <td>A group of intergalactic criminals are forced ...</td>\n",
              "      <td>James Gunn</td>\n",
              "      <td>Chris Pratt, Vin Diesel, Bradley Cooper, Zoe S...</td>\n",
              "      <td>2014</td>\n",
              "      <td>121</td>\n",
              "      <td>8.1</td>\n",
              "      <td>757074</td>\n",
              "      <td>333.13</td>\n",
              "      <td>76.0</td>\n",
              "    </tr>\n",
              "    <tr>\n",
              "      <th>1</th>\n",
              "      <td>Prometheus</td>\n",
              "      <td>2</td>\n",
              "      <td>Adventure,Mystery,Sci-Fi</td>\n",
              "      <td>Following clues to the origin of mankind, a te...</td>\n",
              "      <td>Ridley Scott</td>\n",
              "      <td>Noomi Rapace, Logan Marshall-Green, Michael Fa...</td>\n",
              "      <td>2012</td>\n",
              "      <td>124</td>\n",
              "      <td>7.0</td>\n",
              "      <td>485820</td>\n",
              "      <td>126.46</td>\n",
              "      <td>65.0</td>\n",
              "    </tr>\n",
              "    <tr>\n",
              "      <th>2</th>\n",
              "      <td>Split</td>\n",
              "      <td>3</td>\n",
              "      <td>Horror,Thriller</td>\n",
              "      <td>Three girls are kidnapped by a man with a diag...</td>\n",
              "      <td>M. Night Shyamalan</td>\n",
              "      <td>James McAvoy, Anya Taylor-Joy, Haley Lu Richar...</td>\n",
              "      <td>2016</td>\n",
              "      <td>117</td>\n",
              "      <td>7.3</td>\n",
              "      <td>157606</td>\n",
              "      <td>138.12</td>\n",
              "      <td>62.0</td>\n",
              "    </tr>\n",
              "    <tr>\n",
              "      <th>3</th>\n",
              "      <td>Sing</td>\n",
              "      <td>4</td>\n",
              "      <td>Animation,Comedy,Family</td>\n",
              "      <td>In a city of humanoid animals, a hustling thea...</td>\n",
              "      <td>Christophe Lourdelet</td>\n",
              "      <td>Matthew McConaughey,Reese Witherspoon, Seth Ma...</td>\n",
              "      <td>2016</td>\n",
              "      <td>108</td>\n",
              "      <td>7.2</td>\n",
              "      <td>60545</td>\n",
              "      <td>270.32</td>\n",
              "      <td>59.0</td>\n",
              "    </tr>\n",
              "    <tr>\n",
              "      <th>4</th>\n",
              "      <td>Suicide Squad</td>\n",
              "      <td>5</td>\n",
              "      <td>Action,Adventure,Fantasy</td>\n",
              "      <td>A secret government agency recruits some of th...</td>\n",
              "      <td>David Ayer</td>\n",
              "      <td>Will Smith, Jared Leto, Margot Robbie, Viola D...</td>\n",
              "      <td>2016</td>\n",
              "      <td>123</td>\n",
              "      <td>6.2</td>\n",
              "      <td>393727</td>\n",
              "      <td>325.02</td>\n",
              "      <td>40.0</td>\n",
              "    </tr>\n",
              "    <tr>\n",
              "      <th>...</th>\n",
              "      <td>...</td>\n",
              "      <td>...</td>\n",
              "      <td>...</td>\n",
              "      <td>...</td>\n",
              "      <td>...</td>\n",
              "      <td>...</td>\n",
              "      <td>...</td>\n",
              "      <td>...</td>\n",
              "      <td>...</td>\n",
              "      <td>...</td>\n",
              "      <td>...</td>\n",
              "      <td>...</td>\n",
              "    </tr>\n",
              "    <tr>\n",
              "      <th>995</th>\n",
              "      <td>Secret in Their Eyes</td>\n",
              "      <td>996</td>\n",
              "      <td>Crime,Drama,Mystery</td>\n",
              "      <td>A tight-knit team of rising investigators, alo...</td>\n",
              "      <td>Billy Ray</td>\n",
              "      <td>Chiwetel Ejiofor, Nicole Kidman, Julia Roberts...</td>\n",
              "      <td>2015</td>\n",
              "      <td>111</td>\n",
              "      <td>6.2</td>\n",
              "      <td>27585</td>\n",
              "      <td>NaN</td>\n",
              "      <td>45.0</td>\n",
              "    </tr>\n",
              "    <tr>\n",
              "      <th>996</th>\n",
              "      <td>Hostel: Part II</td>\n",
              "      <td>997</td>\n",
              "      <td>Horror</td>\n",
              "      <td>Three American college students studying abroa...</td>\n",
              "      <td>Eli Roth</td>\n",
              "      <td>Lauren German, Heather Matarazzo, Bijou Philli...</td>\n",
              "      <td>2007</td>\n",
              "      <td>94</td>\n",
              "      <td>5.5</td>\n",
              "      <td>73152</td>\n",
              "      <td>17.54</td>\n",
              "      <td>46.0</td>\n",
              "    </tr>\n",
              "    <tr>\n",
              "      <th>997</th>\n",
              "      <td>Step Up 2: The Streets</td>\n",
              "      <td>998</td>\n",
              "      <td>Drama,Music,Romance</td>\n",
              "      <td>Romantic sparks occur between two dance studen...</td>\n",
              "      <td>Jon M. Chu</td>\n",
              "      <td>Robert Hoffman, Briana Evigan, Cassie Ventura,...</td>\n",
              "      <td>2008</td>\n",
              "      <td>98</td>\n",
              "      <td>6.2</td>\n",
              "      <td>70699</td>\n",
              "      <td>58.01</td>\n",
              "      <td>50.0</td>\n",
              "    </tr>\n",
              "    <tr>\n",
              "      <th>998</th>\n",
              "      <td>Search Party</td>\n",
              "      <td>999</td>\n",
              "      <td>Adventure,Comedy</td>\n",
              "      <td>A pair of friends embark on a mission to reuni...</td>\n",
              "      <td>Scot Armstrong</td>\n",
              "      <td>Adam Pally, T.J. Miller, Thomas Middleditch,Sh...</td>\n",
              "      <td>2014</td>\n",
              "      <td>93</td>\n",
              "      <td>5.6</td>\n",
              "      <td>4881</td>\n",
              "      <td>NaN</td>\n",
              "      <td>22.0</td>\n",
              "    </tr>\n",
              "    <tr>\n",
              "      <th>999</th>\n",
              "      <td>Nine Lives</td>\n",
              "      <td>1000</td>\n",
              "      <td>Comedy,Family,Fantasy</td>\n",
              "      <td>A stuffy businessman finds himself trapped ins...</td>\n",
              "      <td>Barry Sonnenfeld</td>\n",
              "      <td>Kevin Spacey, Jennifer Garner, Robbie Amell,Ch...</td>\n",
              "      <td>2016</td>\n",
              "      <td>87</td>\n",
              "      <td>5.3</td>\n",
              "      <td>12435</td>\n",
              "      <td>19.64</td>\n",
              "      <td>11.0</td>\n",
              "    </tr>\n",
              "  </tbody>\n",
              "</table>\n",
              "<p>1000 rows × 12 columns</p>\n",
              "</div>"
            ],
            "text/plain": [
              "                       Title  Rank                     Genre  \\\n",
              "0    Guardians of the Galaxy     1   Action,Adventure,Sci-Fi   \n",
              "1                 Prometheus     2  Adventure,Mystery,Sci-Fi   \n",
              "2                      Split     3           Horror,Thriller   \n",
              "3                       Sing     4   Animation,Comedy,Family   \n",
              "4              Suicide Squad     5  Action,Adventure,Fantasy   \n",
              "..                       ...   ...                       ...   \n",
              "995     Secret in Their Eyes   996       Crime,Drama,Mystery   \n",
              "996          Hostel: Part II   997                    Horror   \n",
              "997   Step Up 2: The Streets   998       Drama,Music,Romance   \n",
              "998             Search Party   999          Adventure,Comedy   \n",
              "999               Nine Lives  1000     Comedy,Family,Fantasy   \n",
              "\n",
              "                                           Description              Director  \\\n",
              "0    A group of intergalactic criminals are forced ...            James Gunn   \n",
              "1    Following clues to the origin of mankind, a te...          Ridley Scott   \n",
              "2    Three girls are kidnapped by a man with a diag...    M. Night Shyamalan   \n",
              "3    In a city of humanoid animals, a hustling thea...  Christophe Lourdelet   \n",
              "4    A secret government agency recruits some of th...            David Ayer   \n",
              "..                                                 ...                   ...   \n",
              "995  A tight-knit team of rising investigators, alo...             Billy Ray   \n",
              "996  Three American college students studying abroa...              Eli Roth   \n",
              "997  Romantic sparks occur between two dance studen...            Jon M. Chu   \n",
              "998  A pair of friends embark on a mission to reuni...        Scot Armstrong   \n",
              "999  A stuffy businessman finds himself trapped ins...      Barry Sonnenfeld   \n",
              "\n",
              "                                                Actors  Year  \\\n",
              "0    Chris Pratt, Vin Diesel, Bradley Cooper, Zoe S...  2014   \n",
              "1    Noomi Rapace, Logan Marshall-Green, Michael Fa...  2012   \n",
              "2    James McAvoy, Anya Taylor-Joy, Haley Lu Richar...  2016   \n",
              "3    Matthew McConaughey,Reese Witherspoon, Seth Ma...  2016   \n",
              "4    Will Smith, Jared Leto, Margot Robbie, Viola D...  2016   \n",
              "..                                                 ...   ...   \n",
              "995  Chiwetel Ejiofor, Nicole Kidman, Julia Roberts...  2015   \n",
              "996  Lauren German, Heather Matarazzo, Bijou Philli...  2007   \n",
              "997  Robert Hoffman, Briana Evigan, Cassie Ventura,...  2008   \n",
              "998  Adam Pally, T.J. Miller, Thomas Middleditch,Sh...  2014   \n",
              "999  Kevin Spacey, Jennifer Garner, Robbie Amell,Ch...  2016   \n",
              "\n",
              "     Runtime (Minutes)  Rating   Votes  Revenue (Millions)  Metascore  \n",
              "0                  121     8.1  757074              333.13       76.0  \n",
              "1                  124     7.0  485820              126.46       65.0  \n",
              "2                  117     7.3  157606              138.12       62.0  \n",
              "3                  108     7.2   60545              270.32       59.0  \n",
              "4                  123     6.2  393727              325.02       40.0  \n",
              "..                 ...     ...     ...                 ...        ...  \n",
              "995                111     6.2   27585                 NaN       45.0  \n",
              "996                 94     5.5   73152               17.54       46.0  \n",
              "997                 98     6.2   70699               58.01       50.0  \n",
              "998                 93     5.6    4881                 NaN       22.0  \n",
              "999                 87     5.3   12435               19.64       11.0  \n",
              "\n",
              "[1000 rows x 12 columns]"
            ]
          },
          "execution_count": 66,
          "metadata": {},
          "output_type": "execute_result"
        }
      ],
      "source": [
        "movies_df.reset_index()"
      ]
    },
    {
      "cell_type": "markdown",
      "metadata": {
        "id": "tifHnbMvwzBo"
      },
      "source": [
        "## Viewing your data"
      ]
    },
    {
      "cell_type": "markdown",
      "metadata": {
        "id": "NA9FvcXmKnnz"
      },
      "source": [
        "\n",
        "\n",
        "The first thing to do when opening a new dataset is print out a few rows to keep as a visual reference. We accomplish this with `.head()`:"
      ]
    },
    {
      "cell_type": "code",
      "execution_count": 67,
      "metadata": {
        "id": "IyOwvBP3Knn1"
      },
      "outputs": [
        {
          "data": {
            "text/html": [
              "<div>\n",
              "<style scoped>\n",
              "    .dataframe tbody tr th:only-of-type {\n",
              "        vertical-align: middle;\n",
              "    }\n",
              "\n",
              "    .dataframe tbody tr th {\n",
              "        vertical-align: top;\n",
              "    }\n",
              "\n",
              "    .dataframe thead th {\n",
              "        text-align: right;\n",
              "    }\n",
              "</style>\n",
              "<table border=\"1\" class=\"dataframe\">\n",
              "  <thead>\n",
              "    <tr style=\"text-align: right;\">\n",
              "      <th></th>\n",
              "      <th>Rank</th>\n",
              "      <th>Genre</th>\n",
              "      <th>Description</th>\n",
              "      <th>Director</th>\n",
              "      <th>Actors</th>\n",
              "      <th>Year</th>\n",
              "      <th>Runtime (Minutes)</th>\n",
              "      <th>Rating</th>\n",
              "      <th>Votes</th>\n",
              "      <th>Revenue (Millions)</th>\n",
              "      <th>Metascore</th>\n",
              "    </tr>\n",
              "    <tr>\n",
              "      <th>Title</th>\n",
              "      <th></th>\n",
              "      <th></th>\n",
              "      <th></th>\n",
              "      <th></th>\n",
              "      <th></th>\n",
              "      <th></th>\n",
              "      <th></th>\n",
              "      <th></th>\n",
              "      <th></th>\n",
              "      <th></th>\n",
              "      <th></th>\n",
              "    </tr>\n",
              "  </thead>\n",
              "  <tbody>\n",
              "    <tr>\n",
              "      <th>Guardians of the Galaxy</th>\n",
              "      <td>1</td>\n",
              "      <td>Action,Adventure,Sci-Fi</td>\n",
              "      <td>A group of intergalactic criminals are forced ...</td>\n",
              "      <td>James Gunn</td>\n",
              "      <td>Chris Pratt, Vin Diesel, Bradley Cooper, Zoe S...</td>\n",
              "      <td>2014</td>\n",
              "      <td>121</td>\n",
              "      <td>8.1</td>\n",
              "      <td>757074</td>\n",
              "      <td>333.13</td>\n",
              "      <td>76.0</td>\n",
              "    </tr>\n",
              "    <tr>\n",
              "      <th>Prometheus</th>\n",
              "      <td>2</td>\n",
              "      <td>Adventure,Mystery,Sci-Fi</td>\n",
              "      <td>Following clues to the origin of mankind, a te...</td>\n",
              "      <td>Ridley Scott</td>\n",
              "      <td>Noomi Rapace, Logan Marshall-Green, Michael Fa...</td>\n",
              "      <td>2012</td>\n",
              "      <td>124</td>\n",
              "      <td>7.0</td>\n",
              "      <td>485820</td>\n",
              "      <td>126.46</td>\n",
              "      <td>65.0</td>\n",
              "    </tr>\n",
              "    <tr>\n",
              "      <th>Split</th>\n",
              "      <td>3</td>\n",
              "      <td>Horror,Thriller</td>\n",
              "      <td>Three girls are kidnapped by a man with a diag...</td>\n",
              "      <td>M. Night Shyamalan</td>\n",
              "      <td>James McAvoy, Anya Taylor-Joy, Haley Lu Richar...</td>\n",
              "      <td>2016</td>\n",
              "      <td>117</td>\n",
              "      <td>7.3</td>\n",
              "      <td>157606</td>\n",
              "      <td>138.12</td>\n",
              "      <td>62.0</td>\n",
              "    </tr>\n",
              "    <tr>\n",
              "      <th>Sing</th>\n",
              "      <td>4</td>\n",
              "      <td>Animation,Comedy,Family</td>\n",
              "      <td>In a city of humanoid animals, a hustling thea...</td>\n",
              "      <td>Christophe Lourdelet</td>\n",
              "      <td>Matthew McConaughey,Reese Witherspoon, Seth Ma...</td>\n",
              "      <td>2016</td>\n",
              "      <td>108</td>\n",
              "      <td>7.2</td>\n",
              "      <td>60545</td>\n",
              "      <td>270.32</td>\n",
              "      <td>59.0</td>\n",
              "    </tr>\n",
              "    <tr>\n",
              "      <th>Suicide Squad</th>\n",
              "      <td>5</td>\n",
              "      <td>Action,Adventure,Fantasy</td>\n",
              "      <td>A secret government agency recruits some of th...</td>\n",
              "      <td>David Ayer</td>\n",
              "      <td>Will Smith, Jared Leto, Margot Robbie, Viola D...</td>\n",
              "      <td>2016</td>\n",
              "      <td>123</td>\n",
              "      <td>6.2</td>\n",
              "      <td>393727</td>\n",
              "      <td>325.02</td>\n",
              "      <td>40.0</td>\n",
              "    </tr>\n",
              "  </tbody>\n",
              "</table>\n",
              "</div>"
            ],
            "text/plain": [
              "                         Rank                     Genre  \\\n",
              "Title                                                     \n",
              "Guardians of the Galaxy     1   Action,Adventure,Sci-Fi   \n",
              "Prometheus                  2  Adventure,Mystery,Sci-Fi   \n",
              "Split                       3           Horror,Thriller   \n",
              "Sing                        4   Animation,Comedy,Family   \n",
              "Suicide Squad               5  Action,Adventure,Fantasy   \n",
              "\n",
              "                                                               Description  \\\n",
              "Title                                                                        \n",
              "Guardians of the Galaxy  A group of intergalactic criminals are forced ...   \n",
              "Prometheus               Following clues to the origin of mankind, a te...   \n",
              "Split                    Three girls are kidnapped by a man with a diag...   \n",
              "Sing                     In a city of humanoid animals, a hustling thea...   \n",
              "Suicide Squad            A secret government agency recruits some of th...   \n",
              "\n",
              "                                     Director  \\\n",
              "Title                                           \n",
              "Guardians of the Galaxy            James Gunn   \n",
              "Prometheus                       Ridley Scott   \n",
              "Split                      M. Night Shyamalan   \n",
              "Sing                     Christophe Lourdelet   \n",
              "Suicide Squad                      David Ayer   \n",
              "\n",
              "                                                                    Actors  \\\n",
              "Title                                                                        \n",
              "Guardians of the Galaxy  Chris Pratt, Vin Diesel, Bradley Cooper, Zoe S...   \n",
              "Prometheus               Noomi Rapace, Logan Marshall-Green, Michael Fa...   \n",
              "Split                    James McAvoy, Anya Taylor-Joy, Haley Lu Richar...   \n",
              "Sing                     Matthew McConaughey,Reese Witherspoon, Seth Ma...   \n",
              "Suicide Squad            Will Smith, Jared Leto, Margot Robbie, Viola D...   \n",
              "\n",
              "                         Year  Runtime (Minutes)  Rating   Votes  \\\n",
              "Title                                                              \n",
              "Guardians of the Galaxy  2014                121     8.1  757074   \n",
              "Prometheus               2012                124     7.0  485820   \n",
              "Split                    2016                117     7.3  157606   \n",
              "Sing                     2016                108     7.2   60545   \n",
              "Suicide Squad            2016                123     6.2  393727   \n",
              "\n",
              "                         Revenue (Millions)  Metascore  \n",
              "Title                                                   \n",
              "Guardians of the Galaxy              333.13       76.0  \n",
              "Prometheus                           126.46       65.0  \n",
              "Split                                138.12       62.0  \n",
              "Sing                                 270.32       59.0  \n",
              "Suicide Squad                        325.02       40.0  "
            ]
          },
          "execution_count": 67,
          "metadata": {},
          "output_type": "execute_result"
        }
      ],
      "source": [
        "movies_df.head()"
      ]
    },
    {
      "cell_type": "markdown",
      "metadata": {
        "id": "u1LOrsfoKnn6"
      },
      "source": [
        "`.head()` outputs the **first** five rows of your DataFrame by default, but we could also pass a number as well: `movies_df.head(10)` would output the top ten rows, for example. \n",
        "\n",
        "To see the **last** five rows use `.tail()`. $\\ $ `tail()` also accepts a number, and in this case we printing the bottom two rows.:"
      ]
    },
    {
      "cell_type": "code",
      "execution_count": 68,
      "metadata": {
        "id": "Njt4MU_KKnn6"
      },
      "outputs": [
        {
          "data": {
            "text/html": [
              "<div>\n",
              "<style scoped>\n",
              "    .dataframe tbody tr th:only-of-type {\n",
              "        vertical-align: middle;\n",
              "    }\n",
              "\n",
              "    .dataframe tbody tr th {\n",
              "        vertical-align: top;\n",
              "    }\n",
              "\n",
              "    .dataframe thead th {\n",
              "        text-align: right;\n",
              "    }\n",
              "</style>\n",
              "<table border=\"1\" class=\"dataframe\">\n",
              "  <thead>\n",
              "    <tr style=\"text-align: right;\">\n",
              "      <th></th>\n",
              "      <th>Rank</th>\n",
              "      <th>Genre</th>\n",
              "      <th>Description</th>\n",
              "      <th>Director</th>\n",
              "      <th>Actors</th>\n",
              "      <th>Year</th>\n",
              "      <th>Runtime (Minutes)</th>\n",
              "      <th>Rating</th>\n",
              "      <th>Votes</th>\n",
              "      <th>Revenue (Millions)</th>\n",
              "      <th>Metascore</th>\n",
              "    </tr>\n",
              "    <tr>\n",
              "      <th>Title</th>\n",
              "      <th></th>\n",
              "      <th></th>\n",
              "      <th></th>\n",
              "      <th></th>\n",
              "      <th></th>\n",
              "      <th></th>\n",
              "      <th></th>\n",
              "      <th></th>\n",
              "      <th></th>\n",
              "      <th></th>\n",
              "      <th></th>\n",
              "    </tr>\n",
              "  </thead>\n",
              "  <tbody>\n",
              "    <tr>\n",
              "      <th>Search Party</th>\n",
              "      <td>999</td>\n",
              "      <td>Adventure,Comedy</td>\n",
              "      <td>A pair of friends embark on a mission to reuni...</td>\n",
              "      <td>Scot Armstrong</td>\n",
              "      <td>Adam Pally, T.J. Miller, Thomas Middleditch,Sh...</td>\n",
              "      <td>2014</td>\n",
              "      <td>93</td>\n",
              "      <td>5.6</td>\n",
              "      <td>4881</td>\n",
              "      <td>NaN</td>\n",
              "      <td>22.0</td>\n",
              "    </tr>\n",
              "    <tr>\n",
              "      <th>Nine Lives</th>\n",
              "      <td>1000</td>\n",
              "      <td>Comedy,Family,Fantasy</td>\n",
              "      <td>A stuffy businessman finds himself trapped ins...</td>\n",
              "      <td>Barry Sonnenfeld</td>\n",
              "      <td>Kevin Spacey, Jennifer Garner, Robbie Amell,Ch...</td>\n",
              "      <td>2016</td>\n",
              "      <td>87</td>\n",
              "      <td>5.3</td>\n",
              "      <td>12435</td>\n",
              "      <td>19.64</td>\n",
              "      <td>11.0</td>\n",
              "    </tr>\n",
              "  </tbody>\n",
              "</table>\n",
              "</div>"
            ],
            "text/plain": [
              "              Rank                  Genre  \\\n",
              "Title                                       \n",
              "Search Party   999       Adventure,Comedy   \n",
              "Nine Lives    1000  Comedy,Family,Fantasy   \n",
              "\n",
              "                                                    Description  \\\n",
              "Title                                                             \n",
              "Search Party  A pair of friends embark on a mission to reuni...   \n",
              "Nine Lives    A stuffy businessman finds himself trapped ins...   \n",
              "\n",
              "                      Director  \\\n",
              "Title                            \n",
              "Search Party    Scot Armstrong   \n",
              "Nine Lives    Barry Sonnenfeld   \n",
              "\n",
              "                                                         Actors  Year  \\\n",
              "Title                                                                   \n",
              "Search Party  Adam Pally, T.J. Miller, Thomas Middleditch,Sh...  2014   \n",
              "Nine Lives    Kevin Spacey, Jennifer Garner, Robbie Amell,Ch...  2016   \n",
              "\n",
              "              Runtime (Minutes)  Rating  Votes  Revenue (Millions)  Metascore  \n",
              "Title                                                                          \n",
              "Search Party                 93     5.6   4881                 NaN       22.0  \n",
              "Nine Lives                   87     5.3  12435               19.64       11.0  "
            ]
          },
          "execution_count": 68,
          "metadata": {},
          "output_type": "execute_result"
        }
      ],
      "source": [
        "movies_df.tail(2)"
      ]
    },
    {
      "cell_type": "markdown",
      "metadata": {
        "id": "3H4KKH9oKnn9"
      },
      "source": [
        "Typically when we load in a dataset, we like to view the first five or so rows to see what's under the hood. Here we can see the names of each column, the index, and examples of values in each row.\n",
        "\n",
        "You'll notice that the index in our DataFrame is the *Title* column, which you can tell by how the word *Title* is slightly lower than the rest of the columns."
      ]
    },
    {
      "cell_type": "markdown",
      "metadata": {
        "id": "Ax9jhXIYw58Y"
      },
      "source": [
        "## Getting info about your data"
      ]
    },
    {
      "cell_type": "markdown",
      "metadata": {
        "id": "PWiuR9AgKnn_"
      },
      "source": [
        "`.info()` should be one of the very first commands you run after loading your data:"
      ]
    },
    {
      "cell_type": "code",
      "execution_count": 69,
      "metadata": {
        "id": "UALXdwD0Knn_"
      },
      "outputs": [
        {
          "name": "stdout",
          "output_type": "stream",
          "text": [
            "<class 'pandas.core.frame.DataFrame'>\n",
            "Index: 1000 entries, Guardians of the Galaxy to Nine Lives\n",
            "Data columns (total 11 columns):\n",
            " #   Column              Non-Null Count  Dtype  \n",
            "---  ------              --------------  -----  \n",
            " 0   Rank                1000 non-null   int64  \n",
            " 1   Genre               1000 non-null   object \n",
            " 2   Description         1000 non-null   object \n",
            " 3   Director            1000 non-null   object \n",
            " 4   Actors              1000 non-null   object \n",
            " 5   Year                1000 non-null   int64  \n",
            " 6   Runtime (Minutes)   1000 non-null   int64  \n",
            " 7   Rating              1000 non-null   float64\n",
            " 8   Votes               1000 non-null   int64  \n",
            " 9   Revenue (Millions)  872 non-null    float64\n",
            " 10  Metascore           936 non-null    float64\n",
            "dtypes: float64(3), int64(4), object(4)\n",
            "memory usage: 93.8+ KB\n"
          ]
        }
      ],
      "source": [
        "movies_df.info()"
      ]
    },
    {
      "cell_type": "markdown",
      "metadata": {
        "id": "Etz2Uz7zKnoC"
      },
      "source": [
        "`.info()` provides the essential details about your dataset, such as the number of rows and columns, the number of non-null values, what type of data is in each column, and how much memory your DataFrame is using. \n",
        "\n",
        "Notice in our movies dataset we have some obvious missing values in the `Revenue` and `Metascore` columns. We'll look at how to handle those in a bit.\n",
        "\n",
        "Seeing the datatype quickly is actually quite useful. Imagine you just imported some JSON and the integers were recorded as strings. You go to do some arithmetic and find an \"unsupported operand\" Exception because you can't do math with strings. Calling `.info()` will quickly point out that your column you thought was all integers are actually string objects.\n",
        "\n"
      ]
    },
    {
      "cell_type": "code",
      "execution_count": 70,
      "metadata": {},
      "outputs": [
        {
          "ename": "KeyError",
          "evalue": "'rank'",
          "output_type": "error",
          "traceback": [
            "\u001b[1;31m---------------------------------------------------------------------------\u001b[0m",
            "\u001b[1;31mKeyError\u001b[0m                                  Traceback (most recent call last)",
            "\u001b[1;32mc:\\Users\\wangy\\Anaconda3\\envs\\ML\\lib\\site-packages\\pandas\\core\\indexes\\base.py\u001b[0m in \u001b[0;36mget_loc\u001b[1;34m(self, key, method, tolerance)\u001b[0m\n\u001b[0;32m   3360\u001b[0m             \u001b[1;32mtry\u001b[0m\u001b[1;33m:\u001b[0m\u001b[1;33m\u001b[0m\u001b[1;33m\u001b[0m\u001b[0m\n\u001b[1;32m-> 3361\u001b[1;33m                 \u001b[1;32mreturn\u001b[0m \u001b[0mself\u001b[0m\u001b[1;33m.\u001b[0m\u001b[0m_engine\u001b[0m\u001b[1;33m.\u001b[0m\u001b[0mget_loc\u001b[0m\u001b[1;33m(\u001b[0m\u001b[0mcasted_key\u001b[0m\u001b[1;33m)\u001b[0m\u001b[1;33m\u001b[0m\u001b[1;33m\u001b[0m\u001b[0m\n\u001b[0m\u001b[0;32m   3362\u001b[0m             \u001b[1;32mexcept\u001b[0m \u001b[0mKeyError\u001b[0m \u001b[1;32mas\u001b[0m \u001b[0merr\u001b[0m\u001b[1;33m:\u001b[0m\u001b[1;33m\u001b[0m\u001b[1;33m\u001b[0m\u001b[0m\n",
            "\u001b[1;32mc:\\Users\\wangy\\Anaconda3\\envs\\ML\\lib\\site-packages\\pandas\\_libs\\index.pyx\u001b[0m in \u001b[0;36mpandas._libs.index.IndexEngine.get_loc\u001b[1;34m()\u001b[0m\n",
            "\u001b[1;32mc:\\Users\\wangy\\Anaconda3\\envs\\ML\\lib\\site-packages\\pandas\\_libs\\index.pyx\u001b[0m in \u001b[0;36mpandas._libs.index.IndexEngine.get_loc\u001b[1;34m()\u001b[0m\n",
            "\u001b[1;32mpandas\\_libs\\hashtable_class_helper.pxi\u001b[0m in \u001b[0;36mpandas._libs.hashtable.PyObjectHashTable.get_item\u001b[1;34m()\u001b[0m\n",
            "\u001b[1;32mpandas\\_libs\\hashtable_class_helper.pxi\u001b[0m in \u001b[0;36mpandas._libs.hashtable.PyObjectHashTable.get_item\u001b[1;34m()\u001b[0m\n",
            "\u001b[1;31mKeyError\u001b[0m: 'rank'",
            "\nThe above exception was the direct cause of the following exception:\n",
            "\u001b[1;31mKeyError\u001b[0m                                  Traceback (most recent call last)",
            "\u001b[1;32m~\\AppData\\Local\\Temp\\ipykernel_38696\\3990041316.py\u001b[0m in \u001b[0;36m<module>\u001b[1;34m\u001b[0m\n\u001b[1;32m----> 1\u001b[1;33m \u001b[0mmovies_df\u001b[0m\u001b[1;33m[\u001b[0m\u001b[1;34m'rank'\u001b[0m\u001b[1;33m]\u001b[0m\u001b[1;33m.\u001b[0m\u001b[0mdescribe\u001b[0m\u001b[1;33m(\u001b[0m\u001b[1;33m)\u001b[0m\u001b[1;33m\u001b[0m\u001b[1;33m\u001b[0m\u001b[0m\n\u001b[0m",
            "\u001b[1;32mc:\\Users\\wangy\\Anaconda3\\envs\\ML\\lib\\site-packages\\pandas\\core\\frame.py\u001b[0m in \u001b[0;36m__getitem__\u001b[1;34m(self, key)\u001b[0m\n\u001b[0;32m   3456\u001b[0m             \u001b[1;32mif\u001b[0m \u001b[0mself\u001b[0m\u001b[1;33m.\u001b[0m\u001b[0mcolumns\u001b[0m\u001b[1;33m.\u001b[0m\u001b[0mnlevels\u001b[0m \u001b[1;33m>\u001b[0m \u001b[1;36m1\u001b[0m\u001b[1;33m:\u001b[0m\u001b[1;33m\u001b[0m\u001b[1;33m\u001b[0m\u001b[0m\n\u001b[0;32m   3457\u001b[0m                 \u001b[1;32mreturn\u001b[0m \u001b[0mself\u001b[0m\u001b[1;33m.\u001b[0m\u001b[0m_getitem_multilevel\u001b[0m\u001b[1;33m(\u001b[0m\u001b[0mkey\u001b[0m\u001b[1;33m)\u001b[0m\u001b[1;33m\u001b[0m\u001b[1;33m\u001b[0m\u001b[0m\n\u001b[1;32m-> 3458\u001b[1;33m             \u001b[0mindexer\u001b[0m \u001b[1;33m=\u001b[0m \u001b[0mself\u001b[0m\u001b[1;33m.\u001b[0m\u001b[0mcolumns\u001b[0m\u001b[1;33m.\u001b[0m\u001b[0mget_loc\u001b[0m\u001b[1;33m(\u001b[0m\u001b[0mkey\u001b[0m\u001b[1;33m)\u001b[0m\u001b[1;33m\u001b[0m\u001b[1;33m\u001b[0m\u001b[0m\n\u001b[0m\u001b[0;32m   3459\u001b[0m             \u001b[1;32mif\u001b[0m \u001b[0mis_integer\u001b[0m\u001b[1;33m(\u001b[0m\u001b[0mindexer\u001b[0m\u001b[1;33m)\u001b[0m\u001b[1;33m:\u001b[0m\u001b[1;33m\u001b[0m\u001b[1;33m\u001b[0m\u001b[0m\n\u001b[0;32m   3460\u001b[0m                 \u001b[0mindexer\u001b[0m \u001b[1;33m=\u001b[0m \u001b[1;33m[\u001b[0m\u001b[0mindexer\u001b[0m\u001b[1;33m]\u001b[0m\u001b[1;33m\u001b[0m\u001b[1;33m\u001b[0m\u001b[0m\n",
            "\u001b[1;32mc:\\Users\\wangy\\Anaconda3\\envs\\ML\\lib\\site-packages\\pandas\\core\\indexes\\base.py\u001b[0m in \u001b[0;36mget_loc\u001b[1;34m(self, key, method, tolerance)\u001b[0m\n\u001b[0;32m   3361\u001b[0m                 \u001b[1;32mreturn\u001b[0m \u001b[0mself\u001b[0m\u001b[1;33m.\u001b[0m\u001b[0m_engine\u001b[0m\u001b[1;33m.\u001b[0m\u001b[0mget_loc\u001b[0m\u001b[1;33m(\u001b[0m\u001b[0mcasted_key\u001b[0m\u001b[1;33m)\u001b[0m\u001b[1;33m\u001b[0m\u001b[1;33m\u001b[0m\u001b[0m\n\u001b[0;32m   3362\u001b[0m             \u001b[1;32mexcept\u001b[0m \u001b[0mKeyError\u001b[0m \u001b[1;32mas\u001b[0m \u001b[0merr\u001b[0m\u001b[1;33m:\u001b[0m\u001b[1;33m\u001b[0m\u001b[1;33m\u001b[0m\u001b[0m\n\u001b[1;32m-> 3363\u001b[1;33m                 \u001b[1;32mraise\u001b[0m \u001b[0mKeyError\u001b[0m\u001b[1;33m(\u001b[0m\u001b[0mkey\u001b[0m\u001b[1;33m)\u001b[0m \u001b[1;32mfrom\u001b[0m \u001b[0merr\u001b[0m\u001b[1;33m\u001b[0m\u001b[1;33m\u001b[0m\u001b[0m\n\u001b[0m\u001b[0;32m   3364\u001b[0m \u001b[1;33m\u001b[0m\u001b[0m\n\u001b[0;32m   3365\u001b[0m         \u001b[1;32mif\u001b[0m \u001b[0mis_scalar\u001b[0m\u001b[1;33m(\u001b[0m\u001b[0mkey\u001b[0m\u001b[1;33m)\u001b[0m \u001b[1;32mand\u001b[0m \u001b[0misna\u001b[0m\u001b[1;33m(\u001b[0m\u001b[0mkey\u001b[0m\u001b[1;33m)\u001b[0m \u001b[1;32mand\u001b[0m \u001b[1;32mnot\u001b[0m \u001b[0mself\u001b[0m\u001b[1;33m.\u001b[0m\u001b[0mhasnans\u001b[0m\u001b[1;33m:\u001b[0m\u001b[1;33m\u001b[0m\u001b[1;33m\u001b[0m\u001b[0m\n",
            "\u001b[1;31mKeyError\u001b[0m: 'rank'"
          ]
        }
      ],
      "source": [
        "movies_df['rank'].describe()"
      ]
    },
    {
      "cell_type": "markdown",
      "metadata": {},
      "source": [
        "Another fast and useful attribute is `.shape`, which outputs just a tuple of (rows, columns):"
      ]
    },
    {
      "cell_type": "code",
      "execution_count": null,
      "metadata": {
        "id": "_fYMKS-yKnoD"
      },
      "outputs": [
        {
          "data": {
            "text/plain": [
              "(1000, 11)"
            ]
          },
          "execution_count": 20,
          "metadata": {},
          "output_type": "execute_result"
        }
      ],
      "source": [
        "movies_df.shape"
      ]
    },
    {
      "cell_type": "markdown",
      "metadata": {
        "id": "me8JRvCWKnoF"
      },
      "source": [
        "Note that `.shape` has no parentheses (its a property, not a method) and is a simple tuple of format (rows, columns). So we have **1000 rows** and **11 columns** in our movies DataFrame.\n",
        "\n",
        "You'll be going to `.shape` a lot when cleaning and transforming data. For example, you might filter some rows based on some criteria and then want to know quickly how many rows were removed."
      ]
    },
    {
      "cell_type": "markdown",
      "metadata": {
        "id": "l1D7xOU6KnoG"
      },
      "source": [
        "## Handling duplicates"
      ]
    },
    {
      "cell_type": "markdown",
      "metadata": {
        "id": "ORKGc1wpKnoJ"
      },
      "source": [
        "This dataset does not have duplicate rows, but it is always important to verify you aren't aggregating duplicate rows. \n",
        "\n",
        "To demonstrate, let's simply just double up our movies DataFrame by appending it to itself:"
      ]
    },
    {
      "cell_type": "code",
      "execution_count": null,
      "metadata": {
        "id": "JnyVj6MFKnoK"
      },
      "outputs": [
        {
          "data": {
            "text/plain": [
              "(2000, 11)"
            ]
          },
          "execution_count": 21,
          "metadata": {},
          "output_type": "execute_result"
        }
      ],
      "source": [
        "temp_df = movies_df.append(movies_df)\n",
        "\n",
        "temp_df.shape"
      ]
    },
    {
      "cell_type": "markdown",
      "metadata": {
        "id": "53_86AYFKnoN"
      },
      "source": [
        "Using `append()` will return a copy without affecting the original DataFrame. We are capturing this copy in `temp_df` so we aren't working with the real data.\n",
        "\n",
        "Notice call `.shape` quickly proves our DataFrame rows have doubled.\n",
        "\n",
        "Now we can try dropping duplicates:"
      ]
    },
    {
      "cell_type": "code",
      "execution_count": null,
      "metadata": {
        "id": "_7HawSP_KnoO"
      },
      "outputs": [
        {
          "data": {
            "text/plain": [
              "(1000, 11)"
            ]
          },
          "execution_count": 22,
          "metadata": {},
          "output_type": "execute_result"
        }
      ],
      "source": [
        "temp_df = temp_df.drop_duplicates()\n",
        "\n",
        "temp_df.shape"
      ]
    },
    {
      "cell_type": "markdown",
      "metadata": {
        "id": "72ET7Qe5KnoQ"
      },
      "source": [
        "Just like `append()`, the `drop_duplicates()` method will also return a copy of your DataFrame, but this time with duplicates removed. Calling `.shape` confirms we're back to the 1000 rows of our original dataset.\n",
        "\n",
        "It's a little verbose to keep assigning DataFrames to the same variable like in this example. For this reason, pandas has the `inplace` keyword argument on many of its methods. Using `inplace=True` will modify the DataFrame object in place:"
      ]
    },
    {
      "cell_type": "code",
      "execution_count": null,
      "metadata": {
        "id": "urOAbwJ-KnoS"
      },
      "outputs": [],
      "source": [
        "temp_df.drop_duplicates(inplace=True)"
      ]
    },
    {
      "cell_type": "markdown",
      "metadata": {
        "id": "LC3b12DCKnoV"
      },
      "source": [
        "Now our `temp_df` *will* have the transformed data automatically. \n",
        "\n",
        "Another important argument for `drop_duplicates()` is `keep`, which has three possible options:\n",
        "\n",
        "* `first`: (default) Drop duplicates except for the first occurrence.\n",
        "* `last`: Drop duplicates except for the last occurrence.\n",
        "* `False`: Drop all duplicates.\n",
        "\n",
        "Since we didn't define the `keep` argument in the previous example it was defaulted to `first`. This means that if two rows are the same pandas will drop the second row and keep the first row. Using `last` has the opposite effect: the first row is dropped.\n",
        "\n",
        "`keep`, on the other hand, will drop all duplicates. If two rows are the same then both will be dropped. Watch what happens to `temp_df`:"
      ]
    },
    {
      "cell_type": "code",
      "execution_count": null,
      "metadata": {
        "id": "KPCmI0gmKnoX"
      },
      "outputs": [],
      "source": [
        "temp_df = movies_df.append(movies_df)  # make a new copy with duplicates"
      ]
    },
    {
      "cell_type": "code",
      "execution_count": null,
      "metadata": {
        "id": "Pwzi47zlfMjs"
      },
      "outputs": [
        {
          "data": {
            "text/plain": [
              "(0, 11)"
            ]
          },
          "execution_count": 25,
          "metadata": {},
          "output_type": "execute_result"
        }
      ],
      "source": [
        "temp2_df = temp_df.drop_duplicates(keep=False)\n",
        "temp2_df.shape"
      ]
    },
    {
      "cell_type": "markdown",
      "metadata": {
        "id": "l2lD9NAUKnoc"
      },
      "source": [
        "Since all rows were duplicates, `keep=False` dropped them all resulting in zero rows being left over. If you're wondering why you would want to do this, one reason is that it allows you to locate all duplicates in your dataset. When conditional selections are shown below you'll see how to do that."
      ]
    },
    {
      "cell_type": "markdown",
      "metadata": {
        "id": "Lpi_22UpxSRK"
      },
      "source": [
        "## Column cleanup"
      ]
    },
    {
      "cell_type": "markdown",
      "metadata": {
        "id": "tFzodE3IKnod"
      },
      "source": [
        "\n",
        "\n",
        "Many times datasets will have verbose column names with symbols, upper and lowercase words, spaces, and typos. To make selecting data by column name easier we can spend a little time cleaning up their names.\n",
        "\n",
        "Here's how to print the column names of our dataset:"
      ]
    },
    {
      "cell_type": "code",
      "execution_count": null,
      "metadata": {
        "id": "XKXDx5ZwKnof"
      },
      "outputs": [
        {
          "data": {
            "text/plain": [
              "Index(['Rank', 'Genre', 'Description', 'Director', 'Actors', 'Year',\n",
              "       'Runtime (Minutes)', 'Rating', 'Votes', 'Revenue (Millions)',\n",
              "       'Metascore'],\n",
              "      dtype='object')"
            ]
          },
          "execution_count": 26,
          "metadata": {},
          "output_type": "execute_result"
        }
      ],
      "source": [
        "movies_df.columns"
      ]
    },
    {
      "cell_type": "markdown",
      "metadata": {
        "id": "vXH4TKpJKnoj"
      },
      "source": [
        "Not only does `.columns` come in handy if you want to rename columns by allowing for simple copy and paste, it's also useful if you need to understand why you are receiving a `Key Error` when selecting data by column.\n",
        "\n",
        "We can use the `.rename()` method to rename certain or all columns via a `dict`. We don't want parentheses, so let's rename those:"
      ]
    },
    {
      "cell_type": "code",
      "execution_count": null,
      "metadata": {
        "id": "k_DDiUzOKnok"
      },
      "outputs": [
        {
          "data": {
            "text/plain": [
              "Index(['Rank', 'Genre', 'Description', 'Director', 'Actors', 'Year', 'Runtime',\n",
              "       'Rating', 'Votes', 'Revenue_millions', 'Metascore'],\n",
              "      dtype='object')"
            ]
          },
          "execution_count": 27,
          "metadata": {},
          "output_type": "execute_result"
        }
      ],
      "source": [
        "movies_df.rename(columns={\n",
        "        'Runtime (Minutes)': 'Runtime', \n",
        "        'Revenue (Millions)': 'Revenue_millions'\n",
        "    }, inplace=True)\n",
        "\n",
        "\n",
        "movies_df.columns"
      ]
    },
    {
      "cell_type": "markdown",
      "metadata": {
        "id": "vCWK9WF4Knoq"
      },
      "source": [
        "Excellent. But what if we want to lowercase all names? Instead of using `.rename()` we could also set a list of names to the columns like so:"
      ]
    },
    {
      "cell_type": "code",
      "execution_count": null,
      "metadata": {
        "id": "rtBUwBlRKnor"
      },
      "outputs": [
        {
          "data": {
            "text/plain": [
              "Index(['rank', 'genre', 'description', 'director', 'actors', 'year', 'runtime',\n",
              "       'rating', 'votes', 'revenue_millions', 'metascore'],\n",
              "      dtype='object')"
            ]
          },
          "execution_count": 28,
          "metadata": {},
          "output_type": "execute_result"
        }
      ],
      "source": [
        "movies_df.columns = ['rank', 'genre', 'description', 'director', 'actors', 'year', 'runtime', \n",
        "                     'rating', 'votes', 'revenue_millions', 'metascore']\n",
        "\n",
        "\n",
        "movies_df.columns"
      ]
    },
    {
      "cell_type": "markdown",
      "metadata": {
        "id": "S8AijBEiKnot"
      },
      "source": [
        "But that's too much work. Instead of just renaming each column manually we can do a list comprehension:"
      ]
    },
    {
      "cell_type": "code",
      "execution_count": null,
      "metadata": {
        "id": "S8mCJC0vKnot"
      },
      "outputs": [
        {
          "data": {
            "text/plain": [
              "Index(['rank', 'genre', 'description', 'director', 'actors', 'year', 'runtime',\n",
              "       'rating', 'votes', 'revenue_millions', 'metascore'],\n",
              "      dtype='object')"
            ]
          },
          "execution_count": 29,
          "metadata": {},
          "output_type": "execute_result"
        }
      ],
      "source": [
        "movies_df.columns = [col.lower() for col in movies_df]\n",
        "\n",
        "movies_df.columns"
      ]
    },
    {
      "cell_type": "markdown",
      "metadata": {
        "id": "goduhka2Know"
      },
      "source": [
        "`list` (and `dict`) comprehensions come in handy a lot when working with pandas and data in general.\n",
        "\n",
        "It's a good idea to lowercase, remove special characters, and replace spaces with underscores if you'll be working with a dataset for some time."
      ]
    },
    {
      "cell_type": "markdown",
      "metadata": {
        "id": "6rq5fAWOL_Jx"
      },
      "source": [
        "## How to work with missing values"
      ]
    },
    {
      "cell_type": "markdown",
      "metadata": {
        "id": "x5r6UYjIKnox"
      },
      "source": [
        "When exploring data, you’ll most likely encounter missing or null values, which are essentially placeholders for non-existent values. Most commonly you'll see Python's `None` or NumPy's `np.nan`, each of which are handled differently in some situations.\n",
        "\n",
        "There are two options in dealing with nulls: \n",
        "\n",
        "1. Get rid of rows or columns with nulls\n",
        "2. Replace nulls with non-null values, a technique known as **imputation**\n",
        "\n",
        "Let's calculate to total number of nulls in each column of our dataset. The first step is to check which cells in our DataFrame are null:"
      ]
    },
    {
      "cell_type": "code",
      "execution_count": null,
      "metadata": {
        "id": "pZY-9QvOKnoz"
      },
      "outputs": [
        {
          "data": {
            "text/html": [
              "<div>\n",
              "<style scoped>\n",
              "    .dataframe tbody tr th:only-of-type {\n",
              "        vertical-align: middle;\n",
              "    }\n",
              "\n",
              "    .dataframe tbody tr th {\n",
              "        vertical-align: top;\n",
              "    }\n",
              "\n",
              "    .dataframe thead th {\n",
              "        text-align: right;\n",
              "    }\n",
              "</style>\n",
              "<table border=\"1\" class=\"dataframe\">\n",
              "  <thead>\n",
              "    <tr style=\"text-align: right;\">\n",
              "      <th></th>\n",
              "      <th>rank</th>\n",
              "      <th>genre</th>\n",
              "      <th>description</th>\n",
              "      <th>director</th>\n",
              "      <th>actors</th>\n",
              "      <th>year</th>\n",
              "      <th>runtime</th>\n",
              "      <th>rating</th>\n",
              "      <th>votes</th>\n",
              "      <th>revenue_millions</th>\n",
              "      <th>metascore</th>\n",
              "    </tr>\n",
              "    <tr>\n",
              "      <th>Title</th>\n",
              "      <th></th>\n",
              "      <th></th>\n",
              "      <th></th>\n",
              "      <th></th>\n",
              "      <th></th>\n",
              "      <th></th>\n",
              "      <th></th>\n",
              "      <th></th>\n",
              "      <th></th>\n",
              "      <th></th>\n",
              "      <th></th>\n",
              "    </tr>\n",
              "  </thead>\n",
              "  <tbody>\n",
              "    <tr>\n",
              "      <th>Guardians of the Galaxy</th>\n",
              "      <td>False</td>\n",
              "      <td>False</td>\n",
              "      <td>False</td>\n",
              "      <td>False</td>\n",
              "      <td>False</td>\n",
              "      <td>False</td>\n",
              "      <td>False</td>\n",
              "      <td>False</td>\n",
              "      <td>False</td>\n",
              "      <td>False</td>\n",
              "      <td>False</td>\n",
              "    </tr>\n",
              "    <tr>\n",
              "      <th>Prometheus</th>\n",
              "      <td>False</td>\n",
              "      <td>False</td>\n",
              "      <td>False</td>\n",
              "      <td>False</td>\n",
              "      <td>False</td>\n",
              "      <td>False</td>\n",
              "      <td>False</td>\n",
              "      <td>False</td>\n",
              "      <td>False</td>\n",
              "      <td>False</td>\n",
              "      <td>False</td>\n",
              "    </tr>\n",
              "    <tr>\n",
              "      <th>Split</th>\n",
              "      <td>False</td>\n",
              "      <td>False</td>\n",
              "      <td>False</td>\n",
              "      <td>False</td>\n",
              "      <td>False</td>\n",
              "      <td>False</td>\n",
              "      <td>False</td>\n",
              "      <td>False</td>\n",
              "      <td>False</td>\n",
              "      <td>False</td>\n",
              "      <td>False</td>\n",
              "    </tr>\n",
              "    <tr>\n",
              "      <th>Sing</th>\n",
              "      <td>False</td>\n",
              "      <td>False</td>\n",
              "      <td>False</td>\n",
              "      <td>False</td>\n",
              "      <td>False</td>\n",
              "      <td>False</td>\n",
              "      <td>False</td>\n",
              "      <td>False</td>\n",
              "      <td>False</td>\n",
              "      <td>False</td>\n",
              "      <td>False</td>\n",
              "    </tr>\n",
              "    <tr>\n",
              "      <th>Suicide Squad</th>\n",
              "      <td>False</td>\n",
              "      <td>False</td>\n",
              "      <td>False</td>\n",
              "      <td>False</td>\n",
              "      <td>False</td>\n",
              "      <td>False</td>\n",
              "      <td>False</td>\n",
              "      <td>False</td>\n",
              "      <td>False</td>\n",
              "      <td>False</td>\n",
              "      <td>False</td>\n",
              "    </tr>\n",
              "    <tr>\n",
              "      <th>...</th>\n",
              "      <td>...</td>\n",
              "      <td>...</td>\n",
              "      <td>...</td>\n",
              "      <td>...</td>\n",
              "      <td>...</td>\n",
              "      <td>...</td>\n",
              "      <td>...</td>\n",
              "      <td>...</td>\n",
              "      <td>...</td>\n",
              "      <td>...</td>\n",
              "      <td>...</td>\n",
              "    </tr>\n",
              "    <tr>\n",
              "      <th>Secret in Their Eyes</th>\n",
              "      <td>False</td>\n",
              "      <td>False</td>\n",
              "      <td>False</td>\n",
              "      <td>False</td>\n",
              "      <td>False</td>\n",
              "      <td>False</td>\n",
              "      <td>False</td>\n",
              "      <td>False</td>\n",
              "      <td>False</td>\n",
              "      <td>True</td>\n",
              "      <td>False</td>\n",
              "    </tr>\n",
              "    <tr>\n",
              "      <th>Hostel: Part II</th>\n",
              "      <td>False</td>\n",
              "      <td>False</td>\n",
              "      <td>False</td>\n",
              "      <td>False</td>\n",
              "      <td>False</td>\n",
              "      <td>False</td>\n",
              "      <td>False</td>\n",
              "      <td>False</td>\n",
              "      <td>False</td>\n",
              "      <td>False</td>\n",
              "      <td>False</td>\n",
              "    </tr>\n",
              "    <tr>\n",
              "      <th>Step Up 2: The Streets</th>\n",
              "      <td>False</td>\n",
              "      <td>False</td>\n",
              "      <td>False</td>\n",
              "      <td>False</td>\n",
              "      <td>False</td>\n",
              "      <td>False</td>\n",
              "      <td>False</td>\n",
              "      <td>False</td>\n",
              "      <td>False</td>\n",
              "      <td>False</td>\n",
              "      <td>False</td>\n",
              "    </tr>\n",
              "    <tr>\n",
              "      <th>Search Party</th>\n",
              "      <td>False</td>\n",
              "      <td>False</td>\n",
              "      <td>False</td>\n",
              "      <td>False</td>\n",
              "      <td>False</td>\n",
              "      <td>False</td>\n",
              "      <td>False</td>\n",
              "      <td>False</td>\n",
              "      <td>False</td>\n",
              "      <td>True</td>\n",
              "      <td>False</td>\n",
              "    </tr>\n",
              "    <tr>\n",
              "      <th>Nine Lives</th>\n",
              "      <td>False</td>\n",
              "      <td>False</td>\n",
              "      <td>False</td>\n",
              "      <td>False</td>\n",
              "      <td>False</td>\n",
              "      <td>False</td>\n",
              "      <td>False</td>\n",
              "      <td>False</td>\n",
              "      <td>False</td>\n",
              "      <td>False</td>\n",
              "      <td>False</td>\n",
              "    </tr>\n",
              "  </tbody>\n",
              "</table>\n",
              "<p>1000 rows × 11 columns</p>\n",
              "</div>"
            ],
            "text/plain": [
              "                          rank  genre  description  director  actors   year  \\\n",
              "Title                                                                         \n",
              "Guardians of the Galaxy  False  False        False     False   False  False   \n",
              "Prometheus               False  False        False     False   False  False   \n",
              "Split                    False  False        False     False   False  False   \n",
              "Sing                     False  False        False     False   False  False   \n",
              "Suicide Squad            False  False        False     False   False  False   \n",
              "...                        ...    ...          ...       ...     ...    ...   \n",
              "Secret in Their Eyes     False  False        False     False   False  False   \n",
              "Hostel: Part II          False  False        False     False   False  False   \n",
              "Step Up 2: The Streets   False  False        False     False   False  False   \n",
              "Search Party             False  False        False     False   False  False   \n",
              "Nine Lives               False  False        False     False   False  False   \n",
              "\n",
              "                         runtime  rating  votes  revenue_millions  metascore  \n",
              "Title                                                                         \n",
              "Guardians of the Galaxy    False   False  False             False      False  \n",
              "Prometheus                 False   False  False             False      False  \n",
              "Split                      False   False  False             False      False  \n",
              "Sing                       False   False  False             False      False  \n",
              "Suicide Squad              False   False  False             False      False  \n",
              "...                          ...     ...    ...               ...        ...  \n",
              "Secret in Their Eyes       False   False  False              True      False  \n",
              "Hostel: Part II            False   False  False             False      False  \n",
              "Step Up 2: The Streets     False   False  False             False      False  \n",
              "Search Party               False   False  False              True      False  \n",
              "Nine Lives                 False   False  False             False      False  \n",
              "\n",
              "[1000 rows x 11 columns]"
            ]
          },
          "execution_count": 30,
          "metadata": {},
          "output_type": "execute_result"
        }
      ],
      "source": [
        "movies_df.isnull()"
      ]
    },
    {
      "cell_type": "markdown",
      "metadata": {
        "id": "g2uOLmZOKno2"
      },
      "source": [
        "Notice `isnull()` returns a DataFrame where each cell is either True or False depending on that cell's null status.\n",
        "\n",
        "To count the number of nulls in each column we use an aggregate function for summing (we'll talk more about aggregation, later): "
      ]
    },
    {
      "cell_type": "code",
      "execution_count": null,
      "metadata": {
        "id": "_tzZaT_NKno7"
      },
      "outputs": [
        {
          "data": {
            "text/plain": [
              "rank                  0\n",
              "genre                 0\n",
              "description           0\n",
              "director              0\n",
              "actors                0\n",
              "year                  0\n",
              "runtime               0\n",
              "rating                0\n",
              "votes                 0\n",
              "revenue_millions    128\n",
              "metascore            64\n",
              "dtype: int64"
            ]
          },
          "execution_count": 31,
          "metadata": {},
          "output_type": "execute_result"
        }
      ],
      "source": [
        "movies_df.isnull().sum()"
      ]
    },
    {
      "cell_type": "markdown",
      "metadata": {
        "id": "Rha6b8r5Kno-"
      },
      "source": [
        "`.isnull()` just by itself isn't very useful, and is usually used in conjunction with other methods, like `sum()`.\n",
        "\n",
        "We can see now that our data has **128** missing values for `revenue_millions` and **64** missing values for `metascore`."
      ]
    },
    {
      "cell_type": "markdown",
      "metadata": {
        "id": "yhWp-ZnNxuHm"
      },
      "source": [
        "### Removing null values"
      ]
    },
    {
      "cell_type": "markdown",
      "metadata": {
        "id": "jX-UaTFEKno-"
      },
      "source": [
        "\n",
        "\n",
        "Data Scientists and Analysts regularly face the dilemma of dropping or imputing null values. This decision requires intimate knowledge of your data and its context. Overall, removing null data is only suggested if you have a small amount of missing data.\n",
        "\n",
        "Remove nulls is pretty simple:"
      ]
    },
    {
      "cell_type": "code",
      "execution_count": null,
      "metadata": {
        "id": "l0kBkfdpKnpA"
      },
      "outputs": [
        {
          "data": {
            "text/html": [
              "<div>\n",
              "<style scoped>\n",
              "    .dataframe tbody tr th:only-of-type {\n",
              "        vertical-align: middle;\n",
              "    }\n",
              "\n",
              "    .dataframe tbody tr th {\n",
              "        vertical-align: top;\n",
              "    }\n",
              "\n",
              "    .dataframe thead th {\n",
              "        text-align: right;\n",
              "    }\n",
              "</style>\n",
              "<table border=\"1\" class=\"dataframe\">\n",
              "  <thead>\n",
              "    <tr style=\"text-align: right;\">\n",
              "      <th></th>\n",
              "      <th>rank</th>\n",
              "      <th>genre</th>\n",
              "      <th>description</th>\n",
              "      <th>director</th>\n",
              "      <th>actors</th>\n",
              "      <th>year</th>\n",
              "      <th>runtime</th>\n",
              "      <th>rating</th>\n",
              "      <th>votes</th>\n",
              "      <th>revenue_millions</th>\n",
              "      <th>metascore</th>\n",
              "    </tr>\n",
              "    <tr>\n",
              "      <th>Title</th>\n",
              "      <th></th>\n",
              "      <th></th>\n",
              "      <th></th>\n",
              "      <th></th>\n",
              "      <th></th>\n",
              "      <th></th>\n",
              "      <th></th>\n",
              "      <th></th>\n",
              "      <th></th>\n",
              "      <th></th>\n",
              "      <th></th>\n",
              "    </tr>\n",
              "  </thead>\n",
              "  <tbody>\n",
              "    <tr>\n",
              "      <th>Guardians of the Galaxy</th>\n",
              "      <td>1</td>\n",
              "      <td>Action,Adventure,Sci-Fi</td>\n",
              "      <td>A group of intergalactic criminals are forced ...</td>\n",
              "      <td>James Gunn</td>\n",
              "      <td>Chris Pratt, Vin Diesel, Bradley Cooper, Zoe S...</td>\n",
              "      <td>2014</td>\n",
              "      <td>121</td>\n",
              "      <td>8.1</td>\n",
              "      <td>757074</td>\n",
              "      <td>333.13</td>\n",
              "      <td>76.0</td>\n",
              "    </tr>\n",
              "    <tr>\n",
              "      <th>Prometheus</th>\n",
              "      <td>2</td>\n",
              "      <td>Adventure,Mystery,Sci-Fi</td>\n",
              "      <td>Following clues to the origin of mankind, a te...</td>\n",
              "      <td>Ridley Scott</td>\n",
              "      <td>Noomi Rapace, Logan Marshall-Green, Michael Fa...</td>\n",
              "      <td>2012</td>\n",
              "      <td>124</td>\n",
              "      <td>7.0</td>\n",
              "      <td>485820</td>\n",
              "      <td>126.46</td>\n",
              "      <td>65.0</td>\n",
              "    </tr>\n",
              "    <tr>\n",
              "      <th>Split</th>\n",
              "      <td>3</td>\n",
              "      <td>Horror,Thriller</td>\n",
              "      <td>Three girls are kidnapped by a man with a diag...</td>\n",
              "      <td>M. Night Shyamalan</td>\n",
              "      <td>James McAvoy, Anya Taylor-Joy, Haley Lu Richar...</td>\n",
              "      <td>2016</td>\n",
              "      <td>117</td>\n",
              "      <td>7.3</td>\n",
              "      <td>157606</td>\n",
              "      <td>138.12</td>\n",
              "      <td>62.0</td>\n",
              "    </tr>\n",
              "    <tr>\n",
              "      <th>Sing</th>\n",
              "      <td>4</td>\n",
              "      <td>Animation,Comedy,Family</td>\n",
              "      <td>In a city of humanoid animals, a hustling thea...</td>\n",
              "      <td>Christophe Lourdelet</td>\n",
              "      <td>Matthew McConaughey,Reese Witherspoon, Seth Ma...</td>\n",
              "      <td>2016</td>\n",
              "      <td>108</td>\n",
              "      <td>7.2</td>\n",
              "      <td>60545</td>\n",
              "      <td>270.32</td>\n",
              "      <td>59.0</td>\n",
              "    </tr>\n",
              "    <tr>\n",
              "      <th>Suicide Squad</th>\n",
              "      <td>5</td>\n",
              "      <td>Action,Adventure,Fantasy</td>\n",
              "      <td>A secret government agency recruits some of th...</td>\n",
              "      <td>David Ayer</td>\n",
              "      <td>Will Smith, Jared Leto, Margot Robbie, Viola D...</td>\n",
              "      <td>2016</td>\n",
              "      <td>123</td>\n",
              "      <td>6.2</td>\n",
              "      <td>393727</td>\n",
              "      <td>325.02</td>\n",
              "      <td>40.0</td>\n",
              "    </tr>\n",
              "    <tr>\n",
              "      <th>...</th>\n",
              "      <td>...</td>\n",
              "      <td>...</td>\n",
              "      <td>...</td>\n",
              "      <td>...</td>\n",
              "      <td>...</td>\n",
              "      <td>...</td>\n",
              "      <td>...</td>\n",
              "      <td>...</td>\n",
              "      <td>...</td>\n",
              "      <td>...</td>\n",
              "      <td>...</td>\n",
              "    </tr>\n",
              "    <tr>\n",
              "      <th>Resident Evil: Afterlife</th>\n",
              "      <td>994</td>\n",
              "      <td>Action,Adventure,Horror</td>\n",
              "      <td>While still out to destroy the evil Umbrella C...</td>\n",
              "      <td>Paul W.S. Anderson</td>\n",
              "      <td>Milla Jovovich, Ali Larter, Wentworth Miller,K...</td>\n",
              "      <td>2010</td>\n",
              "      <td>97</td>\n",
              "      <td>5.9</td>\n",
              "      <td>140900</td>\n",
              "      <td>60.13</td>\n",
              "      <td>37.0</td>\n",
              "    </tr>\n",
              "    <tr>\n",
              "      <th>Project X</th>\n",
              "      <td>995</td>\n",
              "      <td>Comedy</td>\n",
              "      <td>3 high school seniors throw a birthday party t...</td>\n",
              "      <td>Nima Nourizadeh</td>\n",
              "      <td>Thomas Mann, Oliver Cooper, Jonathan Daniel Br...</td>\n",
              "      <td>2012</td>\n",
              "      <td>88</td>\n",
              "      <td>6.7</td>\n",
              "      <td>164088</td>\n",
              "      <td>54.72</td>\n",
              "      <td>48.0</td>\n",
              "    </tr>\n",
              "    <tr>\n",
              "      <th>Hostel: Part II</th>\n",
              "      <td>997</td>\n",
              "      <td>Horror</td>\n",
              "      <td>Three American college students studying abroa...</td>\n",
              "      <td>Eli Roth</td>\n",
              "      <td>Lauren German, Heather Matarazzo, Bijou Philli...</td>\n",
              "      <td>2007</td>\n",
              "      <td>94</td>\n",
              "      <td>5.5</td>\n",
              "      <td>73152</td>\n",
              "      <td>17.54</td>\n",
              "      <td>46.0</td>\n",
              "    </tr>\n",
              "    <tr>\n",
              "      <th>Step Up 2: The Streets</th>\n",
              "      <td>998</td>\n",
              "      <td>Drama,Music,Romance</td>\n",
              "      <td>Romantic sparks occur between two dance studen...</td>\n",
              "      <td>Jon M. Chu</td>\n",
              "      <td>Robert Hoffman, Briana Evigan, Cassie Ventura,...</td>\n",
              "      <td>2008</td>\n",
              "      <td>98</td>\n",
              "      <td>6.2</td>\n",
              "      <td>70699</td>\n",
              "      <td>58.01</td>\n",
              "      <td>50.0</td>\n",
              "    </tr>\n",
              "    <tr>\n",
              "      <th>Nine Lives</th>\n",
              "      <td>1000</td>\n",
              "      <td>Comedy,Family,Fantasy</td>\n",
              "      <td>A stuffy businessman finds himself trapped ins...</td>\n",
              "      <td>Barry Sonnenfeld</td>\n",
              "      <td>Kevin Spacey, Jennifer Garner, Robbie Amell,Ch...</td>\n",
              "      <td>2016</td>\n",
              "      <td>87</td>\n",
              "      <td>5.3</td>\n",
              "      <td>12435</td>\n",
              "      <td>19.64</td>\n",
              "      <td>11.0</td>\n",
              "    </tr>\n",
              "  </tbody>\n",
              "</table>\n",
              "<p>838 rows × 11 columns</p>\n",
              "</div>"
            ],
            "text/plain": [
              "                          rank                     genre  \\\n",
              "Title                                                      \n",
              "Guardians of the Galaxy      1   Action,Adventure,Sci-Fi   \n",
              "Prometheus                   2  Adventure,Mystery,Sci-Fi   \n",
              "Split                        3           Horror,Thriller   \n",
              "Sing                         4   Animation,Comedy,Family   \n",
              "Suicide Squad                5  Action,Adventure,Fantasy   \n",
              "...                        ...                       ...   \n",
              "Resident Evil: Afterlife   994   Action,Adventure,Horror   \n",
              "Project X                  995                    Comedy   \n",
              "Hostel: Part II            997                    Horror   \n",
              "Step Up 2: The Streets     998       Drama,Music,Romance   \n",
              "Nine Lives                1000     Comedy,Family,Fantasy   \n",
              "\n",
              "                                                                description  \\\n",
              "Title                                                                         \n",
              "Guardians of the Galaxy   A group of intergalactic criminals are forced ...   \n",
              "Prometheus                Following clues to the origin of mankind, a te...   \n",
              "Split                     Three girls are kidnapped by a man with a diag...   \n",
              "Sing                      In a city of humanoid animals, a hustling thea...   \n",
              "Suicide Squad             A secret government agency recruits some of th...   \n",
              "...                                                                     ...   \n",
              "Resident Evil: Afterlife  While still out to destroy the evil Umbrella C...   \n",
              "Project X                 3 high school seniors throw a birthday party t...   \n",
              "Hostel: Part II           Three American college students studying abroa...   \n",
              "Step Up 2: The Streets    Romantic sparks occur between two dance studen...   \n",
              "Nine Lives                A stuffy businessman finds himself trapped ins...   \n",
              "\n",
              "                                      director  \\\n",
              "Title                                            \n",
              "Guardians of the Galaxy             James Gunn   \n",
              "Prometheus                        Ridley Scott   \n",
              "Split                       M. Night Shyamalan   \n",
              "Sing                      Christophe Lourdelet   \n",
              "Suicide Squad                       David Ayer   \n",
              "...                                        ...   \n",
              "Resident Evil: Afterlife    Paul W.S. Anderson   \n",
              "Project X                      Nima Nourizadeh   \n",
              "Hostel: Part II                       Eli Roth   \n",
              "Step Up 2: The Streets              Jon M. Chu   \n",
              "Nine Lives                    Barry Sonnenfeld   \n",
              "\n",
              "                                                                     actors  \\\n",
              "Title                                                                         \n",
              "Guardians of the Galaxy   Chris Pratt, Vin Diesel, Bradley Cooper, Zoe S...   \n",
              "Prometheus                Noomi Rapace, Logan Marshall-Green, Michael Fa...   \n",
              "Split                     James McAvoy, Anya Taylor-Joy, Haley Lu Richar...   \n",
              "Sing                      Matthew McConaughey,Reese Witherspoon, Seth Ma...   \n",
              "Suicide Squad             Will Smith, Jared Leto, Margot Robbie, Viola D...   \n",
              "...                                                                     ...   \n",
              "Resident Evil: Afterlife  Milla Jovovich, Ali Larter, Wentworth Miller,K...   \n",
              "Project X                 Thomas Mann, Oliver Cooper, Jonathan Daniel Br...   \n",
              "Hostel: Part II           Lauren German, Heather Matarazzo, Bijou Philli...   \n",
              "Step Up 2: The Streets    Robert Hoffman, Briana Evigan, Cassie Ventura,...   \n",
              "Nine Lives                Kevin Spacey, Jennifer Garner, Robbie Amell,Ch...   \n",
              "\n",
              "                          year  runtime  rating   votes  revenue_millions  \\\n",
              "Title                                                                       \n",
              "Guardians of the Galaxy   2014      121     8.1  757074            333.13   \n",
              "Prometheus                2012      124     7.0  485820            126.46   \n",
              "Split                     2016      117     7.3  157606            138.12   \n",
              "Sing                      2016      108     7.2   60545            270.32   \n",
              "Suicide Squad             2016      123     6.2  393727            325.02   \n",
              "...                        ...      ...     ...     ...               ...   \n",
              "Resident Evil: Afterlife  2010       97     5.9  140900             60.13   \n",
              "Project X                 2012       88     6.7  164088             54.72   \n",
              "Hostel: Part II           2007       94     5.5   73152             17.54   \n",
              "Step Up 2: The Streets    2008       98     6.2   70699             58.01   \n",
              "Nine Lives                2016       87     5.3   12435             19.64   \n",
              "\n",
              "                          metascore  \n",
              "Title                                \n",
              "Guardians of the Galaxy        76.0  \n",
              "Prometheus                     65.0  \n",
              "Split                          62.0  \n",
              "Sing                           59.0  \n",
              "Suicide Squad                  40.0  \n",
              "...                             ...  \n",
              "Resident Evil: Afterlife       37.0  \n",
              "Project X                      48.0  \n",
              "Hostel: Part II                46.0  \n",
              "Step Up 2: The Streets         50.0  \n",
              "Nine Lives                     11.0  \n",
              "\n",
              "[838 rows x 11 columns]"
            ]
          },
          "execution_count": 32,
          "metadata": {},
          "output_type": "execute_result"
        }
      ],
      "source": [
        "movies_df.dropna()"
      ]
    },
    {
      "cell_type": "markdown",
      "metadata": {
        "id": "ijaN2eNTKnpD"
      },
      "source": [
        "This operation will delete any **row** with at least a single null value, but it will return a new DataFrame without altering the original one. You could specify `inplace=True` in this method as well.\n",
        "\n",
        "So in the case of our dataset, this operation would remove 128 rows where `revenue_millions` is null and 64 rows where `metascore` is null. This obviously seems like a waste since there's perfectly good data in the other columns of those dropped rows. That's why we'll look at imputation next.\n",
        "\n",
        "Other than just dropping rows, you can also drop columns with null values by setting `axis=1` in the `dropna()` method."
      ]
    },
    {
      "cell_type": "code",
      "execution_count": null,
      "metadata": {
        "id": "tKfB40gKT4ca"
      },
      "outputs": [
        {
          "data": {
            "text/html": [
              "<div>\n",
              "<style scoped>\n",
              "    .dataframe tbody tr th:only-of-type {\n",
              "        vertical-align: middle;\n",
              "    }\n",
              "\n",
              "    .dataframe tbody tr th {\n",
              "        vertical-align: top;\n",
              "    }\n",
              "\n",
              "    .dataframe thead th {\n",
              "        text-align: right;\n",
              "    }\n",
              "</style>\n",
              "<table border=\"1\" class=\"dataframe\">\n",
              "  <thead>\n",
              "    <tr style=\"text-align: right;\">\n",
              "      <th></th>\n",
              "      <th>rank</th>\n",
              "      <th>genre</th>\n",
              "      <th>description</th>\n",
              "      <th>director</th>\n",
              "      <th>actors</th>\n",
              "      <th>year</th>\n",
              "      <th>runtime</th>\n",
              "      <th>rating</th>\n",
              "      <th>votes</th>\n",
              "    </tr>\n",
              "    <tr>\n",
              "      <th>Title</th>\n",
              "      <th></th>\n",
              "      <th></th>\n",
              "      <th></th>\n",
              "      <th></th>\n",
              "      <th></th>\n",
              "      <th></th>\n",
              "      <th></th>\n",
              "      <th></th>\n",
              "      <th></th>\n",
              "    </tr>\n",
              "  </thead>\n",
              "  <tbody>\n",
              "    <tr>\n",
              "      <th>Guardians of the Galaxy</th>\n",
              "      <td>1</td>\n",
              "      <td>Action,Adventure,Sci-Fi</td>\n",
              "      <td>A group of intergalactic criminals are forced ...</td>\n",
              "      <td>James Gunn</td>\n",
              "      <td>Chris Pratt, Vin Diesel, Bradley Cooper, Zoe S...</td>\n",
              "      <td>2014</td>\n",
              "      <td>121</td>\n",
              "      <td>8.1</td>\n",
              "      <td>757074</td>\n",
              "    </tr>\n",
              "    <tr>\n",
              "      <th>Prometheus</th>\n",
              "      <td>2</td>\n",
              "      <td>Adventure,Mystery,Sci-Fi</td>\n",
              "      <td>Following clues to the origin of mankind, a te...</td>\n",
              "      <td>Ridley Scott</td>\n",
              "      <td>Noomi Rapace, Logan Marshall-Green, Michael Fa...</td>\n",
              "      <td>2012</td>\n",
              "      <td>124</td>\n",
              "      <td>7.0</td>\n",
              "      <td>485820</td>\n",
              "    </tr>\n",
              "    <tr>\n",
              "      <th>Split</th>\n",
              "      <td>3</td>\n",
              "      <td>Horror,Thriller</td>\n",
              "      <td>Three girls are kidnapped by a man with a diag...</td>\n",
              "      <td>M. Night Shyamalan</td>\n",
              "      <td>James McAvoy, Anya Taylor-Joy, Haley Lu Richar...</td>\n",
              "      <td>2016</td>\n",
              "      <td>117</td>\n",
              "      <td>7.3</td>\n",
              "      <td>157606</td>\n",
              "    </tr>\n",
              "    <tr>\n",
              "      <th>Sing</th>\n",
              "      <td>4</td>\n",
              "      <td>Animation,Comedy,Family</td>\n",
              "      <td>In a city of humanoid animals, a hustling thea...</td>\n",
              "      <td>Christophe Lourdelet</td>\n",
              "      <td>Matthew McConaughey,Reese Witherspoon, Seth Ma...</td>\n",
              "      <td>2016</td>\n",
              "      <td>108</td>\n",
              "      <td>7.2</td>\n",
              "      <td>60545</td>\n",
              "    </tr>\n",
              "    <tr>\n",
              "      <th>Suicide Squad</th>\n",
              "      <td>5</td>\n",
              "      <td>Action,Adventure,Fantasy</td>\n",
              "      <td>A secret government agency recruits some of th...</td>\n",
              "      <td>David Ayer</td>\n",
              "      <td>Will Smith, Jared Leto, Margot Robbie, Viola D...</td>\n",
              "      <td>2016</td>\n",
              "      <td>123</td>\n",
              "      <td>6.2</td>\n",
              "      <td>393727</td>\n",
              "    </tr>\n",
              "    <tr>\n",
              "      <th>...</th>\n",
              "      <td>...</td>\n",
              "      <td>...</td>\n",
              "      <td>...</td>\n",
              "      <td>...</td>\n",
              "      <td>...</td>\n",
              "      <td>...</td>\n",
              "      <td>...</td>\n",
              "      <td>...</td>\n",
              "      <td>...</td>\n",
              "    </tr>\n",
              "    <tr>\n",
              "      <th>Secret in Their Eyes</th>\n",
              "      <td>996</td>\n",
              "      <td>Crime,Drama,Mystery</td>\n",
              "      <td>A tight-knit team of rising investigators, alo...</td>\n",
              "      <td>Billy Ray</td>\n",
              "      <td>Chiwetel Ejiofor, Nicole Kidman, Julia Roberts...</td>\n",
              "      <td>2015</td>\n",
              "      <td>111</td>\n",
              "      <td>6.2</td>\n",
              "      <td>27585</td>\n",
              "    </tr>\n",
              "    <tr>\n",
              "      <th>Hostel: Part II</th>\n",
              "      <td>997</td>\n",
              "      <td>Horror</td>\n",
              "      <td>Three American college students studying abroa...</td>\n",
              "      <td>Eli Roth</td>\n",
              "      <td>Lauren German, Heather Matarazzo, Bijou Philli...</td>\n",
              "      <td>2007</td>\n",
              "      <td>94</td>\n",
              "      <td>5.5</td>\n",
              "      <td>73152</td>\n",
              "    </tr>\n",
              "    <tr>\n",
              "      <th>Step Up 2: The Streets</th>\n",
              "      <td>998</td>\n",
              "      <td>Drama,Music,Romance</td>\n",
              "      <td>Romantic sparks occur between two dance studen...</td>\n",
              "      <td>Jon M. Chu</td>\n",
              "      <td>Robert Hoffman, Briana Evigan, Cassie Ventura,...</td>\n",
              "      <td>2008</td>\n",
              "      <td>98</td>\n",
              "      <td>6.2</td>\n",
              "      <td>70699</td>\n",
              "    </tr>\n",
              "    <tr>\n",
              "      <th>Search Party</th>\n",
              "      <td>999</td>\n",
              "      <td>Adventure,Comedy</td>\n",
              "      <td>A pair of friends embark on a mission to reuni...</td>\n",
              "      <td>Scot Armstrong</td>\n",
              "      <td>Adam Pally, T.J. Miller, Thomas Middleditch,Sh...</td>\n",
              "      <td>2014</td>\n",
              "      <td>93</td>\n",
              "      <td>5.6</td>\n",
              "      <td>4881</td>\n",
              "    </tr>\n",
              "    <tr>\n",
              "      <th>Nine Lives</th>\n",
              "      <td>1000</td>\n",
              "      <td>Comedy,Family,Fantasy</td>\n",
              "      <td>A stuffy businessman finds himself trapped ins...</td>\n",
              "      <td>Barry Sonnenfeld</td>\n",
              "      <td>Kevin Spacey, Jennifer Garner, Robbie Amell,Ch...</td>\n",
              "      <td>2016</td>\n",
              "      <td>87</td>\n",
              "      <td>5.3</td>\n",
              "      <td>12435</td>\n",
              "    </tr>\n",
              "  </tbody>\n",
              "</table>\n",
              "<p>1000 rows × 9 columns</p>\n",
              "</div>"
            ],
            "text/plain": [
              "                         rank                     genre  \\\n",
              "Title                                                     \n",
              "Guardians of the Galaxy     1   Action,Adventure,Sci-Fi   \n",
              "Prometheus                  2  Adventure,Mystery,Sci-Fi   \n",
              "Split                       3           Horror,Thriller   \n",
              "Sing                        4   Animation,Comedy,Family   \n",
              "Suicide Squad               5  Action,Adventure,Fantasy   \n",
              "...                       ...                       ...   \n",
              "Secret in Their Eyes      996       Crime,Drama,Mystery   \n",
              "Hostel: Part II           997                    Horror   \n",
              "Step Up 2: The Streets    998       Drama,Music,Romance   \n",
              "Search Party              999          Adventure,Comedy   \n",
              "Nine Lives               1000     Comedy,Family,Fantasy   \n",
              "\n",
              "                                                               description  \\\n",
              "Title                                                                        \n",
              "Guardians of the Galaxy  A group of intergalactic criminals are forced ...   \n",
              "Prometheus               Following clues to the origin of mankind, a te...   \n",
              "Split                    Three girls are kidnapped by a man with a diag...   \n",
              "Sing                     In a city of humanoid animals, a hustling thea...   \n",
              "Suicide Squad            A secret government agency recruits some of th...   \n",
              "...                                                                    ...   \n",
              "Secret in Their Eyes     A tight-knit team of rising investigators, alo...   \n",
              "Hostel: Part II          Three American college students studying abroa...   \n",
              "Step Up 2: The Streets   Romantic sparks occur between two dance studen...   \n",
              "Search Party             A pair of friends embark on a mission to reuni...   \n",
              "Nine Lives               A stuffy businessman finds himself trapped ins...   \n",
              "\n",
              "                                     director  \\\n",
              "Title                                           \n",
              "Guardians of the Galaxy            James Gunn   \n",
              "Prometheus                       Ridley Scott   \n",
              "Split                      M. Night Shyamalan   \n",
              "Sing                     Christophe Lourdelet   \n",
              "Suicide Squad                      David Ayer   \n",
              "...                                       ...   \n",
              "Secret in Their Eyes                Billy Ray   \n",
              "Hostel: Part II                      Eli Roth   \n",
              "Step Up 2: The Streets             Jon M. Chu   \n",
              "Search Party                   Scot Armstrong   \n",
              "Nine Lives                   Barry Sonnenfeld   \n",
              "\n",
              "                                                                    actors  \\\n",
              "Title                                                                        \n",
              "Guardians of the Galaxy  Chris Pratt, Vin Diesel, Bradley Cooper, Zoe S...   \n",
              "Prometheus               Noomi Rapace, Logan Marshall-Green, Michael Fa...   \n",
              "Split                    James McAvoy, Anya Taylor-Joy, Haley Lu Richar...   \n",
              "Sing                     Matthew McConaughey,Reese Witherspoon, Seth Ma...   \n",
              "Suicide Squad            Will Smith, Jared Leto, Margot Robbie, Viola D...   \n",
              "...                                                                    ...   \n",
              "Secret in Their Eyes     Chiwetel Ejiofor, Nicole Kidman, Julia Roberts...   \n",
              "Hostel: Part II          Lauren German, Heather Matarazzo, Bijou Philli...   \n",
              "Step Up 2: The Streets   Robert Hoffman, Briana Evigan, Cassie Ventura,...   \n",
              "Search Party             Adam Pally, T.J. Miller, Thomas Middleditch,Sh...   \n",
              "Nine Lives               Kevin Spacey, Jennifer Garner, Robbie Amell,Ch...   \n",
              "\n",
              "                         year  runtime  rating   votes  \n",
              "Title                                                   \n",
              "Guardians of the Galaxy  2014      121     8.1  757074  \n",
              "Prometheus               2012      124     7.0  485820  \n",
              "Split                    2016      117     7.3  157606  \n",
              "Sing                     2016      108     7.2   60545  \n",
              "Suicide Squad            2016      123     6.2  393727  \n",
              "...                       ...      ...     ...     ...  \n",
              "Secret in Their Eyes     2015      111     6.2   27585  \n",
              "Hostel: Part II          2007       94     5.5   73152  \n",
              "Step Up 2: The Streets   2008       98     6.2   70699  \n",
              "Search Party             2014       93     5.6    4881  \n",
              "Nine Lives               2016       87     5.3   12435  \n",
              "\n",
              "[1000 rows x 9 columns]"
            ]
          },
          "execution_count": 33,
          "metadata": {},
          "output_type": "execute_result"
        }
      ],
      "source": [
        "movies_df.dropna(axis=1)"
      ]
    },
    {
      "cell_type": "markdown",
      "metadata": {
        "id": "n7TVWX_x7SXx"
      },
      "source": [
        "### Imputing null values"
      ]
    },
    {
      "cell_type": "markdown",
      "metadata": {
        "id": "tir1VUt07Vhx"
      },
      "source": [
        "Imputing missing values (making educated guesses for them based on values that we do have in our data) is a complicated business and it should not be done without an intimate knowledge of the dataset you're working on. In many cases, and particularly when you don't have intimate knowledge of the data, it may be better to remove missing values than to try to impute them.\n",
        "\n",
        "One simple method for imputing data is to replace it with the average value from the data. This can be done with varying degrees of specificity. For example, we could find the average value for only similar items in the data (e.g., for movies, we might decide to only take the average from the same year from movies that share similar genres).  This is a complicated business and we're not really ready to do this with our current knowledge of pandas. Instead,we can simple impute the values to be the average of all movies:"
      ]
    },
    {
      "cell_type": "code",
      "execution_count": null,
      "metadata": {
        "id": "8K-QG_798Jp2"
      },
      "outputs": [
        {
          "name": "stdout",
          "output_type": "stream",
          "text": [
            "82.95637614678897\n"
          ]
        },
        {
          "data": {
            "text/plain": [
              "0"
            ]
          },
          "execution_count": 34,
          "metadata": {},
          "output_type": "execute_result"
        }
      ],
      "source": [
        "revenue_mean = movies_df.revenue_millions.mean()\n",
        "print(revenue_mean)\n",
        "temp_df = movies_df.revenue_millions.fillna(revenue_mean)\n",
        "temp_df.isnull().sum()"
      ]
    },
    {
      "cell_type": "markdown",
      "metadata": {
        "id": "ubArpkthX9bh"
      },
      "source": [
        "# Applying functions"
      ]
    },
    {
      "cell_type": "markdown",
      "metadata": {
        "id": "OJ93mgkZKnrJ"
      },
      "source": [
        "It is possible to iterate over a DataFrame or Series as you would with a list, but doing so — especially on large datasets — is very slow.\n",
        "\n",
        "An efficient alternative is to `apply()` a function to the dataset. For example, we could use a function to convert movies with an 8.0 or greater to a string value of \"good\" and the rest to \"bad\" and use this transformed values to create a new column.\n",
        "\n",
        "First we would create a function that, when given a rating, determines if it's good or bad:"
      ]
    },
    {
      "cell_type": "code",
      "execution_count": null,
      "metadata": {
        "id": "6ZQvnS8d4yhf"
      },
      "outputs": [
        {
          "data": {
            "text/html": [
              "<div>\n",
              "<style scoped>\n",
              "    .dataframe tbody tr th:only-of-type {\n",
              "        vertical-align: middle;\n",
              "    }\n",
              "\n",
              "    .dataframe tbody tr th {\n",
              "        vertical-align: top;\n",
              "    }\n",
              "\n",
              "    .dataframe thead th {\n",
              "        text-align: right;\n",
              "    }\n",
              "</style>\n",
              "<table border=\"1\" class=\"dataframe\">\n",
              "  <thead>\n",
              "    <tr style=\"text-align: right;\">\n",
              "      <th></th>\n",
              "      <th>rank</th>\n",
              "      <th>genre</th>\n",
              "      <th>description</th>\n",
              "      <th>director</th>\n",
              "      <th>actors</th>\n",
              "      <th>year</th>\n",
              "      <th>runtime</th>\n",
              "      <th>rating</th>\n",
              "      <th>votes</th>\n",
              "      <th>revenue_millions</th>\n",
              "      <th>metascore</th>\n",
              "    </tr>\n",
              "    <tr>\n",
              "      <th>Title</th>\n",
              "      <th></th>\n",
              "      <th></th>\n",
              "      <th></th>\n",
              "      <th></th>\n",
              "      <th></th>\n",
              "      <th></th>\n",
              "      <th></th>\n",
              "      <th></th>\n",
              "      <th></th>\n",
              "      <th></th>\n",
              "      <th></th>\n",
              "    </tr>\n",
              "  </thead>\n",
              "  <tbody>\n",
              "    <tr>\n",
              "      <th>Guardians of the Galaxy</th>\n",
              "      <td>1</td>\n",
              "      <td>Action,Adventure,Sci-Fi</td>\n",
              "      <td>A group of intergalactic criminals are forced ...</td>\n",
              "      <td>James Gunn</td>\n",
              "      <td>Chris Pratt, Vin Diesel, Bradley Cooper, Zoe S...</td>\n",
              "      <td>2014</td>\n",
              "      <td>121</td>\n",
              "      <td>8.1</td>\n",
              "      <td>757074</td>\n",
              "      <td>333.13</td>\n",
              "      <td>76.0</td>\n",
              "    </tr>\n",
              "    <tr>\n",
              "      <th>Prometheus</th>\n",
              "      <td>2</td>\n",
              "      <td>Adventure,Mystery,Sci-Fi</td>\n",
              "      <td>Following clues to the origin of mankind, a te...</td>\n",
              "      <td>Ridley Scott</td>\n",
              "      <td>Noomi Rapace, Logan Marshall-Green, Michael Fa...</td>\n",
              "      <td>2012</td>\n",
              "      <td>124</td>\n",
              "      <td>7.0</td>\n",
              "      <td>485820</td>\n",
              "      <td>126.46</td>\n",
              "      <td>65.0</td>\n",
              "    </tr>\n",
              "    <tr>\n",
              "      <th>Split</th>\n",
              "      <td>3</td>\n",
              "      <td>Horror,Thriller</td>\n",
              "      <td>Three girls are kidnapped by a man with a diag...</td>\n",
              "      <td>M. Night Shyamalan</td>\n",
              "      <td>James McAvoy, Anya Taylor-Joy, Haley Lu Richar...</td>\n",
              "      <td>2016</td>\n",
              "      <td>117</td>\n",
              "      <td>7.3</td>\n",
              "      <td>157606</td>\n",
              "      <td>138.12</td>\n",
              "      <td>62.0</td>\n",
              "    </tr>\n",
              "    <tr>\n",
              "      <th>Sing</th>\n",
              "      <td>4</td>\n",
              "      <td>Animation,Comedy,Family</td>\n",
              "      <td>In a city of humanoid animals, a hustling thea...</td>\n",
              "      <td>Christophe Lourdelet</td>\n",
              "      <td>Matthew McConaughey,Reese Witherspoon, Seth Ma...</td>\n",
              "      <td>2016</td>\n",
              "      <td>108</td>\n",
              "      <td>7.2</td>\n",
              "      <td>60545</td>\n",
              "      <td>270.32</td>\n",
              "      <td>59.0</td>\n",
              "    </tr>\n",
              "    <tr>\n",
              "      <th>Suicide Squad</th>\n",
              "      <td>5</td>\n",
              "      <td>Action,Adventure,Fantasy</td>\n",
              "      <td>A secret government agency recruits some of th...</td>\n",
              "      <td>David Ayer</td>\n",
              "      <td>Will Smith, Jared Leto, Margot Robbie, Viola D...</td>\n",
              "      <td>2016</td>\n",
              "      <td>123</td>\n",
              "      <td>6.2</td>\n",
              "      <td>393727</td>\n",
              "      <td>325.02</td>\n",
              "      <td>40.0</td>\n",
              "    </tr>\n",
              "  </tbody>\n",
              "</table>\n",
              "</div>"
            ],
            "text/plain": [
              "                         rank                     genre  \\\n",
              "Title                                                     \n",
              "Guardians of the Galaxy     1   Action,Adventure,Sci-Fi   \n",
              "Prometheus                  2  Adventure,Mystery,Sci-Fi   \n",
              "Split                       3           Horror,Thriller   \n",
              "Sing                        4   Animation,Comedy,Family   \n",
              "Suicide Squad               5  Action,Adventure,Fantasy   \n",
              "\n",
              "                                                               description  \\\n",
              "Title                                                                        \n",
              "Guardians of the Galaxy  A group of intergalactic criminals are forced ...   \n",
              "Prometheus               Following clues to the origin of mankind, a te...   \n",
              "Split                    Three girls are kidnapped by a man with a diag...   \n",
              "Sing                     In a city of humanoid animals, a hustling thea...   \n",
              "Suicide Squad            A secret government agency recruits some of th...   \n",
              "\n",
              "                                     director  \\\n",
              "Title                                           \n",
              "Guardians of the Galaxy            James Gunn   \n",
              "Prometheus                       Ridley Scott   \n",
              "Split                      M. Night Shyamalan   \n",
              "Sing                     Christophe Lourdelet   \n",
              "Suicide Squad                      David Ayer   \n",
              "\n",
              "                                                                    actors  \\\n",
              "Title                                                                        \n",
              "Guardians of the Galaxy  Chris Pratt, Vin Diesel, Bradley Cooper, Zoe S...   \n",
              "Prometheus               Noomi Rapace, Logan Marshall-Green, Michael Fa...   \n",
              "Split                    James McAvoy, Anya Taylor-Joy, Haley Lu Richar...   \n",
              "Sing                     Matthew McConaughey,Reese Witherspoon, Seth Ma...   \n",
              "Suicide Squad            Will Smith, Jared Leto, Margot Robbie, Viola D...   \n",
              "\n",
              "                         year  runtime  rating   votes  revenue_millions  \\\n",
              "Title                                                                      \n",
              "Guardians of the Galaxy  2014      121     8.1  757074            333.13   \n",
              "Prometheus               2012      124     7.0  485820            126.46   \n",
              "Split                    2016      117     7.3  157606            138.12   \n",
              "Sing                     2016      108     7.2   60545            270.32   \n",
              "Suicide Squad            2016      123     6.2  393727            325.02   \n",
              "\n",
              "                         metascore  \n",
              "Title                               \n",
              "Guardians of the Galaxy       76.0  \n",
              "Prometheus                    65.0  \n",
              "Split                         62.0  \n",
              "Sing                          59.0  \n",
              "Suicide Squad                 40.0  "
            ]
          },
          "execution_count": 35,
          "metadata": {},
          "output_type": "execute_result"
        }
      ],
      "source": [
        "movies_df.head()"
      ]
    },
    {
      "cell_type": "code",
      "execution_count": null,
      "metadata": {
        "id": "GoUHlGUXKnrK"
      },
      "outputs": [],
      "source": [
        "def rating_function(x):\n",
        "    if x >= 8.0:\n",
        "        return \"good\"\n",
        "    else:\n",
        "        return \"bad\""
      ]
    },
    {
      "cell_type": "markdown",
      "metadata": {
        "id": "o76ABELeKnrS"
      },
      "source": [
        "Now we want to send the entire rating column through this function, which is what `apply()` does:"
      ]
    },
    {
      "cell_type": "code",
      "execution_count": null,
      "metadata": {
        "id": "vvOASBcbKnrT"
      },
      "outputs": [
        {
          "data": {
            "text/html": [
              "<div>\n",
              "<style scoped>\n",
              "    .dataframe tbody tr th:only-of-type {\n",
              "        vertical-align: middle;\n",
              "    }\n",
              "\n",
              "    .dataframe tbody tr th {\n",
              "        vertical-align: top;\n",
              "    }\n",
              "\n",
              "    .dataframe thead th {\n",
              "        text-align: right;\n",
              "    }\n",
              "</style>\n",
              "<table border=\"1\" class=\"dataframe\">\n",
              "  <thead>\n",
              "    <tr style=\"text-align: right;\">\n",
              "      <th></th>\n",
              "      <th>rank</th>\n",
              "      <th>genre</th>\n",
              "      <th>description</th>\n",
              "      <th>director</th>\n",
              "      <th>actors</th>\n",
              "      <th>year</th>\n",
              "      <th>runtime</th>\n",
              "      <th>rating</th>\n",
              "      <th>votes</th>\n",
              "      <th>revenue_millions</th>\n",
              "      <th>metascore</th>\n",
              "      <th>rating_category</th>\n",
              "    </tr>\n",
              "    <tr>\n",
              "      <th>Title</th>\n",
              "      <th></th>\n",
              "      <th></th>\n",
              "      <th></th>\n",
              "      <th></th>\n",
              "      <th></th>\n",
              "      <th></th>\n",
              "      <th></th>\n",
              "      <th></th>\n",
              "      <th></th>\n",
              "      <th></th>\n",
              "      <th></th>\n",
              "      <th></th>\n",
              "    </tr>\n",
              "  </thead>\n",
              "  <tbody>\n",
              "    <tr>\n",
              "      <th>Guardians of the Galaxy</th>\n",
              "      <td>1</td>\n",
              "      <td>Action,Adventure,Sci-Fi</td>\n",
              "      <td>A group of intergalactic criminals are forced ...</td>\n",
              "      <td>James Gunn</td>\n",
              "      <td>Chris Pratt, Vin Diesel, Bradley Cooper, Zoe S...</td>\n",
              "      <td>2014</td>\n",
              "      <td>121</td>\n",
              "      <td>8.1</td>\n",
              "      <td>757074</td>\n",
              "      <td>333.13</td>\n",
              "      <td>76.0</td>\n",
              "      <td>good</td>\n",
              "    </tr>\n",
              "    <tr>\n",
              "      <th>Prometheus</th>\n",
              "      <td>2</td>\n",
              "      <td>Adventure,Mystery,Sci-Fi</td>\n",
              "      <td>Following clues to the origin of mankind, a te...</td>\n",
              "      <td>Ridley Scott</td>\n",
              "      <td>Noomi Rapace, Logan Marshall-Green, Michael Fa...</td>\n",
              "      <td>2012</td>\n",
              "      <td>124</td>\n",
              "      <td>7.0</td>\n",
              "      <td>485820</td>\n",
              "      <td>126.46</td>\n",
              "      <td>65.0</td>\n",
              "      <td>bad</td>\n",
              "    </tr>\n",
              "  </tbody>\n",
              "</table>\n",
              "</div>"
            ],
            "text/plain": [
              "                         rank                     genre  \\\n",
              "Title                                                     \n",
              "Guardians of the Galaxy     1   Action,Adventure,Sci-Fi   \n",
              "Prometheus                  2  Adventure,Mystery,Sci-Fi   \n",
              "\n",
              "                                                               description  \\\n",
              "Title                                                                        \n",
              "Guardians of the Galaxy  A group of intergalactic criminals are forced ...   \n",
              "Prometheus               Following clues to the origin of mankind, a te...   \n",
              "\n",
              "                             director  \\\n",
              "Title                                   \n",
              "Guardians of the Galaxy    James Gunn   \n",
              "Prometheus               Ridley Scott   \n",
              "\n",
              "                                                                    actors  \\\n",
              "Title                                                                        \n",
              "Guardians of the Galaxy  Chris Pratt, Vin Diesel, Bradley Cooper, Zoe S...   \n",
              "Prometheus               Noomi Rapace, Logan Marshall-Green, Michael Fa...   \n",
              "\n",
              "                         year  runtime  rating   votes  revenue_millions  \\\n",
              "Title                                                                      \n",
              "Guardians of the Galaxy  2014      121     8.1  757074            333.13   \n",
              "Prometheus               2012      124     7.0  485820            126.46   \n",
              "\n",
              "                         metascore rating_category  \n",
              "Title                                               \n",
              "Guardians of the Galaxy       76.0            good  \n",
              "Prometheus                    65.0             bad  "
            ]
          },
          "execution_count": 37,
          "metadata": {},
          "output_type": "execute_result"
        }
      ],
      "source": [
        "movies_df[\"rating_category\"] = movies_df[\"rating\"].apply(rating_function)\n",
        "\n",
        "movies_df.head(2)"
      ]
    },
    {
      "cell_type": "markdown",
      "metadata": {
        "id": "yugSNoguKnrV"
      },
      "source": [
        "The `.apply()` method passes every value in the `rating` column through the `rating_function` and then returns a new Series. This Series is then assigned to a new column called `rating_category`.\n",
        "\n",
        "You can also use anonymous functions as well. This lambda function achieves the same result as `rating_function`:"
      ]
    },
    {
      "cell_type": "code",
      "execution_count": null,
      "metadata": {
        "id": "EoQ8MFjsKnrV"
      },
      "outputs": [
        {
          "data": {
            "text/html": [
              "<div>\n",
              "<style scoped>\n",
              "    .dataframe tbody tr th:only-of-type {\n",
              "        vertical-align: middle;\n",
              "    }\n",
              "\n",
              "    .dataframe tbody tr th {\n",
              "        vertical-align: top;\n",
              "    }\n",
              "\n",
              "    .dataframe thead th {\n",
              "        text-align: right;\n",
              "    }\n",
              "</style>\n",
              "<table border=\"1\" class=\"dataframe\">\n",
              "  <thead>\n",
              "    <tr style=\"text-align: right;\">\n",
              "      <th></th>\n",
              "      <th>rank</th>\n",
              "      <th>genre</th>\n",
              "      <th>description</th>\n",
              "      <th>director</th>\n",
              "      <th>actors</th>\n",
              "      <th>year</th>\n",
              "      <th>runtime</th>\n",
              "      <th>rating</th>\n",
              "      <th>votes</th>\n",
              "      <th>revenue_millions</th>\n",
              "      <th>metascore</th>\n",
              "      <th>rating_category</th>\n",
              "    </tr>\n",
              "    <tr>\n",
              "      <th>Title</th>\n",
              "      <th></th>\n",
              "      <th></th>\n",
              "      <th></th>\n",
              "      <th></th>\n",
              "      <th></th>\n",
              "      <th></th>\n",
              "      <th></th>\n",
              "      <th></th>\n",
              "      <th></th>\n",
              "      <th></th>\n",
              "      <th></th>\n",
              "      <th></th>\n",
              "    </tr>\n",
              "  </thead>\n",
              "  <tbody>\n",
              "    <tr>\n",
              "      <th>Guardians of the Galaxy</th>\n",
              "      <td>1</td>\n",
              "      <td>Action,Adventure,Sci-Fi</td>\n",
              "      <td>A group of intergalactic criminals are forced ...</td>\n",
              "      <td>James Gunn</td>\n",
              "      <td>Chris Pratt, Vin Diesel, Bradley Cooper, Zoe S...</td>\n",
              "      <td>2014</td>\n",
              "      <td>121</td>\n",
              "      <td>8.1</td>\n",
              "      <td>757074</td>\n",
              "      <td>333.13</td>\n",
              "      <td>76.0</td>\n",
              "      <td>good</td>\n",
              "    </tr>\n",
              "    <tr>\n",
              "      <th>Prometheus</th>\n",
              "      <td>2</td>\n",
              "      <td>Adventure,Mystery,Sci-Fi</td>\n",
              "      <td>Following clues to the origin of mankind, a te...</td>\n",
              "      <td>Ridley Scott</td>\n",
              "      <td>Noomi Rapace, Logan Marshall-Green, Michael Fa...</td>\n",
              "      <td>2012</td>\n",
              "      <td>124</td>\n",
              "      <td>7.0</td>\n",
              "      <td>485820</td>\n",
              "      <td>126.46</td>\n",
              "      <td>65.0</td>\n",
              "      <td>bad</td>\n",
              "    </tr>\n",
              "  </tbody>\n",
              "</table>\n",
              "</div>"
            ],
            "text/plain": [
              "                         rank                     genre  \\\n",
              "Title                                                     \n",
              "Guardians of the Galaxy     1   Action,Adventure,Sci-Fi   \n",
              "Prometheus                  2  Adventure,Mystery,Sci-Fi   \n",
              "\n",
              "                                                               description  \\\n",
              "Title                                                                        \n",
              "Guardians of the Galaxy  A group of intergalactic criminals are forced ...   \n",
              "Prometheus               Following clues to the origin of mankind, a te...   \n",
              "\n",
              "                             director  \\\n",
              "Title                                   \n",
              "Guardians of the Galaxy    James Gunn   \n",
              "Prometheus               Ridley Scott   \n",
              "\n",
              "                                                                    actors  \\\n",
              "Title                                                                        \n",
              "Guardians of the Galaxy  Chris Pratt, Vin Diesel, Bradley Cooper, Zoe S...   \n",
              "Prometheus               Noomi Rapace, Logan Marshall-Green, Michael Fa...   \n",
              "\n",
              "                         year  runtime  rating   votes  revenue_millions  \\\n",
              "Title                                                                      \n",
              "Guardians of the Galaxy  2014      121     8.1  757074            333.13   \n",
              "Prometheus               2012      124     7.0  485820            126.46   \n",
              "\n",
              "                         metascore rating_category  \n",
              "Title                                               \n",
              "Guardians of the Galaxy       76.0            good  \n",
              "Prometheus                    65.0             bad  "
            ]
          },
          "execution_count": 38,
          "metadata": {},
          "output_type": "execute_result"
        }
      ],
      "source": [
        "movies_df[\"rating_category\"] = movies_df[\"rating\"].apply(lambda x: 'good' if x >= 8.0 else 'bad')\n",
        "\n",
        "movies_df.head(2)"
      ]
    },
    {
      "cell_type": "markdown",
      "metadata": {
        "id": "ho9QSWbRKnrX"
      },
      "source": [
        "Overall, using `apply()` will be much faster than iterating manually over rows because pandas is utilizing vectorization.\n",
        "\n",
        "> Vectorization: a style of computer programming where operations are applied to whole arrays instead of individual elements —[Wikipedia](https://en.wikipedia.org/wiki/Vectorization)\n",
        "\n",
        "A good example of high usage of `apply()` is during natural language processing (NLP) work. You'll need to apply all sorts of text cleaning functions to strings to prepare for machine learning."
      ]
    },
    {
      "cell_type": "markdown",
      "metadata": {
        "id": "7Ocdq0qNYDjS"
      },
      "source": [
        "# Brief Plotting with Matplotlib"
      ]
    },
    {
      "cell_type": "markdown",
      "metadata": {
        "id": "eSdiJy9UKnrY"
      },
      "source": [
        "Another great thing about pandas is that it integrates with Matplotlib, a popular plotting library, so you get the ability to plot directly off DataFrames and Series."
      ]
    },
    {
      "cell_type": "code",
      "execution_count": null,
      "metadata": {
        "id": "56n2Ks7eKnrZ"
      },
      "outputs": [],
      "source": [
        "import matplotlib.pyplot as plt\n",
        "plt.rcParams.update({'font.size': 20, 'figure.figsize': (20, 10)}) # set font and plot size"
      ]
    },
    {
      "cell_type": "markdown",
      "metadata": {
        "id": "O2HR35vKKnrb"
      },
      "source": [
        "Now we can begin. There won't be a lot of coverage on plotting, but it should be enough to explore you're data easily.\n",
        "\n",
        "**Side note:**\n",
        "For categorical variables utilize Bar Charts and Boxplots.  For continuous variables utilize Histograms, Scatterplots, Line graphs, and Boxplots.\n",
        "\n",
        "Let's plot the relationship between ratings and revenue. All we need to do is call `.plot()` on `movies_df` with some info about how to construct the plot:"
      ]
    },
    {
      "cell_type": "code",
      "execution_count": null,
      "metadata": {
        "id": "8xqZhxOUKnrd"
      },
      "outputs": [
        {
          "data": {
            "image/png": "[encoded data removed]",
            "text/plain": [
              "<Figure size 2000x1000 with 1 Axes>"
            ]
          },
          "metadata": {},
          "output_type": "display_data"
        }
      ],
      "source": [
        "movies_df.plot(kind='scatter', x='rating', y='revenue_millions', title='Revenue (millions) vs Rating');"
      ]
    },
    {
      "cell_type": "markdown",
      "metadata": {
        "id": "tcsxLD73Knrg"
      },
      "source": [
        "What's with the semicolon? It's not a typo, just a way to hide the `<matplotlib.axes._subplots.AxesSubplot at 0x26613b5cc18>` output when plotting in Jupyter notebook environments.\n",
        "\n",
        "If we want to plot a simple Histogram based on a single column, we can call plot on a column:"
      ]
    },
    {
      "cell_type": "code",
      "execution_count": null,
      "metadata": {
        "id": "yT4V925CKnrh"
      },
      "outputs": [
        {
          "data": {
            "image/png": "[encoded data removed]",
            "text/plain": [
              "<Figure size 2000x1000 with 1 Axes>"
            ]
          },
          "metadata": {},
          "output_type": "display_data"
        }
      ],
      "source": [
        "movies_df['rating'].plot(kind='hist', title='Rating');"
      ]
    },
    {
      "cell_type": "markdown",
      "metadata": {
        "id": "uS5dvRPoKnrj"
      },
      "source": [
        "Do you remember the `.describe()` example at the beginning of this lecture? Well, there's a graphical representation of the interquartile range, called the Boxplot. Let's recall what `describe()` gives us on the ratings column:"
      ]
    },
    {
      "cell_type": "code",
      "execution_count": null,
      "metadata": {
        "id": "k2PvRMt3Knrj"
      },
      "outputs": [
        {
          "data": {
            "text/plain": [
              "count    1000.000000\n",
              "mean        6.723200\n",
              "std         0.945429\n",
              "min         1.900000\n",
              "25%         6.200000\n",
              "50%         6.800000\n",
              "75%         7.400000\n",
              "max         9.000000\n",
              "Name: rating, dtype: float64"
            ]
          },
          "execution_count": 42,
          "metadata": {},
          "output_type": "execute_result"
        }
      ],
      "source": [
        "movies_df['rating'].describe()"
      ]
    },
    {
      "cell_type": "markdown",
      "metadata": {
        "id": "kMTLhQgSKnrl"
      },
      "source": [
        "Using a Boxplot we can visualize this data:"
      ]
    },
    {
      "cell_type": "code",
      "execution_count": null,
      "metadata": {
        "id": "qOMzg__OKnrl"
      },
      "outputs": [
        {
          "data": {
            "image/png": "[encoded data removed]",
            "text/plain": [
              "<Figure size 2000x1000 with 1 Axes>"
            ]
          },
          "metadata": {},
          "output_type": "display_data"
        }
      ],
      "source": [
        "movies_df['rating'].plot(kind=\"box\");"
      ]
    },
    {
      "cell_type": "markdown",
      "metadata": {
        "id": "CplE-HhgKnrr"
      },
      "source": [
        "Here is how to read a Boxplot:\n",
        "\n",
        "<figure>\n",
        "<img src=\"https://i1.wp.com/flowingdata.com/wp-content/uploads/2008/02/box-plot-explained.gif\" />\n",
        "    <figcaption>Source: *Flowing Data*</figcaption>\n",
        "</figure>\n",
        "\n",
        "\n",
        "By combining categorical and continuous data, we can create a Boxplot of revenue that is grouped by the Rating Category we created above:"
      ]
    },
    {
      "cell_type": "code",
      "execution_count": null,
      "metadata": {
        "id": "7M7MiqZ0Knrs"
      },
      "outputs": [
        {
          "name": "stderr",
          "output_type": "stream",
          "text": [
            "c:\\Users\\wangy\\Anaconda3\\envs\\ML\\lib\\site-packages\\matplotlib\\cbook\\__init__.py:1449: VisibleDeprecationWarning: Creating an ndarray from ragged nested sequences (which is a list-or-tuple of lists-or-tuples-or ndarrays with different lengths or shapes) is deprecated. If you meant to do this, you must specify 'dtype=object' when creating the ndarray.\n",
            "  X = np.atleast_1d(X.T if isinstance(X, np.ndarray) else np.asarray(X))\n"
          ]
        },
        {
          "data": {
            "image/png": "[encoded data removed]",
            "text/plain": [
              "<Figure size 2000x1000 with 1 Axes>"
            ]
          },
          "metadata": {},
          "output_type": "display_data"
        }
      ],
      "source": [
        "movies_df.boxplot(column='revenue_millions', by='rating_category');"
      ]
    },
    {
      "cell_type": "markdown",
      "metadata": {
        "id": "FxplPiK5Knrx"
      },
      "source": [
        "That's the general idea of plotting with pandas. There's too many plots to mention, so definitely take a look at the `plot()` [docs here](https://pandas.pydata.org/pandas-docs/stable/generated/pandas.DataFrame.plot.html) for more information on what it can do."
      ]
    },
    {
      "cell_type": "markdown",
      "metadata": {
        "id": "hpDN2-xRoPqO"
      },
      "source": [
        "# Exercise: Make an Adjusted Rating Column, plot the difference"
      ]
    },
    {
      "cell_type": "markdown",
      "metadata": {
        "id": "efzKkAOPoZW7"
      },
      "source": [
        "In the imdb data that we've been looking at, the rating is just the mean score. But some movies have many more votes than others, and this should lend more \"weight\" to their rating.  \n",
        "\n",
        "A good adjusted scoring rule is:\n",
        "```\n",
        " rating_adjusted = rating - (rating - 5)*2**(-log10(votes+1))\n",
        "```\n",
        "(note: to implement this, we can use `np.log10()` )\n",
        "\n",
        "Make a new column called 'rating_adjusted' to implement this. Then, make a scatter plot of (rating_adjusted - rating) vs  rating.\n",
        "\n",
        "note: it's okay if you want to make a column `rating_delta = rating_adjusted - rating`.\n",
        "\n",
        "Now calculate the `rating_delta` and `rating_adjusted` and make a scatterplot with `rating` on the x-axis and `rating_delta` or `rating_adjusted` on the y-axis."
      ]
    },
    {
      "cell_type": "code",
      "execution_count": null,
      "metadata": {
        "id": "FUgRBeY8GqYW"
      },
      "outputs": [],
      "source": [
        "# Write your code here\n"
      ]
    },
    {
      "cell_type": "markdown",
      "metadata": {
        "id": "trtHRe-EGdZd"
      },
      "source": [
        "## Solution: Don't look at this until you've tried it! (You might have to do this on the final!)"
      ]
    },
    {
      "cell_type": "code",
      "execution_count": null,
      "metadata": {
        "id": "MykjKGxkryMc"
      },
      "outputs": [
        {
          "data": {
            "image/png": "[encoded data removed]",
            "text/plain": [
              "<Figure size 2000x1000 with 1 Axes>"
            ]
          },
          "metadata": {},
          "output_type": "display_data"
        }
      ],
      "source": [
        "# Write your code here\n",
        "movies_df.head()\n",
        "\n",
        "# Solution using apply:\n",
        "movies_df['rating_adjusted'] = movies_df.apply(lambda row: row['rating']-(row['rating']-5)*2**(-np.log10(row['votes']+1)),axis=1)\n",
        "\n",
        "# Solution w/o using apply (better):\n",
        "movies_df['rating_adjusted'] = movies_df.rating - (movies_df.rating-5)*2**(-np.log10(movies_df.votes+1))\n",
        "movies_df['rating_delta'] = movies_df.rating_adjusted - movies_df.rating\n",
        "movies_df.plot(kind='scatter',x='rating',y='rating_delta',figsize=(20,10));"
      ]
    },
    {
      "cell_type": "markdown",
      "metadata": {
        "id": "DrGsjfv40g-x"
      },
      "source": [
        "# Exercise: Plot of Revenue vs Adjusted Rating for only one Genre"
      ]
    },
    {
      "cell_type": "markdown",
      "metadata": {
        "id": "yp-No7dQnALk"
      },
      "source": [
        "\n",
        "\n",
        "Using the `movies_df` DataFrame, write a function that will plot the scatterplot of Revenue vs Metascore for only one Genre.\n",
        "\n",
        "Your function should:\n",
        "- have an input argument that is a string of the Genre, e.g., 'Horror'\n",
        "\n",
        "\n",
        "Note that the an entry in the genre column contains a comma-separated list of different genres that a movie belongs to:"
      ]
    },
    {
      "cell_type": "code",
      "execution_count": null,
      "metadata": {
        "id": "ll-oGp9krW1m"
      },
      "outputs": [
        {
          "data": {
            "text/plain": [
              "Title\n",
              "Prometheus              Adventure,Mystery,Sci-Fi\n",
              "Split                            Horror,Thriller\n",
              "Sing                     Animation,Comedy,Family\n",
              "Suicide Squad           Action,Adventure,Fantasy\n",
              "The Great Wall          Action,Adventure,Fantasy\n",
              "La La Land                    Comedy,Drama,Music\n",
              "Mindhorn                                  Comedy\n",
              "The Lost City of Z    Action,Adventure,Biography\n",
              "Passengers               Adventure,Drama,Romance\n",
              "Name: genre, dtype: object"
            ]
          },
          "execution_count": 47,
          "metadata": {},
          "output_type": "execute_result"
        }
      ],
      "source": [
        "movies_df.genre[1:10]"
      ]
    },
    {
      "cell_type": "markdown",
      "metadata": {
        "id": "YIttaza8rd7X"
      },
      "source": [
        "However, we can get all the individual unique genres by using Pandas built in string operations on a series:"
      ]
    },
    {
      "cell_type": "code",
      "execution_count": null,
      "metadata": {
        "id": "Ae-XRHlGoB74"
      },
      "outputs": [
        {
          "data": {
            "text/plain": [
              "array(['Action', 'Adventure', 'Animation', 'Biography', 'Comedy', 'Crime',\n",
              "       'Drama', 'Family', 'Fantasy', 'History', 'Horror', 'Music',\n",
              "       'Musical', 'Mystery', 'Romance', 'Sci-Fi', 'Sport', 'Thriller',\n",
              "       'War', 'Western'], dtype='<U9')"
            ]
          },
          "execution_count": 48,
          "metadata": {},
          "output_type": "execute_result"
        }
      ],
      "source": [
        "import numpy as np\n",
        "allGenresConcatenated = movies_df.genre.str.cat(sep=',') # This will return a string by concatenating all the strings in each row of genre, separating them with a ',' \n",
        "allGenres=np.unique(allGenresConcatenated.split(',')) # This will split the string so that we have a list and then use numpy's unique() to get only the unique elements of the list\n",
        "allGenres"
      ]
    },
    {
      "cell_type": "markdown",
      "metadata": {
        "id": "Sjt9wEtysE5c"
      },
      "source": [
        "You may find the following string method of dataframes useful:\n",
        "- If a dataframe `df` has a string columm, `stringCol`, then the method\n",
        " - `df.stringCol.str.contains(someString)` will return `True` if someString is a substring within a value of stringCol.\n",
        "\n",
        "Your goal is to define a function that will return a plot object. The function should make a scatter plot of `rating_adjusted` on the x-axis and `revenue_millions` on the y-axis.\n",
        "\n"
      ]
    },
    {
      "cell_type": "code",
      "execution_count": null,
      "metadata": {
        "id": "x90ZQ9l0IGjZ"
      },
      "outputs": [
        {
          "ename": "SyntaxError",
          "evalue": "invalid syntax (1129111104.py, line 3)",
          "output_type": "error",
          "traceback": [
            "\u001b[1;36m  File \u001b[1;32m\"C:\\Users\\wangy\\AppData\\Local\\Temp\\ipykernel_38696\\1129111104.py\"\u001b[1;36m, line \u001b[1;32m3\u001b[0m\n\u001b[1;33m    plot = # fill in your code here with plot = movies_df[SOMETHING].plot(SOMETHING)\u001b[0m\n\u001b[1;37m                                                                                    ^\u001b[0m\n\u001b[1;31mSyntaxError\u001b[0m\u001b[1;31m:\u001b[0m invalid syntax\n"
          ]
        }
      ],
      "source": [
        "# Define your function here\n",
        "def plot_rev_vs_rating_adj(genreName):\n",
        "  plot = # fill in your code here with plot = movies_df[SOMETHING].plot(SOMETHING)\n",
        "  plot.set_title(genreName) \n",
        "  return plot\n",
        "\n",
        "# Run your function for the genre's 'Horror' and 'Action'\n",
        "plot = plot_rev_vs_rating_adj('Horror')\n",
        "plot = plot_rev_vs_rating_adj('Action')"
      ]
    },
    {
      "cell_type": "markdown",
      "metadata": {
        "id": "pR1xchFRJisF"
      },
      "source": [
        "## Solution: Don't look at this until you've tried it!"
      ]
    },
    {
      "cell_type": "code",
      "execution_count": null,
      "metadata": {
        "id": "h9c0NaLhszQb"
      },
      "outputs": [
        {
          "data": {
            "image/png": "[encoded data removed]",
            "image/svg+xml": [
              "<?xml version=\"1.0\" encoding=\"utf-8\" standalone=\"no\"?>\r\n",
              "<!DOCTYPE svg PUBLIC \"-//W3C//DTD SVG 1.1//EN\"\r\n",
              "  \"http://www.w3.org/Graphics/SVG/1.1/DTD/svg11.dtd\">\r\n",
              "<!-- Created with matplotlib (https://matplotlib.org/) -->\r\n",
              "<svg height=\"632.505pt\" version=\"1.1\" viewBox=\"0 0 1199.4875 632.505\" width=\"1199.4875pt\" xmlns=\"http://www.w3.org/2000/svg\" xmlns:xlink=\"http://www.w3.org/1999/xlink\">\r\n",
              " <defs>\r\n",
              "  <style type=\"text/css\">\r\n",
              "*{stroke-linecap:butt;stroke-linejoin:round;}\r\n",
              "  </style>\r\n",
              " </defs>\r\n",
              " <g id=\"figure_1\">\r\n",
              "  <g id=\"patch_1\">\r\n",
              "   <path d=\"M 0 632.505 \r\n",
              "L 1199.4875 632.505 \r\n",
              "L 1199.4875 0 \r\n",
              "L 0 0 \r\n",
              "z\r\n",
              "\" style=\"fill:none;\"/>\r\n",
              "  </g>\r\n",
              "  <g id=\"axes_1\">\r\n",
              "   <g id=\"patch_2\">\r\n",
              "    <path d=\"M 76.2875 575.03625 \r\n",
              "L 1192.2875 575.03625 \r\n",
              "L 1192.2875 31.43625 \r\n",
              "L 76.2875 31.43625 \r\n",
              "z\r\n",
              "\" style=\"fill:#ffffff;\"/>\r\n",
              "   </g>\r\n",
              "   <g id=\"PathCollection_1\">\r\n",
              "    <defs>\r\n",
              "     <path d=\"M 0 2.236068 \r\n",
              "C 0.593012 2.236068 1.161816 2.000462 1.581139 1.581139 \r\n",
              "C 2.000462 1.161816 2.236068 0.593012 2.236068 0 \r\n",
              "C 2.236068 -0.593012 2.000462 -1.161816 1.581139 -1.581139 \r\n",
              "C 1.161816 -2.000462 0.593012 -2.236068 0 -2.236068 \r\n",
              "C -0.593012 -2.236068 -1.161816 -2.000462 -1.581139 -1.581139 \r\n",
              "C -2.000462 -1.161816 -2.236068 -0.593012 -2.236068 0 \r\n",
              "C -2.236068 0.593012 -2.000462 1.161816 -1.581139 1.581139 \r\n",
              "C -1.161816 2.000462 -0.593012 2.236068 0 2.236068 \r\n",
              "z\r\n",
              "\" id=\"m26ead70382\" style=\"stroke:#1f77b4;\"/>\r\n",
              "    </defs>\r\n",
              "    <g clip-path=\"url(#p68c343edce)\">\r\n",
              "     <use style=\"fill:#1f77b4;stroke:#1f77b4;\" x=\"1028.594989\" xlink:href=\"#m26ead70382\" y=\"284.115088\"/>\r\n",
              "     <use style=\"fill:#1f77b4;stroke:#1f77b4;\" x=\"337.797781\" xlink:href=\"#m26ead70382\" y=\"550.327159\"/>\r\n",
              "     <use style=\"fill:#1f77b4;stroke:#1f77b4;\" x=\"568.11743\" xlink:href=\"#m26ead70382\" y=\"498.611354\"/>\r\n",
              "     <use style=\"fill:#1f77b4;stroke:#1f77b4;\" x=\"1000.255511\" xlink:href=\"#m26ead70382\" y=\"378.3909\"/>\r\n",
              "     <use style=\"fill:#1f77b4;stroke:#1f77b4;\" x=\"615.9319\" xlink:href=\"#m26ead70382\" y=\"550.057304\"/>\r\n",
              "     <use style=\"fill:#1f77b4;stroke:#1f77b4;\" x=\"738.386995\" xlink:href=\"#m26ead70382\" y=\"530.762663\"/>\r\n",
              "     <use style=\"fill:#1f77b4;stroke:#1f77b4;\" x=\"728.235439\" xlink:href=\"#m26ead70382\" y=\"547.782811\"/>\r\n",
              "     <use style=\"fill:#1f77b4;stroke:#1f77b4;\" x=\"1002.609845\" xlink:href=\"#m26ead70382\" y=\"411.756557\"/>\r\n",
              "     <use style=\"fill:#1f77b4;stroke:#1f77b4;\" x=\"783.408157\" xlink:href=\"#m26ead70382\" y=\"444.10062\"/>\r\n",
              "     <use style=\"fill:#1f77b4;stroke:#1f77b4;\" x=\"327.786908\" xlink:href=\"#m26ead70382\" y=\"469.775407\"/>\r\n",
              "     <use style=\"fill:#1f77b4;stroke:#1f77b4;\" x=\"1054.789975\" xlink:href=\"#m26ead70382\" y=\"352.851041\"/>\r\n",
              "     <use style=\"fill:#1f77b4;stroke:#1f77b4;\" x=\"891.843456\" xlink:href=\"#m26ead70382\" y=\"501.888166\"/>\r\n",
              "     <use style=\"fill:#1f77b4;stroke:#1f77b4;\" x=\"837.939172\" xlink:href=\"#m26ead70382\" y=\"490.47715\"/>\r\n",
              "     <use style=\"fill:#1f77b4;stroke:#1f77b4;\" x=\"619.206823\" xlink:href=\"#m26ead70382\" y=\"542.809767\"/>\r\n",
              "     <use style=\"fill:#1f77b4;stroke:#1f77b4;\" x=\"799.701654\" xlink:href=\"#m26ead70382\" y=\"534.733388\"/>\r\n",
              "     <use style=\"fill:#1f77b4;stroke:#1f77b4;\" x=\"1049.375371\" xlink:href=\"#m26ead70382\" y=\"549.363391\"/>\r\n",
              "     <use style=\"fill:#1f77b4;stroke:#1f77b4;\" x=\"920.086059\" xlink:href=\"#m26ead70382\" y=\"522.069473\"/>\r\n",
              "     <use style=\"fill:#1f77b4;stroke:#1f77b4;\" x=\"127.014773\" xlink:href=\"#m26ead70382\" y=\"545.701071\"/>\r\n",
              "     <use style=\"fill:#1f77b4;stroke:#1f77b4;\" x=\"1086.301538\" xlink:href=\"#m26ead70382\" y=\"285.522189\"/>\r\n",
              "     <use style=\"fill:#1f77b4;stroke:#1f77b4;\" x=\"782.948568\" xlink:href=\"#m26ead70382\" y=\"420.738877\"/>\r\n",
              "     <use style=\"fill:#1f77b4;stroke:#1f77b4;\" x=\"381.661419\" xlink:href=\"#m26ead70382\" y=\"550.288608\"/>\r\n",
              "     <use style=\"fill:#1f77b4;stroke:#1f77b4;\" x=\"1076.001791\" xlink:href=\"#m26ead70382\" y=\"546.240782\"/>\r\n",
              "     <use style=\"fill:#1f77b4;stroke:#1f77b4;\" x=\"950.297401\" xlink:href=\"#m26ead70382\" y=\"469.312798\"/>\r\n",
              "     <use style=\"fill:#1f77b4;stroke:#1f77b4;\" x=\"893.030034\" xlink:href=\"#m26ead70382\" y=\"548.573101\"/>\r\n",
              "     <use style=\"fill:#1f77b4;stroke:#1f77b4;\" x=\"729.956778\" xlink:href=\"#m26ead70382\" y=\"424.921632\"/>\r\n",
              "     <use style=\"fill:#1f77b4;stroke:#1f77b4;\" x=\"673.974796\" xlink:href=\"#m26ead70382\" y=\"539.224549\"/>\r\n",
              "     <use style=\"fill:#1f77b4;stroke:#1f77b4;\" x=\"942.877906\" xlink:href=\"#m26ead70382\" y=\"544.139767\"/>\r\n",
              "     <use style=\"fill:#1f77b4;stroke:#1f77b4;\" x=\"435.186161\" xlink:href=\"#m26ead70382\" y=\"519.120343\"/>\r\n",
              "     <use style=\"fill:#1f77b4;stroke:#1f77b4;\" x=\"591.497892\" xlink:href=\"#m26ead70382\" y=\"550.250058\"/>\r\n",
              "     <use style=\"fill:#1f77b4;stroke:#1f77b4;\" x=\"1141.560227\" xlink:href=\"#m26ead70382\" y=\"404.643947\"/>\r\n",
              "     <use style=\"fill:#1f77b4;stroke:#1f77b4;\" x=\"1105.40278\" xlink:href=\"#m26ead70382\" y=\"543.927738\"/>\r\n",
              "     <use style=\"fill:#1f77b4;stroke:#1f77b4;\" x=\"514.458921\" xlink:href=\"#m26ead70382\" y=\"546.838318\"/>\r\n",
              "     <use style=\"fill:#1f77b4;stroke:#1f77b4;\" x=\"620.617143\" xlink:href=\"#m26ead70382\" y=\"529.317011\"/>\r\n",
              "     <use style=\"fill:#1f77b4;stroke:#1f77b4;\" x=\"675.153259\" xlink:href=\"#m26ead70382\" y=\"398.071048\"/>\r\n",
              "     <use style=\"fill:#1f77b4;stroke:#1f77b4;\" x=\"952.094194\" xlink:href=\"#m26ead70382\" y=\"160.309416\"/>\r\n",
              "     <use style=\"fill:#1f77b4;stroke:#1f77b4;\" x=\"840.374581\" xlink:href=\"#m26ead70382\" y=\"459.790768\"/>\r\n",
              "     <use style=\"fill:#1f77b4;stroke:#1f77b4;\" x=\"650.336681\" xlink:href=\"#m26ead70382\" y=\"482.362221\"/>\r\n",
              "     <use style=\"fill:#1f77b4;stroke:#1f77b4;\" x=\"892.831553\" xlink:href=\"#m26ead70382\" y=\"530.434982\"/>\r\n",
              "     <use style=\"fill:#1f77b4;stroke:#1f77b4;\" x=\"674.97441\" xlink:href=\"#m26ead70382\" y=\"481.359902\"/>\r\n",
              "     <use style=\"fill:#1f77b4;stroke:#1f77b4;\" x=\"806.524544\" xlink:href=\"#m26ead70382\" y=\"550.307884\"/>\r\n",
              "     <use style=\"fill:#1f77b4;stroke:#1f77b4;\" x=\"950.520898\" xlink:href=\"#m26ead70382\" y=\"396.085685\"/>\r\n",
              "     <use style=\"fill:#1f77b4;stroke:#1f77b4;\" x=\"757.290909\" xlink:href=\"#m26ead70382\" y=\"545.315564\"/>\r\n",
              "     <use style=\"fill:#1f77b4;stroke:#1f77b4;\" x=\"1006.935104\" xlink:href=\"#m26ead70382\" y=\"56.145341\"/>\r\n",
              "     <use style=\"fill:#1f77b4;stroke:#1f77b4;\" x=\"967.730708\" xlink:href=\"#m26ead70382\" y=\"423.109747\"/>\r\n",
              "     <use style=\"fill:#1f77b4;stroke:#1f77b4;\" x=\"514.060138\" xlink:href=\"#m26ead70382\" y=\"536.487447\"/>\r\n",
              "     <use style=\"fill:#1f77b4;stroke:#1f77b4;\" x=\"512.790337\" xlink:href=\"#m26ead70382\" y=\"426.92627\"/>\r\n",
              "     <use style=\"fill:#1f77b4;stroke:#1f77b4;\" x=\"812.262501\" xlink:href=\"#m26ead70382\" y=\"445.796853\"/>\r\n",
              "     <use style=\"fill:#1f77b4;stroke:#1f77b4;\" x=\"894.090364\" xlink:href=\"#m26ead70382\" y=\"457.709028\"/>\r\n",
              "     <use style=\"fill:#1f77b4;stroke:#1f77b4;\" x=\"999.020859\" xlink:href=\"#m26ead70382\" y=\"526.965416\"/>\r\n",
              "     <use style=\"fill:#1f77b4;stroke:#1f77b4;\" x=\"785.17982\" xlink:href=\"#m26ead70382\" y=\"430.222357\"/>\r\n",
              "     <use style=\"fill:#1f77b4;stroke:#1f77b4;\" x=\"837.789716\" xlink:href=\"#m26ead70382\" y=\"549.57542\"/>\r\n",
              "     <use style=\"fill:#1f77b4;stroke:#1f77b4;\" x=\"569.08907\" xlink:href=\"#m26ead70382\" y=\"425.056559\"/>\r\n",
              "     <use style=\"fill:#1f77b4;stroke:#1f77b4;\" x=\"943.791054\" xlink:href=\"#m26ead70382\" y=\"546.105854\"/>\r\n",
              "     <use style=\"fill:#1f77b4;stroke:#1f77b4;\" x=\"568.288552\" xlink:href=\"#m26ead70382\" y=\"489.551932\"/>\r\n",
              "     <use style=\"fill:#1f77b4;stroke:#1f77b4;\" x=\"1058.700419\" xlink:href=\"#m26ead70382\" y=\"448.418302\"/>\r\n",
              "     <use style=\"fill:#1f77b4;stroke:#1f77b4;\" x=\"895.054187\" xlink:href=\"#m26ead70382\" y=\"446.278737\"/>\r\n",
              "     <use style=\"fill:#1f77b4;stroke:#1f77b4;\" x=\"1003.479148\" xlink:href=\"#m26ead70382\" y=\"501.020774\"/>\r\n",
              "     <use style=\"fill:#1f77b4;stroke:#1f77b4;\" x=\"650.317435\" xlink:href=\"#m26ead70382\" y=\"490.26512\"/>\r\n",
              "     <use style=\"fill:#1f77b4;stroke:#1f77b4;\" x=\"515.900878\" xlink:href=\"#m26ead70382\" y=\"468.715262\"/>\r\n",
              "     <use style=\"fill:#1f77b4;stroke:#1f77b4;\" x=\"809.947915\" xlink:href=\"#m26ead70382\" y=\"547.859912\"/>\r\n",
              "     <use style=\"fill:#1f77b4;stroke:#1f77b4;\" x=\"730.515038\" xlink:href=\"#m26ead70382\" y=\"449.09294\"/>\r\n",
              "     <use style=\"fill:#1f77b4;stroke:#1f77b4;\" x=\"434.763285\" xlink:href=\"#m26ead70382\" y=\"510.350051\"/>\r\n",
              "     <use style=\"fill:#1f77b4;stroke:#1f77b4;\" x=\"732.692843\" xlink:href=\"#m26ead70382\" y=\"396.702497\"/>\r\n",
              "     <use style=\"fill:#1f77b4;stroke:#1f77b4;\" x=\"561.135854\" xlink:href=\"#m26ead70382\" y=\"550.307884\"/>\r\n",
              "     <use style=\"fill:#1f77b4;stroke:#1f77b4;\" x=\"699.605295\" xlink:href=\"#m26ead70382\" y=\"483.075409\"/>\r\n",
              "     <use style=\"fill:#1f77b4;stroke:#1f77b4;\" x=\"810.898011\" xlink:href=\"#m26ead70382\" y=\"496.972948\"/>\r\n",
              "     <use style=\"fill:#1f77b4;stroke:#1f77b4;\" x=\"597.081263\" xlink:href=\"#m26ead70382\" y=\"426.174531\"/>\r\n",
              "     <use style=\"fill:#1f77b4;stroke:#1f77b4;\" x=\"434.371896\" xlink:href=\"#m26ead70382\" y=\"548.842956\"/>\r\n",
              "     <use style=\"fill:#1f77b4;stroke:#1f77b4;\" x=\"895.073601\" xlink:href=\"#m26ead70382\" y=\"411.602354\"/>\r\n",
              "     <use style=\"fill:#1f77b4;stroke:#1f77b4;\" x=\"731.672532\" xlink:href=\"#m26ead70382\" y=\"412.354094\"/>\r\n",
              "     <use style=\"fill:#1f77b4;stroke:#1f77b4;\" x=\"947.569855\" xlink:href=\"#m26ead70382\" y=\"470.21874\"/>\r\n",
              "     <use style=\"fill:#1f77b4;stroke:#1f77b4;\" x=\"515.667044\" xlink:href=\"#m26ead70382\" y=\"387.932206\"/>\r\n",
              "     <use style=\"fill:#1f77b4;stroke:#1f77b4;\" x=\"305.647516\" xlink:href=\"#m26ead70382\" y=\"537.084983\"/>\r\n",
              "     <use style=\"fill:#1f77b4;stroke:#1f77b4;\" x=\"1109.599819\" xlink:href=\"#m26ead70382\" y=\"502.100195\"/>\r\n",
              "     <use style=\"fill:#1f77b4;stroke:#1f77b4;\" x=\"785.421535\" xlink:href=\"#m26ead70382\" y=\"469.813958\"/>\r\n",
              "     <use style=\"fill:#1f77b4;stroke:#1f77b4;\" x=\"809.109965\" xlink:href=\"#m26ead70382\" y=\"550.038029\"/>\r\n",
              "     <use style=\"fill:#1f77b4;stroke:#1f77b4;\" x=\"949.169845\" xlink:href=\"#m26ead70382\" y=\"495.141788\"/>\r\n",
              "     <use style=\"fill:#1f77b4;stroke:#1f77b4;\" x=\"921.585674\" xlink:href=\"#m26ead70382\" y=\"422.43511\"/>\r\n",
              "     <use style=\"fill:#1f77b4;stroke:#1f77b4;\" x=\"542.235495\" xlink:href=\"#m26ead70382\" y=\"502.158021\"/>\r\n",
              "     <use style=\"fill:#1f77b4;stroke:#1f77b4;\" x=\"809.346324\" xlink:href=\"#m26ead70382\" y=\"535.369476\"/>\r\n",
              "     <use style=\"fill:#1f77b4;stroke:#1f77b4;\" x=\"775.988724\" xlink:href=\"#m26ead70382\" y=\"550.192232\"/>\r\n",
              "     <use style=\"fill:#1f77b4;stroke:#1f77b4;\" x=\"1065.10199\" xlink:href=\"#m26ead70382\" y=\"548.823681\"/>\r\n",
              "     <use style=\"fill:#1f77b4;stroke:#1f77b4;\" x=\"752.816102\" xlink:href=\"#m26ead70382\" y=\"543.330201\"/>\r\n",
              "     <use style=\"fill:#1f77b4;stroke:#1f77b4;\" x=\"714.867494\" xlink:href=\"#m26ead70382\" y=\"549.922376\"/>\r\n",
              "     <use style=\"fill:#1f77b4;stroke:#1f77b4;\" x=\"248.041841\" xlink:href=\"#m26ead70382\" y=\"549.999478\"/>\r\n",
              "     <use style=\"fill:#1f77b4;stroke:#1f77b4;\" x=\"701.570058\" xlink:href=\"#m26ead70382\" y=\"550.211507\"/>\r\n",
              "     <use style=\"fill:#1f77b4;stroke:#1f77b4;\" x=\"461.959648\" xlink:href=\"#m26ead70382\" y=\"472.917292\"/>\r\n",
              "     <use style=\"fill:#1f77b4;stroke:#1f77b4;\" x=\"755.613446\" xlink:href=\"#m26ead70382\" y=\"550.172956\"/>\r\n",
              "     <use style=\"fill:#1f77b4;stroke:#1f77b4;\" x=\"355.228187\" xlink:href=\"#m26ead70382\" y=\"484.174105\"/>\r\n",
              "     <use style=\"fill:#1f77b4;stroke:#1f77b4;\" x=\"730.873433\" xlink:href=\"#m26ead70382\" y=\"476.753089\"/>\r\n",
              "     <use style=\"fill:#1f77b4;stroke:#1f77b4;\" x=\"649.743704\" xlink:href=\"#m26ead70382\" y=\"468.271929\"/>\r\n",
              "     <use style=\"fill:#1f77b4;stroke:#1f77b4;\" x=\"650.814243\" xlink:href=\"#m26ead70382\" y=\"434.443662\"/>\r\n",
              "     <use style=\"fill:#1f77b4;stroke:#1f77b4;\" x=\"542.194931\" xlink:href=\"#m26ead70382\" y=\"516.537444\"/>\r\n",
              "    </g>\r\n",
              "   </g>\r\n",
              "   <g id=\"matplotlib.axis_1\">\r\n",
              "    <g id=\"xtick_1\">\r\n",
              "     <g id=\"line2d_1\">\r\n",
              "      <defs>\r\n",
              "       <path d=\"M 0 0 \r\n",
              "L 0 3.5 \r\n",
              "\" id=\"m4286472647\" style=\"stroke:#000000;stroke-width:0.8;\"/>\r\n",
              "      </defs>\r\n",
              "      <g>\r\n",
              "       <use style=\"stroke:#000000;stroke-width:0.8;\" x=\"131.106911\" xlink:href=\"#m4286472647\" y=\"575.03625\"/>\r\n",
              "      </g>\r\n",
              "     </g>\r\n",
              "     <g id=\"text_1\">\r\n",
              "      <!-- 4.0 -->\r\n",
              "      <defs>\r\n",
              "       <path d=\"M 37.796875 64.3125 \r\n",
              "L 12.890625 25.390625 \r\n",
              "L 37.796875 25.390625 \r\n",
              "z\r\n",
              "M 35.203125 72.90625 \r\n",
              "L 47.609375 72.90625 \r\n",
              "L 47.609375 25.390625 \r\n",
              "L 58.015625 25.390625 \r\n",
              "L 58.015625 17.1875 \r\n",
              "L 47.609375 17.1875 \r\n",
              "L 47.609375 0 \r\n",
              "L 37.796875 0 \r\n",
              "L 37.796875 17.1875 \r\n",
              "L 4.890625 17.1875 \r\n",
              "L 4.890625 26.703125 \r\n",
              "z\r\n",
              "\" id=\"DejaVuSans-52\"/>\r\n",
              "       <path d=\"M 10.6875 12.40625 \r\n",
              "L 21 12.40625 \r\n",
              "L 21 0 \r\n",
              "L 10.6875 0 \r\n",
              "z\r\n",
              "\" id=\"DejaVuSans-46\"/>\r\n",
              "       <path d=\"M 31.78125 66.40625 \r\n",
              "Q 24.171875 66.40625 20.328125 58.90625 \r\n",
              "Q 16.5 51.421875 16.5 36.375 \r\n",
              "Q 16.5 21.390625 20.328125 13.890625 \r\n",
              "Q 24.171875 6.390625 31.78125 6.390625 \r\n",
              "Q 39.453125 6.390625 43.28125 13.890625 \r\n",
              "Q 47.125 21.390625 47.125 36.375 \r\n",
              "Q 47.125 51.421875 43.28125 58.90625 \r\n",
              "Q 39.453125 66.40625 31.78125 66.40625 \r\n",
              "z\r\n",
              "M 31.78125 74.21875 \r\n",
              "Q 44.046875 74.21875 50.515625 64.515625 \r\n",
              "Q 56.984375 54.828125 56.984375 36.375 \r\n",
              "Q 56.984375 17.96875 50.515625 8.265625 \r\n",
              "Q 44.046875 -1.421875 31.78125 -1.421875 \r\n",
              "Q 19.53125 -1.421875 13.0625 8.265625 \r\n",
              "Q 6.59375 17.96875 6.59375 36.375 \r\n",
              "Q 6.59375 54.828125 13.0625 64.515625 \r\n",
              "Q 19.53125 74.21875 31.78125 74.21875 \r\n",
              "z\r\n",
              "\" id=\"DejaVuSans-48\"/>\r\n",
              "      </defs>\r\n",
              "      <g transform=\"translate(115.203786 597.233125)scale(0.2 -0.2)\">\r\n",
              "       <use xlink:href=\"#DejaVuSans-52\"/>\r\n",
              "       <use x=\"63.623047\" xlink:href=\"#DejaVuSans-46\"/>\r\n",
              "       <use x=\"95.410156\" xlink:href=\"#DejaVuSans-48\"/>\r\n",
              "      </g>\r\n",
              "     </g>\r\n",
              "    </g>\r\n",
              "    <g id=\"xtick_2\">\r\n",
              "     <g id=\"line2d_2\">\r\n",
              "      <g>\r\n",
              "       <use style=\"stroke:#000000;stroke-width:0.8;\" x=\"269.722646\" xlink:href=\"#m4286472647\" y=\"575.03625\"/>\r\n",
              "      </g>\r\n",
              "     </g>\r\n",
              "     <g id=\"text_2\">\r\n",
              "      <!-- 4.5 -->\r\n",
              "      <defs>\r\n",
              "       <path d=\"M 10.796875 72.90625 \r\n",
              "L 49.515625 72.90625 \r\n",
              "L 49.515625 64.59375 \r\n",
              "L 19.828125 64.59375 \r\n",
              "L 19.828125 46.734375 \r\n",
              "Q 21.96875 47.46875 24.109375 47.828125 \r\n",
              "Q 26.265625 48.1875 28.421875 48.1875 \r\n",
              "Q 40.625 48.1875 47.75 41.5 \r\n",
              "Q 54.890625 34.8125 54.890625 23.390625 \r\n",
              "Q 54.890625 11.625 47.5625 5.09375 \r\n",
              "Q 40.234375 -1.421875 26.90625 -1.421875 \r\n",
              "Q 22.3125 -1.421875 17.546875 -0.640625 \r\n",
              "Q 12.796875 0.140625 7.71875 1.703125 \r\n",
              "L 7.71875 11.625 \r\n",
              "Q 12.109375 9.234375 16.796875 8.0625 \r\n",
              "Q 21.484375 6.890625 26.703125 6.890625 \r\n",
              "Q 35.15625 6.890625 40.078125 11.328125 \r\n",
              "Q 45.015625 15.765625 45.015625 23.390625 \r\n",
              "Q 45.015625 31 40.078125 35.4375 \r\n",
              "Q 35.15625 39.890625 26.703125 39.890625 \r\n",
              "Q 22.75 39.890625 18.8125 39.015625 \r\n",
              "Q 14.890625 38.140625 10.796875 36.28125 \r\n",
              "z\r\n",
              "\" id=\"DejaVuSans-53\"/>\r\n",
              "      </defs>\r\n",
              "      <g transform=\"translate(253.819521 597.233125)scale(0.2 -0.2)\">\r\n",
              "       <use xlink:href=\"#DejaVuSans-52\"/>\r\n",
              "       <use x=\"63.623047\" xlink:href=\"#DejaVuSans-46\"/>\r\n",
              "       <use x=\"95.410156\" xlink:href=\"#DejaVuSans-53\"/>\r\n",
              "      </g>\r\n",
              "     </g>\r\n",
              "    </g>\r\n",
              "    <g id=\"xtick_3\">\r\n",
              "     <g id=\"line2d_3\">\r\n",
              "      <g>\r\n",
              "       <use style=\"stroke:#000000;stroke-width:0.8;\" x=\"408.338382\" xlink:href=\"#m4286472647\" y=\"575.03625\"/>\r\n",
              "      </g>\r\n",
              "     </g>\r\n",
              "     <g id=\"text_3\">\r\n",
              "      <!-- 5.0 -->\r\n",
              "      <g transform=\"translate(392.435257 597.233125)scale(0.2 -0.2)\">\r\n",
              "       <use xlink:href=\"#DejaVuSans-53\"/>\r\n",
              "       <use x=\"63.623047\" xlink:href=\"#DejaVuSans-46\"/>\r\n",
              "       <use x=\"95.410156\" xlink:href=\"#DejaVuSans-48\"/>\r\n",
              "      </g>\r\n",
              "     </g>\r\n",
              "    </g>\r\n",
              "    <g id=\"xtick_4\">\r\n",
              "     <g id=\"line2d_4\">\r\n",
              "      <g>\r\n",
              "       <use style=\"stroke:#000000;stroke-width:0.8;\" x=\"546.954117\" xlink:href=\"#m4286472647\" y=\"575.03625\"/>\r\n",
              "      </g>\r\n",
              "     </g>\r\n",
              "     <g id=\"text_4\">\r\n",
              "      <!-- 5.5 -->\r\n",
              "      <g transform=\"translate(531.050992 597.233125)scale(0.2 -0.2)\">\r\n",
              "       <use xlink:href=\"#DejaVuSans-53\"/>\r\n",
              "       <use x=\"63.623047\" xlink:href=\"#DejaVuSans-46\"/>\r\n",
              "       <use x=\"95.410156\" xlink:href=\"#DejaVuSans-53\"/>\r\n",
              "      </g>\r\n",
              "     </g>\r\n",
              "    </g>\r\n",
              "    <g id=\"xtick_5\">\r\n",
              "     <g id=\"line2d_5\">\r\n",
              "      <g>\r\n",
              "       <use style=\"stroke:#000000;stroke-width:0.8;\" x=\"685.569853\" xlink:href=\"#m4286472647\" y=\"575.03625\"/>\r\n",
              "      </g>\r\n",
              "     </g>\r\n",
              "     <g id=\"text_5\">\r\n",
              "      <!-- 6.0 -->\r\n",
              "      <defs>\r\n",
              "       <path d=\"M 33.015625 40.375 \r\n",
              "Q 26.375 40.375 22.484375 35.828125 \r\n",
              "Q 18.609375 31.296875 18.609375 23.390625 \r\n",
              "Q 18.609375 15.53125 22.484375 10.953125 \r\n",
              "Q 26.375 6.390625 33.015625 6.390625 \r\n",
              "Q 39.65625 6.390625 43.53125 10.953125 \r\n",
              "Q 47.40625 15.53125 47.40625 23.390625 \r\n",
              "Q 47.40625 31.296875 43.53125 35.828125 \r\n",
              "Q 39.65625 40.375 33.015625 40.375 \r\n",
              "z\r\n",
              "M 52.59375 71.296875 \r\n",
              "L 52.59375 62.3125 \r\n",
              "Q 48.875 64.0625 45.09375 64.984375 \r\n",
              "Q 41.3125 65.921875 37.59375 65.921875 \r\n",
              "Q 27.828125 65.921875 22.671875 59.328125 \r\n",
              "Q 17.53125 52.734375 16.796875 39.40625 \r\n",
              "Q 19.671875 43.65625 24.015625 45.921875 \r\n",
              "Q 28.375 48.1875 33.59375 48.1875 \r\n",
              "Q 44.578125 48.1875 50.953125 41.515625 \r\n",
              "Q 57.328125 34.859375 57.328125 23.390625 \r\n",
              "Q 57.328125 12.15625 50.6875 5.359375 \r\n",
              "Q 44.046875 -1.421875 33.015625 -1.421875 \r\n",
              "Q 20.359375 -1.421875 13.671875 8.265625 \r\n",
              "Q 6.984375 17.96875 6.984375 36.375 \r\n",
              "Q 6.984375 53.65625 15.1875 63.9375 \r\n",
              "Q 23.390625 74.21875 37.203125 74.21875 \r\n",
              "Q 40.921875 74.21875 44.703125 73.484375 \r\n",
              "Q 48.484375 72.75 52.59375 71.296875 \r\n",
              "z\r\n",
              "\" id=\"DejaVuSans-54\"/>\r\n",
              "      </defs>\r\n",
              "      <g transform=\"translate(669.666728 597.233125)scale(0.2 -0.2)\">\r\n",
              "       <use xlink:href=\"#DejaVuSans-54\"/>\r\n",
              "       <use x=\"63.623047\" xlink:href=\"#DejaVuSans-46\"/>\r\n",
              "       <use x=\"95.410156\" xlink:href=\"#DejaVuSans-48\"/>\r\n",
              "      </g>\r\n",
              "     </g>\r\n",
              "    </g>\r\n",
              "    <g id=\"xtick_6\">\r\n",
              "     <g id=\"line2d_6\">\r\n",
              "      <g>\r\n",
              "       <use style=\"stroke:#000000;stroke-width:0.8;\" x=\"824.185589\" xlink:href=\"#m4286472647\" y=\"575.03625\"/>\r\n",
              "      </g>\r\n",
              "     </g>\r\n",
              "     <g id=\"text_6\">\r\n",
              "      <!-- 6.5 -->\r\n",
              "      <g transform=\"translate(808.282464 597.233125)scale(0.2 -0.2)\">\r\n",
              "       <use xlink:href=\"#DejaVuSans-54\"/>\r\n",
              "       <use x=\"63.623047\" xlink:href=\"#DejaVuSans-46\"/>\r\n",
              "       <use x=\"95.410156\" xlink:href=\"#DejaVuSans-53\"/>\r\n",
              "      </g>\r\n",
              "     </g>\r\n",
              "    </g>\r\n",
              "    <g id=\"xtick_7\">\r\n",
              "     <g id=\"line2d_7\">\r\n",
              "      <g>\r\n",
              "       <use style=\"stroke:#000000;stroke-width:0.8;\" x=\"962.801324\" xlink:href=\"#m4286472647\" y=\"575.03625\"/>\r\n",
              "      </g>\r\n",
              "     </g>\r\n",
              "     <g id=\"text_7\">\r\n",
              "      <!-- 7.0 -->\r\n",
              "      <defs>\r\n",
              "       <path d=\"M 8.203125 72.90625 \r\n",
              "L 55.078125 72.90625 \r\n",
              "L 55.078125 68.703125 \r\n",
              "L 28.609375 0 \r\n",
              "L 18.3125 0 \r\n",
              "L 43.21875 64.59375 \r\n",
              "L 8.203125 64.59375 \r\n",
              "z\r\n",
              "\" id=\"DejaVuSans-55\"/>\r\n",
              "      </defs>\r\n",
              "      <g transform=\"translate(946.898199 597.233125)scale(0.2 -0.2)\">\r\n",
              "       <use xlink:href=\"#DejaVuSans-55\"/>\r\n",
              "       <use x=\"63.623047\" xlink:href=\"#DejaVuSans-46\"/>\r\n",
              "       <use x=\"95.410156\" xlink:href=\"#DejaVuSans-48\"/>\r\n",
              "      </g>\r\n",
              "     </g>\r\n",
              "    </g>\r\n",
              "    <g id=\"xtick_8\">\r\n",
              "     <g id=\"line2d_8\">\r\n",
              "      <g>\r\n",
              "       <use style=\"stroke:#000000;stroke-width:0.8;\" x=\"1101.41706\" xlink:href=\"#m4286472647\" y=\"575.03625\"/>\r\n",
              "      </g>\r\n",
              "     </g>\r\n",
              "     <g id=\"text_8\">\r\n",
              "      <!-- 7.5 -->\r\n",
              "      <g transform=\"translate(1085.513935 597.233125)scale(0.2 -0.2)\">\r\n",
              "       <use xlink:href=\"#DejaVuSans-55\"/>\r\n",
              "       <use x=\"63.623047\" xlink:href=\"#DejaVuSans-46\"/>\r\n",
              "       <use x=\"95.410156\" xlink:href=\"#DejaVuSans-53\"/>\r\n",
              "      </g>\r\n",
              "     </g>\r\n",
              "    </g>\r\n",
              "    <g id=\"text_9\">\r\n",
              "     <!-- rating_adjusted -->\r\n",
              "     <defs>\r\n",
              "      <path d=\"M 41.109375 46.296875 \r\n",
              "Q 39.59375 47.171875 37.8125 47.578125 \r\n",
              "Q 36.03125 48 33.890625 48 \r\n",
              "Q 26.265625 48 22.1875 43.046875 \r\n",
              "Q 18.109375 38.09375 18.109375 28.8125 \r\n",
              "L 18.109375 0 \r\n",
              "L 9.078125 0 \r\n",
              "L 9.078125 54.6875 \r\n",
              "L 18.109375 54.6875 \r\n",
              "L 18.109375 46.1875 \r\n",
              "Q 20.953125 51.171875 25.484375 53.578125 \r\n",
              "Q 30.03125 56 36.53125 56 \r\n",
              "Q 37.453125 56 38.578125 55.875 \r\n",
              "Q 39.703125 55.765625 41.0625 55.515625 \r\n",
              "z\r\n",
              "\" id=\"DejaVuSans-114\"/>\r\n",
              "      <path d=\"M 34.28125 27.484375 \r\n",
              "Q 23.390625 27.484375 19.1875 25 \r\n",
              "Q 14.984375 22.515625 14.984375 16.5 \r\n",
              "Q 14.984375 11.71875 18.140625 8.90625 \r\n",
              "Q 21.296875 6.109375 26.703125 6.109375 \r\n",
              "Q 34.1875 6.109375 38.703125 11.40625 \r\n",
              "Q 43.21875 16.703125 43.21875 25.484375 \r\n",
              "L 43.21875 27.484375 \r\n",
              "z\r\n",
              "M 52.203125 31.203125 \r\n",
              "L 52.203125 0 \r\n",
              "L 43.21875 0 \r\n",
              "L 43.21875 8.296875 \r\n",
              "Q 40.140625 3.328125 35.546875 0.953125 \r\n",
              "Q 30.953125 -1.421875 24.3125 -1.421875 \r\n",
              "Q 15.921875 -1.421875 10.953125 3.296875 \r\n",
              "Q 6 8.015625 6 15.921875 \r\n",
              "Q 6 25.140625 12.171875 29.828125 \r\n",
              "Q 18.359375 34.515625 30.609375 34.515625 \r\n",
              "L 43.21875 34.515625 \r\n",
              "L 43.21875 35.40625 \r\n",
              "Q 43.21875 41.609375 39.140625 45 \r\n",
              "Q 35.0625 48.390625 27.6875 48.390625 \r\n",
              "Q 23 48.390625 18.546875 47.265625 \r\n",
              "Q 14.109375 46.140625 10.015625 43.890625 \r\n",
              "L 10.015625 52.203125 \r\n",
              "Q 14.9375 54.109375 19.578125 55.046875 \r\n",
              "Q 24.21875 56 28.609375 56 \r\n",
              "Q 40.484375 56 46.34375 49.84375 \r\n",
              "Q 52.203125 43.703125 52.203125 31.203125 \r\n",
              "z\r\n",
              "\" id=\"DejaVuSans-97\"/>\r\n",
              "      <path d=\"M 18.3125 70.21875 \r\n",
              "L 18.3125 54.6875 \r\n",
              "L 36.8125 54.6875 \r\n",
              "L 36.8125 47.703125 \r\n",
              "L 18.3125 47.703125 \r\n",
              "L 18.3125 18.015625 \r\n",
              "Q 18.3125 11.328125 20.140625 9.421875 \r\n",
              "Q 21.96875 7.515625 27.59375 7.515625 \r\n",
              "L 36.8125 7.515625 \r\n",
              "L 36.8125 0 \r\n",
              "L 27.59375 0 \r\n",
              "Q 17.1875 0 13.234375 3.875 \r\n",
              "Q 9.28125 7.765625 9.28125 18.015625 \r\n",
              "L 9.28125 47.703125 \r\n",
              "L 2.6875 47.703125 \r\n",
              "L 2.6875 54.6875 \r\n",
              "L 9.28125 54.6875 \r\n",
              "L 9.28125 70.21875 \r\n",
              "z\r\n",
              "\" id=\"DejaVuSans-116\"/>\r\n",
              "      <path d=\"M 9.421875 54.6875 \r\n",
              "L 18.40625 54.6875 \r\n",
              "L 18.40625 0 \r\n",
              "L 9.421875 0 \r\n",
              "z\r\n",
              "M 9.421875 75.984375 \r\n",
              "L 18.40625 75.984375 \r\n",
              "L 18.40625 64.59375 \r\n",
              "L 9.421875 64.59375 \r\n",
              "z\r\n",
              "\" id=\"DejaVuSans-105\"/>\r\n",
              "      <path d=\"M 54.890625 33.015625 \r\n",
              "L 54.890625 0 \r\n",
              "L 45.90625 0 \r\n",
              "L 45.90625 32.71875 \r\n",
              "Q 45.90625 40.484375 42.875 44.328125 \r\n",
              "Q 39.84375 48.1875 33.796875 48.1875 \r\n",
              "Q 26.515625 48.1875 22.3125 43.546875 \r\n",
              "Q 18.109375 38.921875 18.109375 30.90625 \r\n",
              "L 18.109375 0 \r\n",
              "L 9.078125 0 \r\n",
              "L 9.078125 54.6875 \r\n",
              "L 18.109375 54.6875 \r\n",
              "L 18.109375 46.1875 \r\n",
              "Q 21.34375 51.125 25.703125 53.5625 \r\n",
              "Q 30.078125 56 35.796875 56 \r\n",
              "Q 45.21875 56 50.046875 50.171875 \r\n",
              "Q 54.890625 44.34375 54.890625 33.015625 \r\n",
              "z\r\n",
              "\" id=\"DejaVuSans-110\"/>\r\n",
              "      <path d=\"M 45.40625 27.984375 \r\n",
              "Q 45.40625 37.75 41.375 43.109375 \r\n",
              "Q 37.359375 48.484375 30.078125 48.484375 \r\n",
              "Q 22.859375 48.484375 18.828125 43.109375 \r\n",
              "Q 14.796875 37.75 14.796875 27.984375 \r\n",
              "Q 14.796875 18.265625 18.828125 12.890625 \r\n",
              "Q 22.859375 7.515625 30.078125 7.515625 \r\n",
              "Q 37.359375 7.515625 41.375 12.890625 \r\n",
              "Q 45.40625 18.265625 45.40625 27.984375 \r\n",
              "z\r\n",
              "M 54.390625 6.78125 \r\n",
              "Q 54.390625 -7.171875 48.1875 -13.984375 \r\n",
              "Q 42 -20.796875 29.203125 -20.796875 \r\n",
              "Q 24.46875 -20.796875 20.265625 -20.09375 \r\n",
              "Q 16.0625 -19.390625 12.109375 -17.921875 \r\n",
              "L 12.109375 -9.1875 \r\n",
              "Q 16.0625 -11.328125 19.921875 -12.34375 \r\n",
              "Q 23.78125 -13.375 27.78125 -13.375 \r\n",
              "Q 36.625 -13.375 41.015625 -8.765625 \r\n",
              "Q 45.40625 -4.15625 45.40625 5.171875 \r\n",
              "L 45.40625 9.625 \r\n",
              "Q 42.625 4.78125 38.28125 2.390625 \r\n",
              "Q 33.9375 0 27.875 0 \r\n",
              "Q 17.828125 0 11.671875 7.65625 \r\n",
              "Q 5.515625 15.328125 5.515625 27.984375 \r\n",
              "Q 5.515625 40.671875 11.671875 48.328125 \r\n",
              "Q 17.828125 56 27.875 56 \r\n",
              "Q 33.9375 56 38.28125 53.609375 \r\n",
              "Q 42.625 51.21875 45.40625 46.390625 \r\n",
              "L 45.40625 54.6875 \r\n",
              "L 54.390625 54.6875 \r\n",
              "z\r\n",
              "\" id=\"DejaVuSans-103\"/>\r\n",
              "      <path d=\"M 50.984375 -16.609375 \r\n",
              "L 50.984375 -23.578125 \r\n",
              "L -0.984375 -23.578125 \r\n",
              "L -0.984375 -16.609375 \r\n",
              "z\r\n",
              "\" id=\"DejaVuSans-95\"/>\r\n",
              "      <path d=\"M 45.40625 46.390625 \r\n",
              "L 45.40625 75.984375 \r\n",
              "L 54.390625 75.984375 \r\n",
              "L 54.390625 0 \r\n",
              "L 45.40625 0 \r\n",
              "L 45.40625 8.203125 \r\n",
              "Q 42.578125 3.328125 38.25 0.953125 \r\n",
              "Q 33.9375 -1.421875 27.875 -1.421875 \r\n",
              "Q 17.96875 -1.421875 11.734375 6.484375 \r\n",
              "Q 5.515625 14.40625 5.515625 27.296875 \r\n",
              "Q 5.515625 40.1875 11.734375 48.09375 \r\n",
              "Q 17.96875 56 27.875 56 \r\n",
              "Q 33.9375 56 38.25 53.625 \r\n",
              "Q 42.578125 51.265625 45.40625 46.390625 \r\n",
              "z\r\n",
              "M 14.796875 27.296875 \r\n",
              "Q 14.796875 17.390625 18.875 11.75 \r\n",
              "Q 22.953125 6.109375 30.078125 6.109375 \r\n",
              "Q 37.203125 6.109375 41.296875 11.75 \r\n",
              "Q 45.40625 17.390625 45.40625 27.296875 \r\n",
              "Q 45.40625 37.203125 41.296875 42.84375 \r\n",
              "Q 37.203125 48.484375 30.078125 48.484375 \r\n",
              "Q 22.953125 48.484375 18.875 42.84375 \r\n",
              "Q 14.796875 37.203125 14.796875 27.296875 \r\n",
              "z\r\n",
              "\" id=\"DejaVuSans-100\"/>\r\n",
              "      <path d=\"M 9.421875 54.6875 \r\n",
              "L 18.40625 54.6875 \r\n",
              "L 18.40625 -0.984375 \r\n",
              "Q 18.40625 -11.421875 14.421875 -16.109375 \r\n",
              "Q 10.453125 -20.796875 1.609375 -20.796875 \r\n",
              "L -1.8125 -20.796875 \r\n",
              "L -1.8125 -13.1875 \r\n",
              "L 0.59375 -13.1875 \r\n",
              "Q 5.71875 -13.1875 7.5625 -10.8125 \r\n",
              "Q 9.421875 -8.453125 9.421875 -0.984375 \r\n",
              "z\r\n",
              "M 9.421875 75.984375 \r\n",
              "L 18.40625 75.984375 \r\n",
              "L 18.40625 64.59375 \r\n",
              "L 9.421875 64.59375 \r\n",
              "z\r\n",
              "\" id=\"DejaVuSans-106\"/>\r\n",
              "      <path d=\"M 8.5 21.578125 \r\n",
              "L 8.5 54.6875 \r\n",
              "L 17.484375 54.6875 \r\n",
              "L 17.484375 21.921875 \r\n",
              "Q 17.484375 14.15625 20.5 10.265625 \r\n",
              "Q 23.53125 6.390625 29.59375 6.390625 \r\n",
              "Q 36.859375 6.390625 41.078125 11.03125 \r\n",
              "Q 45.3125 15.671875 45.3125 23.6875 \r\n",
              "L 45.3125 54.6875 \r\n",
              "L 54.296875 54.6875 \r\n",
              "L 54.296875 0 \r\n",
              "L 45.3125 0 \r\n",
              "L 45.3125 8.40625 \r\n",
              "Q 42.046875 3.421875 37.71875 1 \r\n",
              "Q 33.40625 -1.421875 27.6875 -1.421875 \r\n",
              "Q 18.265625 -1.421875 13.375 4.4375 \r\n",
              "Q 8.5 10.296875 8.5 21.578125 \r\n",
              "z\r\n",
              "M 31.109375 56 \r\n",
              "z\r\n",
              "\" id=\"DejaVuSans-117\"/>\r\n",
              "      <path d=\"M 44.28125 53.078125 \r\n",
              "L 44.28125 44.578125 \r\n",
              "Q 40.484375 46.53125 36.375 47.5 \r\n",
              "Q 32.28125 48.484375 27.875 48.484375 \r\n",
              "Q 21.1875 48.484375 17.84375 46.4375 \r\n",
              "Q 14.5 44.390625 14.5 40.28125 \r\n",
              "Q 14.5 37.15625 16.890625 35.375 \r\n",
              "Q 19.28125 33.59375 26.515625 31.984375 \r\n",
              "L 29.59375 31.296875 \r\n",
              "Q 39.15625 29.25 43.1875 25.515625 \r\n",
              "Q 47.21875 21.78125 47.21875 15.09375 \r\n",
              "Q 47.21875 7.46875 41.1875 3.015625 \r\n",
              "Q 35.15625 -1.421875 24.609375 -1.421875 \r\n",
              "Q 20.21875 -1.421875 15.453125 -0.5625 \r\n",
              "Q 10.6875 0.296875 5.421875 2 \r\n",
              "L 5.421875 11.28125 \r\n",
              "Q 10.40625 8.6875 15.234375 7.390625 \r\n",
              "Q 20.0625 6.109375 24.8125 6.109375 \r\n",
              "Q 31.15625 6.109375 34.5625 8.28125 \r\n",
              "Q 37.984375 10.453125 37.984375 14.40625 \r\n",
              "Q 37.984375 18.0625 35.515625 20.015625 \r\n",
              "Q 33.0625 21.96875 24.703125 23.78125 \r\n",
              "L 21.578125 24.515625 \r\n",
              "Q 13.234375 26.265625 9.515625 29.90625 \r\n",
              "Q 5.8125 33.546875 5.8125 39.890625 \r\n",
              "Q 5.8125 47.609375 11.28125 51.796875 \r\n",
              "Q 16.75 56 26.8125 56 \r\n",
              "Q 31.78125 56 36.171875 55.265625 \r\n",
              "Q 40.578125 54.546875 44.28125 53.078125 \r\n",
              "z\r\n",
              "\" id=\"DejaVuSans-115\"/>\r\n",
              "      <path d=\"M 56.203125 29.59375 \r\n",
              "L 56.203125 25.203125 \r\n",
              "L 14.890625 25.203125 \r\n",
              "Q 15.484375 15.921875 20.484375 11.0625 \r\n",
              "Q 25.484375 6.203125 34.421875 6.203125 \r\n",
              "Q 39.59375 6.203125 44.453125 7.46875 \r\n",
              "Q 49.3125 8.734375 54.109375 11.28125 \r\n",
              "L 54.109375 2.78125 \r\n",
              "Q 49.265625 0.734375 44.1875 -0.34375 \r\n",
              "Q 39.109375 -1.421875 33.890625 -1.421875 \r\n",
              "Q 20.796875 -1.421875 13.15625 6.1875 \r\n",
              "Q 5.515625 13.8125 5.515625 26.8125 \r\n",
              "Q 5.515625 40.234375 12.765625 48.109375 \r\n",
              "Q 20.015625 56 32.328125 56 \r\n",
              "Q 43.359375 56 49.78125 48.890625 \r\n",
              "Q 56.203125 41.796875 56.203125 29.59375 \r\n",
              "z\r\n",
              "M 47.21875 32.234375 \r\n",
              "Q 47.125 39.59375 43.09375 43.984375 \r\n",
              "Q 39.0625 48.390625 32.421875 48.390625 \r\n",
              "Q 24.90625 48.390625 20.390625 44.140625 \r\n",
              "Q 15.875 39.890625 15.1875 32.171875 \r\n",
              "z\r\n",
              "\" id=\"DejaVuSans-101\"/>\r\n",
              "     </defs>\r\n",
              "     <g transform=\"translate(556.440625 620.589375)scale(0.2 -0.2)\">\r\n",
              "      <use xlink:href=\"#DejaVuSans-114\"/>\r\n",
              "      <use x=\"41.113281\" xlink:href=\"#DejaVuSans-97\"/>\r\n",
              "      <use x=\"102.392578\" xlink:href=\"#DejaVuSans-116\"/>\r\n",
              "      <use x=\"141.601562\" xlink:href=\"#DejaVuSans-105\"/>\r\n",
              "      <use x=\"169.384766\" xlink:href=\"#DejaVuSans-110\"/>\r\n",
              "      <use x=\"232.763672\" xlink:href=\"#DejaVuSans-103\"/>\r\n",
              "      <use x=\"296.240234\" xlink:href=\"#DejaVuSans-95\"/>\r\n",
              "      <use x=\"346.240234\" xlink:href=\"#DejaVuSans-97\"/>\r\n",
              "      <use x=\"407.519531\" xlink:href=\"#DejaVuSans-100\"/>\r\n",
              "      <use x=\"470.996094\" xlink:href=\"#DejaVuSans-106\"/>\r\n",
              "      <use x=\"498.779297\" xlink:href=\"#DejaVuSans-117\"/>\r\n",
              "      <use x=\"562.158203\" xlink:href=\"#DejaVuSans-115\"/>\r\n",
              "      <use x=\"614.257812\" xlink:href=\"#DejaVuSans-116\"/>\r\n",
              "      <use x=\"653.466797\" xlink:href=\"#DejaVuSans-101\"/>\r\n",
              "      <use x=\"714.990234\" xlink:href=\"#DejaVuSans-100\"/>\r\n",
              "     </g>\r\n",
              "    </g>\r\n",
              "   </g>\r\n",
              "   <g id=\"matplotlib.axis_2\">\r\n",
              "    <g id=\"ytick_1\">\r\n",
              "     <g id=\"line2d_9\">\r\n",
              "      <defs>\r\n",
              "       <path d=\"M 0 0 \r\n",
              "L -3.5 0 \r\n",
              "\" id=\"m9c8e707f5a\" style=\"stroke:#000000;stroke-width:0.8;\"/>\r\n",
              "      </defs>\r\n",
              "      <g>\r\n",
              "       <use style=\"stroke:#000000;stroke-width:0.8;\" x=\"76.2875\" xlink:href=\"#m9c8e707f5a\" y=\"550.346434\"/>\r\n",
              "      </g>\r\n",
              "     </g>\r\n",
              "     <g id=\"text_10\">\r\n",
              "      <!-- 0 -->\r\n",
              "      <g transform=\"translate(56.5625 557.944872)scale(0.2 -0.2)\">\r\n",
              "       <use xlink:href=\"#DejaVuSans-48\"/>\r\n",
              "      </g>\r\n",
              "     </g>\r\n",
              "    </g>\r\n",
              "    <g id=\"ytick_2\">\r\n",
              "     <g id=\"line2d_10\">\r\n",
              "      <g>\r\n",
              "       <use style=\"stroke:#000000;stroke-width:0.8;\" x=\"76.2875\" xlink:href=\"#m9c8e707f5a\" y=\"453.969607\"/>\r\n",
              "      </g>\r\n",
              "     </g>\r\n",
              "     <g id=\"text_11\">\r\n",
              "      <!-- 50 -->\r\n",
              "      <g transform=\"translate(43.8375 461.568045)scale(0.2 -0.2)\">\r\n",
              "       <use xlink:href=\"#DejaVuSans-53\"/>\r\n",
              "       <use x=\"63.623047\" xlink:href=\"#DejaVuSans-48\"/>\r\n",
              "      </g>\r\n",
              "     </g>\r\n",
              "    </g>\r\n",
              "    <g id=\"ytick_3\">\r\n",
              "     <g id=\"line2d_11\">\r\n",
              "      <g>\r\n",
              "       <use style=\"stroke:#000000;stroke-width:0.8;\" x=\"76.2875\" xlink:href=\"#m9c8e707f5a\" y=\"357.59278\"/>\r\n",
              "      </g>\r\n",
              "     </g>\r\n",
              "     <g id=\"text_12\">\r\n",
              "      <!-- 100 -->\r\n",
              "      <defs>\r\n",
              "       <path d=\"M 12.40625 8.296875 \r\n",
              "L 28.515625 8.296875 \r\n",
              "L 28.515625 63.921875 \r\n",
              "L 10.984375 60.40625 \r\n",
              "L 10.984375 69.390625 \r\n",
              "L 28.421875 72.90625 \r\n",
              "L 38.28125 72.90625 \r\n",
              "L 38.28125 8.296875 \r\n",
              "L 54.390625 8.296875 \r\n",
              "L 54.390625 0 \r\n",
              "L 12.40625 0 \r\n",
              "z\r\n",
              "\" id=\"DejaVuSans-49\"/>\r\n",
              "      </defs>\r\n",
              "      <g transform=\"translate(31.1125 365.191218)scale(0.2 -0.2)\">\r\n",
              "       <use xlink:href=\"#DejaVuSans-49\"/>\r\n",
              "       <use x=\"63.623047\" xlink:href=\"#DejaVuSans-48\"/>\r\n",
              "       <use x=\"127.246094\" xlink:href=\"#DejaVuSans-48\"/>\r\n",
              "      </g>\r\n",
              "     </g>\r\n",
              "    </g>\r\n",
              "    <g id=\"ytick_4\">\r\n",
              "     <g id=\"line2d_12\">\r\n",
              "      <g>\r\n",
              "       <use style=\"stroke:#000000;stroke-width:0.8;\" x=\"76.2875\" xlink:href=\"#m9c8e707f5a\" y=\"261.215953\"/>\r\n",
              "      </g>\r\n",
              "     </g>\r\n",
              "     <g id=\"text_13\">\r\n",
              "      <!-- 150 -->\r\n",
              "      <g transform=\"translate(31.1125 268.814391)scale(0.2 -0.2)\">\r\n",
              "       <use xlink:href=\"#DejaVuSans-49\"/>\r\n",
              "       <use x=\"63.623047\" xlink:href=\"#DejaVuSans-53\"/>\r\n",
              "       <use x=\"127.246094\" xlink:href=\"#DejaVuSans-48\"/>\r\n",
              "      </g>\r\n",
              "     </g>\r\n",
              "    </g>\r\n",
              "    <g id=\"ytick_5\">\r\n",
              "     <g id=\"line2d_13\">\r\n",
              "      <g>\r\n",
              "       <use style=\"stroke:#000000;stroke-width:0.8;\" x=\"76.2875\" xlink:href=\"#m9c8e707f5a\" y=\"164.839126\"/>\r\n",
              "      </g>\r\n",
              "     </g>\r\n",
              "     <g id=\"text_14\">\r\n",
              "      <!-- 200 -->\r\n",
              "      <defs>\r\n",
              "       <path d=\"M 19.1875 8.296875 \r\n",
              "L 53.609375 8.296875 \r\n",
              "L 53.609375 0 \r\n",
              "L 7.328125 0 \r\n",
              "L 7.328125 8.296875 \r\n",
              "Q 12.9375 14.109375 22.625 23.890625 \r\n",
              "Q 32.328125 33.6875 34.8125 36.53125 \r\n",
              "Q 39.546875 41.84375 41.421875 45.53125 \r\n",
              "Q 43.3125 49.21875 43.3125 52.78125 \r\n",
              "Q 43.3125 58.59375 39.234375 62.25 \r\n",
              "Q 35.15625 65.921875 28.609375 65.921875 \r\n",
              "Q 23.96875 65.921875 18.8125 64.3125 \r\n",
              "Q 13.671875 62.703125 7.8125 59.421875 \r\n",
              "L 7.8125 69.390625 \r\n",
              "Q 13.765625 71.78125 18.9375 73 \r\n",
              "Q 24.125 74.21875 28.421875 74.21875 \r\n",
              "Q 39.75 74.21875 46.484375 68.546875 \r\n",
              "Q 53.21875 62.890625 53.21875 53.421875 \r\n",
              "Q 53.21875 48.921875 51.53125 44.890625 \r\n",
              "Q 49.859375 40.875 45.40625 35.40625 \r\n",
              "Q 44.1875 33.984375 37.640625 27.21875 \r\n",
              "Q 31.109375 20.453125 19.1875 8.296875 \r\n",
              "z\r\n",
              "\" id=\"DejaVuSans-50\"/>\r\n",
              "      </defs>\r\n",
              "      <g transform=\"translate(31.1125 172.437564)scale(0.2 -0.2)\">\r\n",
              "       <use xlink:href=\"#DejaVuSans-50\"/>\r\n",
              "       <use x=\"63.623047\" xlink:href=\"#DejaVuSans-48\"/>\r\n",
              "       <use x=\"127.246094\" xlink:href=\"#DejaVuSans-48\"/>\r\n",
              "      </g>\r\n",
              "     </g>\r\n",
              "    </g>\r\n",
              "    <g id=\"ytick_6\">\r\n",
              "     <g id=\"line2d_14\">\r\n",
              "      <g>\r\n",
              "       <use style=\"stroke:#000000;stroke-width:0.8;\" x=\"76.2875\" xlink:href=\"#m9c8e707f5a\" y=\"68.462299\"/>\r\n",
              "      </g>\r\n",
              "     </g>\r\n",
              "     <g id=\"text_15\">\r\n",
              "      <!-- 250 -->\r\n",
              "      <g transform=\"translate(31.1125 76.060737)scale(0.2 -0.2)\">\r\n",
              "       <use xlink:href=\"#DejaVuSans-50\"/>\r\n",
              "       <use x=\"63.623047\" xlink:href=\"#DejaVuSans-53\"/>\r\n",
              "       <use x=\"127.246094\" xlink:href=\"#DejaVuSans-48\"/>\r\n",
              "      </g>\r\n",
              "     </g>\r\n",
              "    </g>\r\n",
              "    <g id=\"text_16\">\r\n",
              "     <!-- revenue_millions -->\r\n",
              "     <defs>\r\n",
              "      <path d=\"M 2.984375 54.6875 \r\n",
              "L 12.5 54.6875 \r\n",
              "L 29.59375 8.796875 \r\n",
              "L 46.6875 54.6875 \r\n",
              "L 56.203125 54.6875 \r\n",
              "L 35.6875 0 \r\n",
              "L 23.484375 0 \r\n",
              "z\r\n",
              "\" id=\"DejaVuSans-118\"/>\r\n",
              "      <path d=\"M 52 44.1875 \r\n",
              "Q 55.375 50.25 60.0625 53.125 \r\n",
              "Q 64.75 56 71.09375 56 \r\n",
              "Q 79.640625 56 84.28125 50.015625 \r\n",
              "Q 88.921875 44.046875 88.921875 33.015625 \r\n",
              "L 88.921875 0 \r\n",
              "L 79.890625 0 \r\n",
              "L 79.890625 32.71875 \r\n",
              "Q 79.890625 40.578125 77.09375 44.375 \r\n",
              "Q 74.3125 48.1875 68.609375 48.1875 \r\n",
              "Q 61.625 48.1875 57.5625 43.546875 \r\n",
              "Q 53.515625 38.921875 53.515625 30.90625 \r\n",
              "L 53.515625 0 \r\n",
              "L 44.484375 0 \r\n",
              "L 44.484375 32.71875 \r\n",
              "Q 44.484375 40.625 41.703125 44.40625 \r\n",
              "Q 38.921875 48.1875 33.109375 48.1875 \r\n",
              "Q 26.21875 48.1875 22.15625 43.53125 \r\n",
              "Q 18.109375 38.875 18.109375 30.90625 \r\n",
              "L 18.109375 0 \r\n",
              "L 9.078125 0 \r\n",
              "L 9.078125 54.6875 \r\n",
              "L 18.109375 54.6875 \r\n",
              "L 18.109375 46.1875 \r\n",
              "Q 21.1875 51.21875 25.484375 53.609375 \r\n",
              "Q 29.78125 56 35.6875 56 \r\n",
              "Q 41.65625 56 45.828125 52.96875 \r\n",
              "Q 50 49.953125 52 44.1875 \r\n",
              "z\r\n",
              "\" id=\"DejaVuSans-109\"/>\r\n",
              "      <path d=\"M 9.421875 75.984375 \r\n",
              "L 18.40625 75.984375 \r\n",
              "L 18.40625 0 \r\n",
              "L 9.421875 0 \r\n",
              "z\r\n",
              "\" id=\"DejaVuSans-108\"/>\r\n",
              "      <path d=\"M 30.609375 48.390625 \r\n",
              "Q 23.390625 48.390625 19.1875 42.75 \r\n",
              "Q 14.984375 37.109375 14.984375 27.296875 \r\n",
              "Q 14.984375 17.484375 19.15625 11.84375 \r\n",
              "Q 23.34375 6.203125 30.609375 6.203125 \r\n",
              "Q 37.796875 6.203125 41.984375 11.859375 \r\n",
              "Q 46.1875 17.53125 46.1875 27.296875 \r\n",
              "Q 46.1875 37.015625 41.984375 42.703125 \r\n",
              "Q 37.796875 48.390625 30.609375 48.390625 \r\n",
              "z\r\n",
              "M 30.609375 56 \r\n",
              "Q 42.328125 56 49.015625 48.375 \r\n",
              "Q 55.71875 40.765625 55.71875 27.296875 \r\n",
              "Q 55.71875 13.875 49.015625 6.21875 \r\n",
              "Q 42.328125 -1.421875 30.609375 -1.421875 \r\n",
              "Q 18.84375 -1.421875 12.171875 6.21875 \r\n",
              "Q 5.515625 13.875 5.515625 27.296875 \r\n",
              "Q 5.515625 40.765625 12.171875 48.375 \r\n",
              "Q 18.84375 56 30.609375 56 \r\n",
              "z\r\n",
              "\" id=\"DejaVuSans-111\"/>\r\n",
              "     </defs>\r\n",
              "     <g transform=\"translate(22.396875 387.694062)rotate(-90)scale(0.2 -0.2)\">\r\n",
              "      <use xlink:href=\"#DejaVuSans-114\"/>\r\n",
              "      <use x=\"38.863281\" xlink:href=\"#DejaVuSans-101\"/>\r\n",
              "      <use x=\"100.386719\" xlink:href=\"#DejaVuSans-118\"/>\r\n",
              "      <use x=\"159.566406\" xlink:href=\"#DejaVuSans-101\"/>\r\n",
              "      <use x=\"221.089844\" xlink:href=\"#DejaVuSans-110\"/>\r\n",
              "      <use x=\"284.46875\" xlink:href=\"#DejaVuSans-117\"/>\r\n",
              "      <use x=\"347.847656\" xlink:href=\"#DejaVuSans-101\"/>\r\n",
              "      <use x=\"409.371094\" xlink:href=\"#DejaVuSans-95\"/>\r\n",
              "      <use x=\"459.371094\" xlink:href=\"#DejaVuSans-109\"/>\r\n",
              "      <use x=\"556.783203\" xlink:href=\"#DejaVuSans-105\"/>\r\n",
              "      <use x=\"584.566406\" xlink:href=\"#DejaVuSans-108\"/>\r\n",
              "      <use x=\"612.349609\" xlink:href=\"#DejaVuSans-108\"/>\r\n",
              "      <use x=\"640.132812\" xlink:href=\"#DejaVuSans-105\"/>\r\n",
              "      <use x=\"667.916016\" xlink:href=\"#DejaVuSans-111\"/>\r\n",
              "      <use x=\"729.097656\" xlink:href=\"#DejaVuSans-110\"/>\r\n",
              "      <use x=\"792.476562\" xlink:href=\"#DejaVuSans-115\"/>\r\n",
              "     </g>\r\n",
              "    </g>\r\n",
              "   </g>\r\n",
              "   <g id=\"patch_3\">\r\n",
              "    <path d=\"M 76.2875 575.03625 \r\n",
              "L 76.2875 31.43625 \r\n",
              "\" style=\"fill:none;stroke:#000000;stroke-linecap:square;stroke-linejoin:miter;stroke-width:0.8;\"/>\r\n",
              "   </g>\r\n",
              "   <g id=\"patch_4\">\r\n",
              "    <path d=\"M 1192.2875 575.03625 \r\n",
              "L 1192.2875 31.43625 \r\n",
              "\" style=\"fill:none;stroke:#000000;stroke-linecap:square;stroke-linejoin:miter;stroke-width:0.8;\"/>\r\n",
              "   </g>\r\n",
              "   <g id=\"patch_5\">\r\n",
              "    <path d=\"M 76.2875 575.03625 \r\n",
              "L 1192.2875 575.03625 \r\n",
              "\" style=\"fill:none;stroke:#000000;stroke-linecap:square;stroke-linejoin:miter;stroke-width:0.8;\"/>\r\n",
              "   </g>\r\n",
              "   <g id=\"patch_6\">\r\n",
              "    <path d=\"M 76.2875 31.43625 \r\n",
              "L 1192.2875 31.43625 \r\n",
              "\" style=\"fill:none;stroke:#000000;stroke-linecap:square;stroke-linejoin:miter;stroke-width:0.8;\"/>\r\n",
              "   </g>\r\n",
              "   <g id=\"text_17\">\r\n",
              "    <!-- Horror -->\r\n",
              "    <defs>\r\n",
              "     <path d=\"M 9.8125 72.90625 \r\n",
              "L 19.671875 72.90625 \r\n",
              "L 19.671875 43.015625 \r\n",
              "L 55.515625 43.015625 \r\n",
              "L 55.515625 72.90625 \r\n",
              "L 65.375 72.90625 \r\n",
              "L 65.375 0 \r\n",
              "L 55.515625 0 \r\n",
              "L 55.515625 34.71875 \r\n",
              "L 19.671875 34.71875 \r\n",
              "L 19.671875 0 \r\n",
              "L 9.8125 0 \r\n",
              "z\r\n",
              "\" id=\"DejaVuSans-72\"/>\r\n",
              "    </defs>\r\n",
              "    <g transform=\"translate(596.25875 25.43625)scale(0.24 -0.24)\">\r\n",
              "     <use xlink:href=\"#DejaVuSans-72\"/>\r\n",
              "     <use x=\"75.195312\" xlink:href=\"#DejaVuSans-111\"/>\r\n",
              "     <use x=\"136.376953\" xlink:href=\"#DejaVuSans-114\"/>\r\n",
              "     <use x=\"175.740234\" xlink:href=\"#DejaVuSans-114\"/>\r\n",
              "     <use x=\"214.603516\" xlink:href=\"#DejaVuSans-111\"/>\r\n",
              "     <use x=\"275.785156\" xlink:href=\"#DejaVuSans-114\"/>\r\n",
              "    </g>\r\n",
              "   </g>\r\n",
              "  </g>\r\n",
              " </g>\r\n",
              " <defs>\r\n",
              "  <clipPath id=\"p68c343edce\">\r\n",
              "   <rect height=\"543.6\" width=\"1116\" x=\"76.2875\" y=\"31.43625\"/>\r\n",
              "  </clipPath>\r\n",
              " </defs>\r\n",
              "</svg>\r\n"
            ],
            "text/plain": [
              "<Figure size 1440x720 with 1 Axes>"
            ]
          },
          "metadata": {
            "needs_background": "light"
          },
          "output_type": "display_data"
        },
        {
          "data": {
            "image/png": "[encoded data removed]",
            "image/svg+xml": [
              "<?xml version=\"1.0\" encoding=\"utf-8\" standalone=\"no\"?>\r\n",
              "<!DOCTYPE svg PUBLIC \"-//W3C//DTD SVG 1.1//EN\"\r\n",
              "  \"http://www.w3.org/Graphics/SVG/1.1/DTD/svg11.dtd\">\r\n",
              "<!-- Created with matplotlib (https://matplotlib.org/) -->\r\n",
              "<svg height=\"632.505pt\" version=\"1.1\" viewBox=\"0 0 1199.4875 632.505\" width=\"1199.4875pt\" xmlns=\"http://www.w3.org/2000/svg\" xmlns:xlink=\"http://www.w3.org/1999/xlink\">\r\n",
              " <defs>\r\n",
              "  <style type=\"text/css\">\r\n",
              "*{stroke-linecap:butt;stroke-linejoin:round;}\r\n",
              "  </style>\r\n",
              " </defs>\r\n",
              " <g id=\"figure_1\">\r\n",
              "  <g id=\"patch_1\">\r\n",
              "   <path d=\"M 0 632.505 \r\n",
              "L 1199.4875 632.505 \r\n",
              "L 1199.4875 0 \r\n",
              "L 0 0 \r\n",
              "z\r\n",
              "\" style=\"fill:none;\"/>\r\n",
              "  </g>\r\n",
              "  <g id=\"axes_1\">\r\n",
              "   <g id=\"patch_2\">\r\n",
              "    <path d=\"M 76.2875 575.03625 \r\n",
              "L 1192.2875 575.03625 \r\n",
              "L 1192.2875 31.43625 \r\n",
              "L 76.2875 31.43625 \r\n",
              "z\r\n",
              "\" style=\"fill:#ffffff;\"/>\r\n",
              "   </g>\r\n",
              "   <g id=\"PathCollection_1\">\r\n",
              "    <defs>\r\n",
              "     <path d=\"M 0 2.236068 \r\n",
              "C 0.593012 2.236068 1.161816 2.000462 1.581139 1.581139 \r\n",
              "C 2.000462 1.161816 2.236068 0.593012 2.236068 0 \r\n",
              "C 2.236068 -0.593012 2.000462 -1.161816 1.581139 -1.581139 \r\n",
              "C 1.161816 -2.000462 0.593012 -2.236068 0 -2.236068 \r\n",
              "C -0.593012 -2.236068 -1.161816 -2.000462 -1.581139 -1.581139 \r\n",
              "C -2.000462 -1.161816 -2.236068 -0.593012 -2.236068 0 \r\n",
              "C -2.236068 0.593012 -2.000462 1.161816 -1.581139 1.581139 \r\n",
              "C -1.161816 2.000462 -0.593012 2.236068 0 2.236068 \r\n",
              "z\r\n",
              "\" id=\"m37ee264464\" style=\"stroke:#1f77b4;\"/>\r\n",
              "    </defs>\r\n",
              "    <g clip-path=\"url(#pa5f87ab854)\">\r\n",
              "     <use style=\"fill:#1f77b4;stroke:#1f77b4;\" x=\"993.37757\" xlink:href=\"#m37ee264464\" y=\"374.57234\"/>\r\n",
              "     <use style=\"fill:#1f77b4;stroke:#1f77b4;\" x=\"685.212843\" xlink:href=\"#m37ee264464\" y=\"378.85145\"/>\r\n",
              "     <use style=\"fill:#1f77b4;stroke:#1f77b4;\" x=\"666.102441\" xlink:href=\"#m37ee264464\" y=\"526.530875\"/>\r\n",
              "     <use style=\"fill:#1f77b4;stroke:#1f77b4;\" x=\"813.581904\" xlink:href=\"#m37ee264464\" y=\"546.116641\"/>\r\n",
              "     <use style=\"fill:#1f77b4;stroke:#1f77b4;\" x=\"958.646545\" xlink:href=\"#m37ee264464\" y=\"269.552108\"/>\r\n",
              "     <use style=\"fill:#1f77b4;stroke:#1f77b4;\" x=\"707.154724\" xlink:href=\"#m37ee264464\" y=\"548.828679\"/>\r\n",
              "     <use style=\"fill:#1f77b4;stroke:#1f77b4;\" x=\"763.874007\" xlink:href=\"#m37ee264464\" y=\"464.781891\"/>\r\n",
              "     <use style=\"fill:#1f77b4;stroke:#1f77b4;\" x=\"539.720714\" xlink:href=\"#m37ee264464\" y=\"495.922838\"/>\r\n",
              "     <use style=\"fill:#1f77b4;stroke:#1f77b4;\" x=\"1016.5456\" xlink:href=\"#m37ee264464\" y=\"546.913368\"/>\r\n",
              "     <use style=\"fill:#1f77b4;stroke:#1f77b4;\" x=\"635.45305\" xlink:href=\"#m37ee264464\" y=\"521.507801\"/>\r\n",
              "     <use style=\"fill:#1f77b4;stroke:#1f77b4;\" x=\"829.480983\" xlink:href=\"#m37ee264464\" y=\"468.38563\"/>\r\n",
              "     <use style=\"fill:#1f77b4;stroke:#1f77b4;\" x=\"976.710298\" xlink:href=\"#m37ee264464\" y=\"358.801366\"/>\r\n",
              "     <use style=\"fill:#1f77b4;stroke:#1f77b4;\" x=\"586.64134\" xlink:href=\"#m37ee264464\" y=\"536.181297\"/>\r\n",
              "     <use style=\"fill:#1f77b4;stroke:#1f77b4;\" x=\"959.383349\" xlink:href=\"#m37ee264464\" y=\"335.026187\"/>\r\n",
              "     <use style=\"fill:#1f77b4;stroke:#1f77b4;\" x=\"910.075742\" xlink:href=\"#m37ee264464\" y=\"427.615366\"/>\r\n",
              "     <use style=\"fill:#1f77b4;stroke:#1f77b4;\" x=\"795.335769\" xlink:href=\"#m37ee264464\" y=\"501.072544\"/>\r\n",
              "     <use style=\"fill:#1f77b4;stroke:#1f77b4;\" x=\"765.818288\" xlink:href=\"#m37ee264464\" y=\"423.151584\"/>\r\n",
              "     <use style=\"fill:#1f77b4;stroke:#1f77b4;\" x=\"828.144976\" xlink:href=\"#m37ee264464\" y=\"466.55474\"/>\r\n",
              "     <use style=\"fill:#1f77b4;stroke:#1f77b4;\" x=\"993.018561\" xlink:href=\"#m37ee264464\" y=\"56.145341\"/>\r\n",
              "     <use style=\"fill:#1f77b4;stroke:#1f77b4;\" x=\"618.089333\" xlink:href=\"#m37ee264464\" y=\"534.329302\"/>\r\n",
              "     <use style=\"fill:#1f77b4;stroke:#1f77b4;\" x=\"845.944262\" xlink:href=\"#m37ee264464\" y=\"527.654735\"/>\r\n",
              "     <use style=\"fill:#1f77b4;stroke:#1f77b4;\" x=\"1141.560227\" xlink:href=\"#m37ee264464\" y=\"268.945329\"/>\r\n",
              "     <use style=\"fill:#1f77b4;stroke:#1f77b4;\" x=\"766.121116\" xlink:href=\"#m37ee264464\" y=\"376.091925\"/>\r\n",
              "     <use style=\"fill:#1f77b4;stroke:#1f77b4;\" x=\"927.315684\" xlink:href=\"#m37ee264464\" y=\"482.673953\"/>\r\n",
              "     <use style=\"fill:#1f77b4;stroke:#1f77b4;\" x=\"992.89693\" xlink:href=\"#m37ee264464\" y=\"469.282607\"/>\r\n",
              "     <use style=\"fill:#1f77b4;stroke:#1f77b4;\" x=\"842.216212\" xlink:href=\"#m37ee264464\" y=\"518.009589\"/>\r\n",
              "     <use style=\"fill:#1f77b4;stroke:#1f77b4;\" x=\"825.805369\" xlink:href=\"#m37ee264464\" y=\"529.200702\"/>\r\n",
              "     <use style=\"fill:#1f77b4;stroke:#1f77b4;\" x=\"830.783877\" xlink:href=\"#m37ee264464\" y=\"387.09309\"/>\r\n",
              "     <use style=\"fill:#1f77b4;stroke:#1f77b4;\" x=\"994.180566\" xlink:href=\"#m37ee264464\" y=\"221.479393\"/>\r\n",
              "     <use style=\"fill:#1f77b4;stroke:#1f77b4;\" x=\"863.289726\" xlink:href=\"#m37ee264464\" y=\"327.138061\"/>\r\n",
              "     <use style=\"fill:#1f77b4;stroke:#1f77b4;\" x=\"539.782696\" xlink:href=\"#m37ee264464\" y=\"482.626466\"/>\r\n",
              "     <use style=\"fill:#1f77b4;stroke:#1f77b4;\" x=\"1108.760143\" xlink:href=\"#m37ee264464\" y=\"395.973167\"/>\r\n",
              "     <use style=\"fill:#1f77b4;stroke:#1f77b4;\" x=\"845.783558\" xlink:href=\"#m37ee264464\" y=\"365.655329\"/>\r\n",
              "     <use style=\"fill:#1f77b4;stroke:#1f77b4;\" x=\"814.463263\" xlink:href=\"#m37ee264464\" y=\"206.230776\"/>\r\n",
              "     <use style=\"fill:#1f77b4;stroke:#1f77b4;\" x=\"945.318318\" xlink:href=\"#m37ee264464\" y=\"149.072206\"/>\r\n",
              "     <use style=\"fill:#1f77b4;stroke:#1f77b4;\" x=\"876.15005\" xlink:href=\"#m37ee264464\" y=\"504.860954\"/>\r\n",
              "     <use style=\"fill:#1f77b4;stroke:#1f77b4;\" x=\"812.468954\" xlink:href=\"#m37ee264464\" y=\"525.454502\"/>\r\n",
              "     <use style=\"fill:#1f77b4;stroke:#1f77b4;\" x=\"879.295031\" xlink:href=\"#m37ee264464\" y=\"308.16435\"/>\r\n",
              "     <use style=\"fill:#1f77b4;stroke:#1f77b4;\" x=\"876.394056\" xlink:href=\"#m37ee264464\" y=\"531.216263\"/>\r\n",
              "     <use style=\"fill:#1f77b4;stroke:#1f77b4;\" x=\"814.892752\" xlink:href=\"#m37ee264464\" y=\"454.830717\"/>\r\n",
              "     <use style=\"fill:#1f77b4;stroke:#1f77b4;\" x=\"860.803475\" xlink:href=\"#m37ee264464\" y=\"526.372585\"/>\r\n",
              "     <use style=\"fill:#1f77b4;stroke:#1f77b4;\" x=\"699.39062\" xlink:href=\"#m37ee264464\" y=\"483.549825\"/>\r\n",
              "     <use style=\"fill:#1f77b4;stroke:#1f77b4;\" x=\"687.737825\" xlink:href=\"#m37ee264464\" y=\"544.982229\"/>\r\n",
              "     <use style=\"fill:#1f77b4;stroke:#1f77b4;\" x=\"928.251934\" xlink:href=\"#m37ee264464\" y=\"439.228586\"/>\r\n",
              "     <use style=\"fill:#1f77b4;stroke:#1f77b4;\" x=\"1093.036957\" xlink:href=\"#m37ee264464\" y=\"544.459871\"/>\r\n",
              "     <use style=\"fill:#1f77b4;stroke:#1f77b4;\" x=\"1059.415849\" xlink:href=\"#m37ee264464\" y=\"313.894453\"/>\r\n",
              "     <use style=\"fill:#1f77b4;stroke:#1f77b4;\" x=\"604.281701\" xlink:href=\"#m37ee264464\" y=\"420.845824\"/>\r\n",
              "     <use style=\"fill:#1f77b4;stroke:#1f77b4;\" x=\"829.817796\" xlink:href=\"#m37ee264464\" y=\"424.412629\"/>\r\n",
              "     <use style=\"fill:#1f77b4;stroke:#1f77b4;\" x=\"976.226481\" xlink:href=\"#m37ee264464\" y=\"414.371758\"/>\r\n",
              "     <use style=\"fill:#1f77b4;stroke:#1f77b4;\" x=\"911.000912\" xlink:href=\"#m37ee264464\" y=\"493.622354\"/>\r\n",
              "     <use style=\"fill:#1f77b4;stroke:#1f77b4;\" x=\"683.081356\" xlink:href=\"#m37ee264464\" y=\"532.266254\"/>\r\n",
              "     <use style=\"fill:#1f77b4;stroke:#1f77b4;\" x=\"909.510706\" xlink:href=\"#m37ee264464\" y=\"525.607516\"/>\r\n",
              "     <use style=\"fill:#1f77b4;stroke:#1f77b4;\" x=\"443.946603\" xlink:href=\"#m37ee264464\" y=\"528.287895\"/>\r\n",
              "     <use style=\"fill:#1f77b4;stroke:#1f77b4;\" x=\"814.207355\" xlink:href=\"#m37ee264464\" y=\"496.635143\"/>\r\n",
              "     <use style=\"fill:#1f77b4;stroke:#1f77b4;\" x=\"893.965409\" xlink:href=\"#m37ee264464\" y=\"533.7278\"/>\r\n",
              "     <use style=\"fill:#1f77b4;stroke:#1f77b4;\" x=\"959.091772\" xlink:href=\"#m37ee264464\" y=\"537.880278\"/>\r\n",
              "     <use style=\"fill:#1f77b4;stroke:#1f77b4;\" x=\"798.02224\" xlink:href=\"#m37ee264464\" y=\"549.393247\"/>\r\n",
              "     <use style=\"fill:#1f77b4;stroke:#1f77b4;\" x=\"976.361234\" xlink:href=\"#m37ee264464\" y=\"426.924166\"/>\r\n",
              "     <use style=\"fill:#1f77b4;stroke:#1f77b4;\" x=\"666.741744\" xlink:href=\"#m37ee264464\" y=\"519.529174\"/>\r\n",
              "     <use style=\"fill:#1f77b4;stroke:#1f77b4;\" x=\"976.052593\" xlink:href=\"#m37ee264464\" y=\"462.222867\"/>\r\n",
              "     <use style=\"fill:#1f77b4;stroke:#1f77b4;\" x=\"731.93847\" xlink:href=\"#m37ee264464\" y=\"516.030962\"/>\r\n",
              "     <use style=\"fill:#1f77b4;stroke:#1f77b4;\" x=\"857.561166\" xlink:href=\"#m37ee264464\" y=\"522.473371\"/>\r\n",
              "     <use style=\"fill:#1f77b4;stroke:#1f77b4;\" x=\"781.468588\" xlink:href=\"#m37ee264464\" y=\"444.779294\"/>\r\n",
              "     <use style=\"fill:#1f77b4;stroke:#1f77b4;\" x=\"731.752995\" xlink:href=\"#m37ee264464\" y=\"501.051438\"/>\r\n",
              "     <use style=\"fill:#1f77b4;stroke:#1f77b4;\" x=\"910.473994\" xlink:href=\"#m37ee264464\" y=\"440.310235\"/>\r\n",
              "     <use style=\"fill:#1f77b4;stroke:#1f77b4;\" x=\"813.743597\" xlink:href=\"#m37ee264464\" y=\"492.081664\"/>\r\n",
              "     <use style=\"fill:#1f77b4;stroke:#1f77b4;\" x=\"862.377222\" xlink:href=\"#m37ee264464\" y=\"455.268653\"/>\r\n",
              "     <use style=\"fill:#1f77b4;stroke:#1f77b4;\" x=\"1007.273602\" xlink:href=\"#m37ee264464\" y=\"543.140787\"/>\r\n",
              "     <use style=\"fill:#1f77b4;stroke:#1f77b4;\" x=\"798.663286\" xlink:href=\"#m37ee264464\" y=\"457.141753\"/>\r\n",
              "     <use style=\"fill:#1f77b4;stroke:#1f77b4;\" x=\"699.012397\" xlink:href=\"#m37ee264464\" y=\"483.132995\"/>\r\n",
              "     <use style=\"fill:#1f77b4;stroke:#1f77b4;\" x=\"959.775298\" xlink:href=\"#m37ee264464\" y=\"497.479358\"/>\r\n",
              "     <use style=\"fill:#1f77b4;stroke:#1f77b4;\" x=\"960.952543\" xlink:href=\"#m37ee264464\" y=\"382.397149\"/>\r\n",
              "     <use style=\"fill:#1f77b4;stroke:#1f77b4;\" x=\"602.996461\" xlink:href=\"#m37ee264464\" y=\"515.519157\"/>\r\n",
              "     <use style=\"fill:#1f77b4;stroke:#1f77b4;\" x=\"944.044625\" xlink:href=\"#m37ee264464\" y=\"473.092123\"/>\r\n",
              "     <use style=\"fill:#1f77b4;stroke:#1f77b4;\" x=\"667.93949\" xlink:href=\"#m37ee264464\" y=\"468.464775\"/>\r\n",
              "     <use style=\"fill:#1f77b4;stroke:#1f77b4;\" x=\"830.908435\" xlink:href=\"#m37ee264464\" y=\"382.154438\"/>\r\n",
              "     <use style=\"fill:#1f77b4;stroke:#1f77b4;\" x=\"814.412471\" xlink:href=\"#m37ee264464\" y=\"441.460477\"/>\r\n",
              "     <use style=\"fill:#1f77b4;stroke:#1f77b4;\" x=\"571.254839\" xlink:href=\"#m37ee264464\" y=\"533.912472\"/>\r\n",
              "     <use style=\"fill:#1f77b4;stroke:#1f77b4;\" x=\"944.008203\" xlink:href=\"#m37ee264464\" y=\"413.290108\"/>\r\n",
              "     <use style=\"fill:#1f77b4;stroke:#1f77b4;\" x=\"598.994397\" xlink:href=\"#m37ee264464\" y=\"532.909967\"/>\r\n",
              "     <use style=\"fill:#1f77b4;stroke:#1f77b4;\" x=\"927.413844\" xlink:href=\"#m37ee264464\" y=\"524.99546\"/>\r\n",
              "     <use style=\"fill:#1f77b4;stroke:#1f77b4;\" x=\"761.458457\" xlink:href=\"#m37ee264464\" y=\"545.467652\"/>\r\n",
              "     <use style=\"fill:#1f77b4;stroke:#1f77b4;\" x=\"716.180627\" xlink:href=\"#m37ee264464\" y=\"522.90603\"/>\r\n",
              "     <use style=\"fill:#1f77b4;stroke:#1f77b4;\" x=\"813.343844\" xlink:href=\"#m37ee264464\" y=\"422.966912\"/>\r\n",
              "     <use style=\"fill:#1f77b4;stroke:#1f77b4;\" x=\"941.707599\" xlink:href=\"#m37ee264464\" y=\"523.507533\"/>\r\n",
              "     <use style=\"fill:#1f77b4;stroke:#1f77b4;\" x=\"877.537525\" xlink:href=\"#m37ee264464\" y=\"447.454397\"/>\r\n",
              "     <use style=\"fill:#1f77b4;stroke:#1f77b4;\" x=\"666.448488\" xlink:href=\"#m37ee264464\" y=\"525.042947\"/>\r\n",
              "     <use style=\"fill:#1f77b4;stroke:#1f77b4;\" x=\"635.243257\" xlink:href=\"#m37ee264464\" y=\"536.297376\"/>\r\n",
              "     <use style=\"fill:#1f77b4;stroke:#1f77b4;\" x=\"910.4277\" xlink:href=\"#m37ee264464\" y=\"505.119495\"/>\r\n",
              "     <use style=\"fill:#1f77b4;stroke:#1f77b4;\" x=\"732.467186\" xlink:href=\"#m37ee264464\" y=\"502.998407\"/>\r\n",
              "     <use style=\"fill:#1f77b4;stroke:#1f77b4;\" x=\"828.510457\" xlink:href=\"#m37ee264464\" y=\"491.87061\"/>\r\n",
              "     <use style=\"fill:#1f77b4;stroke:#1f77b4;\" x=\"765.562822\" xlink:href=\"#m37ee264464\" y=\"443.312472\"/>\r\n",
              "     <use style=\"fill:#1f77b4;stroke:#1f77b4;\" x=\"620.167315\" xlink:href=\"#m37ee264464\" y=\"515.957093\"/>\r\n",
              "     <use style=\"fill:#1f77b4;stroke:#1f77b4;\" x=\"911.076727\" xlink:href=\"#m37ee264464\" y=\"457.08899\"/>\r\n",
              "     <use style=\"fill:#1f77b4;stroke:#1f77b4;\" x=\"650.358203\" xlink:href=\"#m37ee264464\" y=\"550.058066\"/>\r\n",
              "     <use style=\"fill:#1f77b4;stroke:#1f77b4;\" x=\"765.788982\" xlink:href=\"#m37ee264464\" y=\"455.43222\"/>\r\n",
              "     <use style=\"fill:#1f77b4;stroke:#1f77b4;\" x=\"944.0322\" xlink:href=\"#m37ee264464\" y=\"389.752364\"/>\r\n",
              "     <use style=\"fill:#1f77b4;stroke:#1f77b4;\" x=\"846.618801\" xlink:href=\"#m37ee264464\" y=\"477.292088\"/>\r\n",
              "     <use style=\"fill:#1f77b4;stroke:#1f77b4;\" x=\"814.255521\" xlink:href=\"#m37ee264464\" y=\"503.373027\"/>\r\n",
              "     <use style=\"fill:#1f77b4;stroke:#1f77b4;\" x=\"829.52057\" xlink:href=\"#m37ee264464\" y=\"449.237799\"/>\r\n",
              "     <use style=\"fill:#1f77b4;stroke:#1f77b4;\" x=\"847.274464\" xlink:href=\"#m37ee264464\" y=\"334.54604\"/>\r\n",
              "     <use style=\"fill:#1f77b4;stroke:#1f77b4;\" x=\"911.515237\" xlink:href=\"#m37ee264464\" y=\"440.056971\"/>\r\n",
              "     <use style=\"fill:#1f77b4;stroke:#1f77b4;\" x=\"651.542954\" xlink:href=\"#m37ee264464\" y=\"512.005116\"/>\r\n",
              "     <use style=\"fill:#1f77b4;stroke:#1f77b4;\" x=\"668.278928\" xlink:href=\"#m37ee264464\" y=\"531.14767\"/>\r\n",
              "     <use style=\"fill:#1f77b4;stroke:#1f77b4;\" x=\"617.568296\" xlink:href=\"#m37ee264464\" y=\"542.481244\"/>\r\n",
              "     <use style=\"fill:#1f77b4;stroke:#1f77b4;\" x=\"539.789348\" xlink:href=\"#m37ee264464\" y=\"525.343699\"/>\r\n",
              "     <use style=\"fill:#1f77b4;stroke:#1f77b4;\" x=\"617.320071\" xlink:href=\"#m37ee264464\" y=\"541.183265\"/>\r\n",
              "     <use style=\"fill:#1f77b4;stroke:#1f77b4;\" x=\"888.194488\" xlink:href=\"#m37ee264464\" y=\"549.219128\"/>\r\n",
              "     <use style=\"fill:#1f77b4;stroke:#1f77b4;\" x=\"831.06946\" xlink:href=\"#m37ee264464\" y=\"396.790999\"/>\r\n",
              "     <use style=\"fill:#1f77b4;stroke:#1f77b4;\" x=\"845.308766\" xlink:href=\"#m37ee264464\" y=\"496.772328\"/>\r\n",
              "     <use style=\"fill:#1f77b4;stroke:#1f77b4;\" x=\"893.128018\" xlink:href=\"#m37ee264464\" y=\"484.351829\"/>\r\n",
              "     <use style=\"fill:#1f77b4;stroke:#1f77b4;\" x=\"652.16096\" xlink:href=\"#m37ee264464\" y=\"517.371152\"/>\r\n",
              "     <use style=\"fill:#1f77b4;stroke:#1f77b4;\" x=\"812.620124\" xlink:href=\"#m37ee264464\" y=\"547.936978\"/>\r\n",
              "     <use style=\"fill:#1f77b4;stroke:#1f77b4;\" x=\"523.563854\" xlink:href=\"#m37ee264464\" y=\"531.923292\"/>\r\n",
              "     <use style=\"fill:#1f77b4;stroke:#1f77b4;\" x=\"861.871135\" xlink:href=\"#m37ee264464\" y=\"439.64014\"/>\r\n",
              "     <use style=\"fill:#1f77b4;stroke:#1f77b4;\" x=\"860.805218\" xlink:href=\"#m37ee264464\" y=\"547.340752\"/>\r\n",
              "     <use style=\"fill:#1f77b4;stroke:#1f77b4;\" x=\"765.434092\" xlink:href=\"#m37ee264464\" y=\"530.530339\"/>\r\n",
              "     <use style=\"fill:#1f77b4;stroke:#1f77b4;\" x=\"650.679074\" xlink:href=\"#m37ee264464\" y=\"535.906927\"/>\r\n",
              "     <use style=\"fill:#1f77b4;stroke:#1f77b4;\" x=\"862.272619\" xlink:href=\"#m37ee264464\" y=\"365.607842\"/>\r\n",
              "     <use style=\"fill:#1f77b4;stroke:#1f77b4;\" x=\"991.012402\" xlink:href=\"#m37ee264464\" y=\"536.149639\"/>\r\n",
              "     <use style=\"fill:#1f77b4;stroke:#1f77b4;\" x=\"748.626652\" xlink:href=\"#m37ee264464\" y=\"468.549196\"/>\r\n",
              "     <use style=\"fill:#1f77b4;stroke:#1f77b4;\" x=\"878.986664\" xlink:href=\"#m37ee264464\" y=\"515.271169\"/>\r\n",
              "     <use style=\"fill:#1f77b4;stroke:#1f77b4;\" x=\"716.117109\" xlink:href=\"#m37ee264464\" y=\"511.772957\"/>\r\n",
              "     <use style=\"fill:#1f77b4;stroke:#1f77b4;\" x=\"685.251082\" xlink:href=\"#m37ee264464\" y=\"372.778385\"/>\r\n",
              "     <use style=\"fill:#1f77b4;stroke:#1f77b4;\" x=\"619.241926\" xlink:href=\"#m37ee264464\" y=\"539.621469\"/>\r\n",
              "     <use style=\"fill:#1f77b4;stroke:#1f77b4;\" x=\"571.075668\" xlink:href=\"#m37ee264464\" y=\"541.278239\"/>\r\n",
              "     <use style=\"fill:#1f77b4;stroke:#1f77b4;\" x=\"943.299807\" xlink:href=\"#m37ee264464\" y=\"429.64148\"/>\r\n",
              "     <use style=\"fill:#1f77b4;stroke:#1f77b4;\" x=\"814.543643\" xlink:href=\"#m37ee264464\" y=\"412.087103\"/>\r\n",
              "     <use style=\"fill:#1f77b4;stroke:#1f77b4;\" x=\"601.732914\" xlink:href=\"#m37ee264464\" y=\"536.424008\"/>\r\n",
              "     <use style=\"fill:#1f77b4;stroke:#1f77b4;\" x=\"633.499739\" xlink:href=\"#m37ee264464\" y=\"548.311598\"/>\r\n",
              "     <use style=\"fill:#1f77b4;stroke:#1f77b4;\" x=\"781.63018\" xlink:href=\"#m37ee264464\" y=\"496.308011\"/>\r\n",
              "     <use style=\"fill:#1f77b4;stroke:#1f77b4;\" x=\"696.841502\" xlink:href=\"#m37ee264464\" y=\"542.813654\"/>\r\n",
              "     <use style=\"fill:#1f77b4;stroke:#1f77b4;\" x=\"765.395579\" xlink:href=\"#m37ee264464\" y=\"479.339307\"/>\r\n",
              "     <use style=\"fill:#1f77b4;stroke:#1f77b4;\" x=\"599.170033\" xlink:href=\"#m37ee264464\" y=\"549.182194\"/>\r\n",
              "     <use style=\"fill:#1f77b4;stroke:#1f77b4;\" x=\"667.698159\" xlink:href=\"#m37ee264464\" y=\"529.612256\"/>\r\n",
              "     <use style=\"fill:#1f77b4;stroke:#1f77b4;\" x=\"941.94344\" xlink:href=\"#m37ee264464\" y=\"414.3401\"/>\r\n",
              "     <use style=\"fill:#1f77b4;stroke:#1f77b4;\" x=\"827.969321\" xlink:href=\"#m37ee264464\" y=\"527.522826\"/>\r\n",
              "     <use style=\"fill:#1f77b4;stroke:#1f77b4;\" x=\"587.459951\" xlink:href=\"#m37ee264464\" y=\"508.791826\"/>\r\n",
              "     <use style=\"fill:#1f77b4;stroke:#1f77b4;\" x=\"764.714593\" xlink:href=\"#m37ee264464\" y=\"494.82536\"/>\r\n",
              "     <use style=\"fill:#1f77b4;stroke:#1f77b4;\" x=\"765.631126\" xlink:href=\"#m37ee264464\" y=\"480.405128\"/>\r\n",
              "     <use style=\"fill:#1f77b4;stroke:#1f77b4;\" x=\"748.655261\" xlink:href=\"#m37ee264464\" y=\"511.794063\"/>\r\n",
              "     <use style=\"fill:#1f77b4;stroke:#1f77b4;\" x=\"696.328448\" xlink:href=\"#m37ee264464\" y=\"539.489561\"/>\r\n",
              "     <use style=\"fill:#1f77b4;stroke:#1f77b4;\" x=\"617.613534\" xlink:href=\"#m37ee264464\" y=\"544.728964\"/>\r\n",
              "     <use style=\"fill:#1f77b4;stroke:#1f77b4;\" x=\"781.669042\" xlink:href=\"#m37ee264464\" y=\"479.365689\"/>\r\n",
              "     <use style=\"fill:#1f77b4;stroke:#1f77b4;\" x=\"715.966423\" xlink:href=\"#m37ee264464\" y=\"373.042202\"/>\r\n",
              "     <use style=\"fill:#1f77b4;stroke:#1f77b4;\" x=\"826.436658\" xlink:href=\"#m37ee264464\" y=\"550.290225\"/>\r\n",
              "     <use style=\"fill:#1f77b4;stroke:#1f77b4;\" x=\"748.484155\" xlink:href=\"#m37ee264464\" y=\"401.724375\"/>\r\n",
              "     <use style=\"fill:#1f77b4;stroke:#1f77b4;\" x=\"943.809389\" xlink:href=\"#m37ee264464\" y=\"473.836087\"/>\r\n",
              "     <use style=\"fill:#1f77b4;stroke:#1f77b4;\" x=\"586.690652\" xlink:href=\"#m37ee264464\" y=\"539.157152\"/>\r\n",
              "     <use style=\"fill:#1f77b4;stroke:#1f77b4;\" x=\"780.086672\" xlink:href=\"#m37ee264464\" y=\"529.105728\"/>\r\n",
              "     <use style=\"fill:#1f77b4;stroke:#1f77b4;\" x=\"617.812715\" xlink:href=\"#m37ee264464\" y=\"544.586503\"/>\r\n",
              "     <use style=\"fill:#1f77b4;stroke:#1f77b4;\" x=\"684.543617\" xlink:href=\"#m37ee264464\" y=\"494.218581\"/>\r\n",
              "     <use style=\"fill:#1f77b4;stroke:#1f77b4;\" x=\"635.297787\" xlink:href=\"#m37ee264464\" y=\"517.418639\"/>\r\n",
              "     <use style=\"fill:#1f77b4;stroke:#1f77b4;\" x=\"731.416017\" xlink:href=\"#m37ee264464\" y=\"543.088023\"/>\r\n",
              "     <use style=\"fill:#1f77b4;stroke:#1f77b4;\" x=\"992.371457\" xlink:href=\"#m37ee264464\" y=\"430.496247\"/>\r\n",
              "     <use style=\"fill:#1f77b4;stroke:#1f77b4;\" x=\"650.193191\" xlink:href=\"#m37ee264464\" y=\"508.659918\"/>\r\n",
              "     <use style=\"fill:#1f77b4;stroke:#1f77b4;\" x=\"814.625131\" xlink:href=\"#m37ee264464\" y=\"443.576288\"/>\r\n",
              "     <use style=\"fill:#1f77b4;stroke:#1f77b4;\" x=\"878.580409\" xlink:href=\"#m37ee264464\" y=\"439.877575\"/>\r\n",
              "     <use style=\"fill:#1f77b4;stroke:#1f77b4;\" x=\"748.602667\" xlink:href=\"#m37ee264464\" y=\"535.173516\"/>\r\n",
              "     <use style=\"fill:#1f77b4;stroke:#1f77b4;\" x=\"828.848971\" xlink:href=\"#m37ee264464\" y=\"543.272695\"/>\r\n",
              "     <use style=\"fill:#1f77b4;stroke:#1f77b4;\" x=\"942.412332\" xlink:href=\"#m37ee264464\" y=\"432.949744\"/>\r\n",
              "     <use style=\"fill:#1f77b4;stroke:#1f77b4;\" x=\"814.846569\" xlink:href=\"#m37ee264464\" y=\"385.689584\"/>\r\n",
              "     <use style=\"fill:#1f77b4;stroke:#1f77b4;\" x=\"779.438311\" xlink:href=\"#m37ee264464\" y=\"544.892531\"/>\r\n",
              "     <use style=\"fill:#1f77b4;stroke:#1f77b4;\" x=\"732.552297\" xlink:href=\"#m37ee264464\" y=\"498.160005\"/>\r\n",
              "     <use style=\"fill:#1f77b4;stroke:#1f77b4;\" x=\"668.26414\" xlink:href=\"#m37ee264464\" y=\"521.275642\"/>\r\n",
              "     <use style=\"fill:#1f77b4;stroke:#1f77b4;\" x=\"894.520653\" xlink:href=\"#m37ee264464\" y=\"451.765165\"/>\r\n",
              "     <use style=\"fill:#1f77b4;stroke:#1f77b4;\" x=\"716.791977\" xlink:href=\"#m37ee264464\" y=\"487.918633\"/>\r\n",
              "     <use style=\"fill:#1f77b4;stroke:#1f77b4;\" x=\"976.383723\" xlink:href=\"#m37ee264464\" y=\"489.322139\"/>\r\n",
              "     <use style=\"fill:#1f77b4;stroke:#1f77b4;\" x=\"764.502269\" xlink:href=\"#m37ee264464\" y=\"487.438486\"/>\r\n",
              "     <use style=\"fill:#1f77b4;stroke:#1f77b4;\" x=\"620.49475\" xlink:href=\"#m37ee264464\" y=\"462.697737\"/>\r\n",
              "     <use style=\"fill:#1f77b4;stroke:#1f77b4;\" x=\"697.439697\" xlink:href=\"#m37ee264464\" y=\"543.678973\"/>\r\n",
              "     <use style=\"fill:#1f77b4;stroke:#1f77b4;\" x=\"697.787669\" xlink:href=\"#m37ee264464\" y=\"493.617078\"/>\r\n",
              "     <use style=\"fill:#1f77b4;stroke:#1f77b4;\" x=\"797.0256\" xlink:href=\"#m37ee264464\" y=\"500.312751\"/>\r\n",
              "     <use style=\"fill:#1f77b4;stroke:#1f77b4;\" x=\"813.690996\" xlink:href=\"#m37ee264464\" y=\"508.116455\"/>\r\n",
              "     <use style=\"fill:#1f77b4;stroke:#1f77b4;\" x=\"539.18649\" xlink:href=\"#m37ee264464\" y=\"535.162964\"/>\r\n",
              "     <use style=\"fill:#1f77b4;stroke:#1f77b4;\" x=\"781.258311\" xlink:href=\"#m37ee264464\" y=\"455.885985\"/>\r\n",
              "     <use style=\"fill:#1f77b4;stroke:#1f77b4;\" x=\"699.947539\" xlink:href=\"#m37ee264464\" y=\"507.240583\"/>\r\n",
              "     <use style=\"fill:#1f77b4;stroke:#1f77b4;\" x=\"845.490906\" xlink:href=\"#m37ee264464\" y=\"525.554752\"/>\r\n",
              "     <use style=\"fill:#1f77b4;stroke:#1f77b4;\" x=\"651.702257\" xlink:href=\"#m37ee264464\" y=\"516.041515\"/>\r\n",
              "     <use style=\"fill:#1f77b4;stroke:#1f77b4;\" x=\"796.449979\" xlink:href=\"#m37ee264464\" y=\"533.685589\"/>\r\n",
              "     <use style=\"fill:#1f77b4;stroke:#1f77b4;\" x=\"447.537324\" xlink:href=\"#m37ee264464\" y=\"538.181029\"/>\r\n",
              "     <use style=\"fill:#1f77b4;stroke:#1f77b4;\" x=\"337.760168\" xlink:href=\"#m37ee264464\" y=\"501.246663\"/>\r\n",
              "     <use style=\"fill:#1f77b4;stroke:#1f77b4;\" x=\"717.136409\" xlink:href=\"#m37ee264464\" y=\"444.46799\"/>\r\n",
              "     <use style=\"fill:#1f77b4;stroke:#1f77b4;\" x=\"764.927033\" xlink:href=\"#m37ee264464\" y=\"490.630671\"/>\r\n",
              "     <use style=\"fill:#1f77b4;stroke:#1f77b4;\" x=\"717.292166\" xlink:href=\"#m37ee264464\" y=\"483.570931\"/>\r\n",
              "     <use style=\"fill:#1f77b4;stroke:#1f77b4;\" x=\"731.757652\" xlink:href=\"#m37ee264464\" y=\"527.353983\"/>\r\n",
              "     <use style=\"fill:#1f77b4;stroke:#1f77b4;\" x=\"813.182222\" xlink:href=\"#m37ee264464\" y=\"519.381437\"/>\r\n",
              "     <use style=\"fill:#1f77b4;stroke:#1f77b4;\" x=\"601.515412\" xlink:href=\"#m37ee264464\" y=\"550.058066\"/>\r\n",
              "     <use style=\"fill:#1f77b4;stroke:#1f77b4;\" x=\"379.943204\" xlink:href=\"#m37ee264464\" y=\"520.737456\"/>\r\n",
              "     <use style=\"fill:#1f77b4;stroke:#1f77b4;\" x=\"699.82274\" xlink:href=\"#m37ee264464\" y=\"520.827153\"/>\r\n",
              "     <use style=\"fill:#1f77b4;stroke:#1f77b4;\" x=\"794.446194\" xlink:href=\"#m37ee264464\" y=\"537.157419\"/>\r\n",
              "     <use style=\"fill:#1f77b4;stroke:#1f77b4;\" x=\"733.040567\" xlink:href=\"#m37ee264464\" y=\"496.007259\"/>\r\n",
              "     <use style=\"fill:#1f77b4;stroke:#1f77b4;\" x=\"668.489787\" xlink:href=\"#m37ee264464\" y=\"468.501709\"/>\r\n",
              "     <use style=\"fill:#1f77b4;stroke:#1f77b4;\" x=\"701.126207\" xlink:href=\"#m37ee264464\" y=\"364.425942\"/>\r\n",
              "     <use style=\"fill:#1f77b4;stroke:#1f77b4;\" x=\"620.288201\" xlink:href=\"#m37ee264464\" y=\"464.238428\"/>\r\n",
              "     <use style=\"fill:#1f77b4;stroke:#1f77b4;\" x=\"776.241033\" xlink:href=\"#m37ee264464\" y=\"535.806677\"/>\r\n",
              "     <use style=\"fill:#1f77b4;stroke:#1f77b4;\" x=\"781.225454\" xlink:href=\"#m37ee264464\" y=\"459.563593\"/>\r\n",
              "     <use style=\"fill:#1f77b4;stroke:#1f77b4;\" x=\"911.629606\" xlink:href=\"#m37ee264464\" y=\"326.283294\"/>\r\n",
              "     <use style=\"fill:#1f77b4;stroke:#1f77b4;\" x=\"476.468003\" xlink:href=\"#m37ee264464\" y=\"480.927485\"/>\r\n",
              "     <use style=\"fill:#1f77b4;stroke:#1f77b4;\" x=\"523.847302\" xlink:href=\"#m37ee264464\" y=\"489.242994\"/>\r\n",
              "     <use style=\"fill:#1f77b4;stroke:#1f77b4;\" x=\"651.758198\" xlink:href=\"#m37ee264464\" y=\"506.285566\"/>\r\n",
              "     <use style=\"fill:#1f77b4;stroke:#1f77b4;\" x=\"746.469527\" xlink:href=\"#m37ee264464\" y=\"537.231288\"/>\r\n",
              "     <use style=\"fill:#1f77b4;stroke:#1f77b4;\" x=\"682.218898\" xlink:href=\"#m37ee264464\" y=\"546.72342\"/>\r\n",
              "     <use style=\"fill:#1f77b4;stroke:#1f77b4;\" x=\"860.515639\" xlink:href=\"#m37ee264464\" y=\"472.07379\"/>\r\n",
              "     <use style=\"fill:#1f77b4;stroke:#1f77b4;\" x=\"764.292069\" xlink:href=\"#m37ee264464\" y=\"526.071833\"/>\r\n",
              "     <use style=\"fill:#1f77b4;stroke:#1f77b4;\" x=\"712.756369\" xlink:href=\"#m37ee264464\" y=\"500.771792\"/>\r\n",
              "     <use style=\"fill:#1f77b4;stroke:#1f77b4;\" x=\"842.21394\" xlink:href=\"#m37ee264464\" y=\"474.616985\"/>\r\n",
              "     <use style=\"fill:#1f77b4;stroke:#1f77b4;\" x=\"812.833926\" xlink:href=\"#m37ee264464\" y=\"510.374728\"/>\r\n",
              "     <use style=\"fill:#1f77b4;stroke:#1f77b4;\" x=\"695.075944\" xlink:href=\"#m37ee264464\" y=\"550.321883\"/>\r\n",
              "     <use style=\"fill:#1f77b4;stroke:#1f77b4;\" x=\"696.15642\" xlink:href=\"#m37ee264464\" y=\"550.327159\"/>\r\n",
              "     <use style=\"fill:#1f77b4;stroke:#1f77b4;\" x=\"715.52077\" xlink:href=\"#m37ee264464\" y=\"517.46085\"/>\r\n",
              "     <use style=\"fill:#1f77b4;stroke:#1f77b4;\" x=\"651.775717\" xlink:href=\"#m37ee264464\" y=\"503.251671\"/>\r\n",
              "     <use style=\"fill:#1f77b4;stroke:#1f77b4;\" x=\"700.418131\" xlink:href=\"#m37ee264464\" y=\"519.27591\"/>\r\n",
              "     <use style=\"fill:#1f77b4;stroke:#1f77b4;\" x=\"765.868091\" xlink:href=\"#m37ee264464\" y=\"426.68673\"/>\r\n",
              "     <use style=\"fill:#1f77b4;stroke:#1f77b4;\" x=\"586.587612\" xlink:href=\"#m37ee264464\" y=\"546.232721\"/>\r\n",
              "     <use style=\"fill:#1f77b4;stroke:#1f77b4;\" x=\"636.029206\" xlink:href=\"#m37ee264464\" y=\"449.633524\"/>\r\n",
              "     <use style=\"fill:#1f77b4;stroke:#1f77b4;\" x=\"813.335228\" xlink:href=\"#m37ee264464\" y=\"504.259452\"/>\r\n",
              "     <use style=\"fill:#1f77b4;stroke:#1f77b4;\" x=\"747.705648\" xlink:href=\"#m37ee264464\" y=\"466.143186\"/>\r\n",
              "     <use style=\"fill:#1f77b4;stroke:#1f77b4;\" x=\"588.140283\" xlink:href=\"#m37ee264464\" y=\"488.826163\"/>\r\n",
              "     <use style=\"fill:#1f77b4;stroke:#1f77b4;\" x=\"764.36994\" xlink:href=\"#m37ee264464\" y=\"537.088827\"/>\r\n",
              "     <use style=\"fill:#1f77b4;stroke:#1f77b4;\" x=\"819.141568\" xlink:href=\"#m37ee264464\" y=\"550.058066\"/>\r\n",
              "     <use style=\"fill:#1f77b4;stroke:#1f77b4;\" x=\"765.507116\" xlink:href=\"#m37ee264464\" y=\"372.477634\"/>\r\n",
              "     <use style=\"fill:#1f77b4;stroke:#1f77b4;\" x=\"635.447076\" xlink:href=\"#m37ee264464\" y=\"533.896643\"/>\r\n",
              "     <use style=\"fill:#1f77b4;stroke:#1f77b4;\" x=\"668.556987\" xlink:href=\"#m37ee264464\" y=\"508.042586\"/>\r\n",
              "     <use style=\"fill:#1f77b4;stroke:#1f77b4;\" x=\"555.63809\" xlink:href=\"#m37ee264464\" y=\"527.997697\"/>\r\n",
              "     <use style=\"fill:#1f77b4;stroke:#1f77b4;\" x=\"571.422607\" xlink:href=\"#m37ee264464\" y=\"538.091331\"/>\r\n",
              "     <use style=\"fill:#1f77b4;stroke:#1f77b4;\" x=\"846.125721\" xlink:href=\"#m37ee264464\" y=\"479.365689\"/>\r\n",
              "     <use style=\"fill:#1f77b4;stroke:#1f77b4;\" x=\"829.244786\" xlink:href=\"#m37ee264464\" y=\"502.665998\"/>\r\n",
              "     <use style=\"fill:#1f77b4;stroke:#1f77b4;\" x=\"730.542422\" xlink:href=\"#m37ee264464\" y=\"538.086055\"/>\r\n",
              "     <use style=\"fill:#1f77b4;stroke:#1f77b4;\" x=\"652.805728\" xlink:href=\"#m37ee264464\" y=\"338.191989\"/>\r\n",
              "     <use style=\"fill:#1f77b4;stroke:#1f77b4;\" x=\"620.164253\" xlink:href=\"#m37ee264464\" y=\"496.967553\"/>\r\n",
              "     <use style=\"fill:#1f77b4;stroke:#1f77b4;\" x=\"683.568061\" xlink:href=\"#m37ee264464\" y=\"457.168135\"/>\r\n",
              "     <use style=\"fill:#1f77b4;stroke:#1f77b4;\" x=\"780.749968\" xlink:href=\"#m37ee264464\" y=\"509.604382\"/>\r\n",
              "     <use style=\"fill:#1f77b4;stroke:#1f77b4;\" x=\"828.427115\" xlink:href=\"#m37ee264464\" y=\"529.564769\"/>\r\n",
              "     <use style=\"fill:#1f77b4;stroke:#1f77b4;\" x=\"523.731448\" xlink:href=\"#m37ee264464\" y=\"496.429366\"/>\r\n",
              "     <use style=\"fill:#1f77b4;stroke:#1f77b4;\" x=\"738.149194\" xlink:href=\"#m37ee264464\" y=\"547.857833\"/>\r\n",
              "     <use style=\"fill:#1f77b4;stroke:#1f77b4;\" x=\"699.891913\" xlink:href=\"#m37ee264464\" y=\"521.449761\"/>\r\n",
              "     <use style=\"fill:#1f77b4;stroke:#1f77b4;\" x=\"523.613657\" xlink:href=\"#m37ee264464\" y=\"539.120217\"/>\r\n",
              "     <use style=\"fill:#1f77b4;stroke:#1f77b4;\" x=\"942.213283\" xlink:href=\"#m37ee264464\" y=\"500.972293\"/>\r\n",
              "     <use style=\"fill:#1f77b4;stroke:#1f77b4;\" x=\"747.943801\" xlink:href=\"#m37ee264464\" y=\"496.993934\"/>\r\n",
              "     <use style=\"fill:#1f77b4;stroke:#1f77b4;\" x=\"764.44058\" xlink:href=\"#m37ee264464\" y=\"517.809088\"/>\r\n",
              "     <use style=\"fill:#1f77b4;stroke:#1f77b4;\" x=\"685.070387\" xlink:href=\"#m37ee264464\" y=\"383.077797\"/>\r\n",
              "     <use style=\"fill:#1f77b4;stroke:#1f77b4;\" x=\"749.485347\" xlink:href=\"#m37ee264464\" y=\"461.505285\"/>\r\n",
              "     <use style=\"fill:#1f77b4;stroke:#1f77b4;\" x=\"992.361423\" xlink:href=\"#m37ee264464\" y=\"435.640676\"/>\r\n",
              "     <use style=\"fill:#1f77b4;stroke:#1f77b4;\" x=\"796.799575\" xlink:href=\"#m37ee264464\" y=\"518.109839\"/>\r\n",
              "     <use style=\"fill:#1f77b4;stroke:#1f77b4;\" x=\"729.983476\" xlink:href=\"#m37ee264464\" y=\"543.863645\"/>\r\n",
              "     <use style=\"fill:#1f77b4;stroke:#1f77b4;\" x=\"429.871561\" xlink:href=\"#m37ee264464\" y=\"548.353809\"/>\r\n",
              "     <use style=\"fill:#1f77b4;stroke:#1f77b4;\" x=\"717.34733\" xlink:href=\"#m37ee264464\" y=\"430.068863\"/>\r\n",
              "     <use style=\"fill:#1f77b4;stroke:#1f77b4;\" x=\"747.52223\" xlink:href=\"#m37ee264464\" y=\"540.528999\"/>\r\n",
              "     <use style=\"fill:#1f77b4;stroke:#1f77b4;\" x=\"812.629775\" xlink:href=\"#m37ee264464\" y=\"536.624509\"/>\r\n",
              "     <use style=\"fill:#1f77b4;stroke:#1f77b4;\" x=\"683.797243\" xlink:href=\"#m37ee264464\" y=\"506.992595\"/>\r\n",
              "     <use style=\"fill:#1f77b4;stroke:#1f77b4;\" x=\"683.193024\" xlink:href=\"#m37ee264464\" y=\"523.671099\"/>\r\n",
              "     <use style=\"fill:#1f77b4;stroke:#1f77b4;\" x=\"748.761788\" xlink:href=\"#m37ee264464\" y=\"502.454944\"/>\r\n",
              "     <use style=\"fill:#1f77b4;stroke:#1f77b4;\" x=\"757.254738\" xlink:href=\"#m37ee264464\" y=\"550.316606\"/>\r\n",
              "     <use style=\"fill:#1f77b4;stroke:#1f77b4;\" x=\"620.009942\" xlink:href=\"#m37ee264464\" y=\"471.10822\"/>\r\n",
              "     <use style=\"fill:#1f77b4;stroke:#1f77b4;\" x=\"908.143106\" xlink:href=\"#m37ee264464\" y=\"537.136314\"/>\r\n",
              "     <use style=\"fill:#1f77b4;stroke:#1f77b4;\" x=\"602.853058\" xlink:href=\"#m37ee264464\" y=\"513.292543\"/>\r\n",
              "     <use style=\"fill:#1f77b4;stroke:#1f77b4;\" x=\"571.856178\" xlink:href=\"#m37ee264464\" y=\"497.569055\"/>\r\n",
              "     <use style=\"fill:#1f77b4;stroke:#1f77b4;\" x=\"779.985898\" xlink:href=\"#m37ee264464\" y=\"507.309175\"/>\r\n",
              "     <use style=\"fill:#1f77b4;stroke:#1f77b4;\" x=\"910.406951\" xlink:href=\"#m37ee264464\" y=\"436.690667\"/>\r\n",
              "     <use style=\"fill:#1f77b4;stroke:#1f77b4;\" x=\"749.210623\" xlink:href=\"#m37ee264464\" y=\"484.21992\"/>\r\n",
              "     <use style=\"fill:#1f77b4;stroke:#1f77b4;\" x=\"797.27789\" xlink:href=\"#m37ee264464\" y=\"479.967192\"/>\r\n",
              "     <use style=\"fill:#1f77b4;stroke:#1f77b4;\" x=\"127.014773\" xlink:href=\"#m37ee264464\" y=\"545.409612\"/>\r\n",
              "     <use style=\"fill:#1f77b4;stroke:#1f77b4;\" x=\"555.268341\" xlink:href=\"#m37ee264464\" y=\"526.704994\"/>\r\n",
              "     <use style=\"fill:#1f77b4;stroke:#1f77b4;\" x=\"619.830356\" xlink:href=\"#m37ee264464\" y=\"485.702571\"/>\r\n",
              "     <use style=\"fill:#1f77b4;stroke:#1f77b4;\" x=\"619.879709\" xlink:href=\"#m37ee264464\" y=\"506.211697\"/>\r\n",
              "     <use style=\"fill:#1f77b4;stroke:#1f77b4;\" x=\"783.896709\" xlink:href=\"#m37ee264464\" y=\"549.335208\"/>\r\n",
              "     <use style=\"fill:#1f77b4;stroke:#1f77b4;\" x=\"829.382451\" xlink:href=\"#m37ee264464\" y=\"505.251403\"/>\r\n",
              "     <use style=\"fill:#1f77b4;stroke:#1f77b4;\" x=\"828.49697\" xlink:href=\"#m37ee264464\" y=\"527.802472\"/>\r\n",
              "     <use style=\"fill:#1f77b4;stroke:#1f77b4;\" x=\"587.606628\" xlink:href=\"#m37ee264464\" y=\"532.398163\"/>\r\n",
              "     <use style=\"fill:#1f77b4;stroke:#1f77b4;\" x=\"957.62988\" xlink:href=\"#m37ee264464\" y=\"456.951805\"/>\r\n",
              "     <use style=\"fill:#1f77b4;stroke:#1f77b4;\" x=\"684.217425\" xlink:href=\"#m37ee264464\" y=\"519.418371\"/>\r\n",
              "     <use style=\"fill:#1f77b4;stroke:#1f77b4;\" x=\"748.94897\" xlink:href=\"#m37ee264464\" y=\"505.483562\"/>\r\n",
              "     <use style=\"fill:#1f77b4;stroke:#1f77b4;\" x=\"714.124685\" xlink:href=\"#m37ee264464\" y=\"550.279672\"/>\r\n",
              "     <use style=\"fill:#1f77b4;stroke:#1f77b4;\" x=\"696.305016\" xlink:href=\"#m37ee264464\" y=\"548.422401\"/>\r\n",
              "     <use style=\"fill:#1f77b4;stroke:#1f77b4;\" x=\"777.148254\" xlink:href=\"#m37ee264464\" y=\"535.943862\"/>\r\n",
              "     <use style=\"fill:#1f77b4;stroke:#1f77b4;\" x=\"668.527426\" xlink:href=\"#m37ee264464\" y=\"444.779294\"/>\r\n",
              "     <use style=\"fill:#1f77b4;stroke:#1f77b4;\" x=\"747.662817\" xlink:href=\"#m37ee264464\" y=\"472.142382\"/>\r\n",
              "     <use style=\"fill:#1f77b4;stroke:#1f77b4;\" x=\"715.597206\" xlink:href=\"#m37ee264464\" y=\"528.182368\"/>\r\n",
              "     <use style=\"fill:#1f77b4;stroke:#1f77b4;\" x=\"475.754283\" xlink:href=\"#m37ee264464\" y=\"518.41059\"/>\r\n",
              "     <use style=\"fill:#1f77b4;stroke:#1f77b4;\" x=\"716.121459\" xlink:href=\"#m37ee264464\" y=\"531.316513\"/>\r\n",
              "     <use style=\"fill:#1f77b4;stroke:#1f77b4;\" x=\"523.610824\" xlink:href=\"#m37ee264464\" y=\"529.147938\"/>\r\n",
              "     <use style=\"fill:#1f77b4;stroke:#1f77b4;\" x=\"682.528637\" xlink:href=\"#m37ee264464\" y=\"534.149907\"/>\r\n",
              "     <use style=\"fill:#1f77b4;stroke:#1f77b4;\" x=\"732.328617\" xlink:href=\"#m37ee264464\" y=\"503.230566\"/>\r\n",
              "     <use style=\"fill:#1f77b4;stroke:#1f77b4;\" x=\"747.530303\" xlink:href=\"#m37ee264464\" y=\"526.17736\"/>\r\n",
              "     <use style=\"fill:#1f77b4;stroke:#1f77b4;\" x=\"635.742053\" xlink:href=\"#m37ee264464\" y=\"518.616368\"/>\r\n",
              "    </g>\r\n",
              "   </g>\r\n",
              "   <g id=\"matplotlib.axis_1\">\r\n",
              "    <g id=\"xtick_1\">\r\n",
              "     <g id=\"line2d_1\">\r\n",
              "      <defs>\r\n",
              "       <path d=\"M 0 0 \r\n",
              "L 0 3.5 \r\n",
              "\" id=\"m55709cc0d3\" style=\"stroke:#000000;stroke-width:0.8;\"/>\r\n",
              "      </defs>\r\n",
              "      <g>\r\n",
              "       <use style=\"stroke:#000000;stroke-width:0.8;\" x=\"162.564646\" xlink:href=\"#m55709cc0d3\" y=\"575.03625\"/>\r\n",
              "      </g>\r\n",
              "     </g>\r\n",
              "     <g id=\"text_1\">\r\n",
              "      <!-- 3 -->\r\n",
              "      <defs>\r\n",
              "       <path d=\"M 40.578125 39.3125 \r\n",
              "Q 47.65625 37.796875 51.625 33 \r\n",
              "Q 55.609375 28.21875 55.609375 21.1875 \r\n",
              "Q 55.609375 10.40625 48.1875 4.484375 \r\n",
              "Q 40.765625 -1.421875 27.09375 -1.421875 \r\n",
              "Q 22.515625 -1.421875 17.65625 -0.515625 \r\n",
              "Q 12.796875 0.390625 7.625 2.203125 \r\n",
              "L 7.625 11.71875 \r\n",
              "Q 11.71875 9.328125 16.59375 8.109375 \r\n",
              "Q 21.484375 6.890625 26.8125 6.890625 \r\n",
              "Q 36.078125 6.890625 40.9375 10.546875 \r\n",
              "Q 45.796875 14.203125 45.796875 21.1875 \r\n",
              "Q 45.796875 27.640625 41.28125 31.265625 \r\n",
              "Q 36.765625 34.90625 28.71875 34.90625 \r\n",
              "L 20.21875 34.90625 \r\n",
              "L 20.21875 43.015625 \r\n",
              "L 29.109375 43.015625 \r\n",
              "Q 36.375 43.015625 40.234375 45.921875 \r\n",
              "Q 44.09375 48.828125 44.09375 54.296875 \r\n",
              "Q 44.09375 59.90625 40.109375 62.90625 \r\n",
              "Q 36.140625 65.921875 28.71875 65.921875 \r\n",
              "Q 24.65625 65.921875 20.015625 65.03125 \r\n",
              "Q 15.375 64.15625 9.8125 62.3125 \r\n",
              "L 9.8125 71.09375 \r\n",
              "Q 15.4375 72.65625 20.34375 73.4375 \r\n",
              "Q 25.25 74.21875 29.59375 74.21875 \r\n",
              "Q 40.828125 74.21875 47.359375 69.109375 \r\n",
              "Q 53.90625 64.015625 53.90625 55.328125 \r\n",
              "Q 53.90625 49.265625 50.4375 45.09375 \r\n",
              "Q 46.96875 40.921875 40.578125 39.3125 \r\n",
              "z\r\n",
              "\" id=\"DejaVuSans-51\"/>\r\n",
              "      </defs>\r\n",
              "      <g transform=\"translate(156.202146 597.233125)scale(0.2 -0.2)\">\r\n",
              "       <use xlink:href=\"#DejaVuSans-51\"/>\r\n",
              "      </g>\r\n",
              "     </g>\r\n",
              "    </g>\r\n",
              "    <g id=\"xtick_2\">\r\n",
              "     <g id=\"line2d_2\">\r\n",
              "      <g>\r\n",
              "       <use style=\"stroke:#000000;stroke-width:0.8;\" x=\"327.16909\" xlink:href=\"#m55709cc0d3\" y=\"575.03625\"/>\r\n",
              "      </g>\r\n",
              "     </g>\r\n",
              "     <g id=\"text_2\">\r\n",
              "      <!-- 4 -->\r\n",
              "      <defs>\r\n",
              "       <path d=\"M 37.796875 64.3125 \r\n",
              "L 12.890625 25.390625 \r\n",
              "L 37.796875 25.390625 \r\n",
              "z\r\n",
              "M 35.203125 72.90625 \r\n",
              "L 47.609375 72.90625 \r\n",
              "L 47.609375 25.390625 \r\n",
              "L 58.015625 25.390625 \r\n",
              "L 58.015625 17.1875 \r\n",
              "L 47.609375 17.1875 \r\n",
              "L 47.609375 0 \r\n",
              "L 37.796875 0 \r\n",
              "L 37.796875 17.1875 \r\n",
              "L 4.890625 17.1875 \r\n",
              "L 4.890625 26.703125 \r\n",
              "z\r\n",
              "\" id=\"DejaVuSans-52\"/>\r\n",
              "      </defs>\r\n",
              "      <g transform=\"translate(320.80659 597.233125)scale(0.2 -0.2)\">\r\n",
              "       <use xlink:href=\"#DejaVuSans-52\"/>\r\n",
              "      </g>\r\n",
              "     </g>\r\n",
              "    </g>\r\n",
              "    <g id=\"xtick_3\">\r\n",
              "     <g id=\"line2d_3\">\r\n",
              "      <g>\r\n",
              "       <use style=\"stroke:#000000;stroke-width:0.8;\" x=\"491.773534\" xlink:href=\"#m55709cc0d3\" y=\"575.03625\"/>\r\n",
              "      </g>\r\n",
              "     </g>\r\n",
              "     <g id=\"text_3\">\r\n",
              "      <!-- 5 -->\r\n",
              "      <defs>\r\n",
              "       <path d=\"M 10.796875 72.90625 \r\n",
              "L 49.515625 72.90625 \r\n",
              "L 49.515625 64.59375 \r\n",
              "L 19.828125 64.59375 \r\n",
              "L 19.828125 46.734375 \r\n",
              "Q 21.96875 47.46875 24.109375 47.828125 \r\n",
              "Q 26.265625 48.1875 28.421875 48.1875 \r\n",
              "Q 40.625 48.1875 47.75 41.5 \r\n",
              "Q 54.890625 34.8125 54.890625 23.390625 \r\n",
              "Q 54.890625 11.625 47.5625 5.09375 \r\n",
              "Q 40.234375 -1.421875 26.90625 -1.421875 \r\n",
              "Q 22.3125 -1.421875 17.546875 -0.640625 \r\n",
              "Q 12.796875 0.140625 7.71875 1.703125 \r\n",
              "L 7.71875 11.625 \r\n",
              "Q 12.109375 9.234375 16.796875 8.0625 \r\n",
              "Q 21.484375 6.890625 26.703125 6.890625 \r\n",
              "Q 35.15625 6.890625 40.078125 11.328125 \r\n",
              "Q 45.015625 15.765625 45.015625 23.390625 \r\n",
              "Q 45.015625 31 40.078125 35.4375 \r\n",
              "Q 35.15625 39.890625 26.703125 39.890625 \r\n",
              "Q 22.75 39.890625 18.8125 39.015625 \r\n",
              "Q 14.890625 38.140625 10.796875 36.28125 \r\n",
              "z\r\n",
              "\" id=\"DejaVuSans-53\"/>\r\n",
              "      </defs>\r\n",
              "      <g transform=\"translate(485.411034 597.233125)scale(0.2 -0.2)\">\r\n",
              "       <use xlink:href=\"#DejaVuSans-53\"/>\r\n",
              "      </g>\r\n",
              "     </g>\r\n",
              "    </g>\r\n",
              "    <g id=\"xtick_4\">\r\n",
              "     <g id=\"line2d_4\">\r\n",
              "      <g>\r\n",
              "       <use style=\"stroke:#000000;stroke-width:0.8;\" x=\"656.377978\" xlink:href=\"#m55709cc0d3\" y=\"575.03625\"/>\r\n",
              "      </g>\r\n",
              "     </g>\r\n",
              "     <g id=\"text_4\">\r\n",
              "      <!-- 6 -->\r\n",
              "      <defs>\r\n",
              "       <path d=\"M 33.015625 40.375 \r\n",
              "Q 26.375 40.375 22.484375 35.828125 \r\n",
              "Q 18.609375 31.296875 18.609375 23.390625 \r\n",
              "Q 18.609375 15.53125 22.484375 10.953125 \r\n",
              "Q 26.375 6.390625 33.015625 6.390625 \r\n",
              "Q 39.65625 6.390625 43.53125 10.953125 \r\n",
              "Q 47.40625 15.53125 47.40625 23.390625 \r\n",
              "Q 47.40625 31.296875 43.53125 35.828125 \r\n",
              "Q 39.65625 40.375 33.015625 40.375 \r\n",
              "z\r\n",
              "M 52.59375 71.296875 \r\n",
              "L 52.59375 62.3125 \r\n",
              "Q 48.875 64.0625 45.09375 64.984375 \r\n",
              "Q 41.3125 65.921875 37.59375 65.921875 \r\n",
              "Q 27.828125 65.921875 22.671875 59.328125 \r\n",
              "Q 17.53125 52.734375 16.796875 39.40625 \r\n",
              "Q 19.671875 43.65625 24.015625 45.921875 \r\n",
              "Q 28.375 48.1875 33.59375 48.1875 \r\n",
              "Q 44.578125 48.1875 50.953125 41.515625 \r\n",
              "Q 57.328125 34.859375 57.328125 23.390625 \r\n",
              "Q 57.328125 12.15625 50.6875 5.359375 \r\n",
              "Q 44.046875 -1.421875 33.015625 -1.421875 \r\n",
              "Q 20.359375 -1.421875 13.671875 8.265625 \r\n",
              "Q 6.984375 17.96875 6.984375 36.375 \r\n",
              "Q 6.984375 53.65625 15.1875 63.9375 \r\n",
              "Q 23.390625 74.21875 37.203125 74.21875 \r\n",
              "Q 40.921875 74.21875 44.703125 73.484375 \r\n",
              "Q 48.484375 72.75 52.59375 71.296875 \r\n",
              "z\r\n",
              "\" id=\"DejaVuSans-54\"/>\r\n",
              "      </defs>\r\n",
              "      <g transform=\"translate(650.015478 597.233125)scale(0.2 -0.2)\">\r\n",
              "       <use xlink:href=\"#DejaVuSans-54\"/>\r\n",
              "      </g>\r\n",
              "     </g>\r\n",
              "    </g>\r\n",
              "    <g id=\"xtick_5\">\r\n",
              "     <g id=\"line2d_5\">\r\n",
              "      <g>\r\n",
              "       <use style=\"stroke:#000000;stroke-width:0.8;\" x=\"820.982422\" xlink:href=\"#m55709cc0d3\" y=\"575.03625\"/>\r\n",
              "      </g>\r\n",
              "     </g>\r\n",
              "     <g id=\"text_5\">\r\n",
              "      <!-- 7 -->\r\n",
              "      <defs>\r\n",
              "       <path d=\"M 8.203125 72.90625 \r\n",
              "L 55.078125 72.90625 \r\n",
              "L 55.078125 68.703125 \r\n",
              "L 28.609375 0 \r\n",
              "L 18.3125 0 \r\n",
              "L 43.21875 64.59375 \r\n",
              "L 8.203125 64.59375 \r\n",
              "z\r\n",
              "\" id=\"DejaVuSans-55\"/>\r\n",
              "      </defs>\r\n",
              "      <g transform=\"translate(814.619922 597.233125)scale(0.2 -0.2)\">\r\n",
              "       <use xlink:href=\"#DejaVuSans-55\"/>\r\n",
              "      </g>\r\n",
              "     </g>\r\n",
              "    </g>\r\n",
              "    <g id=\"xtick_6\">\r\n",
              "     <g id=\"line2d_6\">\r\n",
              "      <g>\r\n",
              "       <use style=\"stroke:#000000;stroke-width:0.8;\" x=\"985.586866\" xlink:href=\"#m55709cc0d3\" y=\"575.03625\"/>\r\n",
              "      </g>\r\n",
              "     </g>\r\n",
              "     <g id=\"text_6\">\r\n",
              "      <!-- 8 -->\r\n",
              "      <defs>\r\n",
              "       <path d=\"M 31.78125 34.625 \r\n",
              "Q 24.75 34.625 20.71875 30.859375 \r\n",
              "Q 16.703125 27.09375 16.703125 20.515625 \r\n",
              "Q 16.703125 13.921875 20.71875 10.15625 \r\n",
              "Q 24.75 6.390625 31.78125 6.390625 \r\n",
              "Q 38.8125 6.390625 42.859375 10.171875 \r\n",
              "Q 46.921875 13.96875 46.921875 20.515625 \r\n",
              "Q 46.921875 27.09375 42.890625 30.859375 \r\n",
              "Q 38.875 34.625 31.78125 34.625 \r\n",
              "z\r\n",
              "M 21.921875 38.8125 \r\n",
              "Q 15.578125 40.375 12.03125 44.71875 \r\n",
              "Q 8.5 49.078125 8.5 55.328125 \r\n",
              "Q 8.5 64.0625 14.71875 69.140625 \r\n",
              "Q 20.953125 74.21875 31.78125 74.21875 \r\n",
              "Q 42.671875 74.21875 48.875 69.140625 \r\n",
              "Q 55.078125 64.0625 55.078125 55.328125 \r\n",
              "Q 55.078125 49.078125 51.53125 44.71875 \r\n",
              "Q 48 40.375 41.703125 38.8125 \r\n",
              "Q 48.828125 37.15625 52.796875 32.3125 \r\n",
              "Q 56.78125 27.484375 56.78125 20.515625 \r\n",
              "Q 56.78125 9.90625 50.3125 4.234375 \r\n",
              "Q 43.84375 -1.421875 31.78125 -1.421875 \r\n",
              "Q 19.734375 -1.421875 13.25 4.234375 \r\n",
              "Q 6.78125 9.90625 6.78125 20.515625 \r\n",
              "Q 6.78125 27.484375 10.78125 32.3125 \r\n",
              "Q 14.796875 37.15625 21.921875 38.8125 \r\n",
              "z\r\n",
              "M 18.3125 54.390625 \r\n",
              "Q 18.3125 48.734375 21.84375 45.5625 \r\n",
              "Q 25.390625 42.390625 31.78125 42.390625 \r\n",
              "Q 38.140625 42.390625 41.71875 45.5625 \r\n",
              "Q 45.3125 48.734375 45.3125 54.390625 \r\n",
              "Q 45.3125 60.0625 41.71875 63.234375 \r\n",
              "Q 38.140625 66.40625 31.78125 66.40625 \r\n",
              "Q 25.390625 66.40625 21.84375 63.234375 \r\n",
              "Q 18.3125 60.0625 18.3125 54.390625 \r\n",
              "z\r\n",
              "\" id=\"DejaVuSans-56\"/>\r\n",
              "      </defs>\r\n",
              "      <g transform=\"translate(979.224366 597.233125)scale(0.2 -0.2)\">\r\n",
              "       <use xlink:href=\"#DejaVuSans-56\"/>\r\n",
              "      </g>\r\n",
              "     </g>\r\n",
              "    </g>\r\n",
              "    <g id=\"xtick_7\">\r\n",
              "     <g id=\"line2d_7\">\r\n",
              "      <g>\r\n",
              "       <use style=\"stroke:#000000;stroke-width:0.8;\" x=\"1150.19131\" xlink:href=\"#m55709cc0d3\" y=\"575.03625\"/>\r\n",
              "      </g>\r\n",
              "     </g>\r\n",
              "     <g id=\"text_7\">\r\n",
              "      <!-- 9 -->\r\n",
              "      <defs>\r\n",
              "       <path d=\"M 10.984375 1.515625 \r\n",
              "L 10.984375 10.5 \r\n",
              "Q 14.703125 8.734375 18.5 7.8125 \r\n",
              "Q 22.3125 6.890625 25.984375 6.890625 \r\n",
              "Q 35.75 6.890625 40.890625 13.453125 \r\n",
              "Q 46.046875 20.015625 46.78125 33.40625 \r\n",
              "Q 43.953125 29.203125 39.59375 26.953125 \r\n",
              "Q 35.25 24.703125 29.984375 24.703125 \r\n",
              "Q 19.046875 24.703125 12.671875 31.3125 \r\n",
              "Q 6.296875 37.9375 6.296875 49.421875 \r\n",
              "Q 6.296875 60.640625 12.9375 67.421875 \r\n",
              "Q 19.578125 74.21875 30.609375 74.21875 \r\n",
              "Q 43.265625 74.21875 49.921875 64.515625 \r\n",
              "Q 56.59375 54.828125 56.59375 36.375 \r\n",
              "Q 56.59375 19.140625 48.40625 8.859375 \r\n",
              "Q 40.234375 -1.421875 26.421875 -1.421875 \r\n",
              "Q 22.703125 -1.421875 18.890625 -0.6875 \r\n",
              "Q 15.09375 0.046875 10.984375 1.515625 \r\n",
              "z\r\n",
              "M 30.609375 32.421875 \r\n",
              "Q 37.25 32.421875 41.125 36.953125 \r\n",
              "Q 45.015625 41.5 45.015625 49.421875 \r\n",
              "Q 45.015625 57.28125 41.125 61.84375 \r\n",
              "Q 37.25 66.40625 30.609375 66.40625 \r\n",
              "Q 23.96875 66.40625 20.09375 61.84375 \r\n",
              "Q 16.21875 57.28125 16.21875 49.421875 \r\n",
              "Q 16.21875 41.5 20.09375 36.953125 \r\n",
              "Q 23.96875 32.421875 30.609375 32.421875 \r\n",
              "z\r\n",
              "\" id=\"DejaVuSans-57\"/>\r\n",
              "      </defs>\r\n",
              "      <g transform=\"translate(1143.82881 597.233125)scale(0.2 -0.2)\">\r\n",
              "       <use xlink:href=\"#DejaVuSans-57\"/>\r\n",
              "      </g>\r\n",
              "     </g>\r\n",
              "    </g>\r\n",
              "    <g id=\"text_8\">\r\n",
              "     <!-- rating_adjusted -->\r\n",
              "     <defs>\r\n",
              "      <path d=\"M 41.109375 46.296875 \r\n",
              "Q 39.59375 47.171875 37.8125 47.578125 \r\n",
              "Q 36.03125 48 33.890625 48 \r\n",
              "Q 26.265625 48 22.1875 43.046875 \r\n",
              "Q 18.109375 38.09375 18.109375 28.8125 \r\n",
              "L 18.109375 0 \r\n",
              "L 9.078125 0 \r\n",
              "L 9.078125 54.6875 \r\n",
              "L 18.109375 54.6875 \r\n",
              "L 18.109375 46.1875 \r\n",
              "Q 20.953125 51.171875 25.484375 53.578125 \r\n",
              "Q 30.03125 56 36.53125 56 \r\n",
              "Q 37.453125 56 38.578125 55.875 \r\n",
              "Q 39.703125 55.765625 41.0625 55.515625 \r\n",
              "z\r\n",
              "\" id=\"DejaVuSans-114\"/>\r\n",
              "      <path d=\"M 34.28125 27.484375 \r\n",
              "Q 23.390625 27.484375 19.1875 25 \r\n",
              "Q 14.984375 22.515625 14.984375 16.5 \r\n",
              "Q 14.984375 11.71875 18.140625 8.90625 \r\n",
              "Q 21.296875 6.109375 26.703125 6.109375 \r\n",
              "Q 34.1875 6.109375 38.703125 11.40625 \r\n",
              "Q 43.21875 16.703125 43.21875 25.484375 \r\n",
              "L 43.21875 27.484375 \r\n",
              "z\r\n",
              "M 52.203125 31.203125 \r\n",
              "L 52.203125 0 \r\n",
              "L 43.21875 0 \r\n",
              "L 43.21875 8.296875 \r\n",
              "Q 40.140625 3.328125 35.546875 0.953125 \r\n",
              "Q 30.953125 -1.421875 24.3125 -1.421875 \r\n",
              "Q 15.921875 -1.421875 10.953125 3.296875 \r\n",
              "Q 6 8.015625 6 15.921875 \r\n",
              "Q 6 25.140625 12.171875 29.828125 \r\n",
              "Q 18.359375 34.515625 30.609375 34.515625 \r\n",
              "L 43.21875 34.515625 \r\n",
              "L 43.21875 35.40625 \r\n",
              "Q 43.21875 41.609375 39.140625 45 \r\n",
              "Q 35.0625 48.390625 27.6875 48.390625 \r\n",
              "Q 23 48.390625 18.546875 47.265625 \r\n",
              "Q 14.109375 46.140625 10.015625 43.890625 \r\n",
              "L 10.015625 52.203125 \r\n",
              "Q 14.9375 54.109375 19.578125 55.046875 \r\n",
              "Q 24.21875 56 28.609375 56 \r\n",
              "Q 40.484375 56 46.34375 49.84375 \r\n",
              "Q 52.203125 43.703125 52.203125 31.203125 \r\n",
              "z\r\n",
              "\" id=\"DejaVuSans-97\"/>\r\n",
              "      <path d=\"M 18.3125 70.21875 \r\n",
              "L 18.3125 54.6875 \r\n",
              "L 36.8125 54.6875 \r\n",
              "L 36.8125 47.703125 \r\n",
              "L 18.3125 47.703125 \r\n",
              "L 18.3125 18.015625 \r\n",
              "Q 18.3125 11.328125 20.140625 9.421875 \r\n",
              "Q 21.96875 7.515625 27.59375 7.515625 \r\n",
              "L 36.8125 7.515625 \r\n",
              "L 36.8125 0 \r\n",
              "L 27.59375 0 \r\n",
              "Q 17.1875 0 13.234375 3.875 \r\n",
              "Q 9.28125 7.765625 9.28125 18.015625 \r\n",
              "L 9.28125 47.703125 \r\n",
              "L 2.6875 47.703125 \r\n",
              "L 2.6875 54.6875 \r\n",
              "L 9.28125 54.6875 \r\n",
              "L 9.28125 70.21875 \r\n",
              "z\r\n",
              "\" id=\"DejaVuSans-116\"/>\r\n",
              "      <path d=\"M 9.421875 54.6875 \r\n",
              "L 18.40625 54.6875 \r\n",
              "L 18.40625 0 \r\n",
              "L 9.421875 0 \r\n",
              "z\r\n",
              "M 9.421875 75.984375 \r\n",
              "L 18.40625 75.984375 \r\n",
              "L 18.40625 64.59375 \r\n",
              "L 9.421875 64.59375 \r\n",
              "z\r\n",
              "\" id=\"DejaVuSans-105\"/>\r\n",
              "      <path d=\"M 54.890625 33.015625 \r\n",
              "L 54.890625 0 \r\n",
              "L 45.90625 0 \r\n",
              "L 45.90625 32.71875 \r\n",
              "Q 45.90625 40.484375 42.875 44.328125 \r\n",
              "Q 39.84375 48.1875 33.796875 48.1875 \r\n",
              "Q 26.515625 48.1875 22.3125 43.546875 \r\n",
              "Q 18.109375 38.921875 18.109375 30.90625 \r\n",
              "L 18.109375 0 \r\n",
              "L 9.078125 0 \r\n",
              "L 9.078125 54.6875 \r\n",
              "L 18.109375 54.6875 \r\n",
              "L 18.109375 46.1875 \r\n",
              "Q 21.34375 51.125 25.703125 53.5625 \r\n",
              "Q 30.078125 56 35.796875 56 \r\n",
              "Q 45.21875 56 50.046875 50.171875 \r\n",
              "Q 54.890625 44.34375 54.890625 33.015625 \r\n",
              "z\r\n",
              "\" id=\"DejaVuSans-110\"/>\r\n",
              "      <path d=\"M 45.40625 27.984375 \r\n",
              "Q 45.40625 37.75 41.375 43.109375 \r\n",
              "Q 37.359375 48.484375 30.078125 48.484375 \r\n",
              "Q 22.859375 48.484375 18.828125 43.109375 \r\n",
              "Q 14.796875 37.75 14.796875 27.984375 \r\n",
              "Q 14.796875 18.265625 18.828125 12.890625 \r\n",
              "Q 22.859375 7.515625 30.078125 7.515625 \r\n",
              "Q 37.359375 7.515625 41.375 12.890625 \r\n",
              "Q 45.40625 18.265625 45.40625 27.984375 \r\n",
              "z\r\n",
              "M 54.390625 6.78125 \r\n",
              "Q 54.390625 -7.171875 48.1875 -13.984375 \r\n",
              "Q 42 -20.796875 29.203125 -20.796875 \r\n",
              "Q 24.46875 -20.796875 20.265625 -20.09375 \r\n",
              "Q 16.0625 -19.390625 12.109375 -17.921875 \r\n",
              "L 12.109375 -9.1875 \r\n",
              "Q 16.0625 -11.328125 19.921875 -12.34375 \r\n",
              "Q 23.78125 -13.375 27.78125 -13.375 \r\n",
              "Q 36.625 -13.375 41.015625 -8.765625 \r\n",
              "Q 45.40625 -4.15625 45.40625 5.171875 \r\n",
              "L 45.40625 9.625 \r\n",
              "Q 42.625 4.78125 38.28125 2.390625 \r\n",
              "Q 33.9375 0 27.875 0 \r\n",
              "Q 17.828125 0 11.671875 7.65625 \r\n",
              "Q 5.515625 15.328125 5.515625 27.984375 \r\n",
              "Q 5.515625 40.671875 11.671875 48.328125 \r\n",
              "Q 17.828125 56 27.875 56 \r\n",
              "Q 33.9375 56 38.28125 53.609375 \r\n",
              "Q 42.625 51.21875 45.40625 46.390625 \r\n",
              "L 45.40625 54.6875 \r\n",
              "L 54.390625 54.6875 \r\n",
              "z\r\n",
              "\" id=\"DejaVuSans-103\"/>\r\n",
              "      <path d=\"M 50.984375 -16.609375 \r\n",
              "L 50.984375 -23.578125 \r\n",
              "L -0.984375 -23.578125 \r\n",
              "L -0.984375 -16.609375 \r\n",
              "z\r\n",
              "\" id=\"DejaVuSans-95\"/>\r\n",
              "      <path d=\"M 45.40625 46.390625 \r\n",
              "L 45.40625 75.984375 \r\n",
              "L 54.390625 75.984375 \r\n",
              "L 54.390625 0 \r\n",
              "L 45.40625 0 \r\n",
              "L 45.40625 8.203125 \r\n",
              "Q 42.578125 3.328125 38.25 0.953125 \r\n",
              "Q 33.9375 -1.421875 27.875 -1.421875 \r\n",
              "Q 17.96875 -1.421875 11.734375 6.484375 \r\n",
              "Q 5.515625 14.40625 5.515625 27.296875 \r\n",
              "Q 5.515625 40.1875 11.734375 48.09375 \r\n",
              "Q 17.96875 56 27.875 56 \r\n",
              "Q 33.9375 56 38.25 53.625 \r\n",
              "Q 42.578125 51.265625 45.40625 46.390625 \r\n",
              "z\r\n",
              "M 14.796875 27.296875 \r\n",
              "Q 14.796875 17.390625 18.875 11.75 \r\n",
              "Q 22.953125 6.109375 30.078125 6.109375 \r\n",
              "Q 37.203125 6.109375 41.296875 11.75 \r\n",
              "Q 45.40625 17.390625 45.40625 27.296875 \r\n",
              "Q 45.40625 37.203125 41.296875 42.84375 \r\n",
              "Q 37.203125 48.484375 30.078125 48.484375 \r\n",
              "Q 22.953125 48.484375 18.875 42.84375 \r\n",
              "Q 14.796875 37.203125 14.796875 27.296875 \r\n",
              "z\r\n",
              "\" id=\"DejaVuSans-100\"/>\r\n",
              "      <path d=\"M 9.421875 54.6875 \r\n",
              "L 18.40625 54.6875 \r\n",
              "L 18.40625 -0.984375 \r\n",
              "Q 18.40625 -11.421875 14.421875 -16.109375 \r\n",
              "Q 10.453125 -20.796875 1.609375 -20.796875 \r\n",
              "L -1.8125 -20.796875 \r\n",
              "L -1.8125 -13.1875 \r\n",
              "L 0.59375 -13.1875 \r\n",
              "Q 5.71875 -13.1875 7.5625 -10.8125 \r\n",
              "Q 9.421875 -8.453125 9.421875 -0.984375 \r\n",
              "z\r\n",
              "M 9.421875 75.984375 \r\n",
              "L 18.40625 75.984375 \r\n",
              "L 18.40625 64.59375 \r\n",
              "L 9.421875 64.59375 \r\n",
              "z\r\n",
              "\" id=\"DejaVuSans-106\"/>\r\n",
              "      <path d=\"M 8.5 21.578125 \r\n",
              "L 8.5 54.6875 \r\n",
              "L 17.484375 54.6875 \r\n",
              "L 17.484375 21.921875 \r\n",
              "Q 17.484375 14.15625 20.5 10.265625 \r\n",
              "Q 23.53125 6.390625 29.59375 6.390625 \r\n",
              "Q 36.859375 6.390625 41.078125 11.03125 \r\n",
              "Q 45.3125 15.671875 45.3125 23.6875 \r\n",
              "L 45.3125 54.6875 \r\n",
              "L 54.296875 54.6875 \r\n",
              "L 54.296875 0 \r\n",
              "L 45.3125 0 \r\n",
              "L 45.3125 8.40625 \r\n",
              "Q 42.046875 3.421875 37.71875 1 \r\n",
              "Q 33.40625 -1.421875 27.6875 -1.421875 \r\n",
              "Q 18.265625 -1.421875 13.375 4.4375 \r\n",
              "Q 8.5 10.296875 8.5 21.578125 \r\n",
              "z\r\n",
              "M 31.109375 56 \r\n",
              "z\r\n",
              "\" id=\"DejaVuSans-117\"/>\r\n",
              "      <path d=\"M 44.28125 53.078125 \r\n",
              "L 44.28125 44.578125 \r\n",
              "Q 40.484375 46.53125 36.375 47.5 \r\n",
              "Q 32.28125 48.484375 27.875 48.484375 \r\n",
              "Q 21.1875 48.484375 17.84375 46.4375 \r\n",
              "Q 14.5 44.390625 14.5 40.28125 \r\n",
              "Q 14.5 37.15625 16.890625 35.375 \r\n",
              "Q 19.28125 33.59375 26.515625 31.984375 \r\n",
              "L 29.59375 31.296875 \r\n",
              "Q 39.15625 29.25 43.1875 25.515625 \r\n",
              "Q 47.21875 21.78125 47.21875 15.09375 \r\n",
              "Q 47.21875 7.46875 41.1875 3.015625 \r\n",
              "Q 35.15625 -1.421875 24.609375 -1.421875 \r\n",
              "Q 20.21875 -1.421875 15.453125 -0.5625 \r\n",
              "Q 10.6875 0.296875 5.421875 2 \r\n",
              "L 5.421875 11.28125 \r\n",
              "Q 10.40625 8.6875 15.234375 7.390625 \r\n",
              "Q 20.0625 6.109375 24.8125 6.109375 \r\n",
              "Q 31.15625 6.109375 34.5625 8.28125 \r\n",
              "Q 37.984375 10.453125 37.984375 14.40625 \r\n",
              "Q 37.984375 18.0625 35.515625 20.015625 \r\n",
              "Q 33.0625 21.96875 24.703125 23.78125 \r\n",
              "L 21.578125 24.515625 \r\n",
              "Q 13.234375 26.265625 9.515625 29.90625 \r\n",
              "Q 5.8125 33.546875 5.8125 39.890625 \r\n",
              "Q 5.8125 47.609375 11.28125 51.796875 \r\n",
              "Q 16.75 56 26.8125 56 \r\n",
              "Q 31.78125 56 36.171875 55.265625 \r\n",
              "Q 40.578125 54.546875 44.28125 53.078125 \r\n",
              "z\r\n",
              "\" id=\"DejaVuSans-115\"/>\r\n",
              "      <path d=\"M 56.203125 29.59375 \r\n",
              "L 56.203125 25.203125 \r\n",
              "L 14.890625 25.203125 \r\n",
              "Q 15.484375 15.921875 20.484375 11.0625 \r\n",
              "Q 25.484375 6.203125 34.421875 6.203125 \r\n",
              "Q 39.59375 6.203125 44.453125 7.46875 \r\n",
              "Q 49.3125 8.734375 54.109375 11.28125 \r\n",
              "L 54.109375 2.78125 \r\n",
              "Q 49.265625 0.734375 44.1875 -0.34375 \r\n",
              "Q 39.109375 -1.421875 33.890625 -1.421875 \r\n",
              "Q 20.796875 -1.421875 13.15625 6.1875 \r\n",
              "Q 5.515625 13.8125 5.515625 26.8125 \r\n",
              "Q 5.515625 40.234375 12.765625 48.109375 \r\n",
              "Q 20.015625 56 32.328125 56 \r\n",
              "Q 43.359375 56 49.78125 48.890625 \r\n",
              "Q 56.203125 41.796875 56.203125 29.59375 \r\n",
              "z\r\n",
              "M 47.21875 32.234375 \r\n",
              "Q 47.125 39.59375 43.09375 43.984375 \r\n",
              "Q 39.0625 48.390625 32.421875 48.390625 \r\n",
              "Q 24.90625 48.390625 20.390625 44.140625 \r\n",
              "Q 15.875 39.890625 15.1875 32.171875 \r\n",
              "z\r\n",
              "\" id=\"DejaVuSans-101\"/>\r\n",
              "     </defs>\r\n",
              "     <g transform=\"translate(556.440625 620.589375)scale(0.2 -0.2)\">\r\n",
              "      <use xlink:href=\"#DejaVuSans-114\"/>\r\n",
              "      <use x=\"41.113281\" xlink:href=\"#DejaVuSans-97\"/>\r\n",
              "      <use x=\"102.392578\" xlink:href=\"#DejaVuSans-116\"/>\r\n",
              "      <use x=\"141.601562\" xlink:href=\"#DejaVuSans-105\"/>\r\n",
              "      <use x=\"169.384766\" xlink:href=\"#DejaVuSans-110\"/>\r\n",
              "      <use x=\"232.763672\" xlink:href=\"#DejaVuSans-103\"/>\r\n",
              "      <use x=\"296.240234\" xlink:href=\"#DejaVuSans-95\"/>\r\n",
              "      <use x=\"346.240234\" xlink:href=\"#DejaVuSans-97\"/>\r\n",
              "      <use x=\"407.519531\" xlink:href=\"#DejaVuSans-100\"/>\r\n",
              "      <use x=\"470.996094\" xlink:href=\"#DejaVuSans-106\"/>\r\n",
              "      <use x=\"498.779297\" xlink:href=\"#DejaVuSans-117\"/>\r\n",
              "      <use x=\"562.158203\" xlink:href=\"#DejaVuSans-115\"/>\r\n",
              "      <use x=\"614.257812\" xlink:href=\"#DejaVuSans-116\"/>\r\n",
              "      <use x=\"653.466797\" xlink:href=\"#DejaVuSans-101\"/>\r\n",
              "      <use x=\"714.990234\" xlink:href=\"#DejaVuSans-100\"/>\r\n",
              "     </g>\r\n",
              "    </g>\r\n",
              "   </g>\r\n",
              "   <g id=\"matplotlib.axis_2\">\r\n",
              "    <g id=\"ytick_1\">\r\n",
              "     <g id=\"line2d_8\">\r\n",
              "      <defs>\r\n",
              "       <path d=\"M 0 0 \r\n",
              "L -3.5 0 \r\n",
              "\" id=\"mc66817ebc7\" style=\"stroke:#000000;stroke-width:0.8;\"/>\r\n",
              "      </defs>\r\n",
              "      <g>\r\n",
              "       <use style=\"stroke:#000000;stroke-width:0.8;\" x=\"76.2875\" xlink:href=\"#mc66817ebc7\" y=\"550.342988\"/>\r\n",
              "      </g>\r\n",
              "     </g>\r\n",
              "     <g id=\"text_9\">\r\n",
              "      <!-- 0 -->\r\n",
              "      <defs>\r\n",
              "       <path d=\"M 31.78125 66.40625 \r\n",
              "Q 24.171875 66.40625 20.328125 58.90625 \r\n",
              "Q 16.5 51.421875 16.5 36.375 \r\n",
              "Q 16.5 21.390625 20.328125 13.890625 \r\n",
              "Q 24.171875 6.390625 31.78125 6.390625 \r\n",
              "Q 39.453125 6.390625 43.28125 13.890625 \r\n",
              "Q 47.125 21.390625 47.125 36.375 \r\n",
              "Q 47.125 51.421875 43.28125 58.90625 \r\n",
              "Q 39.453125 66.40625 31.78125 66.40625 \r\n",
              "z\r\n",
              "M 31.78125 74.21875 \r\n",
              "Q 44.046875 74.21875 50.515625 64.515625 \r\n",
              "Q 56.984375 54.828125 56.984375 36.375 \r\n",
              "Q 56.984375 17.96875 50.515625 8.265625 \r\n",
              "Q 44.046875 -1.421875 31.78125 -1.421875 \r\n",
              "Q 19.53125 -1.421875 13.0625 8.265625 \r\n",
              "Q 6.59375 17.96875 6.59375 36.375 \r\n",
              "Q 6.59375 54.828125 13.0625 64.515625 \r\n",
              "Q 19.53125 74.21875 31.78125 74.21875 \r\n",
              "z\r\n",
              "\" id=\"DejaVuSans-48\"/>\r\n",
              "      </defs>\r\n",
              "      <g transform=\"translate(56.5625 557.941426)scale(0.2 -0.2)\">\r\n",
              "       <use xlink:href=\"#DejaVuSans-48\"/>\r\n",
              "      </g>\r\n",
              "     </g>\r\n",
              "    </g>\r\n",
              "    <g id=\"ytick_2\">\r\n",
              "     <g id=\"line2d_9\">\r\n",
              "      <g>\r\n",
              "       <use style=\"stroke:#000000;stroke-width:0.8;\" x=\"76.2875\" xlink:href=\"#mc66817ebc7\" y=\"444.816228\"/>\r\n",
              "      </g>\r\n",
              "     </g>\r\n",
              "     <g id=\"text_10\">\r\n",
              "      <!-- 200 -->\r\n",
              "      <defs>\r\n",
              "       <path d=\"M 19.1875 8.296875 \r\n",
              "L 53.609375 8.296875 \r\n",
              "L 53.609375 0 \r\n",
              "L 7.328125 0 \r\n",
              "L 7.328125 8.296875 \r\n",
              "Q 12.9375 14.109375 22.625 23.890625 \r\n",
              "Q 32.328125 33.6875 34.8125 36.53125 \r\n",
              "Q 39.546875 41.84375 41.421875 45.53125 \r\n",
              "Q 43.3125 49.21875 43.3125 52.78125 \r\n",
              "Q 43.3125 58.59375 39.234375 62.25 \r\n",
              "Q 35.15625 65.921875 28.609375 65.921875 \r\n",
              "Q 23.96875 65.921875 18.8125 64.3125 \r\n",
              "Q 13.671875 62.703125 7.8125 59.421875 \r\n",
              "L 7.8125 69.390625 \r\n",
              "Q 13.765625 71.78125 18.9375 73 \r\n",
              "Q 24.125 74.21875 28.421875 74.21875 \r\n",
              "Q 39.75 74.21875 46.484375 68.546875 \r\n",
              "Q 53.21875 62.890625 53.21875 53.421875 \r\n",
              "Q 53.21875 48.921875 51.53125 44.890625 \r\n",
              "Q 49.859375 40.875 45.40625 35.40625 \r\n",
              "Q 44.1875 33.984375 37.640625 27.21875 \r\n",
              "Q 31.109375 20.453125 19.1875 8.296875 \r\n",
              "z\r\n",
              "\" id=\"DejaVuSans-50\"/>\r\n",
              "      </defs>\r\n",
              "      <g transform=\"translate(31.1125 452.414665)scale(0.2 -0.2)\">\r\n",
              "       <use xlink:href=\"#DejaVuSans-50\"/>\r\n",
              "       <use x=\"63.623047\" xlink:href=\"#DejaVuSans-48\"/>\r\n",
              "       <use x=\"127.246094\" xlink:href=\"#DejaVuSans-48\"/>\r\n",
              "      </g>\r\n",
              "     </g>\r\n",
              "    </g>\r\n",
              "    <g id=\"ytick_3\">\r\n",
              "     <g id=\"line2d_10\">\r\n",
              "      <g>\r\n",
              "       <use style=\"stroke:#000000;stroke-width:0.8;\" x=\"76.2875\" xlink:href=\"#mc66817ebc7\" y=\"339.289468\"/>\r\n",
              "      </g>\r\n",
              "     </g>\r\n",
              "     <g id=\"text_11\">\r\n",
              "      <!-- 400 -->\r\n",
              "      <g transform=\"translate(31.1125 346.887905)scale(0.2 -0.2)\">\r\n",
              "       <use xlink:href=\"#DejaVuSans-52\"/>\r\n",
              "       <use x=\"63.623047\" xlink:href=\"#DejaVuSans-48\"/>\r\n",
              "       <use x=\"127.246094\" xlink:href=\"#DejaVuSans-48\"/>\r\n",
              "      </g>\r\n",
              "     </g>\r\n",
              "    </g>\r\n",
              "    <g id=\"ytick_4\">\r\n",
              "     <g id=\"line2d_11\">\r\n",
              "      <g>\r\n",
              "       <use style=\"stroke:#000000;stroke-width:0.8;\" x=\"76.2875\" xlink:href=\"#mc66817ebc7\" y=\"233.762707\"/>\r\n",
              "      </g>\r\n",
              "     </g>\r\n",
              "     <g id=\"text_12\">\r\n",
              "      <!-- 600 -->\r\n",
              "      <g transform=\"translate(31.1125 241.361145)scale(0.2 -0.2)\">\r\n",
              "       <use xlink:href=\"#DejaVuSans-54\"/>\r\n",
              "       <use x=\"63.623047\" xlink:href=\"#DejaVuSans-48\"/>\r\n",
              "       <use x=\"127.246094\" xlink:href=\"#DejaVuSans-48\"/>\r\n",
              "      </g>\r\n",
              "     </g>\r\n",
              "    </g>\r\n",
              "    <g id=\"ytick_5\">\r\n",
              "     <g id=\"line2d_12\">\r\n",
              "      <g>\r\n",
              "       <use style=\"stroke:#000000;stroke-width:0.8;\" x=\"76.2875\" xlink:href=\"#mc66817ebc7\" y=\"128.235947\"/>\r\n",
              "      </g>\r\n",
              "     </g>\r\n",
              "     <g id=\"text_13\">\r\n",
              "      <!-- 800 -->\r\n",
              "      <g transform=\"translate(31.1125 135.834385)scale(0.2 -0.2)\">\r\n",
              "       <use xlink:href=\"#DejaVuSans-56\"/>\r\n",
              "       <use x=\"63.623047\" xlink:href=\"#DejaVuSans-48\"/>\r\n",
              "       <use x=\"127.246094\" xlink:href=\"#DejaVuSans-48\"/>\r\n",
              "      </g>\r\n",
              "     </g>\r\n",
              "    </g>\r\n",
              "    <g id=\"text_14\">\r\n",
              "     <!-- revenue_millions -->\r\n",
              "     <defs>\r\n",
              "      <path d=\"M 2.984375 54.6875 \r\n",
              "L 12.5 54.6875 \r\n",
              "L 29.59375 8.796875 \r\n",
              "L 46.6875 54.6875 \r\n",
              "L 56.203125 54.6875 \r\n",
              "L 35.6875 0 \r\n",
              "L 23.484375 0 \r\n",
              "z\r\n",
              "\" id=\"DejaVuSans-118\"/>\r\n",
              "      <path d=\"M 52 44.1875 \r\n",
              "Q 55.375 50.25 60.0625 53.125 \r\n",
              "Q 64.75 56 71.09375 56 \r\n",
              "Q 79.640625 56 84.28125 50.015625 \r\n",
              "Q 88.921875 44.046875 88.921875 33.015625 \r\n",
              "L 88.921875 0 \r\n",
              "L 79.890625 0 \r\n",
              "L 79.890625 32.71875 \r\n",
              "Q 79.890625 40.578125 77.09375 44.375 \r\n",
              "Q 74.3125 48.1875 68.609375 48.1875 \r\n",
              "Q 61.625 48.1875 57.5625 43.546875 \r\n",
              "Q 53.515625 38.921875 53.515625 30.90625 \r\n",
              "L 53.515625 0 \r\n",
              "L 44.484375 0 \r\n",
              "L 44.484375 32.71875 \r\n",
              "Q 44.484375 40.625 41.703125 44.40625 \r\n",
              "Q 38.921875 48.1875 33.109375 48.1875 \r\n",
              "Q 26.21875 48.1875 22.15625 43.53125 \r\n",
              "Q 18.109375 38.875 18.109375 30.90625 \r\n",
              "L 18.109375 0 \r\n",
              "L 9.078125 0 \r\n",
              "L 9.078125 54.6875 \r\n",
              "L 18.109375 54.6875 \r\n",
              "L 18.109375 46.1875 \r\n",
              "Q 21.1875 51.21875 25.484375 53.609375 \r\n",
              "Q 29.78125 56 35.6875 56 \r\n",
              "Q 41.65625 56 45.828125 52.96875 \r\n",
              "Q 50 49.953125 52 44.1875 \r\n",
              "z\r\n",
              "\" id=\"DejaVuSans-109\"/>\r\n",
              "      <path d=\"M 9.421875 75.984375 \r\n",
              "L 18.40625 75.984375 \r\n",
              "L 18.40625 0 \r\n",
              "L 9.421875 0 \r\n",
              "z\r\n",
              "\" id=\"DejaVuSans-108\"/>\r\n",
              "      <path d=\"M 30.609375 48.390625 \r\n",
              "Q 23.390625 48.390625 19.1875 42.75 \r\n",
              "Q 14.984375 37.109375 14.984375 27.296875 \r\n",
              "Q 14.984375 17.484375 19.15625 11.84375 \r\n",
              "Q 23.34375 6.203125 30.609375 6.203125 \r\n",
              "Q 37.796875 6.203125 41.984375 11.859375 \r\n",
              "Q 46.1875 17.53125 46.1875 27.296875 \r\n",
              "Q 46.1875 37.015625 41.984375 42.703125 \r\n",
              "Q 37.796875 48.390625 30.609375 48.390625 \r\n",
              "z\r\n",
              "M 30.609375 56 \r\n",
              "Q 42.328125 56 49.015625 48.375 \r\n",
              "Q 55.71875 40.765625 55.71875 27.296875 \r\n",
              "Q 55.71875 13.875 49.015625 6.21875 \r\n",
              "Q 42.328125 -1.421875 30.609375 -1.421875 \r\n",
              "Q 18.84375 -1.421875 12.171875 6.21875 \r\n",
              "Q 5.515625 13.875 5.515625 27.296875 \r\n",
              "Q 5.515625 40.765625 12.171875 48.375 \r\n",
              "Q 18.84375 56 30.609375 56 \r\n",
              "z\r\n",
              "\" id=\"DejaVuSans-111\"/>\r\n",
              "     </defs>\r\n",
              "     <g transform=\"translate(22.396875 387.694062)rotate(-90)scale(0.2 -0.2)\">\r\n",
              "      <use xlink:href=\"#DejaVuSans-114\"/>\r\n",
              "      <use x=\"38.863281\" xlink:href=\"#DejaVuSans-101\"/>\r\n",
              "      <use x=\"100.386719\" xlink:href=\"#DejaVuSans-118\"/>\r\n",
              "      <use x=\"159.566406\" xlink:href=\"#DejaVuSans-101\"/>\r\n",
              "      <use x=\"221.089844\" xlink:href=\"#DejaVuSans-110\"/>\r\n",
              "      <use x=\"284.46875\" xlink:href=\"#DejaVuSans-117\"/>\r\n",
              "      <use x=\"347.847656\" xlink:href=\"#DejaVuSans-101\"/>\r\n",
              "      <use x=\"409.371094\" xlink:href=\"#DejaVuSans-95\"/>\r\n",
              "      <use x=\"459.371094\" xlink:href=\"#DejaVuSans-109\"/>\r\n",
              "      <use x=\"556.783203\" xlink:href=\"#DejaVuSans-105\"/>\r\n",
              "      <use x=\"584.566406\" xlink:href=\"#DejaVuSans-108\"/>\r\n",
              "      <use x=\"612.349609\" xlink:href=\"#DejaVuSans-108\"/>\r\n",
              "      <use x=\"640.132812\" xlink:href=\"#DejaVuSans-105\"/>\r\n",
              "      <use x=\"667.916016\" xlink:href=\"#DejaVuSans-111\"/>\r\n",
              "      <use x=\"729.097656\" xlink:href=\"#DejaVuSans-110\"/>\r\n",
              "      <use x=\"792.476562\" xlink:href=\"#DejaVuSans-115\"/>\r\n",
              "     </g>\r\n",
              "    </g>\r\n",
              "   </g>\r\n",
              "   <g id=\"patch_3\">\r\n",
              "    <path d=\"M 76.2875 575.03625 \r\n",
              "L 76.2875 31.43625 \r\n",
              "\" style=\"fill:none;stroke:#000000;stroke-linecap:square;stroke-linejoin:miter;stroke-width:0.8;\"/>\r\n",
              "   </g>\r\n",
              "   <g id=\"patch_4\">\r\n",
              "    <path d=\"M 1192.2875 575.03625 \r\n",
              "L 1192.2875 31.43625 \r\n",
              "\" style=\"fill:none;stroke:#000000;stroke-linecap:square;stroke-linejoin:miter;stroke-width:0.8;\"/>\r\n",
              "   </g>\r\n",
              "   <g id=\"patch_5\">\r\n",
              "    <path d=\"M 76.2875 575.03625 \r\n",
              "L 1192.2875 575.03625 \r\n",
              "\" style=\"fill:none;stroke:#000000;stroke-linecap:square;stroke-linejoin:miter;stroke-width:0.8;\"/>\r\n",
              "   </g>\r\n",
              "   <g id=\"patch_6\">\r\n",
              "    <path d=\"M 76.2875 31.43625 \r\n",
              "L 1192.2875 31.43625 \r\n",
              "\" style=\"fill:none;stroke:#000000;stroke-linecap:square;stroke-linejoin:miter;stroke-width:0.8;\"/>\r\n",
              "   </g>\r\n",
              "   <g id=\"text_15\">\r\n",
              "    <!-- Action -->\r\n",
              "    <defs>\r\n",
              "     <path d=\"M 34.1875 63.1875 \r\n",
              "L 20.796875 26.90625 \r\n",
              "L 47.609375 26.90625 \r\n",
              "z\r\n",
              "M 28.609375 72.90625 \r\n",
              "L 39.796875 72.90625 \r\n",
              "L 67.578125 0 \r\n",
              "L 57.328125 0 \r\n",
              "L 50.6875 18.703125 \r\n",
              "L 17.828125 18.703125 \r\n",
              "L 11.1875 0 \r\n",
              "L 0.78125 0 \r\n",
              "z\r\n",
              "\" id=\"DejaVuSans-65\"/>\r\n",
              "     <path d=\"M 48.78125 52.59375 \r\n",
              "L 48.78125 44.1875 \r\n",
              "Q 44.96875 46.296875 41.140625 47.34375 \r\n",
              "Q 37.3125 48.390625 33.40625 48.390625 \r\n",
              "Q 24.65625 48.390625 19.8125 42.84375 \r\n",
              "Q 14.984375 37.3125 14.984375 27.296875 \r\n",
              "Q 14.984375 17.28125 19.8125 11.734375 \r\n",
              "Q 24.65625 6.203125 33.40625 6.203125 \r\n",
              "Q 37.3125 6.203125 41.140625 7.25 \r\n",
              "Q 44.96875 8.296875 48.78125 10.40625 \r\n",
              "L 48.78125 2.09375 \r\n",
              "Q 45.015625 0.34375 40.984375 -0.53125 \r\n",
              "Q 36.96875 -1.421875 32.421875 -1.421875 \r\n",
              "Q 20.0625 -1.421875 12.78125 6.34375 \r\n",
              "Q 5.515625 14.109375 5.515625 27.296875 \r\n",
              "Q 5.515625 40.671875 12.859375 48.328125 \r\n",
              "Q 20.21875 56 33.015625 56 \r\n",
              "Q 37.15625 56 41.109375 55.140625 \r\n",
              "Q 45.0625 54.296875 48.78125 52.59375 \r\n",
              "z\r\n",
              "\" id=\"DejaVuSans-99\"/>\r\n",
              "    </defs>\r\n",
              "    <g transform=\"translate(596.705 25.43625)scale(0.24 -0.24)\">\r\n",
              "     <use xlink:href=\"#DejaVuSans-65\"/>\r\n",
              "     <use x=\"66.658203\" xlink:href=\"#DejaVuSans-99\"/>\r\n",
              "     <use x=\"121.638672\" xlink:href=\"#DejaVuSans-116\"/>\r\n",
              "     <use x=\"160.847656\" xlink:href=\"#DejaVuSans-105\"/>\r\n",
              "     <use x=\"188.630859\" xlink:href=\"#DejaVuSans-111\"/>\r\n",
              "     <use x=\"249.8125\" xlink:href=\"#DejaVuSans-110\"/>\r\n",
              "    </g>\r\n",
              "   </g>\r\n",
              "  </g>\r\n",
              " </g>\r\n",
              " <defs>\r\n",
              "  <clipPath id=\"pa5f87ab854\">\r\n",
              "   <rect height=\"543.6\" width=\"1116\" x=\"76.2875\" y=\"31.43625\"/>\r\n",
              "  </clipPath>\r\n",
              " </defs>\r\n",
              "</svg>\r\n"
            ],
            "text/plain": [
              "<Figure size 1440x720 with 1 Axes>"
            ]
          },
          "metadata": {
            "needs_background": "light"
          },
          "output_type": "display_data"
        }
      ],
      "source": [
        "def plot_rev_vs_rating_adj(genreName):\n",
        "  plot = movies_df[movies_df.genre.str.contains(genreName)].plot(kind='scatter',x='rating_adjusted',y='revenue_millions')\n",
        "  plot.set_title(genreName)\n",
        "  return plot\n",
        "\n",
        "plot=plot_rev_vs_rating_adj('Horror')\n",
        "plot=plot_rev_vs_rating_adj('Action')"
      ]
    },
    {
      "cell_type": "markdown",
      "metadata": {
        "id": "LHD7IBw2VD8H"
      },
      "source": [
        "It would be nice if we could make a boxplot of the distribution of revenue across all genres in the same plot... we'll come back to this later, when we've learned some more tools to help us do this."
      ]
    },
    {
      "cell_type": "markdown",
      "metadata": {
        "id": "ZhowOewtjZW2"
      },
      "source": [
        "# Indexing Series and DataFrames"
      ]
    },
    {
      "cell_type": "markdown",
      "metadata": {
        "id": "oK-3DhbiStkE"
      },
      "source": [
        "You can access a given column of a DataFrame two ways:"
      ]
    },
    {
      "cell_type": "code",
      "execution_count": null,
      "metadata": {
        "id": "v7o9l7TXRbZ1"
      },
      "outputs": [
        {
          "data": {
            "text/plain": [
              "Title\n",
              "Guardians of the Galaxy     Action,Adventure,Sci-Fi\n",
              "Prometheus                 Adventure,Mystery,Sci-Fi\n",
              "Split                               Horror,Thriller\n",
              "Sing                        Animation,Comedy,Family\n",
              "Suicide Squad              Action,Adventure,Fantasy\n",
              "                                     ...           \n",
              "Secret in Their Eyes            Crime,Drama,Mystery\n",
              "Hostel: Part II                              Horror\n",
              "Step Up 2: The Streets          Drama,Music,Romance\n",
              "Search Party                       Adventure,Comedy\n",
              "Nine Lives                    Comedy,Family,Fantasy\n",
              "Name: genre, Length: 1000, dtype: object"
            ]
          },
          "execution_count": 48,
          "metadata": {},
          "output_type": "execute_result"
        }
      ],
      "source": [
        "movies_df.genre # property-style column access"
      ]
    },
    {
      "cell_type": "code",
      "execution_count": null,
      "metadata": {
        "id": "qCvdbonCS1XY"
      },
      "outputs": [
        {
          "data": {
            "text/plain": [
              "Title\n",
              "Guardians of the Galaxy     Action,Adventure,Sci-Fi\n",
              "Prometheus                 Adventure,Mystery,Sci-Fi\n",
              "Split                               Horror,Thriller\n",
              "Sing                        Animation,Comedy,Family\n",
              "Suicide Squad              Action,Adventure,Fantasy\n",
              "                                     ...           \n",
              "Secret in Their Eyes            Crime,Drama,Mystery\n",
              "Hostel: Part II                              Horror\n",
              "Step Up 2: The Streets          Drama,Music,Romance\n",
              "Search Party                       Adventure,Comedy\n",
              "Nine Lives                    Comedy,Family,Fantasy\n",
              "Name: genre, Length: 1000, dtype: object"
            ]
          },
          "execution_count": 49,
          "metadata": {},
          "output_type": "execute_result"
        }
      ],
      "source": [
        "movies_df['genre'] # dictionary-style column access"
      ]
    },
    {
      "cell_type": "markdown",
      "metadata": {
        "id": "hSzIyJ1FQk8V"
      },
      "source": [
        "You can slice elements of a DataFrame using its index:"
      ]
    },
    {
      "cell_type": "code",
      "execution_count": null,
      "metadata": {
        "id": "WnqwnXF8Qvwx"
      },
      "outputs": [
        {
          "data": {
            "text/html": [
              "<div>\n",
              "<style scoped>\n",
              "    .dataframe tbody tr th:only-of-type {\n",
              "        vertical-align: middle;\n",
              "    }\n",
              "\n",
              "    .dataframe tbody tr th {\n",
              "        vertical-align: top;\n",
              "    }\n",
              "\n",
              "    .dataframe thead th {\n",
              "        text-align: right;\n",
              "    }\n",
              "</style>\n",
              "<table border=\"1\" class=\"dataframe\">\n",
              "  <thead>\n",
              "    <tr style=\"text-align: right;\">\n",
              "      <th></th>\n",
              "      <th>rank</th>\n",
              "      <th>genre</th>\n",
              "      <th>description</th>\n",
              "      <th>director</th>\n",
              "      <th>actors</th>\n",
              "      <th>year</th>\n",
              "      <th>runtime</th>\n",
              "      <th>rating</th>\n",
              "      <th>votes</th>\n",
              "      <th>revenue_millions</th>\n",
              "      <th>metascore</th>\n",
              "      <th>rating_adjusted</th>\n",
              "      <th>rating_delta</th>\n",
              "    </tr>\n",
              "    <tr>\n",
              "      <th>Title</th>\n",
              "      <th></th>\n",
              "      <th></th>\n",
              "      <th></th>\n",
              "      <th></th>\n",
              "      <th></th>\n",
              "      <th></th>\n",
              "      <th></th>\n",
              "      <th></th>\n",
              "      <th></th>\n",
              "      <th></th>\n",
              "      <th></th>\n",
              "      <th></th>\n",
              "      <th></th>\n",
              "    </tr>\n",
              "  </thead>\n",
              "  <tbody>\n",
              "    <tr>\n",
              "      <th>Prometheus</th>\n",
              "      <td>2</td>\n",
              "      <td>Adventure,Mystery,Sci-Fi</td>\n",
              "      <td>Following clues to the origin of mankind, a te...</td>\n",
              "      <td>Ridley Scott</td>\n",
              "      <td>Noomi Rapace, Logan Marshall-Green, Michael Fa...</td>\n",
              "      <td>2012</td>\n",
              "      <td>124</td>\n",
              "      <td>7.0</td>\n",
              "      <td>485820</td>\n",
              "      <td>126.46</td>\n",
              "      <td>65.0</td>\n",
              "      <td>6.961164</td>\n",
              "      <td>-0.038836</td>\n",
              "    </tr>\n",
              "    <tr>\n",
              "      <th>Split</th>\n",
              "      <td>3</td>\n",
              "      <td>Horror,Thriller</td>\n",
              "      <td>Three girls are kidnapped by a man with a diag...</td>\n",
              "      <td>M. Night Shyamalan</td>\n",
              "      <td>James McAvoy, Anya Taylor-Joy, Haley Lu Richar...</td>\n",
              "      <td>2016</td>\n",
              "      <td>117</td>\n",
              "      <td>7.3</td>\n",
              "      <td>157606</td>\n",
              "      <td>138.12</td>\n",
              "      <td>62.0</td>\n",
              "      <td>7.237324</td>\n",
              "      <td>-0.062676</td>\n",
              "    </tr>\n",
              "    <tr>\n",
              "      <th>Sing</th>\n",
              "      <td>4</td>\n",
              "      <td>Animation,Comedy,Family</td>\n",
              "      <td>In a city of humanoid animals, a hustling thea...</td>\n",
              "      <td>Christophe Lourdelet</td>\n",
              "      <td>Matthew McConaughey,Reese Witherspoon, Seth Ma...</td>\n",
              "      <td>2016</td>\n",
              "      <td>108</td>\n",
              "      <td>7.2</td>\n",
              "      <td>60545</td>\n",
              "      <td>270.32</td>\n",
              "      <td>59.0</td>\n",
              "      <td>7.120040</td>\n",
              "      <td>-0.079960</td>\n",
              "    </tr>\n",
              "    <tr>\n",
              "      <th>Suicide Squad</th>\n",
              "      <td>5</td>\n",
              "      <td>Action,Adventure,Fantasy</td>\n",
              "      <td>A secret government agency recruits some of th...</td>\n",
              "      <td>David Ayer</td>\n",
              "      <td>Will Smith, Jared Leto, Margot Robbie, Viola D...</td>\n",
              "      <td>2016</td>\n",
              "      <td>123</td>\n",
              "      <td>6.2</td>\n",
              "      <td>393727</td>\n",
              "      <td>325.02</td>\n",
              "      <td>40.0</td>\n",
              "      <td>6.175177</td>\n",
              "      <td>-0.024823</td>\n",
              "    </tr>\n",
              "  </tbody>\n",
              "</table>\n",
              "</div>"
            ],
            "text/plain": [
              "               rank                     genre  \\\n",
              "Title                                           \n",
              "Prometheus        2  Adventure,Mystery,Sci-Fi   \n",
              "Split             3           Horror,Thriller   \n",
              "Sing              4   Animation,Comedy,Family   \n",
              "Suicide Squad     5  Action,Adventure,Fantasy   \n",
              "\n",
              "                                                     description  \\\n",
              "Title                                                              \n",
              "Prometheus     Following clues to the origin of mankind, a te...   \n",
              "Split          Three girls are kidnapped by a man with a diag...   \n",
              "Sing           In a city of humanoid animals, a hustling thea...   \n",
              "Suicide Squad  A secret government agency recruits some of th...   \n",
              "\n",
              "                           director  \\\n",
              "Title                                 \n",
              "Prometheus             Ridley Scott   \n",
              "Split            M. Night Shyamalan   \n",
              "Sing           Christophe Lourdelet   \n",
              "Suicide Squad            David Ayer   \n",
              "\n",
              "                                                          actors  year  \\\n",
              "Title                                                                    \n",
              "Prometheus     Noomi Rapace, Logan Marshall-Green, Michael Fa...  2012   \n",
              "Split          James McAvoy, Anya Taylor-Joy, Haley Lu Richar...  2016   \n",
              "Sing           Matthew McConaughey,Reese Witherspoon, Seth Ma...  2016   \n",
              "Suicide Squad  Will Smith, Jared Leto, Margot Robbie, Viola D...  2016   \n",
              "\n",
              "               runtime  rating   votes  revenue_millions  metascore  \\\n",
              "Title                                                                 \n",
              "Prometheus         124     7.0  485820            126.46       65.0   \n",
              "Split              117     7.3  157606            138.12       62.0   \n",
              "Sing               108     7.2   60545            270.32       59.0   \n",
              "Suicide Squad      123     6.2  393727            325.02       40.0   \n",
              "\n",
              "               rating_adjusted  rating_delta  \n",
              "Title                                         \n",
              "Prometheus            6.961164     -0.038836  \n",
              "Split                 7.237324     -0.062676  \n",
              "Sing                  7.120040     -0.079960  \n",
              "Suicide Squad         6.175177     -0.024823  "
            ]
          },
          "execution_count": 50,
          "metadata": {},
          "output_type": "execute_result"
        }
      ],
      "source": [
        "movies_df['Prometheus':'Suicide Squad']"
      ]
    },
    {
      "cell_type": "markdown",
      "metadata": {
        "id": "DzzxeKZpVGDp"
      },
      "source": [
        "Notice that we can't get the row of a DataFrame by specifying an index value:"
      ]
    },
    {
      "cell_type": "code",
      "execution_count": null,
      "metadata": {
        "id": "07_8JXLEVO0Q"
      },
      "outputs": [
        {
          "ename": "KeyError",
          "evalue": "'Prometheus'",
          "output_type": "error",
          "traceback": [
            "\u001b[1;31m---------------------------------------------------------------------------\u001b[0m",
            "\u001b[1;31mKeyError\u001b[0m                                  Traceback (most recent call last)",
            "\u001b[1;32m~\\Anaconda3\\envs\\SUSHI\\lib\\site-packages\\pandas\\core\\indexes\\base.py\u001b[0m in \u001b[0;36mget_loc\u001b[1;34m(self, key, method, tolerance)\u001b[0m\n\u001b[0;32m   2888\u001b[0m             \u001b[1;32mtry\u001b[0m\u001b[1;33m:\u001b[0m\u001b[1;33m\u001b[0m\u001b[1;33m\u001b[0m\u001b[0m\n\u001b[1;32m-> 2889\u001b[1;33m                 \u001b[1;32mreturn\u001b[0m \u001b[0mself\u001b[0m\u001b[1;33m.\u001b[0m\u001b[0m_engine\u001b[0m\u001b[1;33m.\u001b[0m\u001b[0mget_loc\u001b[0m\u001b[1;33m(\u001b[0m\u001b[0mcasted_key\u001b[0m\u001b[1;33m)\u001b[0m\u001b[1;33m\u001b[0m\u001b[1;33m\u001b[0m\u001b[0m\n\u001b[0m\u001b[0;32m   2890\u001b[0m             \u001b[1;32mexcept\u001b[0m \u001b[0mKeyError\u001b[0m \u001b[1;32mas\u001b[0m \u001b[0merr\u001b[0m\u001b[1;33m:\u001b[0m\u001b[1;33m\u001b[0m\u001b[1;33m\u001b[0m\u001b[0m\n",
            "\u001b[1;32mpandas\\_libs\\index.pyx\u001b[0m in \u001b[0;36mpandas._libs.index.IndexEngine.get_loc\u001b[1;34m()\u001b[0m\n",
            "\u001b[1;32mpandas\\_libs\\index.pyx\u001b[0m in \u001b[0;36mpandas._libs.index.IndexEngine.get_loc\u001b[1;34m()\u001b[0m\n",
            "\u001b[1;32mpandas\\_libs\\hashtable_class_helper.pxi\u001b[0m in \u001b[0;36mpandas._libs.hashtable.PyObjectHashTable.get_item\u001b[1;34m()\u001b[0m\n",
            "\u001b[1;32mpandas\\_libs\\hashtable_class_helper.pxi\u001b[0m in \u001b[0;36mpandas._libs.hashtable.PyObjectHashTable.get_item\u001b[1;34m()\u001b[0m\n",
            "\u001b[1;31mKeyError\u001b[0m: 'Prometheus'",
            "\nThe above exception was the direct cause of the following exception:\n",
            "\u001b[1;31mKeyError\u001b[0m                                  Traceback (most recent call last)",
            "\u001b[1;32m<ipython-input-51-08dc79175669>\u001b[0m in \u001b[0;36m<module>\u001b[1;34m\u001b[0m\n\u001b[1;32m----> 1\u001b[1;33m \u001b[0mmovies_df\u001b[0m\u001b[1;33m[\u001b[0m\u001b[1;34m'Prometheus'\u001b[0m\u001b[1;33m]\u001b[0m \u001b[1;31m# this will throw a key error, because dictionary-style access of a dataframe is keyed on column names\u001b[0m\u001b[1;33m\u001b[0m\u001b[1;33m\u001b[0m\u001b[0m\n\u001b[0m",
            "\u001b[1;32m~\\Anaconda3\\envs\\SUSHI\\lib\\site-packages\\pandas\\core\\frame.py\u001b[0m in \u001b[0;36m__getitem__\u001b[1;34m(self, key)\u001b[0m\n\u001b[0;32m   2900\u001b[0m             \u001b[1;32mif\u001b[0m \u001b[0mself\u001b[0m\u001b[1;33m.\u001b[0m\u001b[0mcolumns\u001b[0m\u001b[1;33m.\u001b[0m\u001b[0mnlevels\u001b[0m \u001b[1;33m>\u001b[0m \u001b[1;36m1\u001b[0m\u001b[1;33m:\u001b[0m\u001b[1;33m\u001b[0m\u001b[1;33m\u001b[0m\u001b[0m\n\u001b[0;32m   2901\u001b[0m                 \u001b[1;32mreturn\u001b[0m \u001b[0mself\u001b[0m\u001b[1;33m.\u001b[0m\u001b[0m_getitem_multilevel\u001b[0m\u001b[1;33m(\u001b[0m\u001b[0mkey\u001b[0m\u001b[1;33m)\u001b[0m\u001b[1;33m\u001b[0m\u001b[1;33m\u001b[0m\u001b[0m\n\u001b[1;32m-> 2902\u001b[1;33m             \u001b[0mindexer\u001b[0m \u001b[1;33m=\u001b[0m \u001b[0mself\u001b[0m\u001b[1;33m.\u001b[0m\u001b[0mcolumns\u001b[0m\u001b[1;33m.\u001b[0m\u001b[0mget_loc\u001b[0m\u001b[1;33m(\u001b[0m\u001b[0mkey\u001b[0m\u001b[1;33m)\u001b[0m\u001b[1;33m\u001b[0m\u001b[1;33m\u001b[0m\u001b[0m\n\u001b[0m\u001b[0;32m   2903\u001b[0m             \u001b[1;32mif\u001b[0m \u001b[0mis_integer\u001b[0m\u001b[1;33m(\u001b[0m\u001b[0mindexer\u001b[0m\u001b[1;33m)\u001b[0m\u001b[1;33m:\u001b[0m\u001b[1;33m\u001b[0m\u001b[1;33m\u001b[0m\u001b[0m\n\u001b[0;32m   2904\u001b[0m                 \u001b[0mindexer\u001b[0m \u001b[1;33m=\u001b[0m \u001b[1;33m[\u001b[0m\u001b[0mindexer\u001b[0m\u001b[1;33m]\u001b[0m\u001b[1;33m\u001b[0m\u001b[1;33m\u001b[0m\u001b[0m\n",
            "\u001b[1;32m~\\Anaconda3\\envs\\SUSHI\\lib\\site-packages\\pandas\\core\\indexes\\base.py\u001b[0m in \u001b[0;36mget_loc\u001b[1;34m(self, key, method, tolerance)\u001b[0m\n\u001b[0;32m   2889\u001b[0m                 \u001b[1;32mreturn\u001b[0m \u001b[0mself\u001b[0m\u001b[1;33m.\u001b[0m\u001b[0m_engine\u001b[0m\u001b[1;33m.\u001b[0m\u001b[0mget_loc\u001b[0m\u001b[1;33m(\u001b[0m\u001b[0mcasted_key\u001b[0m\u001b[1;33m)\u001b[0m\u001b[1;33m\u001b[0m\u001b[1;33m\u001b[0m\u001b[0m\n\u001b[0;32m   2890\u001b[0m             \u001b[1;32mexcept\u001b[0m \u001b[0mKeyError\u001b[0m \u001b[1;32mas\u001b[0m \u001b[0merr\u001b[0m\u001b[1;33m:\u001b[0m\u001b[1;33m\u001b[0m\u001b[1;33m\u001b[0m\u001b[0m\n\u001b[1;32m-> 2891\u001b[1;33m                 \u001b[1;32mraise\u001b[0m \u001b[0mKeyError\u001b[0m\u001b[1;33m(\u001b[0m\u001b[0mkey\u001b[0m\u001b[1;33m)\u001b[0m \u001b[1;32mfrom\u001b[0m \u001b[0merr\u001b[0m\u001b[1;33m\u001b[0m\u001b[1;33m\u001b[0m\u001b[0m\n\u001b[0m\u001b[0;32m   2892\u001b[0m \u001b[1;33m\u001b[0m\u001b[0m\n\u001b[0;32m   2893\u001b[0m         \u001b[1;32mif\u001b[0m \u001b[0mtolerance\u001b[0m \u001b[1;32mis\u001b[0m \u001b[1;32mnot\u001b[0m \u001b[1;32mNone\u001b[0m\u001b[1;33m:\u001b[0m\u001b[1;33m\u001b[0m\u001b[1;33m\u001b[0m\u001b[0m\n",
            "\u001b[1;31mKeyError\u001b[0m: 'Prometheus'"
          ]
        }
      ],
      "source": [
        "movies_df['Prometheus'] # this will throw a key error, because dictionary-style access of a dataframe is keyed on column names"
      ]
    },
    {
      "cell_type": "markdown",
      "metadata": {
        "id": "NmGWRT7PVWSA"
      },
      "source": [
        "We'll see soon how to access a row of a DataFrame based on the index value using `.loc[]`."
      ]
    },
    {
      "cell_type": "markdown",
      "metadata": {
        "id": "sTlS-j_OTGrC"
      },
      "source": [
        "You can also combine these with slicing"
      ]
    },
    {
      "cell_type": "code",
      "execution_count": null,
      "metadata": {
        "id": "Rs_VVaOtTAax"
      },
      "outputs": [
        {
          "data": {
            "text/plain": [
              "Title\n",
              "Prometheus       Adventure,Mystery,Sci-Fi\n",
              "Split                     Horror,Thriller\n",
              "Sing              Animation,Comedy,Family\n",
              "Suicide Squad    Action,Adventure,Fantasy\n",
              "Name: genre, dtype: object"
            ]
          },
          "execution_count": 52,
          "metadata": {},
          "output_type": "execute_result"
        }
      ],
      "source": [
        "movies_df.genre['Prometheus':'Suicide Squad'] # slice a Series using the DataFrame explicit index"
      ]
    },
    {
      "cell_type": "code",
      "execution_count": null,
      "metadata": {
        "id": "o08kOjTdTlhb"
      },
      "outputs": [
        {
          "data": {
            "text/plain": [
              "Title\n",
              "Prometheus       Adventure,Mystery,Sci-Fi\n",
              "Split                     Horror,Thriller\n",
              "Sing              Animation,Comedy,Family\n",
              "Suicide Squad    Action,Adventure,Fantasy\n",
              "Name: genre, dtype: object"
            ]
          },
          "execution_count": 53,
          "metadata": {},
          "output_type": "execute_result"
        }
      ],
      "source": [
        "movies_df.genre[1:5] # slice a Series using the implicit row index"
      ]
    },
    {
      "cell_type": "markdown",
      "metadata": {
        "id": "1NJAgVOhP3Q9"
      },
      "source": [
        "### Implicit and Explicit Indexes with `.loc[]` and `iloc[]`"
      ]
    },
    {
      "cell_type": "markdown",
      "metadata": {
        "id": "3Wb4ppfijcAz"
      },
      "source": [
        "As we just learned, you can set an Index for DataFrames and Series (columns of DataFrames). And you can use the row numbers (instead of the index defined) to access or slice a Series (column) as well.\n",
        "\n",
        "Using the row numbers for access is referred to as *implicit* indexing. While using the DataFrame's defined index is referred to as *explicit* indexing.\n",
        "\n",
        "\n",
        "There is one case where things can get confusing, which is when the explicit index has integer values. \n",
        "\n",
        "Let me show you why with an example: "
      ]
    },
    {
      "cell_type": "code",
      "execution_count": 73,
      "metadata": {
        "id": "OfCiOWHUTL8a"
      },
      "outputs": [
        {
          "data": {
            "text/plain": [
              "1    a\n",
              "3    b\n",
              "5    c\n",
              "7    d\n",
              "dtype: object"
            ]
          },
          "execution_count": 73,
          "metadata": {},
          "output_type": "execute_result"
        }
      ],
      "source": [
        "data = pd.Series(['a', 'b', 'c','d'], index=[1, 3, 5,7])\n",
        "data"
      ]
    },
    {
      "cell_type": "markdown",
      "metadata": {
        "id": "lnxNBFDFThu8"
      },
      "source": [
        "We can always use a slicing operation (with ``:``) to get a range of the rows:"
      ]
    },
    {
      "cell_type": "code",
      "execution_count": 74,
      "metadata": {
        "id": "3NevrmHqTY1M"
      },
      "outputs": [
        {
          "data": {
            "text/plain": [
              "5    c\n",
              "7    d\n",
              "dtype: object"
            ]
          },
          "execution_count": 74,
          "metadata": {},
          "output_type": "execute_result"
        }
      ],
      "source": [
        "data[2:4] # this will return a slice of the 2nd and 3rd rows using the implicit row index"
      ]
    },
    {
      "cell_type": "markdown",
      "metadata": {
        "id": "tVascMSaT4SY"
      },
      "source": [
        "But if we ask for a single row with `[]` it will use our explicit index:"
      ]
    },
    {
      "cell_type": "code",
      "execution_count": 75,
      "metadata": {
        "id": "TtdYjgGBUBve"
      },
      "outputs": [
        {
          "data": {
            "text/plain": [
              "'b'"
            ]
          },
          "execution_count": 75,
          "metadata": {},
          "output_type": "execute_result"
        }
      ],
      "source": [
        "data[3] # explicit index"
      ]
    },
    {
      "cell_type": "code",
      "execution_count": 76,
      "metadata": {
        "id": "j1LRvj_ZUEEG"
      },
      "outputs": [
        {
          "ename": "KeyError",
          "evalue": "4",
          "output_type": "error",
          "traceback": [
            "\u001b[1;31m---------------------------------------------------------------------------\u001b[0m",
            "\u001b[1;31mKeyError\u001b[0m                                  Traceback (most recent call last)",
            "\u001b[1;32mc:\\Users\\wangy\\Anaconda3\\envs\\ML\\lib\\site-packages\\pandas\\core\\indexes\\base.py\u001b[0m in \u001b[0;36mget_loc\u001b[1;34m(self, key, method, tolerance)\u001b[0m\n\u001b[0;32m   3360\u001b[0m             \u001b[1;32mtry\u001b[0m\u001b[1;33m:\u001b[0m\u001b[1;33m\u001b[0m\u001b[1;33m\u001b[0m\u001b[0m\n\u001b[1;32m-> 3361\u001b[1;33m                 \u001b[1;32mreturn\u001b[0m \u001b[0mself\u001b[0m\u001b[1;33m.\u001b[0m\u001b[0m_engine\u001b[0m\u001b[1;33m.\u001b[0m\u001b[0mget_loc\u001b[0m\u001b[1;33m(\u001b[0m\u001b[0mcasted_key\u001b[0m\u001b[1;33m)\u001b[0m\u001b[1;33m\u001b[0m\u001b[1;33m\u001b[0m\u001b[0m\n\u001b[0m\u001b[0;32m   3362\u001b[0m             \u001b[1;32mexcept\u001b[0m \u001b[0mKeyError\u001b[0m \u001b[1;32mas\u001b[0m \u001b[0merr\u001b[0m\u001b[1;33m:\u001b[0m\u001b[1;33m\u001b[0m\u001b[1;33m\u001b[0m\u001b[0m\n",
            "\u001b[1;32mc:\\Users\\wangy\\Anaconda3\\envs\\ML\\lib\\site-packages\\pandas\\_libs\\index.pyx\u001b[0m in \u001b[0;36mpandas._libs.index.IndexEngine.get_loc\u001b[1;34m()\u001b[0m\n",
            "\u001b[1;32mc:\\Users\\wangy\\Anaconda3\\envs\\ML\\lib\\site-packages\\pandas\\_libs\\index.pyx\u001b[0m in \u001b[0;36mpandas._libs.index.IndexEngine.get_loc\u001b[1;34m()\u001b[0m\n",
            "\u001b[1;32mpandas\\_libs\\hashtable_class_helper.pxi\u001b[0m in \u001b[0;36mpandas._libs.hashtable.Int64HashTable.get_item\u001b[1;34m()\u001b[0m\n",
            "\u001b[1;32mpandas\\_libs\\hashtable_class_helper.pxi\u001b[0m in \u001b[0;36mpandas._libs.hashtable.Int64HashTable.get_item\u001b[1;34m()\u001b[0m\n",
            "\u001b[1;31mKeyError\u001b[0m: 4",
            "\nThe above exception was the direct cause of the following exception:\n",
            "\u001b[1;31mKeyError\u001b[0m                                  Traceback (most recent call last)",
            "\u001b[1;32m~\\AppData\\Local\\Temp\\ipykernel_38696\\3853715188.py\u001b[0m in \u001b[0;36m<module>\u001b[1;34m\u001b[0m\n\u001b[1;32m----> 1\u001b[1;33m \u001b[0mdata\u001b[0m\u001b[1;33m[\u001b[0m\u001b[1;36m4\u001b[0m\u001b[1;33m]\u001b[0m \u001b[1;31m# this will throw a key error, because our data doesn't have a row index of 4 with our explicit (pandas) index\u001b[0m\u001b[1;33m\u001b[0m\u001b[1;33m\u001b[0m\u001b[0m\n\u001b[0m",
            "\u001b[1;32mc:\\Users\\wangy\\Anaconda3\\envs\\ML\\lib\\site-packages\\pandas\\core\\series.py\u001b[0m in \u001b[0;36m__getitem__\u001b[1;34m(self, key)\u001b[0m\n\u001b[0;32m    940\u001b[0m \u001b[1;33m\u001b[0m\u001b[0m\n\u001b[0;32m    941\u001b[0m         \u001b[1;32melif\u001b[0m \u001b[0mkey_is_scalar\u001b[0m\u001b[1;33m:\u001b[0m\u001b[1;33m\u001b[0m\u001b[1;33m\u001b[0m\u001b[0m\n\u001b[1;32m--> 942\u001b[1;33m             \u001b[1;32mreturn\u001b[0m \u001b[0mself\u001b[0m\u001b[1;33m.\u001b[0m\u001b[0m_get_value\u001b[0m\u001b[1;33m(\u001b[0m\u001b[0mkey\u001b[0m\u001b[1;33m)\u001b[0m\u001b[1;33m\u001b[0m\u001b[1;33m\u001b[0m\u001b[0m\n\u001b[0m\u001b[0;32m    943\u001b[0m \u001b[1;33m\u001b[0m\u001b[0m\n\u001b[0;32m    944\u001b[0m         \u001b[1;32mif\u001b[0m \u001b[0mis_hashable\u001b[0m\u001b[1;33m(\u001b[0m\u001b[0mkey\u001b[0m\u001b[1;33m)\u001b[0m\u001b[1;33m:\u001b[0m\u001b[1;33m\u001b[0m\u001b[1;33m\u001b[0m\u001b[0m\n",
            "\u001b[1;32mc:\\Users\\wangy\\Anaconda3\\envs\\ML\\lib\\site-packages\\pandas\\core\\series.py\u001b[0m in \u001b[0;36m_get_value\u001b[1;34m(self, label, takeable)\u001b[0m\n\u001b[0;32m   1049\u001b[0m \u001b[1;33m\u001b[0m\u001b[0m\n\u001b[0;32m   1050\u001b[0m         \u001b[1;31m# Similar to Index.get_value, but we do not fall back to positional\u001b[0m\u001b[1;33m\u001b[0m\u001b[1;33m\u001b[0m\u001b[1;33m\u001b[0m\u001b[0m\n\u001b[1;32m-> 1051\u001b[1;33m         \u001b[0mloc\u001b[0m \u001b[1;33m=\u001b[0m \u001b[0mself\u001b[0m\u001b[1;33m.\u001b[0m\u001b[0mindex\u001b[0m\u001b[1;33m.\u001b[0m\u001b[0mget_loc\u001b[0m\u001b[1;33m(\u001b[0m\u001b[0mlabel\u001b[0m\u001b[1;33m)\u001b[0m\u001b[1;33m\u001b[0m\u001b[1;33m\u001b[0m\u001b[0m\n\u001b[0m\u001b[0;32m   1052\u001b[0m         \u001b[1;32mreturn\u001b[0m \u001b[0mself\u001b[0m\u001b[1;33m.\u001b[0m\u001b[0mindex\u001b[0m\u001b[1;33m.\u001b[0m\u001b[0m_get_values_for_loc\u001b[0m\u001b[1;33m(\u001b[0m\u001b[0mself\u001b[0m\u001b[1;33m,\u001b[0m \u001b[0mloc\u001b[0m\u001b[1;33m,\u001b[0m \u001b[0mlabel\u001b[0m\u001b[1;33m)\u001b[0m\u001b[1;33m\u001b[0m\u001b[1;33m\u001b[0m\u001b[0m\n\u001b[0;32m   1053\u001b[0m \u001b[1;33m\u001b[0m\u001b[0m\n",
            "\u001b[1;32mc:\\Users\\wangy\\Anaconda3\\envs\\ML\\lib\\site-packages\\pandas\\core\\indexes\\base.py\u001b[0m in \u001b[0;36mget_loc\u001b[1;34m(self, key, method, tolerance)\u001b[0m\n\u001b[0;32m   3361\u001b[0m                 \u001b[1;32mreturn\u001b[0m \u001b[0mself\u001b[0m\u001b[1;33m.\u001b[0m\u001b[0m_engine\u001b[0m\u001b[1;33m.\u001b[0m\u001b[0mget_loc\u001b[0m\u001b[1;33m(\u001b[0m\u001b[0mcasted_key\u001b[0m\u001b[1;33m)\u001b[0m\u001b[1;33m\u001b[0m\u001b[1;33m\u001b[0m\u001b[0m\n\u001b[0;32m   3362\u001b[0m             \u001b[1;32mexcept\u001b[0m \u001b[0mKeyError\u001b[0m \u001b[1;32mas\u001b[0m \u001b[0merr\u001b[0m\u001b[1;33m:\u001b[0m\u001b[1;33m\u001b[0m\u001b[1;33m\u001b[0m\u001b[0m\n\u001b[1;32m-> 3363\u001b[1;33m                 \u001b[1;32mraise\u001b[0m \u001b[0mKeyError\u001b[0m\u001b[1;33m(\u001b[0m\u001b[0mkey\u001b[0m\u001b[1;33m)\u001b[0m \u001b[1;32mfrom\u001b[0m \u001b[0merr\u001b[0m\u001b[1;33m\u001b[0m\u001b[1;33m\u001b[0m\u001b[0m\n\u001b[0m\u001b[0;32m   3364\u001b[0m \u001b[1;33m\u001b[0m\u001b[0m\n\u001b[0;32m   3365\u001b[0m         \u001b[1;32mif\u001b[0m \u001b[0mis_scalar\u001b[0m\u001b[1;33m(\u001b[0m\u001b[0mkey\u001b[0m\u001b[1;33m)\u001b[0m \u001b[1;32mand\u001b[0m \u001b[0misna\u001b[0m\u001b[1;33m(\u001b[0m\u001b[0mkey\u001b[0m\u001b[1;33m)\u001b[0m \u001b[1;32mand\u001b[0m \u001b[1;32mnot\u001b[0m \u001b[0mself\u001b[0m\u001b[1;33m.\u001b[0m\u001b[0mhasnans\u001b[0m\u001b[1;33m:\u001b[0m\u001b[1;33m\u001b[0m\u001b[1;33m\u001b[0m\u001b[0m\n",
            "\u001b[1;31mKeyError\u001b[0m: 4"
          ]
        }
      ],
      "source": [
        "data[4] # this will throw a key error, because our data doesn't have a row index of 4 with our explicit (pandas) index  "
      ]
    },
    {
      "cell_type": "markdown",
      "metadata": {
        "id": "Ph7Yim4zTUCo"
      },
      "source": [
        "To avoid this implicit vs explicit indexing confusion, Pandas has two special indexer attributes: \n",
        "- `.loc[]` to access the explicit index (the pandas one that we defined)\n",
        "- `.iloc[]` to access the implicit index (the python-style one, as with lists)\n",
        "\n",
        "This allows us to access elements by implicit or explicit index and to slice by index or explicit indexing:"
      ]
    },
    {
      "cell_type": "code",
      "execution_count": 77,
      "metadata": {},
      "outputs": [
        {
          "data": {
            "text/plain": [
              "1    a\n",
              "3    b\n",
              "5    c\n",
              "7    d\n",
              "dtype: object"
            ]
          },
          "execution_count": 77,
          "metadata": {},
          "output_type": "execute_result"
        }
      ],
      "source": [
        "data"
      ]
    },
    {
      "cell_type": "code",
      "execution_count": 78,
      "metadata": {
        "id": "B3zDxrDwVJNs"
      },
      "outputs": [
        {
          "data": {
            "text/plain": [
              "5    c\n",
              "7    d\n",
              "dtype: object"
            ]
          },
          "execution_count": 78,
          "metadata": {},
          "output_type": "execute_result"
        }
      ],
      "source": [
        "data.iloc[2:4] # this is the python implicit style, so it will return rows 2 and 3"
      ]
    },
    {
      "cell_type": "code",
      "execution_count": 79,
      "metadata": {
        "id": "Fu9nXj9uVL4Y"
      },
      "outputs": [
        {
          "data": {
            "text/plain": [
              "1    a\n",
              "3    b\n",
              "5    c\n",
              "dtype: object"
            ]
          },
          "execution_count": 79,
          "metadata": {},
          "output_type": "execute_result"
        }
      ],
      "source": [
        "data.loc[1:5] # this is the explicit pandas style index, so it will return rows with index 1,3,5\n"
      ]
    },
    {
      "cell_type": "markdown",
      "metadata": {
        "id": "myP6M8h1WB1w"
      },
      "source": [
        "ASIDE: It's a bit funny that slicing with explicit indexing includes the last element of the range specified (``data.loc[1:5]`` includes 5), while slicing with implicit does not (``data.iloc[2:4]`` doesn't include 4). It is defined this way in order for `iloc[]` to be consistent with the way Python usually indexes collections.\n",
        "\n",
        "IMPORTANT: Its good practice to always use `.loc[]` and `.iloc[]` instead of just `[]` whenever possible, to avoid confusion."
      ]
    },
    {
      "cell_type": "markdown",
      "metadata": {
        "id": "xgOfy_SoUs56"
      },
      "source": [
        "Another advantage of the `.loc[]` indexer is that it allows us to select a row (or a slice of a row) from a DataFrame with the index:"
      ]
    },
    {
      "cell_type": "code",
      "execution_count": 80,
      "metadata": {
        "id": "MoKyoQOyUtox"
      },
      "outputs": [
        {
          "data": {
            "text/plain": [
              "Rank                                                                  2\n",
              "Genre                                          Adventure,Mystery,Sci-Fi\n",
              "Description           Following clues to the origin of mankind, a te...\n",
              "Director                                                   Ridley Scott\n",
              "Actors                Noomi Rapace, Logan Marshall-Green, Michael Fa...\n",
              "Year                                                               2012\n",
              "Runtime (Minutes)                                                   124\n",
              "Rating                                                              7.0\n",
              "Votes                                                            485820\n",
              "Revenue (Millions)                                               126.46\n",
              "Metascore                                                          65.0\n",
              "Name: Prometheus, dtype: object"
            ]
          },
          "execution_count": 80,
          "metadata": {},
          "output_type": "execute_result"
        }
      ],
      "source": [
        "movies_df.loc['Prometheus'] # Get one row"
      ]
    },
    {
      "cell_type": "code",
      "execution_count": 83,
      "metadata": {
        "id": "wBLC5vdSmIzg"
      },
      "outputs": [
        {
          "data": {
            "text/html": [
              "<div>\n",
              "<style scoped>\n",
              "    .dataframe tbody tr th:only-of-type {\n",
              "        vertical-align: middle;\n",
              "    }\n",
              "\n",
              "    .dataframe tbody tr th {\n",
              "        vertical-align: top;\n",
              "    }\n",
              "\n",
              "    .dataframe thead th {\n",
              "        text-align: right;\n",
              "    }\n",
              "</style>\n",
              "<table border=\"1\" class=\"dataframe\">\n",
              "  <thead>\n",
              "    <tr style=\"text-align: right;\">\n",
              "      <th></th>\n",
              "      <th>Rank</th>\n",
              "      <th>Genre</th>\n",
              "      <th>Description</th>\n",
              "      <th>Director</th>\n",
              "      <th>Actors</th>\n",
              "      <th>Year</th>\n",
              "      <th>Runtime (Minutes)</th>\n",
              "      <th>Rating</th>\n",
              "      <th>Votes</th>\n",
              "      <th>Revenue (Millions)</th>\n",
              "      <th>Metascore</th>\n",
              "    </tr>\n",
              "    <tr>\n",
              "      <th>Title</th>\n",
              "      <th></th>\n",
              "      <th></th>\n",
              "      <th></th>\n",
              "      <th></th>\n",
              "      <th></th>\n",
              "      <th></th>\n",
              "      <th></th>\n",
              "      <th></th>\n",
              "      <th></th>\n",
              "      <th></th>\n",
              "      <th></th>\n",
              "    </tr>\n",
              "  </thead>\n",
              "  <tbody>\n",
              "    <tr>\n",
              "      <th>Prometheus</th>\n",
              "      <td>2</td>\n",
              "      <td>Adventure,Mystery,Sci-Fi</td>\n",
              "      <td>Following clues to the origin of mankind, a te...</td>\n",
              "      <td>Ridley Scott</td>\n",
              "      <td>Noomi Rapace, Logan Marshall-Green, Michael Fa...</td>\n",
              "      <td>2012</td>\n",
              "      <td>124</td>\n",
              "      <td>7.0</td>\n",
              "      <td>485820</td>\n",
              "      <td>126.46</td>\n",
              "      <td>65.0</td>\n",
              "    </tr>\n",
              "    <tr>\n",
              "      <th>Split</th>\n",
              "      <td>3</td>\n",
              "      <td>Horror,Thriller</td>\n",
              "      <td>Three girls are kidnapped by a man with a diag...</td>\n",
              "      <td>M. Night Shyamalan</td>\n",
              "      <td>James McAvoy, Anya Taylor-Joy, Haley Lu Richar...</td>\n",
              "      <td>2016</td>\n",
              "      <td>117</td>\n",
              "      <td>7.3</td>\n",
              "      <td>157606</td>\n",
              "      <td>138.12</td>\n",
              "      <td>62.0</td>\n",
              "    </tr>\n",
              "    <tr>\n",
              "      <th>Sing</th>\n",
              "      <td>4</td>\n",
              "      <td>Animation,Comedy,Family</td>\n",
              "      <td>In a city of humanoid animals, a hustling thea...</td>\n",
              "      <td>Christophe Lourdelet</td>\n",
              "      <td>Matthew McConaughey,Reese Witherspoon, Seth Ma...</td>\n",
              "      <td>2016</td>\n",
              "      <td>108</td>\n",
              "      <td>7.2</td>\n",
              "      <td>60545</td>\n",
              "      <td>270.32</td>\n",
              "      <td>59.0</td>\n",
              "    </tr>\n",
              "  </tbody>\n",
              "</table>\n",
              "</div>"
            ],
            "text/plain": [
              "            Rank                     Genre  \\\n",
              "Title                                        \n",
              "Prometheus     2  Adventure,Mystery,Sci-Fi   \n",
              "Split          3           Horror,Thriller   \n",
              "Sing           4   Animation,Comedy,Family   \n",
              "\n",
              "                                                  Description  \\\n",
              "Title                                                           \n",
              "Prometheus  Following clues to the origin of mankind, a te...   \n",
              "Split       Three girls are kidnapped by a man with a diag...   \n",
              "Sing        In a city of humanoid animals, a hustling thea...   \n",
              "\n",
              "                        Director  \\\n",
              "Title                              \n",
              "Prometheus          Ridley Scott   \n",
              "Split         M. Night Shyamalan   \n",
              "Sing        Christophe Lourdelet   \n",
              "\n",
              "                                                       Actors  Year  \\\n",
              "Title                                                                 \n",
              "Prometheus  Noomi Rapace, Logan Marshall-Green, Michael Fa...  2012   \n",
              "Split       James McAvoy, Anya Taylor-Joy, Haley Lu Richar...  2016   \n",
              "Sing        Matthew McConaughey,Reese Witherspoon, Seth Ma...  2016   \n",
              "\n",
              "            Runtime (Minutes)  Rating   Votes  Revenue (Millions)  Metascore  \n",
              "Title                                                                         \n",
              "Prometheus                124     7.0  485820              126.46       65.0  \n",
              "Split                     117     7.3  157606              138.12       62.0  \n",
              "Sing                      108     7.2   60545              270.32       59.0  "
            ]
          },
          "execution_count": 83,
          "metadata": {},
          "output_type": "execute_result"
        }
      ],
      "source": [
        "movies_df.loc['Prometheus':'Sing'] # Get a slice"
      ]
    },
    {
      "cell_type": "markdown",
      "metadata": {
        "id": "T5UlWCjBV6u_"
      },
      "source": [
        "So we could then do things like this:"
      ]
    },
    {
      "cell_type": "code",
      "execution_count": 85,
      "metadata": {
        "id": "m65Q4x_5V9Xt"
      },
      "outputs": [
        {
          "data": {
            "text/plain": [
              "'Adventure,Mystery,Sci-Fi'"
            ]
          },
          "execution_count": 85,
          "metadata": {},
          "output_type": "execute_result"
        }
      ],
      "source": [
        "movies_df.loc['Prometheus'].Genre"
      ]
    },
    {
      "cell_type": "markdown",
      "metadata": {
        "id": "zlk1CKbnWFTR"
      },
      "source": [
        "### MultiIndexes \n",
        "\n"
      ]
    },
    {
      "cell_type": "markdown",
      "metadata": {
        "id": "OhJljxL-WIP7"
      },
      "source": [
        "There are many occasions where the nature of the data we are analyzing would require rows that relate to more than one index.  For example, consider the case where we want to track the populations metrics of US states across different years. \n",
        "\n",
        "We might have data like this:\n",
        "```\n",
        "                    Population\n",
        "California  2000    33871648\n",
        "            2010    37253956\n",
        "New York    2000    18976457\n",
        "            2010    19378102\n",
        "Texas       2000    20851820\n",
        "            2010    25145561\n",
        "```\n",
        "\n",
        "To create a Series that handles this type of data appropriately, we would use a ``MultiIndex``:"
      ]
    },
    {
      "cell_type": "code",
      "execution_count": 86,
      "metadata": {
        "id": "x7A_ScyXWHWj"
      },
      "outputs": [
        {
          "data": {
            "text/plain": [
              "state       year\n",
              "California  2000    33871648\n",
              "            2010    37253956\n",
              "New York    2000    18976457\n",
              "            2010    19378102\n",
              "Texas       2000    20851820\n",
              "            2010    25145561\n",
              "dtype: int64"
            ]
          },
          "execution_count": 86,
          "metadata": {},
          "output_type": "execute_result"
        }
      ],
      "source": [
        "pop_series=pd.Series([33871648,37253956,18976457,19378102,20851820,25145561],\n",
        "                    index=pd.MultiIndex(\n",
        "                        levels=[['California', 'New York', 'Texas'], [2000, 2010]],\n",
        "                        names=['state','year'],\n",
        "                        codes=[[0, 0, 1, 1, 2, 2], [0, 1, 0, 1, 0, 1]]) # notice how codes are used to link the same state or same year\n",
        "                    )\n",
        "pop_series"
      ]
    },
    {
      "cell_type": "markdown",
      "metadata": {
        "id": "BjBaQy_UZX3t"
      },
      "source": [
        "We could have stored this data using a DataFrame instead of as a Series with a MultiIndex, like this:"
      ]
    },
    {
      "cell_type": "code",
      "execution_count": 87,
      "metadata": {
        "id": "rcu6FhoaZexV"
      },
      "outputs": [
        {
          "data": {
            "text/html": [
              "<div>\n",
              "<style scoped>\n",
              "    .dataframe tbody tr th:only-of-type {\n",
              "        vertical-align: middle;\n",
              "    }\n",
              "\n",
              "    .dataframe tbody tr th {\n",
              "        vertical-align: top;\n",
              "    }\n",
              "\n",
              "    .dataframe thead th {\n",
              "        text-align: right;\n",
              "    }\n",
              "</style>\n",
              "<table border=\"1\" class=\"dataframe\">\n",
              "  <thead>\n",
              "    <tr style=\"text-align: right;\">\n",
              "      <th></th>\n",
              "      <th>2000</th>\n",
              "      <th>2010</th>\n",
              "    </tr>\n",
              "  </thead>\n",
              "  <tbody>\n",
              "    <tr>\n",
              "      <th>California</th>\n",
              "      <td>33871648</td>\n",
              "      <td>37253956</td>\n",
              "    </tr>\n",
              "    <tr>\n",
              "      <th>New York</th>\n",
              "      <td>18976457</td>\n",
              "      <td>19378102</td>\n",
              "    </tr>\n",
              "    <tr>\n",
              "      <th>Texas</th>\n",
              "      <td>20851820</td>\n",
              "      <td>25145561</td>\n",
              "    </tr>\n",
              "  </tbody>\n",
              "</table>\n",
              "</div>"
            ],
            "text/plain": [
              "                2000      2010\n",
              "California  33871648  37253956\n",
              "New York    18976457  19378102\n",
              "Texas       20851820  25145561"
            ]
          },
          "execution_count": 87,
          "metadata": {},
          "output_type": "execute_result"
        }
      ],
      "source": [
        "pop_df=pd.DataFrame({'2000':[33871648,18976457,20851820], '2010':[37253956,19378102,25145561]},\n",
        "                    index=['California', 'New York', 'Texas'])\n",
        "pop_df"
      ]
    },
    {
      "cell_type": "markdown",
      "metadata": {
        "id": "nORughAVamDI"
      },
      "source": [
        "However, what if we wanted to store more than just one dimension of population metrics in our DataFrame? Then we would need a MultiIndex.\n",
        "\n",
        "For example:"
      ]
    },
    {
      "cell_type": "code",
      "execution_count": 88,
      "metadata": {
        "id": "_f6yNogLatL2"
      },
      "outputs": [
        {
          "data": {
            "text/html": [
              "<div>\n",
              "<style scoped>\n",
              "    .dataframe tbody tr th:only-of-type {\n",
              "        vertical-align: middle;\n",
              "    }\n",
              "\n",
              "    .dataframe tbody tr th {\n",
              "        vertical-align: top;\n",
              "    }\n",
              "\n",
              "    .dataframe thead th {\n",
              "        text-align: right;\n",
              "    }\n",
              "</style>\n",
              "<table border=\"1\" class=\"dataframe\">\n",
              "  <thead>\n",
              "    <tr style=\"text-align: right;\">\n",
              "      <th></th>\n",
              "      <th></th>\n",
              "      <th>total</th>\n",
              "      <th>under18</th>\n",
              "    </tr>\n",
              "    <tr>\n",
              "      <th>state</th>\n",
              "      <th>year</th>\n",
              "      <th></th>\n",
              "      <th></th>\n",
              "    </tr>\n",
              "  </thead>\n",
              "  <tbody>\n",
              "    <tr>\n",
              "      <th rowspan=\"2\" valign=\"top\">California</th>\n",
              "      <th>2000</th>\n",
              "      <td>33871648</td>\n",
              "      <td>9267089</td>\n",
              "    </tr>\n",
              "    <tr>\n",
              "      <th>2010</th>\n",
              "      <td>37253956</td>\n",
              "      <td>9284094</td>\n",
              "    </tr>\n",
              "    <tr>\n",
              "      <th rowspan=\"2\" valign=\"top\">New York</th>\n",
              "      <th>2000</th>\n",
              "      <td>18976457</td>\n",
              "      <td>4687374</td>\n",
              "    </tr>\n",
              "    <tr>\n",
              "      <th>2010</th>\n",
              "      <td>19378102</td>\n",
              "      <td>4318033</td>\n",
              "    </tr>\n",
              "    <tr>\n",
              "      <th rowspan=\"2\" valign=\"top\">Texas</th>\n",
              "      <th>2000</th>\n",
              "      <td>20851820</td>\n",
              "      <td>5906301</td>\n",
              "    </tr>\n",
              "    <tr>\n",
              "      <th>2010</th>\n",
              "      <td>25145561</td>\n",
              "      <td>6879014</td>\n",
              "    </tr>\n",
              "  </tbody>\n",
              "</table>\n",
              "</div>"
            ],
            "text/plain": [
              "                    total  under18\n",
              "state      year                   \n",
              "California 2000  33871648  9267089\n",
              "           2010  37253956  9284094\n",
              "New York   2000  18976457  4687374\n",
              "           2010  19378102  4318033\n",
              "Texas      2000  20851820  5906301\n",
              "           2010  25145561  6879014"
            ]
          },
          "execution_count": 88,
          "metadata": {},
          "output_type": "execute_result"
        }
      ],
      "source": [
        "pop_df = pd.DataFrame({'total': pop_series,\n",
        "                       'under18': [9267089, 9284094,\n",
        "                                   4687374, 4318033,\n",
        "                                   5906301, 6879014]})\n",
        "pop_df"
      ]
    },
    {
      "cell_type": "markdown",
      "metadata": {
        "id": "knszXyyXa_5U"
      },
      "source": [
        "Pandas allows us to \"stack\" and \"unstack\" a MultiIndex using the `.stack()` and `.unstack()` methods (we'll talk more about this later):"
      ]
    },
    {
      "cell_type": "code",
      "execution_count": 89,
      "metadata": {
        "id": "RdIBRMwRMLpq"
      },
      "outputs": [
        {
          "data": {
            "text/html": [
              "<div>\n",
              "<style scoped>\n",
              "    .dataframe tbody tr th:only-of-type {\n",
              "        vertical-align: middle;\n",
              "    }\n",
              "\n",
              "    .dataframe tbody tr th {\n",
              "        vertical-align: top;\n",
              "    }\n",
              "\n",
              "    .dataframe thead th {\n",
              "        text-align: right;\n",
              "    }\n",
              "</style>\n",
              "<table border=\"1\" class=\"dataframe\">\n",
              "  <thead>\n",
              "    <tr style=\"text-align: right;\">\n",
              "      <th></th>\n",
              "      <th></th>\n",
              "      <th>total</th>\n",
              "      <th>under18</th>\n",
              "    </tr>\n",
              "    <tr>\n",
              "      <th>state</th>\n",
              "      <th>year</th>\n",
              "      <th></th>\n",
              "      <th></th>\n",
              "    </tr>\n",
              "  </thead>\n",
              "  <tbody>\n",
              "    <tr>\n",
              "      <th rowspan=\"2\" valign=\"top\">California</th>\n",
              "      <th>2000</th>\n",
              "      <td>33871648</td>\n",
              "      <td>9267089</td>\n",
              "    </tr>\n",
              "    <tr>\n",
              "      <th>2010</th>\n",
              "      <td>37253956</td>\n",
              "      <td>9284094</td>\n",
              "    </tr>\n",
              "    <tr>\n",
              "      <th rowspan=\"2\" valign=\"top\">New York</th>\n",
              "      <th>2000</th>\n",
              "      <td>18976457</td>\n",
              "      <td>4687374</td>\n",
              "    </tr>\n",
              "    <tr>\n",
              "      <th>2010</th>\n",
              "      <td>19378102</td>\n",
              "      <td>4318033</td>\n",
              "    </tr>\n",
              "    <tr>\n",
              "      <th rowspan=\"2\" valign=\"top\">Texas</th>\n",
              "      <th>2000</th>\n",
              "      <td>20851820</td>\n",
              "      <td>5906301</td>\n",
              "    </tr>\n",
              "    <tr>\n",
              "      <th>2010</th>\n",
              "      <td>25145561</td>\n",
              "      <td>6879014</td>\n",
              "    </tr>\n",
              "  </tbody>\n",
              "</table>\n",
              "</div>"
            ],
            "text/plain": [
              "                    total  under18\n",
              "state      year                   \n",
              "California 2000  33871648  9267089\n",
              "           2010  37253956  9284094\n",
              "New York   2000  18976457  4687374\n",
              "           2010  19378102  4318033\n",
              "Texas      2000  20851820  5906301\n",
              "           2010  25145561  6879014"
            ]
          },
          "execution_count": 89,
          "metadata": {},
          "output_type": "execute_result"
        }
      ],
      "source": [
        "pop_df"
      ]
    },
    {
      "cell_type": "code",
      "execution_count": 90,
      "metadata": {
        "id": "rbHC3TRVbQup"
      },
      "outputs": [
        {
          "data": {
            "text/html": [
              "<div>\n",
              "<style scoped>\n",
              "    .dataframe tbody tr th:only-of-type {\n",
              "        vertical-align: middle;\n",
              "    }\n",
              "\n",
              "    .dataframe tbody tr th {\n",
              "        vertical-align: top;\n",
              "    }\n",
              "\n",
              "    .dataframe thead th {\n",
              "        text-align: right;\n",
              "    }\n",
              "</style>\n",
              "<table border=\"1\" class=\"dataframe\">\n",
              "  <thead>\n",
              "    <tr style=\"text-align: right;\">\n",
              "      <th>year</th>\n",
              "      <th>2000</th>\n",
              "      <th>2010</th>\n",
              "    </tr>\n",
              "    <tr>\n",
              "      <th>state</th>\n",
              "      <th></th>\n",
              "      <th></th>\n",
              "    </tr>\n",
              "  </thead>\n",
              "  <tbody>\n",
              "    <tr>\n",
              "      <th>California</th>\n",
              "      <td>33871648</td>\n",
              "      <td>37253956</td>\n",
              "    </tr>\n",
              "    <tr>\n",
              "      <th>New York</th>\n",
              "      <td>18976457</td>\n",
              "      <td>19378102</td>\n",
              "    </tr>\n",
              "    <tr>\n",
              "      <th>Texas</th>\n",
              "      <td>20851820</td>\n",
              "      <td>25145561</td>\n",
              "    </tr>\n",
              "  </tbody>\n",
              "</table>\n",
              "</div>"
            ],
            "text/plain": [
              "year            2000      2010\n",
              "state                         \n",
              "California  33871648  37253956\n",
              "New York    18976457  19378102\n",
              "Texas       20851820  25145561"
            ]
          },
          "execution_count": 90,
          "metadata": {},
          "output_type": "execute_result"
        }
      ],
      "source": [
        "pop_total_df=pop_df.total.unstack()\n",
        "pop_total_df"
      ]
    },
    {
      "cell_type": "markdown",
      "metadata": {
        "id": "NDCNDlYkMWz7"
      },
      "source": [
        "Notice that we've lost the \"total\" title when we did this."
      ]
    },
    {
      "cell_type": "code",
      "execution_count": 91,
      "metadata": {
        "id": "yNWgoZ-FbVih"
      },
      "outputs": [
        {
          "data": {
            "text/html": [
              "<div>\n",
              "<style scoped>\n",
              "    .dataframe tbody tr th:only-of-type {\n",
              "        vertical-align: middle;\n",
              "    }\n",
              "\n",
              "    .dataframe tbody tr th {\n",
              "        vertical-align: top;\n",
              "    }\n",
              "\n",
              "    .dataframe thead th {\n",
              "        text-align: right;\n",
              "    }\n",
              "</style>\n",
              "<table border=\"1\" class=\"dataframe\">\n",
              "  <thead>\n",
              "    <tr style=\"text-align: right;\">\n",
              "      <th>year</th>\n",
              "      <th>2000</th>\n",
              "      <th>2010</th>\n",
              "    </tr>\n",
              "    <tr>\n",
              "      <th>state</th>\n",
              "      <th></th>\n",
              "      <th></th>\n",
              "    </tr>\n",
              "  </thead>\n",
              "  <tbody>\n",
              "    <tr>\n",
              "      <th>California</th>\n",
              "      <td>9267089</td>\n",
              "      <td>9284094</td>\n",
              "    </tr>\n",
              "    <tr>\n",
              "      <th>New York</th>\n",
              "      <td>4687374</td>\n",
              "      <td>4318033</td>\n",
              "    </tr>\n",
              "    <tr>\n",
              "      <th>Texas</th>\n",
              "      <td>5906301</td>\n",
              "      <td>6879014</td>\n",
              "    </tr>\n",
              "  </tbody>\n",
              "</table>\n",
              "</div>"
            ],
            "text/plain": [
              "year           2000     2010\n",
              "state                       \n",
              "California  9267089  9284094\n",
              "New York    4687374  4318033\n",
              "Texas       5906301  6879014"
            ]
          },
          "execution_count": 91,
          "metadata": {},
          "output_type": "execute_result"
        }
      ],
      "source": [
        "pop_under18_df=pop_df.under18.unstack()\n",
        "pop_under18_df"
      ]
    },
    {
      "cell_type": "markdown",
      "metadata": {
        "id": "02OtphFMbk7t"
      },
      "source": [
        "And of course we can stack it back again, like this:"
      ]
    },
    {
      "cell_type": "code",
      "execution_count": 92,
      "metadata": {
        "id": "FVD8ZYn4bn41"
      },
      "outputs": [
        {
          "data": {
            "text/plain": [
              "state       year\n",
              "California  2000    9267089\n",
              "            2010    9284094\n",
              "New York    2000    4687374\n",
              "            2010    4318033\n",
              "Texas       2000    5906301\n",
              "            2010    6879014\n",
              "dtype: int64"
            ]
          },
          "execution_count": 92,
          "metadata": {},
          "output_type": "execute_result"
        }
      ],
      "source": [
        "pop_under18_df.stack()"
      ]
    },
    {
      "cell_type": "markdown",
      "metadata": {
        "id": "Mnn-WoNYbtbh"
      },
      "source": [
        "though notice that the column name is lost when we do this, so we would have to set it again if we wanted to.  \n",
        "\n",
        "Also notice that `.stack()` returned a series, since we only had one column."
      ]
    },
    {
      "cell_type": "code",
      "execution_count": 93,
      "metadata": {
        "id": "N0khPbspdXpL"
      },
      "outputs": [
        {
          "data": {
            "text/plain": [
              "pandas.core.series.Series"
            ]
          },
          "execution_count": 93,
          "metadata": {},
          "output_type": "execute_result"
        }
      ],
      "source": [
        "type(pop_under18_df.stack())"
      ]
    },
    {
      "cell_type": "markdown",
      "metadata": {
        "id": "q866cQsKfHkp"
      },
      "source": [
        "### Working with MultiIndexed DataFrames"
      ]
    },
    {
      "cell_type": "markdown",
      "metadata": {
        "id": "I6wC54-DfUxy"
      },
      "source": [
        "When we have a MultiIndexed Series or DataFrame, we can access an element or row like this:"
      ]
    },
    {
      "cell_type": "code",
      "execution_count": 94,
      "metadata": {
        "id": "btIoRdsRMvxZ"
      },
      "outputs": [
        {
          "data": {
            "text/plain": [
              "state       year\n",
              "California  2000    33871648\n",
              "            2010    37253956\n",
              "New York    2000    18976457\n",
              "            2010    19378102\n",
              "Texas       2000    20851820\n",
              "            2010    25145561\n",
              "dtype: int64"
            ]
          },
          "execution_count": 94,
          "metadata": {},
          "output_type": "execute_result"
        }
      ],
      "source": [
        "pop_series"
      ]
    },
    {
      "cell_type": "code",
      "execution_count": 95,
      "metadata": {
        "id": "VZhccVajfpy-"
      },
      "outputs": [
        {
          "data": {
            "text/plain": [
              "33871648"
            ]
          },
          "execution_count": 95,
          "metadata": {},
          "output_type": "execute_result"
        }
      ],
      "source": [
        "pop_series.loc['California',2000]"
      ]
    },
    {
      "cell_type": "code",
      "execution_count": null,
      "metadata": {
        "id": "hkEQM3teM3op"
      },
      "outputs": [],
      "source": [
        "pop_df"
      ]
    },
    {
      "cell_type": "code",
      "execution_count": null,
      "metadata": {
        "id": "ii55bekqh_yS"
      },
      "outputs": [],
      "source": [
        "pop_df.loc['California',2000]"
      ]
    },
    {
      "cell_type": "markdown",
      "metadata": {
        "id": "0z-hf7Psf-Ow"
      },
      "source": [
        "or even slice it, provide that the MultiIndex is sorted (see the pandas documentation for  [sort_index](https://pandas.pydata.org/pandas-docs/stable/reference/api/pandas.DataFrame.sort_index.html#pandas-dataframe-sort-index)):"
      ]
    },
    {
      "cell_type": "code",
      "execution_count": null,
      "metadata": {
        "id": "Q-O32V5qgATq"
      },
      "outputs": [],
      "source": [
        "pop_series.loc['California':'New York']"
      ]
    },
    {
      "cell_type": "code",
      "execution_count": null,
      "metadata": {
        "id": "MBrqAa6zggNV"
      },
      "outputs": [],
      "source": [
        "pop_series.loc['California':'New York',2000] "
      ]
    },
    {
      "cell_type": "markdown",
      "metadata": {
        "id": "b_91wI3ShHEB"
      },
      "source": [
        "Other types of indexing also works with MultiIndexes, such as boolean masks:"
      ]
    },
    {
      "cell_type": "code",
      "execution_count": null,
      "metadata": {
        "id": "VTw47KUrhLBk"
      },
      "outputs": [],
      "source": [
        "pop_series.loc[pop_series>22000000]"
      ]
    },
    {
      "cell_type": "markdown",
      "metadata": {
        "id": "Mgxl-MQchSxA"
      },
      "source": [
        "Or even fancy indexing:"
      ]
    },
    {
      "cell_type": "code",
      "execution_count": null,
      "metadata": {
        "id": "_j0RaBbKhU-U"
      },
      "outputs": [],
      "source": [
        "pop_series.loc[['California','Texas'],2000]"
      ]
    },
    {
      "cell_type": "markdown",
      "metadata": {
        "id": "gOKXMJBCU_qF"
      },
      "source": [
        "# Reference: Pandas Cheat Sheet\n",
        "\n",
        "Here is a very useful [Pandas Cheat Sheet](https://pandas.pydata.org/Pandas_Cheat_Sheet.pdf) that you will want to reference until you get comfortable working with Pandas.\n"
      ]
    }
  ],
  "metadata": {
    "colab": {
      "collapsed_sections": [
        "qvTecanMe46Q",
        "u3GUWHlBKnkr",
        "0tSEwOAuLPkh",
        "oNOWs_wyLV8I",
        "lzdV9m1YOGJE",
        "2d0cysIBlFpX",
        "liYk79MN9VOT",
        "QwPNQU3iP9NX",
        "icDIyFyTKnmr",
        "CMtzYY15UOkE",
        "I8ANw4ehU6c_",
        "0XDB_Tt0Knnn",
        "103xl_8p-XFh",
        "V7Zd1WrpOH4j",
        "tifHnbMvwzBo",
        "Ax9jhXIYw58Y",
        "l1D7xOU6KnoG",
        "Lpi_22UpxSRK",
        "6rq5fAWOL_Jx",
        "yhWp-ZnNxuHm",
        "n7TVWX_x7SXx",
        "ubArpkthX9bh",
        "7Ocdq0qNYDjS",
        "hpDN2-xRoPqO",
        "trtHRe-EGdZd",
        "DrGsjfv40g-x",
        "pR1xchFRJisF",
        "ZhowOewtjZW2",
        "1NJAgVOhP3Q9",
        "zlk1CKbnWFTR",
        "q866cQsKfHkp",
        "m6BcgofkhVTb",
        "7EVoKfb8WJVU",
        "ow--Rj5v0v7B",
        "gOKXMJBCU_qF"
      ],
      "name": "BA865 - Lecture 04.ipynb",
      "private_outputs": true,
      "provenance": []
    },
    "interpreter": {
      "hash": "82c7291e38b74b071fa4ec1726e805bc06f8b2e8b468136f7f887f7861bda7b9"
    },
    "kernelspec": {
      "display_name": "Python 3.7.9 64-bit ('SUSHI': conda)",
      "name": "python3"
    },
    "language_info": {
      "codemirror_mode": {
        "name": "ipython",
        "version": 3
      },
      "file_extension": ".py",
      "mimetype": "text/x-python",
      "name": "python",
      "nbconvert_exporter": "python",
      "pygments_lexer": "ipython3",
      "version": "3.7.16"
    }
  },
  "nbformat": 4,
  "nbformat_minor": 2
}
