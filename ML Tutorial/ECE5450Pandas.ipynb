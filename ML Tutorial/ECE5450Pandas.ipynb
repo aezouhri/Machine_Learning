{
  "cells": [
    {
      "cell_type": "markdown",
      "metadata": {},
      "source": [
        "# ECE:5450 Pandas Tutorial"
      ]
    },
    {
      "cell_type": "markdown",
      "metadata": {
        "id": "qvTecanMe46Q"
      },
      "source": [
        "# Code Preface"
      ]
    },
    {
      "cell_type": "markdown",
      "metadata": {
        "id": "uxE4uqwMfpUg"
      },
      "source": [
        "Below is some code that we will make use of to make our lives easier.  Imports and functions are usually introduced throughout this notebook as needed. But sometimes you need to jump around and run things out of order. This cell below makes it easier to do that by running it before you begin.\n",
        "\n",
        "**You don't need to look at this code now.**"
      ]
    },
    {
      "cell_type": "code",
      "execution_count": 8,
      "metadata": {
        "id": "zVOikh64e3qT"
      },
      "outputs": [
        {
          "ename": "ModuleNotFoundError",
          "evalue": "No module named 'seaborn'",
          "output_type": "error",
          "traceback": [
            "\u001b[1;31m---------------------------------------------------------------------------\u001b[0m",
            "\u001b[1;31mModuleNotFoundError\u001b[0m                       Traceback (most recent call last)",
            "Cell \u001b[1;32mIn[8], line 4\u001b[0m\n\u001b[0;32m      2\u001b[0m \u001b[39mimport\u001b[39;00m \u001b[39mpandas\u001b[39;00m \u001b[39mas\u001b[39;00m \u001b[39mpd\u001b[39;00m\n\u001b[0;32m      3\u001b[0m \u001b[39mimport\u001b[39;00m \u001b[39mnumpy\u001b[39;00m \u001b[39mas\u001b[39;00m \u001b[39mnp\u001b[39;00m\n\u001b[1;32m----> 4\u001b[0m \u001b[39mimport\u001b[39;00m \u001b[39mseaborn\u001b[39;00m \u001b[39mas\u001b[39;00m \u001b[39msns\u001b[39;00m\n\u001b[0;32m      5\u001b[0m \u001b[39m#import feather\u001b[39;00m\n\u001b[0;32m      6\u001b[0m \u001b[39mimport\u001b[39;00m \u001b[39mdatetime\u001b[39;00m\n",
            "\u001b[1;31mModuleNotFoundError\u001b[0m: No module named 'seaborn'"
          ]
        }
      ],
      "source": [
        "# imports for modules we will use:\n",
        "import pandas as pd\n",
        "import numpy as np\n",
        "import seaborn as sns\n",
        "#import feather\n",
        "import datetime\n",
        "import pandas_datareader.data as web\n",
        "import matplotlib.pyplot as plt\n",
        "plt.rcParams.update({'font.size': 20, 'figure.figsize': (20, 10)}) # set font and plot size\n",
        "\n",
        "\n",
        "# Some code to make displaying multiple dataframes side by side better\n",
        "class display(object):\n",
        "    \"\"\"Display HTML representation of multiple objects\"\"\"\n",
        "    template = \"\"\"<div style=\"float: left; padding: 10px;\">\n",
        "    <p style='font-family:\"Courier New\", Courier, monospace'>{0}</p>{1}\n",
        "    </div>\"\"\"\n",
        "    def __init__(self, *args):\n",
        "        self.args = args\n",
        "        \n",
        "    def _repr_html_(self):\n",
        "        return '\\n'.join(self.template.format(a, eval(a)._repr_html_())\n",
        "                         for a in self.args)\n",
        "    \n",
        "    def __repr__(self):\n",
        "        return '\\n\\n'.join(a + '\\n' + repr(eval(a))\n",
        "                           for a in self.args)\n",
        "\n",
        "\n",
        "# Some code to generate example dataframes\n",
        "def make_df(cols, ind):\n",
        "    \"\"\"Quickly make a DataFrame\"\"\"\n",
        "    data = {c: [str(c) + str(i) for i in ind]\n",
        "            for c in cols}\n",
        "    return pd.DataFrame(data, ind)\n",
        "\n",
        "# Load imdbb datasets that we'll use\n",
        "imdbFile = 'IMDB-Movie-Data.csv'\n",
        "movies_df = pd.read_csv(imdbFile, index_col=\"Title\")\n",
        "movies_df.columns = ['rank', 'genre', 'description', 'director', 'actors', 'year', 'runtime', \n",
        "                     'rating', 'votes', 'revenue_millions', 'metascore']\n",
        "\n",
        "planets = sns.load_dataset('planets')\n",
        "\n",
        "titanic = sns.load_dataset('titanic')"
      ]
    },
    {
      "cell_type": "markdown",
      "metadata": {
        "id": "u3GUWHlBKnkr"
      },
      "source": [
        "# Pandas"
      ]
    },
    {
      "cell_type": "markdown",
      "metadata": {
        "id": "AcswF_j4Knkv"
      },
      "source": [
        "<img src='https://drive.google.com/uc?id=1QblXB3vwRh63bXvi7pM_yk4PsG6MMw1i' width=500>\n",
        "\n",
        "The *pandas* package is the most important tool at the disposal of Data Scientists and Analysts working in Python today. The powerful machine learning and glamorous visualization tools may get all the attention, but pandas is the backbone of most data projects. \n",
        "\n",
        ">\\[*pandas*\\] is derived from the term \"**pan**el **da**ta\", an econometrics term for data sets that include observations over multiple time periods for the same individuals. — [Wikipedia](https://en.wikipedia.org/wiki/Pandas_%28software%29)\n",
        "\n",
        "If you're thinking about data science as a career, then it is imperative that one of the first things you do is learn pandas. In this post, we will go over the essential bits of information about pandas, including how to install it, its uses, and how it works with other common Python data analysis packages such as **matplotlib** and **sci-kit learn**."
      ]
    },
    {
      "cell_type": "markdown",
      "metadata": {
        "id": "G62x56FfKnk1"
      },
      "source": [
        "<img src=\"https://drive.google.com/uc?id=1Hsr__ImXc8TRS44Od6jrRzLl1y3Y3cLL\" width=500px />"
      ]
    },
    {
      "cell_type": "markdown",
      "metadata": {
        "id": "0tSEwOAuLPkh"
      },
      "source": [
        "# What's Pandas for?"
      ]
    },
    {
      "cell_type": "markdown",
      "metadata": {
        "id": "CPn2Ny4hKnk3"
      },
      "source": [
        "Pandas has so many uses that it might make sense to list the things it can't do instead of what it can do. \n",
        "\n",
        "This tool is essentially your data’s home. Through pandas, you get acquainted with your data by cleaning, transforming, and analyzing it. \n",
        "\n",
        "For example, say you want to explore a dataset stored in a CSV on your computer. Pandas will extract the data from that CSV into a DataFrame — a table, basically — then let you do things like:\n",
        "\n",
        "- Calculate statistics and answer questions about the data, like\n",
        "\n",
        "\n",
        "    - What's the average, median, max, or min of each column? \n",
        "    - Does column A correlate with column B?\n",
        "    - What does the distribution of data in column C look like?\n",
        "\n",
        "\n",
        "- Clean the data by doing things like removing missing values and filtering rows or columns by some criteria\n",
        "\n",
        "\n",
        "- Visualize the data with help from Matplotlib. Plot bars, lines, histograms, bubbles, and more. \n",
        "\n",
        "\n",
        "- Store the cleaned, transformed data back into a CSV, other file or database\n",
        "\n",
        "\n",
        "Before you jump into the modeling or the complex visualizations you need to have a good understanding of the nature of your dataset and pandas is the best avenue through which to do that.\n",
        "\n"
      ]
    },
    {
      "cell_type": "markdown",
      "metadata": {
        "id": "oNOWs_wyLV8I"
      },
      "source": [
        "# How does pandas fit into the data science toolkit?"
      ]
    },
    {
      "cell_type": "markdown",
      "metadata": {
        "id": "aq1tpQIdKnk7"
      },
      "source": [
        "Not only is the pandas library a central component of the data science toolkit but it is used in conjunction with other libraries in that collection. \n",
        "\n",
        "Pandas is built on top of the **NumPy** package, meaning a lot of the structure of NumPy is used or replicated in Pandas. Data in pandas is often used to feed statistical analysis in **SciPy**, plotting functions from **Matplotlib**, and machine learning algorithms in **Scikit-learn**.\n",
        "\n",
        "Before we do anything else, we have to import pandas. For brevity we'll import is as ``pd`` so we don't have to type ``pandas.`` everywhere."
      ]
    },
    {
      "cell_type": "code",
      "execution_count": null,
      "metadata": {
        "id": "ntRm7WB4Knlo"
      },
      "outputs": [],
      "source": [
        "import pandas as pd"
      ]
    },
    {
      "cell_type": "markdown",
      "metadata": {
        "id": "cdY9ynw8Knl0"
      },
      "source": [
        "Now to the basic components of pandas."
      ]
    },
    {
      "cell_type": "markdown",
      "metadata": {
        "id": "lzdV9m1YOGJE"
      },
      "source": [
        "# Core components of pandas: Series and DataFrames"
      ]
    },
    {
      "cell_type": "markdown",
      "metadata": {
        "id": "kgp8GqfyKnl3"
      },
      "source": [
        "The primary two components of pandas are the `Series` and `DataFrame`. \n",
        "\n",
        "A `Series` is essentially a column, and a `DataFrame` is a multi-dimensional table made up of a collection of Series. \n",
        "\n",
        "<img src=\"https://drive.google.com/uc?id=1GNUYVXJ_dZK94GBJZWLbvAD2xOC0K342\" width=600px />\n",
        "\n",
        "DataFrames and Series are quite similar in that many operations that you can do with one you can do with the other, such as filling in null values and calculating the mean.\n",
        "\n",
        "You'll see how these components work when we start working with data below. "
      ]
    },
    {
      "cell_type": "markdown",
      "metadata": {
        "id": "2d0cysIBlFpX"
      },
      "source": [
        "## Creating DataFrames from scratch"
      ]
    },
    {
      "cell_type": "markdown",
      "metadata": {
        "id": "reaSxs_AKnl9"
      },
      "source": [
        "Creating DataFrames right in Python is good to know and quite useful when testing new methods and functions you find in the pandas docs.\n",
        "\n",
        "There are *many* ways to create a DataFrame from scratch, but a great option is to just use a simple `dict` of `list`s. \n",
        "\n",
        "Let's say we have a fruit stand that sells apples and oranges. We want to have a column for each fruit and a row for each customer purchase. To organize this as a dictionary for pandas we could do something like:"
      ]
    },
    {
      "cell_type": "code",
      "execution_count": null,
      "metadata": {
        "id": "vg2uELI_Knl_"
      },
      "outputs": [],
      "source": [
        "data = {\n",
        "    'apples': [3, 2, 0, 1], \n",
        "    'oranges': [0, 3, 7, 2]\n",
        "}"
      ]
    },
    {
      "cell_type": "markdown",
      "metadata": {
        "id": "ywLmVE1GKnmM"
      },
      "source": [
        "And then pass it to the pandas DataFrame constructor:"
      ]
    },
    {
      "cell_type": "code",
      "execution_count": null,
      "metadata": {
        "id": "zSyM0i38KnmN"
      },
      "outputs": [],
      "source": [
        "purchases = pd.DataFrame(data)\n",
        "\n",
        "purchases"
      ]
    },
    {
      "cell_type": "markdown",
      "metadata": {
        "id": "hmJw3BhpKnma"
      },
      "source": [
        "**How did that work?**\n",
        "\n",
        "Each *(key, value)* item in `data` corresponds to a *column* in the resulting DataFrame.\n",
        "\n",
        "The **Index** of this DataFrame was given to us on creation as the numbers 0-3, but we could also create our own when we initialize the DataFrame. \n",
        "\n",
        "Let's have customer names as our index: "
      ]
    },
    {
      "cell_type": "code",
      "execution_count": null,
      "metadata": {
        "id": "9oCR9N3JKnmd"
      },
      "outputs": [],
      "source": [
        "purchases = pd.DataFrame(data, index=['June', 'Robert', 'Lily', 'David'])\n",
        "\n",
        "purchases"
      ]
    },
    {
      "cell_type": "markdown",
      "metadata": {
        "id": "UE08lxOgKnmj"
      },
      "source": [
        "So now we could **loc**ate a customer's order by using their name:"
      ]
    },
    {
      "cell_type": "code",
      "execution_count": null,
      "metadata": {
        "id": "BKnI37ugKnml"
      },
      "outputs": [],
      "source": [
        "type(purchases.loc['June'])"
      ]
    },
    {
      "cell_type": "markdown",
      "metadata": {
        "id": "gJ0sv0xtKnmp"
      },
      "source": [
        "There's more on locating and extracting data from the DataFrame later, but now you should be able to create a DataFrame with any random data to learn on.\n",
        "\n",
        "Let's move on to some quick methods for creating DataFrames from various other sources."
      ]
    },
    {
      "cell_type": "markdown",
      "metadata": {
        "id": "liYk79MN9VOT"
      },
      "source": [
        "# Exercise: Create a dataframe of characters from your favorite movie"
      ]
    },
    {
      "cell_type": "markdown",
      "metadata": {
        "id": "Ed3wIZHU9i4p"
      },
      "source": [
        "Create a dataframe from scratch of characters from your favorite movie\n",
        "\n",
        "Columns could include:\n",
        "- actor name\n",
        "- character gender\n",
        "- A boolean that is True if the character is a villain\n",
        "- ... and any other column you'd like to add\n",
        "\n",
        "Make the index of the dataframe the character name"
      ]
    },
    {
      "cell_type": "code",
      "execution_count": null,
      "metadata": {
        "id": "_MGXE-wS9yqn"
      },
      "outputs": [],
      "source": [
        "# Create your dataframe here\n"
      ]
    },
    {
      "cell_type": "markdown",
      "metadata": {
        "id": "QwPNQU3iP9NX"
      },
      "source": [
        "# How to read data with pandas"
      ]
    },
    {
      "cell_type": "markdown",
      "metadata": {
        "id": "I1guXRvAKnmq"
      },
      "source": [
        "It’s quite simple to load data from various file formats into a DataFrame. In the following examples we'll keep using our apples and oranges data, but this time, read it from various files."
      ]
    },
    {
      "cell_type": "markdown",
      "metadata": {
        "id": "icDIyFyTKnmr"
      },
      "source": [
        "## Reading data from CSVs\n",
        "\n",
        "With CSV files all you need is a single line to load in the data:"
      ]
    },
    {
      "cell_type": "code",
      "execution_count": null,
      "metadata": {
        "id": "1eaqx8_-Knms"
      },
      "outputs": [],
      "source": [
        "purchasesFile='purchases.csv'\n",
        "df = pd.read_csv(purchasesFile) \n",
        "\n",
        "df"
      ]
    },
    {
      "cell_type": "markdown",
      "metadata": {
        "id": "GbsKtWXcKnmv"
      },
      "source": [
        "CSVs don't have indexes like our DataFrames, so all we need to do is just designate the `index_col` when reading:"
      ]
    },
    {
      "cell_type": "code",
      "execution_count": null,
      "metadata": {
        "id": "tx-wXS60Knmw"
      },
      "outputs": [],
      "source": [
        "df = pd.read_csv(purchasesFile, index_col=0) # Set the index to be the 0th column\n",
        "\n",
        "df"
      ]
    },
    {
      "cell_type": "markdown",
      "metadata": {
        "id": "hVnGGSWeKnm0"
      },
      "source": [
        "Here we're setting the index to be column zero.\n",
        "\n",
        "You'll find that most CSVs won't ever have an index column and so usually you don't have to worry about this step.\n",
        "\n",
        "It's also possible to set an index on a dataframe after its been created with `df.set_index('someIndex')`. You can read more about it [here](https://pandas.pydata.org/pandas-docs/stable/reference/api/pandas.DataFrame.set_index.html).\n",
        "\n"
      ]
    },
    {
      "cell_type": "markdown",
      "metadata": {
        "id": "CMtzYY15UOkE"
      },
      "source": [
        "## Reading data from JSON"
      ]
    },
    {
      "cell_type": "markdown",
      "metadata": {
        "id": "zgVVZZ54UIPk"
      },
      "source": [
        "If you have a JSON file — which is essentially a stored Python `dict` — pandas can read this just as easily:"
      ]
    },
    {
      "cell_type": "code",
      "execution_count": null,
      "metadata": {
        "id": "EkDbLdspKnm2"
      },
      "outputs": [],
      "source": [
        "purchasesJSONFile='purchases.json'\n",
        "df = pd.read_json(purchasesJSONFile)\n",
        "\n",
        "df"
      ]
    },
    {
      "cell_type": "markdown",
      "metadata": {
        "id": "gzjcnWMcKnnF"
      },
      "source": [
        "Notice this time our index came with us correctly since using JSON allowed indexes to work through nesting. You can open the `purchases.json` file by pasting the purchasesJSONFile link above into an empty tab on your browser so you can see the file structure.\n",
        "\n",
        "Pandas will try to figure out how to create a DataFrame by analyzing structure of your JSON, and sometimes it doesn't get it right. Often you'll need to set the `orient` keyword argument depending on the structure, so check out [read_json docs](https://pandas.pydata.org/pandas-docs/stable/generated/pandas.read_json.html) about that argument to see which orientation you're using."
      ]
    },
    {
      "cell_type": "markdown",
      "metadata": {
        "id": "I8ANw4ehU6c_"
      },
      "source": [
        "## Reading data from a SQL database"
      ]
    },
    {
      "cell_type": "markdown",
      "metadata": {
        "id": "LNCnCkvzU7vb"
      },
      "source": [
        "If you’re working with data from a SQL database you would need to first establish a connection using an appropriate Python library, then pass a query to pandas. \n",
        "\n",
        "I'm not going to demonstrate this with code here, as it requires installing a mysql module in Google Colab and having a database running that it can connect to.  However, I'll show you some example code to give you an idea:\n",
        "```\n",
        "import pymysql\n",
        "\n",
        "# Connect to the database:\n",
        "con = pymysql.connect(host='localhost',user='user',password='password',db='db')\n",
        "\n",
        "# read the results of a query into a dataframe:\n",
        "df = pd.read_sql_query(\"SELECT * FROM purchases\", con)\n",
        "``` "
      ]
    },
    {
      "cell_type": "markdown",
      "metadata": {
        "id": "0XDB_Tt0Knnn"
      },
      "source": [
        "## Converting back to a CSV, JSON, or SQL"
      ]
    },
    {
      "cell_type": "markdown",
      "metadata": {
        "id": "QKn_wXbnX0sa"
      },
      "source": [
        "So after extensive work on cleaning your data, you’re now ready to save it as a file of your choice. Similar to the ways we read in data, pandas provides intuitive commands to save it:"
      ]
    },
    {
      "cell_type": "code",
      "execution_count": null,
      "metadata": {
        "id": "0355CTcyKnnp"
      },
      "outputs": [],
      "source": [
        "df.to_csv('new_purchases.csv')\n",
        "\n",
        "df.to_json('new_purchases.json')\n",
        "\n",
        "#df.to_sql('new_purchases', con) # This line is commented out, because we didn't establish a connection to a dB"
      ]
    },
    {
      "cell_type": "markdown",
      "metadata": {
        "id": "CvS3ZHVEOCJN"
      },
      "source": [
        "Check out the local Files in Google Colab ( little right arrow under \"+Code\") to verify that these files have indeed been created on our local machine.\n",
        "\n",
        "When we save JSON and CSV files, all we have to input into those functions is our desired filename with the appropriate file extension. With SQL, we’re not creating a new file but instead inserting a new table into the database using our `con` variable from before.\n",
        "\n",
        "Let's move on to importing some real-world data and detailing a few of the operations you'll be using a lot."
      ]
    },
    {
      "cell_type": "markdown",
      "metadata": {
        "id": "103xl_8p-XFh"
      },
      "source": [
        "# Exercise: Write your Movie Character dataframe out to a csv file"
      ]
    },
    {
      "cell_type": "markdown",
      "metadata": {
        "id": "JunbhtjPKzR1"
      },
      "source": [
        "Using the movie character dataframe that you created earlier, write it out to the csv file \"moviechars_df.csv\".\n"
      ]
    },
    {
      "cell_type": "code",
      "execution_count": null,
      "metadata": {
        "id": "827y9-Kb-eRy"
      },
      "outputs": [],
      "source": [
        "# write your code here\n"
      ]
    },
    {
      "cell_type": "markdown",
      "metadata": {
        "id": "Pwxc_j9T-jAT"
      },
      "source": [
        "Now, open the file by using Google Colab's interface, to verify that it makes wrote correctly and makes sense."
      ]
    },
    {
      "cell_type": "markdown",
      "metadata": {
        "id": "V7Zd1WrpOH4j"
      },
      "source": [
        "# Basic DataFrame operations"
      ]
    },
    {
      "cell_type": "markdown",
      "metadata": {
        "id": "466GPuL1Knnt"
      },
      "source": [
        "DataFrames possess hundreds of methods and other operations that are crucial to any analysis. As a beginner, you should know the operations that perform simple transformations of your data and those that provide fundamental statistical analysis.\n",
        "\n",
        "Let's load in the IMDB movies dataset to begin:"
      ]
    },
    {
      "cell_type": "code",
      "execution_count": null,
      "metadata": {
        "id": "FDSvCLJgKnnv"
      },
      "outputs": [],
      "source": [
        "imdbFile = 'IMDB-Movie-Data.csv'\n",
        "movies_df = pd.read_csv(imdbFile, index_col=\"Title\")\n",
        "movies_df"
      ]
    },
    {
      "cell_type": "markdown",
      "metadata": {
        "id": "TEq9JPO2Knny"
      },
      "source": [
        "We're loading this dataset from a CSV and designating the movie titles to be our index.\n",
        "\n",
        "Because we did this, Title won't be a column name in our DataFrame (it's the index). If for some reason, we wanted to make an index a column again, we could use the `reset_index()` method:"
      ]
    },
    {
      "cell_type": "code",
      "execution_count": null,
      "metadata": {
        "id": "zk9Q6d5NP-_6"
      },
      "outputs": [],
      "source": [
        "movies_df.reset_index()"
      ]
    },
    {
      "cell_type": "markdown",
      "metadata": {
        "id": "tifHnbMvwzBo"
      },
      "source": [
        "## Viewing your data"
      ]
    },
    {
      "cell_type": "markdown",
      "metadata": {
        "id": "NA9FvcXmKnnz"
      },
      "source": [
        "\n",
        "\n",
        "The first thing to do when opening a new dataset is print out a few rows to keep as a visual reference. We accomplish this with `.head()`:"
      ]
    },
    {
      "cell_type": "code",
      "execution_count": null,
      "metadata": {
        "id": "IyOwvBP3Knn1"
      },
      "outputs": [],
      "source": [
        "movies_df.head()"
      ]
    },
    {
      "cell_type": "markdown",
      "metadata": {
        "id": "u1LOrsfoKnn6"
      },
      "source": [
        "`.head()` outputs the **first** five rows of your DataFrame by default, but we could also pass a number as well: `movies_df.head(10)` would output the top ten rows, for example. \n",
        "\n",
        "To see the **last** five rows use `.tail()`. $\\ $ `tail()` also accepts a number, and in this case we printing the bottom two rows.:"
      ]
    },
    {
      "cell_type": "code",
      "execution_count": null,
      "metadata": {
        "id": "Njt4MU_KKnn6"
      },
      "outputs": [],
      "source": [
        "movies_df.tail(2)"
      ]
    },
    {
      "cell_type": "markdown",
      "metadata": {
        "id": "3H4KKH9oKnn9"
      },
      "source": [
        "Typically when we load in a dataset, we like to view the first five or so rows to see what's under the hood. Here we can see the names of each column, the index, and examples of values in each row.\n",
        "\n",
        "You'll notice that the index in our DataFrame is the *Title* column, which you can tell by how the word *Title* is slightly lower than the rest of the columns."
      ]
    },
    {
      "cell_type": "markdown",
      "metadata": {
        "id": "Ax9jhXIYw58Y"
      },
      "source": [
        "## Getting info about your data"
      ]
    },
    {
      "cell_type": "markdown",
      "metadata": {
        "id": "PWiuR9AgKnn_"
      },
      "source": [
        "`.info()` should be one of the very first commands you run after loading your data:"
      ]
    },
    {
      "cell_type": "code",
      "execution_count": null,
      "metadata": {
        "id": "UALXdwD0Knn_"
      },
      "outputs": [],
      "source": [
        "movies_df.info()"
      ]
    },
    {
      "cell_type": "markdown",
      "metadata": {
        "id": "Etz2Uz7zKnoC"
      },
      "source": [
        "`.info()` provides the essential details about your dataset, such as the number of rows and columns, the number of non-null values, what type of data is in each column, and how much memory your DataFrame is using. \n",
        "\n",
        "Notice in our movies dataset we have some obvious missing values in the `Revenue` and `Metascore` columns. We'll look at how to handle those in a bit.\n",
        "\n",
        "Seeing the datatype quickly is actually quite useful. Imagine you just imported some JSON and the integers were recorded as strings. You go to do some arithmetic and find an \"unsupported operand\" Exception because you can't do math with strings. Calling `.info()` will quickly point out that your column you thought was all integers are actually string objects.\n",
        "\n"
      ]
    },
    {
      "cell_type": "code",
      "execution_count": null,
      "metadata": {},
      "outputs": [],
      "source": [
        "movies_df['rank'].describe()"
      ]
    },
    {
      "cell_type": "markdown",
      "metadata": {},
      "source": [
        "Another fast and useful attribute is `.shape`, which outputs just a tuple of (rows, columns):"
      ]
    },
    {
      "cell_type": "code",
      "execution_count": null,
      "metadata": {
        "id": "_fYMKS-yKnoD"
      },
      "outputs": [],
      "source": [
        "movies_df.shape"
      ]
    },
    {
      "cell_type": "markdown",
      "metadata": {
        "id": "me8JRvCWKnoF"
      },
      "source": [
        "Note that `.shape` has no parentheses (its a property, not a method) and is a simple tuple of format (rows, columns). So we have **1000 rows** and **11 columns** in our movies DataFrame.\n",
        "\n",
        "You'll be going to `.shape` a lot when cleaning and transforming data. For example, you might filter some rows based on some criteria and then want to know quickly how many rows were removed."
      ]
    },
    {
      "cell_type": "markdown",
      "metadata": {
        "id": "l1D7xOU6KnoG"
      },
      "source": [
        "## Handling duplicates"
      ]
    },
    {
      "cell_type": "markdown",
      "metadata": {
        "id": "ORKGc1wpKnoJ"
      },
      "source": [
        "This dataset does not have duplicate rows, but it is always important to verify you aren't aggregating duplicate rows. \n",
        "\n",
        "To demonstrate, let's simply just double up our movies DataFrame by appending it to itself:"
      ]
    },
    {
      "cell_type": "code",
      "execution_count": null,
      "metadata": {
        "id": "JnyVj6MFKnoK"
      },
      "outputs": [],
      "source": [
        "temp_df = movies_df.append(movies_df)\n",
        "\n",
        "temp_df.shape"
      ]
    },
    {
      "cell_type": "markdown",
      "metadata": {
        "id": "53_86AYFKnoN"
      },
      "source": [
        "Using `append()` will return a copy without affecting the original DataFrame. We are capturing this copy in `temp_df` so we aren't working with the real data.\n",
        "\n",
        "Notice call `.shape` quickly proves our DataFrame rows have doubled.\n",
        "\n",
        "Now we can try dropping duplicates:"
      ]
    },
    {
      "cell_type": "code",
      "execution_count": null,
      "metadata": {
        "id": "_7HawSP_KnoO"
      },
      "outputs": [],
      "source": [
        "temp_df = temp_df.drop_duplicates()\n",
        "\n",
        "temp_df.shape"
      ]
    },
    {
      "cell_type": "markdown",
      "metadata": {
        "id": "72ET7Qe5KnoQ"
      },
      "source": [
        "Just like `append()`, the `drop_duplicates()` method will also return a copy of your DataFrame, but this time with duplicates removed. Calling `.shape` confirms we're back to the 1000 rows of our original dataset.\n",
        "\n",
        "It's a little verbose to keep assigning DataFrames to the same variable like in this example. For this reason, pandas has the `inplace` keyword argument on many of its methods. Using `inplace=True` will modify the DataFrame object in place:"
      ]
    },
    {
      "cell_type": "code",
      "execution_count": null,
      "metadata": {
        "id": "urOAbwJ-KnoS"
      },
      "outputs": [],
      "source": [
        "temp_df.drop_duplicates(inplace=True)"
      ]
    },
    {
      "cell_type": "markdown",
      "metadata": {
        "id": "LC3b12DCKnoV"
      },
      "source": [
        "Now our `temp_df` *will* have the transformed data automatically. \n",
        "\n",
        "Another important argument for `drop_duplicates()` is `keep`, which has three possible options:\n",
        "\n",
        "* `first`: (default) Drop duplicates except for the first occurrence.\n",
        "* `last`: Drop duplicates except for the last occurrence.\n",
        "* `False`: Drop all duplicates.\n",
        "\n",
        "Since we didn't define the `keep` argument in the previous example it was defaulted to `first`. This means that if two rows are the same pandas will drop the second row and keep the first row. Using `last` has the opposite effect: the first row is dropped.\n",
        "\n",
        "`keep`, on the other hand, will drop all duplicates. If two rows are the same then both will be dropped. Watch what happens to `temp_df`:"
      ]
    },
    {
      "cell_type": "code",
      "execution_count": null,
      "metadata": {
        "id": "KPCmI0gmKnoX"
      },
      "outputs": [],
      "source": [
        "temp_df = movies_df.append(movies_df)  # make a new copy with duplicates"
      ]
    },
    {
      "cell_type": "code",
      "execution_count": null,
      "metadata": {
        "id": "Pwzi47zlfMjs"
      },
      "outputs": [],
      "source": [
        "temp2_df = temp_df.drop_duplicates(keep=False)\n",
        "temp2_df.shape"
      ]
    },
    {
      "cell_type": "markdown",
      "metadata": {
        "id": "l2lD9NAUKnoc"
      },
      "source": [
        "Since all rows were duplicates, `keep=False` dropped them all resulting in zero rows being left over. If you're wondering why you would want to do this, one reason is that it allows you to locate all duplicates in your dataset. When conditional selections are shown below you'll see how to do that."
      ]
    },
    {
      "cell_type": "markdown",
      "metadata": {
        "id": "Lpi_22UpxSRK"
      },
      "source": [
        "## Column cleanup"
      ]
    },
    {
      "cell_type": "markdown",
      "metadata": {
        "id": "tFzodE3IKnod"
      },
      "source": [
        "\n",
        "\n",
        "Many times datasets will have verbose column names with symbols, upper and lowercase words, spaces, and typos. To make selecting data by column name easier we can spend a little time cleaning up their names.\n",
        "\n",
        "Here's how to print the column names of our dataset:"
      ]
    },
    {
      "cell_type": "code",
      "execution_count": null,
      "metadata": {
        "id": "XKXDx5ZwKnof"
      },
      "outputs": [],
      "source": [
        "movies_df.columns"
      ]
    },
    {
      "cell_type": "markdown",
      "metadata": {
        "id": "vXH4TKpJKnoj"
      },
      "source": [
        "Not only does `.columns` come in handy if you want to rename columns by allowing for simple copy and paste, it's also useful if you need to understand why you are receiving a `Key Error` when selecting data by column.\n",
        "\n",
        "We can use the `.rename()` method to rename certain or all columns via a `dict`. We don't want parentheses, so let's rename those:"
      ]
    },
    {
      "cell_type": "code",
      "execution_count": null,
      "metadata": {
        "id": "k_DDiUzOKnok"
      },
      "outputs": [],
      "source": [
        "movies_df.rename(columns={\n",
        "        'Runtime (Minutes)': 'Runtime', \n",
        "        'Revenue (Millions)': 'Revenue_millions'\n",
        "    }, inplace=True)\n",
        "\n",
        "\n",
        "movies_df.columns"
      ]
    },
    {
      "cell_type": "markdown",
      "metadata": {
        "id": "vCWK9WF4Knoq"
      },
      "source": [
        "Excellent. But what if we want to lowercase all names? Instead of using `.rename()` we could also set a list of names to the columns like so:"
      ]
    },
    {
      "cell_type": "code",
      "execution_count": null,
      "metadata": {
        "id": "rtBUwBlRKnor"
      },
      "outputs": [],
      "source": [
        "movies_df.columns = ['rank', 'genre', 'description', 'director', 'actors', 'year', 'runtime', \n",
        "                     'rating', 'votes', 'revenue_millions', 'metascore']\n",
        "\n",
        "\n",
        "movies_df.columns"
      ]
    },
    {
      "cell_type": "markdown",
      "metadata": {
        "id": "S8AijBEiKnot"
      },
      "source": [
        "But that's too much work. Instead of just renaming each column manually we can do a list comprehension:"
      ]
    },
    {
      "cell_type": "code",
      "execution_count": null,
      "metadata": {
        "id": "S8mCJC0vKnot"
      },
      "outputs": [],
      "source": [
        "movies_df.columns = [col.lower() for col in movies_df]\n",
        "\n",
        "movies_df.columns"
      ]
    },
    {
      "cell_type": "markdown",
      "metadata": {
        "id": "goduhka2Know"
      },
      "source": [
        "`list` (and `dict`) comprehensions come in handy a lot when working with pandas and data in general.\n",
        "\n",
        "It's a good idea to lowercase, remove special characters, and replace spaces with underscores if you'll be working with a dataset for some time."
      ]
    },
    {
      "cell_type": "markdown",
      "metadata": {
        "id": "6rq5fAWOL_Jx"
      },
      "source": [
        "## How to work with missing values"
      ]
    },
    {
      "cell_type": "markdown",
      "metadata": {
        "id": "x5r6UYjIKnox"
      },
      "source": [
        "When exploring data, you’ll most likely encounter missing or null values, which are essentially placeholders for non-existent values. Most commonly you'll see Python's `None` or NumPy's `np.nan`, each of which are handled differently in some situations.\n",
        "\n",
        "There are two options in dealing with nulls: \n",
        "\n",
        "1. Get rid of rows or columns with nulls\n",
        "2. Replace nulls with non-null values, a technique known as **imputation**\n",
        "\n",
        "Let's calculate to total number of nulls in each column of our dataset. The first step is to check which cells in our DataFrame are null:"
      ]
    },
    {
      "cell_type": "code",
      "execution_count": null,
      "metadata": {
        "id": "pZY-9QvOKnoz"
      },
      "outputs": [],
      "source": [
        "movies_df.isnull()"
      ]
    },
    {
      "cell_type": "markdown",
      "metadata": {
        "id": "g2uOLmZOKno2"
      },
      "source": [
        "Notice `isnull()` returns a DataFrame where each cell is either True or False depending on that cell's null status.\n",
        "\n",
        "To count the number of nulls in each column we use an aggregate function for summing (we'll talk more about aggregation, later): "
      ]
    },
    {
      "cell_type": "code",
      "execution_count": null,
      "metadata": {
        "id": "_tzZaT_NKno7"
      },
      "outputs": [],
      "source": [
        "movies_df.isnull().sum()"
      ]
    },
    {
      "cell_type": "markdown",
      "metadata": {
        "id": "Rha6b8r5Kno-"
      },
      "source": [
        "`.isnull()` just by itself isn't very useful, and is usually used in conjunction with other methods, like `sum()`.\n",
        "\n",
        "We can see now that our data has **128** missing values for `revenue_millions` and **64** missing values for `metascore`."
      ]
    },
    {
      "cell_type": "markdown",
      "metadata": {
        "id": "yhWp-ZnNxuHm"
      },
      "source": [
        "### Removing null values"
      ]
    },
    {
      "cell_type": "markdown",
      "metadata": {
        "id": "jX-UaTFEKno-"
      },
      "source": [
        "\n",
        "\n",
        "Data Scientists and Analysts regularly face the dilemma of dropping or imputing null values. This decision requires intimate knowledge of your data and its context. Overall, removing null data is only suggested if you have a small amount of missing data.\n",
        "\n",
        "Remove nulls is pretty simple:"
      ]
    },
    {
      "cell_type": "code",
      "execution_count": null,
      "metadata": {
        "id": "l0kBkfdpKnpA"
      },
      "outputs": [],
      "source": [
        "movies_df.dropna()"
      ]
    },
    {
      "cell_type": "markdown",
      "metadata": {
        "id": "ijaN2eNTKnpD"
      },
      "source": [
        "This operation will delete any **row** with at least a single null value, but it will return a new DataFrame without altering the original one. You could specify `inplace=True` in this method as well.\n",
        "\n",
        "So in the case of our dataset, this operation would remove 128 rows where `revenue_millions` is null and 64 rows where `metascore` is null. This obviously seems like a waste since there's perfectly good data in the other columns of those dropped rows. That's why we'll look at imputation next.\n",
        "\n",
        "Other than just dropping rows, you can also drop columns with null values by setting `axis=1` in the `dropna()` method."
      ]
    },
    {
      "cell_type": "code",
      "execution_count": null,
      "metadata": {
        "id": "tKfB40gKT4ca"
      },
      "outputs": [],
      "source": [
        "movies_df.dropna(axis=1)"
      ]
    },
    {
      "cell_type": "markdown",
      "metadata": {
        "id": "n7TVWX_x7SXx"
      },
      "source": [
        "### Imputing null values"
      ]
    },
    {
      "cell_type": "markdown",
      "metadata": {
        "id": "tir1VUt07Vhx"
      },
      "source": [
        "Imputing missing values (making educated guesses for them based on values that we do have in our data) is a complicated business and it should not be done without an intimate knowledge of the dataset you're working on. In many cases, and particularly when you don't have intimate knowledge of the data, it may be better to remove missing values than to try to impute them.\n",
        "\n",
        "One simple method for imputing data is to replace it with the average value from the data. This can be done with varying degrees of specificity. For example, we could find the average value for only similar items in the data (e.g., for movies, we might decide to only take the average from the same year from movies that share similar genres).  This is a complicated business and we're not really ready to do this with our current knowledge of pandas. Instead,we can simple impute the values to be the average of all movies:"
      ]
    },
    {
      "cell_type": "code",
      "execution_count": null,
      "metadata": {
        "id": "8K-QG_798Jp2"
      },
      "outputs": [],
      "source": [
        "revenue_mean = movies_df.revenue_millions.mean()\n",
        "print(revenue_mean)\n",
        "temp_df = movies_df.revenue_millions.fillna(revenue_mean)\n",
        "temp_df.isnull().sum()"
      ]
    },
    {
      "cell_type": "markdown",
      "metadata": {
        "id": "ubArpkthX9bh"
      },
      "source": [
        "# Applying functions"
      ]
    },
    {
      "cell_type": "markdown",
      "metadata": {
        "id": "OJ93mgkZKnrJ"
      },
      "source": [
        "It is possible to iterate over a DataFrame or Series as you would with a list, but doing so — especially on large datasets — is very slow.\n",
        "\n",
        "An efficient alternative is to `apply()` a function to the dataset. For example, we could use a function to convert movies with an 8.0 or greater to a string value of \"good\" and the rest to \"bad\" and use this transformed values to create a new column.\n",
        "\n",
        "First we would create a function that, when given a rating, determines if it's good or bad:"
      ]
    },
    {
      "cell_type": "code",
      "execution_count": null,
      "metadata": {
        "id": "6ZQvnS8d4yhf"
      },
      "outputs": [],
      "source": [
        "movies_df.head()"
      ]
    },
    {
      "cell_type": "code",
      "execution_count": null,
      "metadata": {
        "id": "GoUHlGUXKnrK"
      },
      "outputs": [],
      "source": [
        "def rating_function(x):\n",
        "    if x >= 8.0:\n",
        "        return \"good\"\n",
        "    else:\n",
        "        return \"bad\""
      ]
    },
    {
      "cell_type": "markdown",
      "metadata": {
        "id": "o76ABELeKnrS"
      },
      "source": [
        "Now we want to send the entire rating column through this function, which is what `apply()` does:"
      ]
    },
    {
      "cell_type": "code",
      "execution_count": null,
      "metadata": {
        "id": "vvOASBcbKnrT"
      },
      "outputs": [],
      "source": [
        "movies_df[\"rating_category\"] = movies_df[\"rating\"].apply(rating_function)\n",
        "\n",
        "movies_df.head(2)"
      ]
    },
    {
      "cell_type": "markdown",
      "metadata": {
        "id": "yugSNoguKnrV"
      },
      "source": [
        "The `.apply()` method passes every value in the `rating` column through the `rating_function` and then returns a new Series. This Series is then assigned to a new column called `rating_category`.\n",
        "\n",
        "You can also use anonymous functions as well. This lambda function achieves the same result as `rating_function`:"
      ]
    },
    {
      "cell_type": "code",
      "execution_count": null,
      "metadata": {
        "id": "EoQ8MFjsKnrV"
      },
      "outputs": [],
      "source": [
        "movies_df[\"rating_category\"] = movies_df[\"rating\"].apply(lambda x: 'good' if x >= 8.0 else 'bad')\n",
        "\n",
        "movies_df.head(2)"
      ]
    },
    {
      "cell_type": "markdown",
      "metadata": {
        "id": "ho9QSWbRKnrX"
      },
      "source": [
        "Overall, using `apply()` will be much faster than iterating manually over rows because pandas is utilizing vectorization.\n",
        "\n",
        "> Vectorization: a style of computer programming where operations are applied to whole arrays instead of individual elements —[Wikipedia](https://en.wikipedia.org/wiki/Vectorization)\n",
        "\n",
        "A good example of high usage of `apply()` is during natural language processing (NLP) work. You'll need to apply all sorts of text cleaning functions to strings to prepare for machine learning."
      ]
    },
    {
      "cell_type": "markdown",
      "metadata": {
        "id": "7Ocdq0qNYDjS"
      },
      "source": [
        "# Brief Plotting with Matplotlib"
      ]
    },
    {
      "cell_type": "markdown",
      "metadata": {
        "id": "eSdiJy9UKnrY"
      },
      "source": [
        "Another great thing about pandas is that it integrates with Matplotlib, a popular plotting library, so you get the ability to plot directly off DataFrames and Series."
      ]
    },
    {
      "cell_type": "code",
      "execution_count": null,
      "metadata": {
        "id": "56n2Ks7eKnrZ"
      },
      "outputs": [],
      "source": [
        "import matplotlib.pyplot as plt\n",
        "plt.rcParams.update({'font.size': 20, 'figure.figsize': (20, 10)}) # set font and plot size"
      ]
    },
    {
      "cell_type": "markdown",
      "metadata": {
        "id": "O2HR35vKKnrb"
      },
      "source": [
        "Now we can begin. There won't be a lot of coverage on plotting, but it should be enough to explore you're data easily.\n",
        "\n",
        "**Side note:**\n",
        "For categorical variables utilize Bar Charts and Boxplots.  For continuous variables utilize Histograms, Scatterplots, Line graphs, and Boxplots.\n",
        "\n",
        "Let's plot the relationship between ratings and revenue. All we need to do is call `.plot()` on `movies_df` with some info about how to construct the plot:"
      ]
    },
    {
      "cell_type": "code",
      "execution_count": null,
      "metadata": {
        "id": "8xqZhxOUKnrd"
      },
      "outputs": [],
      "source": [
        "movies_df.plot(kind='scatter', x='rating', y='revenue_millions', title='Revenue (millions) vs Rating');"
      ]
    },
    {
      "cell_type": "markdown",
      "metadata": {
        "id": "tcsxLD73Knrg"
      },
      "source": [
        "What's with the semicolon? It's not a typo, just a way to hide the `<matplotlib.axes._subplots.AxesSubplot at 0x26613b5cc18>` output when plotting in Jupyter notebook environments.\n",
        "\n",
        "If we want to plot a simple Histogram based on a single column, we can call plot on a column:"
      ]
    },
    {
      "cell_type": "code",
      "execution_count": null,
      "metadata": {
        "id": "yT4V925CKnrh"
      },
      "outputs": [],
      "source": [
        "movies_df['rating'].plot(kind='hist', title='Rating');"
      ]
    },
    {
      "cell_type": "markdown",
      "metadata": {
        "id": "uS5dvRPoKnrj"
      },
      "source": [
        "Do you remember the `.describe()` example at the beginning of this lecture? Well, there's a graphical representation of the interquartile range, called the Boxplot. Let's recall what `describe()` gives us on the ratings column:"
      ]
    },
    {
      "cell_type": "code",
      "execution_count": null,
      "metadata": {
        "id": "k2PvRMt3Knrj"
      },
      "outputs": [],
      "source": [
        "movies_df['rating'].describe()"
      ]
    },
    {
      "cell_type": "markdown",
      "metadata": {
        "id": "kMTLhQgSKnrl"
      },
      "source": [
        "Using a Boxplot we can visualize this data:"
      ]
    },
    {
      "cell_type": "code",
      "execution_count": null,
      "metadata": {
        "id": "qOMzg__OKnrl"
      },
      "outputs": [],
      "source": [
        "movies_df['rating'].plot(kind=\"box\");"
      ]
    },
    {
      "cell_type": "markdown",
      "metadata": {
        "id": "CplE-HhgKnrr"
      },
      "source": [
        "Here is how to read a Boxplot:\n",
        "\n",
        "<figure>\n",
        "<img src=\"https://i1.wp.com/flowingdata.com/wp-content/uploads/2008/02/box-plot-explained.gif\" />\n",
        "    <figcaption>Source: *Flowing Data*</figcaption>\n",
        "</figure>\n",
        "\n",
        "\n",
        "By combining categorical and continuous data, we can create a Boxplot of revenue that is grouped by the Rating Category we created above:"
      ]
    },
    {
      "cell_type": "code",
      "execution_count": null,
      "metadata": {
        "id": "7M7MiqZ0Knrs"
      },
      "outputs": [],
      "source": [
        "movies_df.boxplot(column='revenue_millions', by='rating_category');"
      ]
    },
    {
      "cell_type": "markdown",
      "metadata": {
        "id": "FxplPiK5Knrx"
      },
      "source": [
        "That's the general idea of plotting with pandas. There's too many plots to mention, so definitely take a look at the `plot()` [docs here](https://pandas.pydata.org/pandas-docs/stable/generated/pandas.DataFrame.plot.html) for more information on what it can do."
      ]
    },
    {
      "cell_type": "markdown",
      "metadata": {
        "id": "hpDN2-xRoPqO"
      },
      "source": [
        "# Exercise: Make an Adjusted Rating Column, plot the difference"
      ]
    },
    {
      "cell_type": "markdown",
      "metadata": {
        "id": "efzKkAOPoZW7"
      },
      "source": [
        "In the imdb data that we've been looking at, the rating is just the mean score. But some movies have many more votes than others, and this should lend more \"weight\" to their rating.  \n",
        "\n",
        "A good adjusted scoring rule is:\n",
        "```\n",
        " rating_adjusted = rating - (rating - 5)*2**(-log10(votes+1))\n",
        "```\n",
        "(note: to implement this, we can use `np.log10()` )\n",
        "\n",
        "Make a new column called 'rating_adjusted' to implement this. Then, make a scatter plot of (rating_adjusted - rating) vs  rating.\n",
        "\n",
        "note: it's okay if you want to make a column `rating_delta = rating_adjusted - rating`.\n",
        "\n",
        "Now calculate the `rating_delta` and `rating_adjusted` and make a scatterplot with `rating` on the x-axis and `rating_delta` or `rating_adjusted` on the y-axis."
      ]
    },
    {
      "cell_type": "code",
      "execution_count": null,
      "metadata": {
        "id": "FUgRBeY8GqYW"
      },
      "outputs": [],
      "source": [
        "# Write your code here\n"
      ]
    },
    {
      "cell_type": "markdown",
      "metadata": {
        "id": "trtHRe-EGdZd"
      },
      "source": [
        "## Solution: Don't look at this until you've tried it! (You might have to do this on the final!)"
      ]
    },
    {
      "cell_type": "code",
      "execution_count": null,
      "metadata": {
        "id": "MykjKGxkryMc"
      },
      "outputs": [],
      "source": [
        "# Write your code here\n",
        "movies_df.head()\n",
        "\n",
        "# Solution using apply:\n",
        "movies_df['rating_adjusted'] = movies_df.apply(lambda row: row['rating']-(row['rating']-5)*2**(-np.log10(row['votes']+1)),axis=1)\n",
        "\n",
        "# Solution w/o using apply (better):\n",
        "movies_df['rating_adjusted'] = movies_df.rating - (movies_df.rating-5)*2**(-np.log10(movies_df.votes+1))\n",
        "movies_df['rating_delta'] = movies_df.rating_adjusted - movies_df.rating\n",
        "movies_df.plot(kind='scatter',x='rating',y='rating_delta',figsize=(20,10));"
      ]
    },
    {
      "cell_type": "markdown",
      "metadata": {
        "id": "DrGsjfv40g-x"
      },
      "source": [
        "# Exercise: Plot of Revenue vs Adjusted Rating for only one Genre"
      ]
    },
    {
      "cell_type": "markdown",
      "metadata": {
        "id": "yp-No7dQnALk"
      },
      "source": [
        "\n",
        "\n",
        "Using the `movies_df` DataFrame, write a function that will plot the scatterplot of Revenue vs Metascore for only one Genre.\n",
        "\n",
        "Your function should:\n",
        "- have an input argument that is a string of the Genre, e.g., 'Horror'\n",
        "\n",
        "\n",
        "Note that the an entry in the genre column contains a comma-separated list of different genres that a movie belongs to:"
      ]
    },
    {
      "cell_type": "code",
      "execution_count": null,
      "metadata": {
        "id": "ll-oGp9krW1m"
      },
      "outputs": [],
      "source": [
        "movies_df.genre[1:10]"
      ]
    },
    {
      "cell_type": "markdown",
      "metadata": {
        "id": "YIttaza8rd7X"
      },
      "source": [
        "However, we can get all the individual unique genres by using Pandas built in string operations on a series:"
      ]
    },
    {
      "cell_type": "code",
      "execution_count": null,
      "metadata": {
        "id": "Ae-XRHlGoB74"
      },
      "outputs": [],
      "source": [
        "import numpy as np\n",
        "allGenresConcatenated = movies_df.genre.str.cat(sep=',') # This will return a string by concatenating all the strings in each row of genre, separating them with a ',' \n",
        "allGenres=np.unique(allGenresConcatenated.split(',')) # This will split the string so that we have a list and then use numpy's unique() to get only the unique elements of the list\n",
        "allGenres"
      ]
    },
    {
      "cell_type": "markdown",
      "metadata": {
        "id": "Sjt9wEtysE5c"
      },
      "source": [
        "You may find the following string method of dataframes useful:\n",
        "- If a dataframe `df` has a string columm, `stringCol`, then the method\n",
        " - `df.stringCol.str.contains(someString)` will return `True` if someString is a substring within a value of stringCol.\n",
        "\n",
        "Your goal is to define a function that will return a plot object. The function should make a scatter plot of `rating_adjusted` on the x-axis and `revenue_millions` on the y-axis.\n",
        "\n"
      ]
    },
    {
      "cell_type": "code",
      "execution_count": null,
      "metadata": {
        "id": "x90ZQ9l0IGjZ"
      },
      "outputs": [],
      "source": [
        "# Define your function here\n",
        "def plot_rev_vs_rating_adj(genreName):\n",
        "  plot = # fill in your code here with plot = movies_df[SOMETHING].plot(SOMETHING)\n",
        "  plot.set_title(genreName) \n",
        "  return plot\n",
        "\n",
        "# Run your function for the genre's 'Horror' and 'Action'\n",
        "plot = plot_rev_vs_rating_adj('Horror')\n",
        "plot = plot_rev_vs_rating_adj('Action')"
      ]
    },
    {
      "cell_type": "markdown",
      "metadata": {
        "id": "pR1xchFRJisF"
      },
      "source": [
        "## Solution: Don't look at this until you've tried it!"
      ]
    },
    {
      "cell_type": "code",
      "execution_count": null,
      "metadata": {
        "id": "h9c0NaLhszQb"
      },
      "outputs": [],
      "source": [
        "def plot_rev_vs_rating_adj(genreName):\n",
        "  plot = movies_df[movies_df.genre.str.contains(genreName)].plot(kind='scatter',x='rating_adjusted',y='revenue_millions')\n",
        "  plot.set_title(genreName)\n",
        "  return plot\n",
        "\n",
        "plot=plot_rev_vs_rating_adj('Horror')\n",
        "plot=plot_rev_vs_rating_adj('Action')"
      ]
    },
    {
      "cell_type": "markdown",
      "metadata": {
        "id": "LHD7IBw2VD8H"
      },
      "source": [
        "It would be nice if we could make a boxplot of the distribution of revenue across all genres in the same plot... we'll come back to this later, when we've learned some more tools to help us do this."
      ]
    },
    {
      "cell_type": "markdown",
      "metadata": {
        "id": "ZhowOewtjZW2"
      },
      "source": [
        "# Indexing Series and DataFrames"
      ]
    },
    {
      "cell_type": "markdown",
      "metadata": {
        "id": "oK-3DhbiStkE"
      },
      "source": [
        "You can access a given column of a DataFrame two ways:"
      ]
    },
    {
      "cell_type": "code",
      "execution_count": null,
      "metadata": {
        "id": "v7o9l7TXRbZ1"
      },
      "outputs": [],
      "source": [
        "movies_df.genre # property-style column access"
      ]
    },
    {
      "cell_type": "code",
      "execution_count": null,
      "metadata": {
        "id": "qCvdbonCS1XY"
      },
      "outputs": [],
      "source": [
        "movies_df['genre'] # dictionary-style column access"
      ]
    },
    {
      "cell_type": "markdown",
      "metadata": {
        "id": "hSzIyJ1FQk8V"
      },
      "source": [
        "You can slice elements of a DataFrame using its index:"
      ]
    },
    {
      "cell_type": "code",
      "execution_count": null,
      "metadata": {
        "id": "WnqwnXF8Qvwx"
      },
      "outputs": [],
      "source": [
        "movies_df['Prometheus':'Suicide Squad']"
      ]
    },
    {
      "cell_type": "markdown",
      "metadata": {
        "id": "DzzxeKZpVGDp"
      },
      "source": [
        "Notice that we can't get the row of a DataFrame by specifying an index value:"
      ]
    },
    {
      "cell_type": "code",
      "execution_count": null,
      "metadata": {
        "id": "07_8JXLEVO0Q"
      },
      "outputs": [],
      "source": [
        "movies_df['Prometheus'] # this will throw a key error, because dictionary-style access of a dataframe is keyed on column names"
      ]
    },
    {
      "cell_type": "markdown",
      "metadata": {
        "id": "NmGWRT7PVWSA"
      },
      "source": [
        "We'll see soon how to access a row of a DataFrame based on the index value using `.loc[]`."
      ]
    },
    {
      "cell_type": "markdown",
      "metadata": {
        "id": "sTlS-j_OTGrC"
      },
      "source": [
        "You can also combine these with slicing"
      ]
    },
    {
      "cell_type": "code",
      "execution_count": null,
      "metadata": {
        "id": "Rs_VVaOtTAax"
      },
      "outputs": [],
      "source": [
        "movies_df.genre['Prometheus':'Suicide Squad'] # slice a Series using the DataFrame explicit index"
      ]
    },
    {
      "cell_type": "code",
      "execution_count": null,
      "metadata": {
        "id": "o08kOjTdTlhb"
      },
      "outputs": [],
      "source": [
        "movies_df.genre[1:5] # slice a Series using the implicit row index"
      ]
    },
    {
      "cell_type": "markdown",
      "metadata": {
        "id": "1NJAgVOhP3Q9"
      },
      "source": [
        "### Implicit and Explicit Indexes with `.loc[]` and `iloc[]`"
      ]
    },
    {
      "cell_type": "markdown",
      "metadata": {
        "id": "3Wb4ppfijcAz"
      },
      "source": [
        "As we just learned, you can set an Index for DataFrames and Series (columns of DataFrames). And you can use the row numbers (instead of the index defined) to access or slice a Series (column) as well.\n",
        "\n",
        "Using the row numbers for access is referred to as *implicit* indexing. While using the DataFrame's defined index is referred to as *explicit* indexing.\n",
        "\n",
        "\n",
        "There is one case where things can get confusing, which is when the explicit index has integer values. \n",
        "\n",
        "Let me show you why with an example: "
      ]
    },
    {
      "cell_type": "code",
      "execution_count": null,
      "metadata": {
        "id": "OfCiOWHUTL8a"
      },
      "outputs": [],
      "source": [
        "data = pd.Series(['a', 'b', 'c','d'], index=[1, 3, 5,7])\n",
        "data"
      ]
    },
    {
      "cell_type": "markdown",
      "metadata": {
        "id": "lnxNBFDFThu8"
      },
      "source": [
        "We can always use a slicing operation (with ``:``) to get a range of the rows:"
      ]
    },
    {
      "cell_type": "code",
      "execution_count": null,
      "metadata": {
        "id": "3NevrmHqTY1M"
      },
      "outputs": [],
      "source": [
        "data[2:4] # this will return a slice of the 2nd and 3rd rows using the implicit row index"
      ]
    },
    {
      "cell_type": "markdown",
      "metadata": {
        "id": "tVascMSaT4SY"
      },
      "source": [
        "But if we ask for a single row with `[]` it will use our explicit index:"
      ]
    },
    {
      "cell_type": "code",
      "execution_count": null,
      "metadata": {
        "id": "TtdYjgGBUBve"
      },
      "outputs": [],
      "source": [
        "data[3] # explicit index"
      ]
    },
    {
      "cell_type": "code",
      "execution_count": null,
      "metadata": {
        "id": "j1LRvj_ZUEEG"
      },
      "outputs": [],
      "source": [
        "data[4] # this will throw a key error, because our data doesn't have a row index of 4 with our explicit (pandas) index  "
      ]
    },
    {
      "cell_type": "markdown",
      "metadata": {
        "id": "Ph7Yim4zTUCo"
      },
      "source": [
        "To avoid this implicit vs explicit indexing confusion, Pandas has two special indexer attributes: \n",
        "- `.loc[]` to access the explicit index (the pandas one that we defined)\n",
        "- `.iloc[]` to access the implicit index (the python-style one, as with lists)\n",
        "\n",
        "This allows us to access elements by implicit or explicit index and to slice by index or explicit indexing:"
      ]
    },
    {
      "cell_type": "code",
      "execution_count": null,
      "metadata": {},
      "outputs": [],
      "source": [
        "data"
      ]
    },
    {
      "cell_type": "code",
      "execution_count": null,
      "metadata": {
        "id": "B3zDxrDwVJNs"
      },
      "outputs": [],
      "source": [
        "data.iloc[2:4] # this is the python implicit style, so it will return rows 2 and 3"
      ]
    },
    {
      "cell_type": "code",
      "execution_count": null,
      "metadata": {
        "id": "Fu9nXj9uVL4Y"
      },
      "outputs": [],
      "source": [
        "data.loc[1:5] # this is the explicit pandas style index, so it will return rows with index 1,3,5\n"
      ]
    },
    {
      "cell_type": "markdown",
      "metadata": {
        "id": "myP6M8h1WB1w"
      },
      "source": [
        "ASIDE: It's a bit funny that slicing with explicit indexing includes the last element of the range specified (``data.loc[1:5]`` includes 5), while slicing with implicit does not (``data.iloc[2:4]`` doesn't include 4). It is defined this way in order for `iloc[]` to be consistent with the way Python usually indexes collections.\n",
        "\n",
        "IMPORTANT: Its good practice to always use `.loc[]` and `.iloc[]` instead of just `[]` whenever possible, to avoid confusion."
      ]
    },
    {
      "cell_type": "markdown",
      "metadata": {
        "id": "xgOfy_SoUs56"
      },
      "source": [
        "Another advantage of the `.loc[]` indexer is that it allows us to select a row (or a slice of a row) from a DataFrame with the index:"
      ]
    },
    {
      "cell_type": "code",
      "execution_count": null,
      "metadata": {
        "id": "MoKyoQOyUtox"
      },
      "outputs": [],
      "source": [
        "movies_df.loc['Prometheus'] # Get one row"
      ]
    },
    {
      "cell_type": "code",
      "execution_count": null,
      "metadata": {
        "id": "wBLC5vdSmIzg"
      },
      "outputs": [],
      "source": [
        "movies_df.loc['Prometheus':'Sing'] # Get a slice"
      ]
    },
    {
      "cell_type": "markdown",
      "metadata": {
        "id": "T5UlWCjBV6u_"
      },
      "source": [
        "So we could then do things like this:"
      ]
    },
    {
      "cell_type": "code",
      "execution_count": null,
      "metadata": {
        "id": "m65Q4x_5V9Xt"
      },
      "outputs": [],
      "source": [
        "movies_df.loc['Prometheus'].Genre"
      ]
    },
    {
      "cell_type": "markdown",
      "metadata": {
        "id": "zlk1CKbnWFTR"
      },
      "source": [
        "### MultiIndexes \n",
        "\n"
      ]
    },
    {
      "cell_type": "markdown",
      "metadata": {
        "id": "OhJljxL-WIP7"
      },
      "source": [
        "There are many occasions where the nature of the data we are analyzing would require rows that relate to more than one index.  For example, consider the case where we want to track the populations metrics of US states across different years. \n",
        "\n",
        "We might have data like this:\n",
        "```\n",
        "                    Population\n",
        "California  2000    33871648\n",
        "            2010    37253956\n",
        "New York    2000    18976457\n",
        "            2010    19378102\n",
        "Texas       2000    20851820\n",
        "            2010    25145561\n",
        "```\n",
        "\n",
        "To create a Series that handles this type of data appropriately, we would use a ``MultiIndex``:"
      ]
    },
    {
      "cell_type": "code",
      "execution_count": null,
      "metadata": {
        "id": "x7A_ScyXWHWj"
      },
      "outputs": [],
      "source": [
        "pop_series=pd.Series([33871648,37253956,18976457,19378102,20851820,25145561],\n",
        "                    index=pd.MultiIndex(\n",
        "                        levels=[['California', 'New York', 'Texas'], [2000, 2010]],\n",
        "                        names=['state','year'],\n",
        "                        codes=[[0, 0, 1, 1, 2, 2], [0, 1, 0, 1, 0, 1]]) # notice how codes are used to link the same state or same year\n",
        "                    )\n",
        "pop_series"
      ]
    },
    {
      "cell_type": "markdown",
      "metadata": {
        "id": "BjBaQy_UZX3t"
      },
      "source": [
        "We could have stored this data using a DataFrame instead of as a Series with a MultiIndex, like this:"
      ]
    },
    {
      "cell_type": "code",
      "execution_count": null,
      "metadata": {
        "id": "rcu6FhoaZexV"
      },
      "outputs": [],
      "source": [
        "pop_df=pd.DataFrame({'2000':[33871648,18976457,20851820], '2010':[37253956,19378102,25145561]},\n",
        "                    index=['California', 'New York', 'Texas'])\n",
        "pop_df"
      ]
    },
    {
      "cell_type": "markdown",
      "metadata": {
        "id": "nORughAVamDI"
      },
      "source": [
        "However, what if we wanted to store more than just one dimension of population metrics in our DataFrame? Then we would need a MultiIndex.\n",
        "\n",
        "For example:"
      ]
    },
    {
      "cell_type": "code",
      "execution_count": null,
      "metadata": {
        "id": "_f6yNogLatL2"
      },
      "outputs": [],
      "source": [
        "pop_df = pd.DataFrame({'total': pop_series,\n",
        "                       'under18': [9267089, 9284094,\n",
        "                                   4687374, 4318033,\n",
        "                                   5906301, 6879014]})\n",
        "pop_df"
      ]
    },
    {
      "cell_type": "markdown",
      "metadata": {
        "id": "knszXyyXa_5U"
      },
      "source": [
        "Pandas allows us to \"stack\" and \"unstack\" a MultiIndex using the `.stack()` and `.unstack()` methods (we'll talk more about this later):"
      ]
    },
    {
      "cell_type": "code",
      "execution_count": null,
      "metadata": {
        "id": "RdIBRMwRMLpq"
      },
      "outputs": [],
      "source": [
        "pop_df"
      ]
    },
    {
      "cell_type": "code",
      "execution_count": null,
      "metadata": {
        "id": "rbHC3TRVbQup"
      },
      "outputs": [],
      "source": [
        "pop_total_df=pop_df.total.unstack()\n",
        "pop_total_df"
      ]
    },
    {
      "cell_type": "markdown",
      "metadata": {
        "id": "NDCNDlYkMWz7"
      },
      "source": [
        "Notice that we've lost the \"total\" title when we did this."
      ]
    },
    {
      "cell_type": "code",
      "execution_count": null,
      "metadata": {
        "id": "yNWgoZ-FbVih"
      },
      "outputs": [],
      "source": [
        "pop_under18_df=pop_df.under18.unstack()\n",
        "pop_under18_df"
      ]
    },
    {
      "cell_type": "markdown",
      "metadata": {
        "id": "02OtphFMbk7t"
      },
      "source": [
        "And of course we can stack it back again, like this:"
      ]
    },
    {
      "cell_type": "code",
      "execution_count": null,
      "metadata": {
        "id": "FVD8ZYn4bn41"
      },
      "outputs": [],
      "source": [
        "pop_under18_df.stack()"
      ]
    },
    {
      "cell_type": "markdown",
      "metadata": {
        "id": "Mnn-WoNYbtbh"
      },
      "source": [
        "though notice that the column name is lost when we do this, so we would have to set it again if we wanted to.  \n",
        "\n",
        "Also notice that `.stack()` returned a series, since we only had one column."
      ]
    },
    {
      "cell_type": "code",
      "execution_count": null,
      "metadata": {
        "id": "N0khPbspdXpL"
      },
      "outputs": [],
      "source": [
        "type(pop_under18_df.stack())"
      ]
    },
    {
      "cell_type": "markdown",
      "metadata": {
        "id": "q866cQsKfHkp"
      },
      "source": [
        "### Working with MultiIndexed DataFrames"
      ]
    },
    {
      "cell_type": "markdown",
      "metadata": {
        "id": "I6wC54-DfUxy"
      },
      "source": [
        "When we have a MultiIndexed Series or DataFrame, we can access an element or row like this:"
      ]
    },
    {
      "cell_type": "code",
      "execution_count": null,
      "metadata": {
        "id": "btIoRdsRMvxZ"
      },
      "outputs": [],
      "source": [
        "pop_series"
      ]
    },
    {
      "cell_type": "code",
      "execution_count": null,
      "metadata": {
        "id": "VZhccVajfpy-"
      },
      "outputs": [],
      "source": [
        "pop_series.loc['California',2000]"
      ]
    },
    {
      "cell_type": "code",
      "execution_count": null,
      "metadata": {
        "id": "hkEQM3teM3op"
      },
      "outputs": [],
      "source": [
        "pop_df"
      ]
    },
    {
      "cell_type": "code",
      "execution_count": null,
      "metadata": {
        "id": "ii55bekqh_yS"
      },
      "outputs": [],
      "source": [
        "pop_df.loc['California',2000]"
      ]
    },
    {
      "cell_type": "markdown",
      "metadata": {
        "id": "0z-hf7Psf-Ow"
      },
      "source": [
        "or even slice it, provide that the MultiIndex is sorted (see the pandas documentation for  [sort_index](https://pandas.pydata.org/pandas-docs/stable/reference/api/pandas.DataFrame.sort_index.html#pandas-dataframe-sort-index)):"
      ]
    },
    {
      "cell_type": "code",
      "execution_count": null,
      "metadata": {
        "id": "Q-O32V5qgATq"
      },
      "outputs": [],
      "source": [
        "pop_series.loc['California':'New York']"
      ]
    },
    {
      "cell_type": "code",
      "execution_count": null,
      "metadata": {
        "id": "MBrqAa6zggNV"
      },
      "outputs": [],
      "source": [
        "pop_series.loc['California':'New York',2000] "
      ]
    },
    {
      "cell_type": "markdown",
      "metadata": {
        "id": "b_91wI3ShHEB"
      },
      "source": [
        "Other types of indexing also works with MultiIndexes, such as boolean masks:"
      ]
    },
    {
      "cell_type": "code",
      "execution_count": null,
      "metadata": {
        "id": "VTw47KUrhLBk"
      },
      "outputs": [],
      "source": [
        "pop_series.loc[pop_series>22000000]"
      ]
    },
    {
      "cell_type": "markdown",
      "metadata": {
        "id": "Mgxl-MQchSxA"
      },
      "source": [
        "Or even fancy indexing:"
      ]
    },
    {
      "cell_type": "code",
      "execution_count": null,
      "metadata": {
        "id": "_j0RaBbKhU-U"
      },
      "outputs": [],
      "source": [
        "pop_series.loc[['California','Texas'],2000]"
      ]
    },
    {
      "cell_type": "markdown",
      "metadata": {
        "id": "gOKXMJBCU_qF"
      },
      "source": [
        "# Reference: Pandas Cheat Sheet\n",
        "\n",
        "Here is a very useful [Pandas Cheat Sheet](https://pandas.pydata.org/Pandas_Cheat_Sheet.pdf) that you will want to reference until you get comfortable working with Pandas.\n"
      ]
    }
  ],
  "metadata": {
    "colab": {
      "collapsed_sections": [
        "qvTecanMe46Q",
        "u3GUWHlBKnkr",
        "0tSEwOAuLPkh",
        "oNOWs_wyLV8I",
        "lzdV9m1YOGJE",
        "2d0cysIBlFpX",
        "liYk79MN9VOT",
        "QwPNQU3iP9NX",
        "icDIyFyTKnmr",
        "CMtzYY15UOkE",
        "I8ANw4ehU6c_",
        "0XDB_Tt0Knnn",
        "103xl_8p-XFh",
        "V7Zd1WrpOH4j",
        "tifHnbMvwzBo",
        "Ax9jhXIYw58Y",
        "l1D7xOU6KnoG",
        "Lpi_22UpxSRK",
        "6rq5fAWOL_Jx",
        "yhWp-ZnNxuHm",
        "n7TVWX_x7SXx",
        "ubArpkthX9bh",
        "7Ocdq0qNYDjS",
        "hpDN2-xRoPqO",
        "trtHRe-EGdZd",
        "DrGsjfv40g-x",
        "pR1xchFRJisF",
        "ZhowOewtjZW2",
        "1NJAgVOhP3Q9",
        "zlk1CKbnWFTR",
        "q866cQsKfHkp",
        "m6BcgofkhVTb",
        "7EVoKfb8WJVU",
        "ow--Rj5v0v7B",
        "gOKXMJBCU_qF"
      ],
      "name": "BA865 - Lecture 04.ipynb",
      "private_outputs": true,
      "provenance": []
    },
    "interpreter": {
      "hash": "82c7291e38b74b071fa4ec1726e805bc06f8b2e8b468136f7f887f7861bda7b9"
    },
    "kernelspec": {
      "display_name": "Python 3.7.9 64-bit ('SUSHI': conda)",
      "name": "python3"
    },
    "language_info": {
      "codemirror_mode": {
        "name": "ipython",
        "version": 3
      },
      "file_extension": ".py",
      "mimetype": "text/x-python",
      "name": "python",
      "nbconvert_exporter": "python",
      "pygments_lexer": "ipython3",
      "version": "3.10.11"
    }
  },
  "nbformat": 4,
  "nbformat_minor": 2
}
