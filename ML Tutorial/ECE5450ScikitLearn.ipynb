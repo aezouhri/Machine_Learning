{
  "cells": [
    {
      "cell_type": "markdown",
      "metadata": {},
      "source": [
        "# ECE:5450 Scikit-Learn Tutorial"
      ]
    },
    {
      "cell_type": "markdown",
      "metadata": {
        "id": "swByiBfML8m_"
      },
      "source": [
        "# Code Preface"
      ]
    },
    {
      "cell_type": "code",
      "execution_count": 1,
      "metadata": {
        "id": "kTfOe5Ymb_Zn"
      },
      "outputs": [],
      "source": [
        "import sklearn\n",
        "import pandas as pd\n",
        "import numpy as np\n",
        "import matplotlib.pyplot as plt"
      ]
    },
    {
      "cell_type": "markdown",
      "metadata": {
        "id": "mvfQRYqvb_Z5"
      },
      "source": [
        "# scikit-learn: Machine Learning in Python"
      ]
    },
    {
      "cell_type": "markdown",
      "metadata": {
        "id": "AVV6S587b_Z_"
      },
      "source": [
        "<img src=\"https://drive.google.com/uc?id=19uME3dIsvBDOtVg5eDeIN7tmLLiRpjwx\" width=300>\n",
        "\n",
        "\n",
        "Scikit Learn (sklearn for short) is a machine learning library in Python that provides access to many common [ML algorithms](https://scikit-learn.org/stable/index.html). You've already seen supervised and unsupervised ML algorithms. So in this lecture, we'll focus on the basics of the sklearn APIs.  \"scikit\" refers to \"scipy toolkit\". \n",
        "\n",
        "The six main categories of scikit-learn algorithms are:\n",
        "* Regression\n",
        "* Classification\n",
        "* Clustering\n",
        "* Dimensionality reduction\n",
        "* Model selection\n",
        "* Preprocessing\n",
        "\n",
        "Data (features and targets) is passed into sklearn algorithms typically as Pandas dataframes or numpy arrays or even python lists. \n",
        "\n",
        "\n",
        "We'll start by talking about the Estimator API\n"
      ]
    },
    {
      "cell_type": "markdown",
      "metadata": {
        "id": "9nJTFOYlb_aH"
      },
      "source": [
        "## Estimators"
      ]
    },
    {
      "cell_type": "markdown",
      "metadata": {
        "id": "f3i2SEe6b_aN"
      },
      "source": [
        "In scikit-learn, a machine learning model is called as **Estimator**.\n",
        "\n",
        "Each **Estimator** is a Python `class` and has a form like this:\n",
        "\n",
        "```python\n",
        "class estimator():\n",
        "    def __init__(self, data):\n",
        "        self.data = data\n",
        "    def fit():\n",
        "        # do some calculations with self.data\n",
        "```\n",
        "\n",
        "Most commonly, the steps in using the Scikit-Learn Estimator API are as follows:\n",
        "\n",
        "1. Choose a class of model by importing the appropriate estimator class from Scikit-Learn.\n",
        "2. Choose model hyperparameters by instantiating this class with desired values.\n",
        "3. Arrange data into a features matrix and target vector.\n",
        "4. Fit the model to your data by calling the ``fit()`` method of the model instance.\n",
        "5. Apply the Model to new data:\n",
        "   - For supervised learning, often we predict labels for unknown data using the ``predict()`` method.\n",
        "   - For unsupervised learning, we often transform or infer properties of the data using the ``transform()`` or ``predict()`` method.\n",
        "\n"
      ]
    },
    {
      "cell_type": "markdown",
      "metadata": {
        "id": "xyDqKd7jPam8"
      },
      "source": [
        "\n",
        "So if you want to estimate coefficients or learn patterns within data, simply do the following:\n",
        "\n",
        "1. initialize an estimator.\n",
        "2. Fit the estimator with data of your interest.\n",
        "\n",
        "We'll walk through some very common ML algorithms, starting with regression."
      ]
    },
    {
      "cell_type": "markdown",
      "metadata": {
        "id": "3efFIkl6b_aS"
      },
      "source": [
        "## Regression : Linear Regression - Ordinary Least Squares (OLS)"
      ]
    },
    {
      "cell_type": "markdown",
      "metadata": {
        "id": "V2TON8pjb_aU"
      },
      "source": [
        "You should all be familiar with the concept of regression. For Ordinary Least Squares regression, a model is written as:\n",
        "\n",
        "$\\hat{y} = w_0 + w_1 x_1 + w_2 x_2 + ... + w_p x_p$\n",
        "\n",
        "where $\\hat{y}$ is the target and $x_i$ are a set of features. Learning the model is all about finding a set of weights $w_i$ that minimizes: \n",
        "\n",
        "$\\sum{(y-Xw)^2}$\n",
        "\n",
        "To accomplish this in sklearn, we'll start by importing `linear_model` and initializing it:"
      ]
    },
    {
      "cell_type": "code",
      "execution_count": 2,
      "metadata": {
        "id": "50xyPomib_aY"
      },
      "outputs": [],
      "source": [
        "# initialize a linear model estimator\n",
        "from sklearn import linear_model\n",
        "lm = linear_model.LinearRegression()"
      ]
    },
    {
      "cell_type": "markdown",
      "metadata": {
        "id": "-FVlKQ6Yb_aj"
      },
      "source": [
        "`LinearRegression` accepts two inputs X and Y.\n",
        "\n",
        "Their formats should be organized as below.\n",
        "\n",
        "X = $[[x_{11}, x_{12}], [x_{21}, x_{22}], [x_{31},x_{32}]]$\n",
        "\n",
        "y = $[y_{1}, y_{2}, y_{3}]$"
      ]
    },
    {
      "cell_type": "markdown",
      "metadata": {
        "id": "M31wxlV5b_ao"
      },
      "source": [
        "In case that $x_i$ has only one value, let $X = [[x_{11}], [x_{21}], [x_{31}]]$.\n",
        "\n",
        "So, if you want to estimate a linear model for the data $X=[1,2,3,4,5]$ and $y=[0,2,4,1,4]$, you should change the format of X as $[[1], [2], [3], [4], [5]]$. "
      ]
    },
    {
      "cell_type": "code",
      "execution_count": 3,
      "metadata": {
        "id": "3pg_t03Fb_ar"
      },
      "outputs": [
        {
          "data": {
            "image/png": "[encoded data removed]",
            "text/plain": [
              "<Figure size 640x480 with 1 Axes>"
            ]
          },
          "metadata": {},
          "output_type": "display_data"
        }
      ],
      "source": [
        "X = [[1], [2], [3], [4], [5]]\n",
        "y = [0,2,4,1,4]\n",
        "plt.scatter(X, y);"
      ]
    },
    {
      "cell_type": "markdown",
      "metadata": {
        "id": "rz8cak8zb_a0"
      },
      "source": [
        "Now fit the estimator `lm`."
      ]
    },
    {
      "cell_type": "code",
      "execution_count": 4,
      "metadata": {
        "id": "9xihWeA-b_a4"
      },
      "outputs": [
        {
          "data": {
            "text/plain": [
              "LinearRegression()"
            ]
          },
          "execution_count": 4,
          "metadata": {},
          "output_type": "execute_result"
        }
      ],
      "source": [
        "lm.fit(X, y)"
      ]
    },
    {
      "cell_type": "markdown",
      "metadata": {
        "id": "imNo2r_eb_a-"
      },
      "source": [
        "Estimated intercept $w_0$ and coefficients $w_i$ are stored in `lm.intercept_` and `lm.coef_` respectively."
      ]
    },
    {
      "cell_type": "code",
      "execution_count": 5,
      "metadata": {
        "id": "2WphayXjb_bA"
      },
      "outputs": [
        {
          "name": "stdout",
          "output_type": "stream",
          "text": [
            "Estimated intercept is 0.09999999999999964 and estimated coefficient is 0.7000000000000002\n"
          ]
        }
      ],
      "source": [
        "print(f'Estimated intercept is {lm.intercept_} and estimated coefficient is {lm.coef_[0]}')"
      ]
    },
    {
      "cell_type": "markdown",
      "metadata": {
        "id": "Mcba9Obzb_bI"
      },
      "source": [
        "The estimated linear model is $Y = 0.1 + 0.7X$.\n",
        "\n",
        "Once we have fitr the model we'll use the model's `predict()` method to get a prediction for new data.\n",
        "\n",
        "For example, if you want to predict a value for $x=10$? &rarr; we can use `lm.predict()`"
      ]
    },
    {
      "cell_type": "code",
      "execution_count": 6,
      "metadata": {
        "id": "GyTqGrdfb_bL"
      },
      "outputs": [
        {
          "data": {
            "text/plain": [
              "array([7.1])"
            ]
          },
          "execution_count": 6,
          "metadata": {},
          "output_type": "execute_result"
        }
      ],
      "source": [
        "lm.predict([[10]]) # be sure that X should be given as two dimensional array"
      ]
    },
    {
      "cell_type": "markdown",
      "metadata": {
        "id": "5o-k1cbub_bT"
      },
      "source": [
        "Lastly, we can use `lm.predict()`, to draw the estimated based on the training data:"
      ]
    },
    {
      "cell_type": "code",
      "execution_count": 7,
      "metadata": {
        "id": "7JHMmMD4b_bV"
      },
      "outputs": [
        {
          "data": {
            "image/png": "[encoded data removed]",
            "text/plain": [
              "<Figure size 640x480 with 1 Axes>"
            ]
          },
          "metadata": {},
          "output_type": "display_data"
        }
      ],
      "source": [
        "y_pred = lm.predict(X)\n",
        "plt.scatter(X, y)\n",
        "plt.plot(X, y_pred, color='red', linestyle='--');"
      ]
    },
    {
      "cell_type": "markdown",
      "metadata": {
        "id": "5idZnEJxb_bd"
      },
      "source": [
        "Remember the rules of scikit-learn. Initialize and fit."
      ]
    },
    {
      "cell_type": "markdown",
      "metadata": {
        "id": "ghZFtG5Tb_bf"
      },
      "source": [
        "## Classification : Support Vector Machine (SVM)"
      ]
    },
    {
      "cell_type": "markdown",
      "metadata": {
        "id": "ii6xOeQUb_bj"
      },
      "source": [
        "A Support Vector Machine (SVM) is a supervised learning model that classifies data points into a set of given classes or labels.\n",
        "\n",
        "SVM finds \"hyperplanes\" (think of the higher dimensional extension of a line dividing two regions of space in two dimension) that maximally divide labels and uses the hyperplanes as classifiers. \n",
        "\n",
        "* For $p$ dimensional vectors, its hyperplane of $(p-1)$ dimensions can separate the vectors into labels.\n",
        "* For example, if each observation has two values, a hyperplane that divides observations is a line (1-dim).\n",
        "* If each observation has three values, a hyperplane is a plane (2-dim).\n",
        "\n",
        "A hyperplane that divides data points can be expressed as $\\overrightarrow{w}$ that satisfies $\\overrightarrow{w}\\overrightarrow{x}-b = c$ where $c$ is a value between two labels."
      ]
    },
    {
      "cell_type": "markdown",
      "metadata": {
        "id": "YoAJhuUDb_bl"
      },
      "source": [
        "### Example"
      ]
    },
    {
      "cell_type": "markdown",
      "metadata": {
        "id": "_RmvBbM3b_bn"
      },
      "source": [
        "To illustrate this, we'll create an artificial dataset by randomly generating samples from two multivariate normal distributions. The \"class\" or \"label\" in this case is the distribution from which it is drawn (in this example, there are two different distributions that we draw points from, so there are two classes)."
      ]
    },
    {
      "cell_type": "code",
      "execution_count": 8,
      "metadata": {
        "id": "5TYXxWxJb_bq"
      },
      "outputs": [],
      "source": [
        "np.random.seed(1) # set the seed, so we all get the same random draws and therefore have the same data.\n",
        "dat1 = np.random.multivariate_normal(mean=[1,1], cov=[[0.3, 0], [0, 0.3]], size=50)\n",
        "dat2 = np.random.multivariate_normal(mean=[2,1.5], cov=[[0.3, 0], [0, 0.3]], size=50)"
      ]
    },
    {
      "cell_type": "code",
      "execution_count": 9,
      "metadata": {
        "id": "Blw0UIeab_bv"
      },
      "outputs": [
        {
          "data": {
            "image/png": "[encoded data removed]",
            "text/plain": [
              "<Figure size 640x480 with 1 Axes>"
            ]
          },
          "metadata": {},
          "output_type": "display_data"
        }
      ],
      "source": [
        "# Visualize the datapoints drawn from these two distributions\n",
        "plt.scatter(dat1[:,0], dat1[:,1]);\n",
        "plt.scatter(dat2[:,0], dat2[:,1]);"
      ]
    },
    {
      "cell_type": "markdown",
      "metadata": {
        "id": "Dp2xLy2Nb_b0"
      },
      "source": [
        "To proceed, we simply follow the steps, starting with:\n",
        "\n",
        "1. Initialize an estimator"
      ]
    },
    {
      "cell_type": "code",
      "execution_count": 10,
      "metadata": {
        "id": "gKA4iFLnb_b3"
      },
      "outputs": [],
      "source": [
        "from sklearn import svm\n",
        "clf = svm.LinearSVC() # There are different types of SVMs, here we'll use a Linear support vector machine"
      ]
    },
    {
      "cell_type": "markdown",
      "metadata": {
        "id": "VRSb9qudb_b_"
      },
      "source": [
        "2. Fit the estimator to the data."
      ]
    },
    {
      "cell_type": "code",
      "execution_count": 11,
      "metadata": {
        "id": "_8PrqkZyb_cA"
      },
      "outputs": [
        {
          "data": {
            "text/plain": [
              "LinearSVC()"
            ]
          },
          "execution_count": 11,
          "metadata": {},
          "output_type": "execute_result"
        }
      ],
      "source": [
        "X = np.concatenate((dat1, dat2))\n",
        "y = [0]*50 + [1]*50 # This is just a quick way to make the labels by repeating the elements of two lists and concatenating them together. \n",
        "clf.fit(X, y)"
      ]
    },
    {
      "cell_type": "markdown",
      "metadata": {
        "id": "MfEdcQ-4SuuT"
      },
      "source": [
        "To see what the model arrived at for the fit, we can print the coefficients:"
      ]
    },
    {
      "cell_type": "code",
      "execution_count": 12,
      "metadata": {
        "id": "KoDf07-eb_cJ"
      },
      "outputs": [
        {
          "name": "stdout",
          "output_type": "stream",
          "text": [
            "[-2.87223291] [[1.29528956 0.66615667]]\n"
          ]
        }
      ],
      "source": [
        "print(clf.intercept_, clf.coef_)"
      ]
    },
    {
      "cell_type": "markdown",
      "metadata": {
        "id": "P78uDG0pb_cS"
      },
      "source": [
        "Thus, the learned classifier is $-2.87 + 1.30x_{1}+0.67x_{2}$.\n",
        "\n",
        "And we can make predictions using this model for new data:"
      ]
    },
    {
      "cell_type": "code",
      "execution_count": 13,
      "metadata": {
        "id": "Sv2mxrlbb_cU"
      },
      "outputs": [],
      "source": [
        "X_pred = np.array([[0.5, 0], [1.5, 3], [3, 2]])\n",
        "y_pred = clf.predict(X_pred)"
      ]
    },
    {
      "cell_type": "markdown",
      "metadata": {
        "id": "RmNBNVDeb_ca"
      },
      "source": [
        "#### Check the results on a plot"
      ]
    },
    {
      "cell_type": "markdown",
      "metadata": {
        "id": "yqgOJV4_TBTP"
      },
      "source": [
        "Let's visualise the results:"
      ]
    },
    {
      "cell_type": "code",
      "execution_count": 14,
      "metadata": {
        "id": "fdrs_uMzb_ch"
      },
      "outputs": [
        {
          "data": {
            "image/png": "[encoded data removed]",
            "text/plain": [
              "<Figure size 640x480 with 1 Axes>"
            ]
          },
          "metadata": {},
          "output_type": "display_data"
        }
      ],
      "source": [
        "plt.scatter(dat1[:,0], dat1[:,1], alpha=0.2);\n",
        "plt.scatter(dat2[:,0], dat2[:,1], alpha=0.2);\n",
        "\n",
        "X_tmp = np.arange(0.5, 2.5, 0.1) # generate tickpoints along the x axis, so we can use them to draw the estimated line\n",
        "SVM_line = 1/clf.coef_[0][1]*(-clf.intercept_[0] - clf.coef_[0][0]*X_tmp) # get the dividing line\n",
        "plt.plot(X_tmp, SVM_line, color='gray', linestyle='--', label='SVM');\n",
        "\n",
        "\n",
        "plt.scatter(X_pred[:,0], X_pred[:,1], marker='s', s=100, \n",
        "            color = ['tab:blue' if pred==0 else 'tab:orange' for pred in y_pred], label='Predicted'); # plot the predicted data for our three new datapoints\n",
        "\n",
        "plt.legend();"
      ]
    },
    {
      "cell_type": "markdown",
      "metadata": {
        "id": "fRExyPGEb_co"
      },
      "source": [
        "### Example: Let's build a SVM classifier that predicts who survived the Titanic"
      ]
    },
    {
      "cell_type": "markdown",
      "metadata": {
        "id": "kWChR1-Db_cq"
      },
      "source": [
        "We'll start by looking at some data on who survived the titanic. The full dataset is included as part of the `seaborn` package, but we'll use a version that I've reduced and cleaned up a bit:"
      ]
    },
    {
      "cell_type": "markdown",
      "metadata": {
        "id": "tfAaLpMbb_c0"
      },
      "source": [
        "We'll build a model using the pclass (passenger class), sex, age, and fare (the fair they paid) to try to predict survived (whether the passenger survived)."
      ]
    },
    {
      "cell_type": "markdown",
      "metadata": {
        "id": "R6h03xHNb_dM"
      },
      "source": [
        "First, we'll initiate an SVM model. Unlike the previous example, we'll use the SVC type that provides some advanced kernels. I won't talk about these in detail, though you can read about SVM kernels [here](https://data-flair.training/blogs/svm-kernel-functions/), except to say that nonlinear kernels permit finding divisions in the data beyond a simple line dividing the space."
      ]
    },
    {
      "cell_type": "code",
      "execution_count": 15,
      "metadata": {
        "id": "YsEkAsNsb_dO"
      },
      "outputs": [
        {
          "data": {
            "text/plain": [
              "SVC(gamma='auto', random_state=0)"
            ]
          },
          "execution_count": 15,
          "metadata": {},
          "output_type": "execute_result"
        }
      ],
      "source": [
        "from sklearn import svm\n",
        "clf = svm.SVC(gamma='auto', random_state=0) # SVC covers not only linear kernel as LinearSVC but also nonlinear kernels\n",
        "clf.fit(X, y)"
      ]
    },
    {
      "cell_type": "markdown",
      "metadata": {
        "id": "Wd2qqqk1YzQR"
      },
      "source": [
        "In order to evaluate an ML model, there are a variety of metrics that you should already be aware of (e.g., accuracy, precision, recall, F-score, etc.). We'll use accuracy, which we can import from `sklearn.metrics`. "
      ]
    },
    {
      "cell_type": "code",
      "execution_count": 16,
      "metadata": {
        "id": "_QB4tdR6b_dT"
      },
      "outputs": [
        {
          "name": "stdout",
          "output_type": "stream",
          "text": [
            "88.00%\n",
            "\n"
          ]
        }
      ],
      "source": [
        "from sklearn.metrics import accuracy_score\n",
        "y_pred = clf.predict(X)\n",
        "print('{:.2%}\\n'.format(accuracy_score(y, y_pred)))"
      ]
    },
    {
      "cell_type": "markdown",
      "metadata": {
        "id": "wS0eATPsZE7S"
      },
      "source": [
        "So you might think this model performs pretty well. However, this is not a good assessment of the model, because we assessed performance on the training data. "
      ]
    },
    {
      "cell_type": "markdown",
      "metadata": {
        "id": "x2mxsUwZb_dZ"
      },
      "source": [
        "## Model selection : How to improve and evaluate the learned model?"
      ]
    },
    {
      "cell_type": "markdown",
      "metadata": {
        "id": "Wkw89ZJbb_df"
      },
      "source": [
        "Up until this point, we used the entire data to learn the model. However, you know that this is not the correct approach. We need to holdout some data in order to evaluate the model that we learned on \"unseen data\".\n",
        "\n",
        "A typical step after loading data is to split it into train, validation, and test sets:\n",
        "\n",
        "* Train set: a subset of data to train a model\n",
        "* Validation set: a subset of data to evaluate the model\n",
        "* Test set: a subset of data to evaluate the learned model\n",
        "\n",
        "As our current goal is not to evaluate and build a model for better performance we'll just split the data into a 70\\% training set and 30\\% as test set.  \n",
        "\n",
        "Fortunately, `sklearn` provides an easy way to split data into train and test sets, using `train_test_split()`:"
      ]
    },
    {
      "cell_type": "code",
      "execution_count": 17,
      "metadata": {
        "id": "gZf29Os5b_di"
      },
      "outputs": [],
      "source": [
        "from sklearn.model_selection import train_test_split\n",
        "# Let 30% of the data to be a test set\n",
        "X_train, X_test, y_train, y_test = train_test_split(X, y, test_size=0.30, random_state=0)"
      ]
    },
    {
      "cell_type": "markdown",
      "metadata": {
        "id": "cgtHuRiPb_dp"
      },
      "source": [
        "Now we'll learn an SVM model, using only the training data:"
      ]
    },
    {
      "cell_type": "code",
      "execution_count": 18,
      "metadata": {
        "id": "W8JaPiFOb_dq"
      },
      "outputs": [
        {
          "data": {
            "text/plain": [
              "SVC(gamma='auto', random_state=0)"
            ]
          },
          "execution_count": 18,
          "metadata": {},
          "output_type": "execute_result"
        }
      ],
      "source": [
        "from sklearn import svm\n",
        "clf = svm.SVC(gamma='auto', random_state=0) # SVC covers not only linear kernel as LinearSVC but also nonlinear kernels\n",
        "clf.fit(X_train, y_train)"
      ]
    },
    {
      "cell_type": "markdown",
      "metadata": {
        "id": "EGorV5GZb_dx"
      },
      "source": [
        "We can then get the predicted labels for the test set using the model's `predict()` method and then test the accuracy (out of sample performance):"
      ]
    },
    {
      "cell_type": "code",
      "execution_count": 19,
      "metadata": {
        "id": "eWADQ9Vub_d0"
      },
      "outputs": [],
      "source": [
        "y_pred = clf.predict(X_test)"
      ]
    },
    {
      "cell_type": "code",
      "execution_count": 20,
      "metadata": {
        "id": "KDTYKI_zb_d6"
      },
      "outputs": [
        {
          "name": "stdout",
          "output_type": "stream",
          "text": [
            "80.00%\n",
            "\n"
          ]
        }
      ],
      "source": [
        "from sklearn.metrics import accuracy_score\n",
        "print('{:.2%}\\n'.format(accuracy_score(y_test, y_pred)))"
      ]
    },
    {
      "cell_type": "markdown",
      "metadata": {
        "id": "faSBt761afjb"
      },
      "source": [
        "SO the model performs **okay** (50% accuracy would be achieved with random prediction)."
      ]
    },
    {
      "cell_type": "markdown",
      "metadata": {
        "id": "m_1ae1tob_eD"
      },
      "source": [
        "## Clustering : K-means"
      ]
    },
    {
      "cell_type": "markdown",
      "metadata": {
        "id": "1hBZWTobb_eF"
      },
      "source": [
        "What if we have data where no labels are given ? \n",
        "\n",
        "One class of ML models discovers finds clusters in the data based on patterns. This process is called **unsupervised learning**. K-means clustering is one type of popular unsupervised learning methods.\n",
        "\n",
        "Here's the basic idea: Assume that data points belong to one of $K$ different clusters. Our task is to find $K$ different centroids (each is the center of the cluster) and assign datapoints to one of these $K$ clusters, such that the  within-cluster variances are minimized.\n",
        "\n",
        "Let $(x_1, x_2, ..., x_n)$ be observations and $(\\mu_1, \\mu_2, ..., \\mu_m)$ be centroids of points in cluster $i, C_i$.\n",
        "\n",
        "Then, our task is to minimize:\n",
        "\n",
        " $\\sum_{i=1}^{m}\\sum_{x\\in C_{i}}\\|x-\\mu_i\\|^2$.\n",
        "\n",
        "<font color=red> **We have to specify the number of clusters $K$ at the beginning**</font>\n",
        "\n",
        "Just as before, we'll start by generating synthetic data by drawing datapoints from different distributions. We'll use the exact same data as in the SVM example."
      ]
    },
    {
      "cell_type": "code",
      "execution_count": 21,
      "metadata": {
        "id": "SWAnF8gJb_eH"
      },
      "outputs": [],
      "source": [
        "# The same data that are generated in the SVM example\n",
        "np.random.seed(1)\n",
        "dat1 = np.random.multivariate_normal(mean=[1,1], cov=[[0.3, 0], [0, 0.3]], size=50)\n",
        "dat2 = np.random.multivariate_normal(mean=[2,1.5], cov=[[0.3, 0], [0, 0.3]], size=50)\n",
        "dat = np.concatenate((dat1, dat2))"
      ]
    },
    {
      "cell_type": "markdown",
      "metadata": {
        "id": "xdbPoXy3b_eM"
      },
      "source": [
        "Assume that we do not know underlying clusters to which data points belong."
      ]
    },
    {
      "cell_type": "code",
      "execution_count": 22,
      "metadata": {
        "id": "DNoJhDw-b_eN"
      },
      "outputs": [
        {
          "data": {
            "image/png": "[encoded data removed]",
            "text/plain": [
              "<Figure size 640x480 with 1 Axes>"
            ]
          },
          "metadata": {},
          "output_type": "display_data"
        }
      ],
      "source": [
        "plt.scatter(dat[:,0], dat[:,1], color='gray'); # but it is originally generated by two different distributions"
      ]
    },
    {
      "cell_type": "markdown",
      "metadata": {
        "id": "2O-z7tXIcQaw"
      },
      "source": [
        "Let's try it out for different values of $K$"
      ]
    },
    {
      "cell_type": "markdown",
      "metadata": {
        "id": "ozlD2gbHb_eU"
      },
      "source": [
        "### K=2"
      ]
    },
    {
      "cell_type": "markdown",
      "metadata": {
        "id": "EZmvDNP4b_eX"
      },
      "source": [
        "Set n_clusters=2 in the function KMeans."
      ]
    },
    {
      "cell_type": "code",
      "execution_count": 23,
      "metadata": {
        "id": "XX3ZYyAlb_eZ"
      },
      "outputs": [
        {
          "data": {
            "text/plain": [
              "KMeans(n_clusters=2, random_state=0)"
            ]
          },
          "execution_count": 23,
          "metadata": {},
          "output_type": "execute_result"
        }
      ],
      "source": [
        "from sklearn.cluster import KMeans\n",
        "kmeans = KMeans(n_clusters=2, random_state=0) \n",
        "kmeans.fit(dat)"
      ]
    },
    {
      "cell_type": "code",
      "execution_count": 24,
      "metadata": {
        "id": "v5Ckk3VWb_eh"
      },
      "outputs": [
        {
          "data": {
            "image/png": "[encoded data removed]",
            "text/plain": [
              "<Figure size 1000x400 with 2 Axes>"
            ]
          },
          "metadata": {},
          "output_type": "display_data"
        }
      ],
      "source": [
        "plt.figure(figsize=(10,4));\n",
        "plt.subplot(1,2,1);\n",
        "plt.scatter(dat1[:,0], dat1[:,1]);\n",
        "plt.scatter(dat2[:,0], dat2[:,1]);\n",
        "plt.title('Original data');\n",
        "\n",
        "plt.subplot(1,2,2);\n",
        "labels = kmeans.labels_\n",
        "plt.scatter(dat[:,0], dat[:,1], color=['tab:orange' if x==0 else 'tab:blue' for x in labels]);\n",
        "plt.title('K-means clustering: K=2');"
      ]
    },
    {
      "cell_type": "markdown",
      "metadata": {
        "id": "l23yzuOBb_en"
      },
      "source": [
        "You can see that K-means clustering did a fairly good job at detecting the clusters that we created synthetically. Of course, since this is unsupervised learning, we would now the \"true\" clusters or classes that the data belonged to -- so we can't assess the performance directly.\n",
        "\n",
        "\n",
        "We would also have no way of knowing whether the data is best characterized by two clusters or more. So let's have a look at other values of $K$"
      ]
    },
    {
      "cell_type": "markdown",
      "metadata": {
        "id": "wCKecUw5b_ep"
      },
      "source": [
        "### K=4"
      ]
    },
    {
      "cell_type": "code",
      "execution_count": 25,
      "metadata": {
        "id": "alAbjo-Mb_es"
      },
      "outputs": [
        {
          "data": {
            "text/plain": [
              "KMeans(n_clusters=4, random_state=0)"
            ]
          },
          "execution_count": 25,
          "metadata": {},
          "output_type": "execute_result"
        }
      ],
      "source": [
        "from sklearn.cluster import KMeans\n",
        "kmeans = KMeans(n_clusters=4, random_state=0)\n",
        "kmeans.fit(dat)"
      ]
    },
    {
      "cell_type": "code",
      "execution_count": 26,
      "metadata": {
        "id": "gQQWOc4Nb_e0"
      },
      "outputs": [
        {
          "data": {
            "image/png": "[encoded data removed]",
            "text/plain": [
              "<Figure size 1000x400 with 2 Axes>"
            ]
          },
          "metadata": {},
          "output_type": "display_data"
        }
      ],
      "source": [
        "plt.figure(figsize=(10,4))\n",
        "plt.subplot(1,2,1)\n",
        "plt.scatter(dat1[:,0], dat1[:,1]);\n",
        "plt.scatter(dat2[:,0], dat2[:,1]);\n",
        "plt.title('Original data');\n",
        "\n",
        "plt.subplot(1,2,2);\n",
        "labels = kmeans.labels_\n",
        "cmap = ['tab:blue', 'tab:orange', 'tab:green', 'tab:red']\n",
        "plt.scatter(dat[:,0], dat[:,1], color=[cmap[x] for x in labels]);\n",
        "plt.title('K-means clustering: K=4');"
      ]
    },
    {
      "cell_type": "markdown",
      "metadata": {
        "id": "l2YG0rk9b_e_"
      },
      "source": [
        "The algorithm classifies data points for a given number of clusters, whatever the number is."
      ]
    },
    {
      "cell_type": "markdown",
      "metadata": {
        "id": "PoPH7_xJb_fB"
      },
      "source": [
        "### Example: Unsupervised clustering applied to wine data"
      ]
    },
    {
      "cell_type": "markdown",
      "metadata": {
        "id": "e5izbjLZb_fE"
      },
      "source": [
        "In this data, chemical compositions and types of wines are given. There are three types of wines (i.e., coming from different winemakers). We will investigate the extent to which k-means clustering can recover the wine types.\n",
        "\n",
        "Note that there isn't any correlation between the label kmeans ascribes and the true label of the wine (on one run, a particular type of wine might be represented with cluster labeled by 1, but on another the same approximate cluster might be assigned the label 2). Because of this, we'll need a metric that is not dependent on the actual value of the labels. A good metric is the [Mutual Information Score](https://scikit-learn.org/stable/modules/generated/sklearn.metrics.mutual_info_score.html) which is defined by:\n",
        "\n",
        " $MI(U,V)=\\sum_{i=1}^{|U|} \\sum_{j=1}^{|V|} \\frac{|U_i\\cap V_j|}{N}\\log\\frac{N|U_i \\cap V_j|}{|U_i||V_j|}$\n",
        "\n",
        "where $|U_i|$ is the number of samples in cluster $U_i$ and $|V_j|$ is the number of samples in cluster $V_j$. We'll use the predicted labels and true labels as $U$ and $V$."
      ]
    },
    {
      "cell_type": "code",
      "execution_count": 27,
      "metadata": {
        "id": "NYChin8sb_fG"
      },
      "outputs": [],
      "source": [
        "from sklearn.datasets import load_wine\n",
        "from sklearn.metrics import mutual_info_score\n",
        "wine = load_wine() \n",
        "X = pd.DataFrame(wine.data, columns = wine.feature_names)\n",
        "y = wine.target # there are three types"
      ]
    },
    {
      "cell_type": "code",
      "execution_count": 28,
      "metadata": {
        "id": "oijMWQ0Wb_fR"
      },
      "outputs": [
        {
          "data": {
            "text/html": [
              "<div>\n",
              "<style scoped>\n",
              "    .dataframe tbody tr th:only-of-type {\n",
              "        vertical-align: middle;\n",
              "    }\n",
              "\n",
              "    .dataframe tbody tr th {\n",
              "        vertical-align: top;\n",
              "    }\n",
              "\n",
              "    .dataframe thead th {\n",
              "        text-align: right;\n",
              "    }\n",
              "</style>\n",
              "<table border=\"1\" class=\"dataframe\">\n",
              "  <thead>\n",
              "    <tr style=\"text-align: right;\">\n",
              "      <th></th>\n",
              "      <th>alcohol</th>\n",
              "      <th>malic_acid</th>\n",
              "      <th>ash</th>\n",
              "      <th>alcalinity_of_ash</th>\n",
              "      <th>magnesium</th>\n",
              "      <th>total_phenols</th>\n",
              "      <th>flavanoids</th>\n",
              "      <th>nonflavanoid_phenols</th>\n",
              "      <th>proanthocyanins</th>\n",
              "      <th>color_intensity</th>\n",
              "      <th>hue</th>\n",
              "      <th>od280/od315_of_diluted_wines</th>\n",
              "      <th>proline</th>\n",
              "    </tr>\n",
              "  </thead>\n",
              "  <tbody>\n",
              "    <tr>\n",
              "      <th>0</th>\n",
              "      <td>14.23</td>\n",
              "      <td>1.71</td>\n",
              "      <td>2.43</td>\n",
              "      <td>15.6</td>\n",
              "      <td>127.0</td>\n",
              "      <td>2.80</td>\n",
              "      <td>3.06</td>\n",
              "      <td>0.28</td>\n",
              "      <td>2.29</td>\n",
              "      <td>5.64</td>\n",
              "      <td>1.04</td>\n",
              "      <td>3.92</td>\n",
              "      <td>1065.0</td>\n",
              "    </tr>\n",
              "    <tr>\n",
              "      <th>1</th>\n",
              "      <td>13.20</td>\n",
              "      <td>1.78</td>\n",
              "      <td>2.14</td>\n",
              "      <td>11.2</td>\n",
              "      <td>100.0</td>\n",
              "      <td>2.65</td>\n",
              "      <td>2.76</td>\n",
              "      <td>0.26</td>\n",
              "      <td>1.28</td>\n",
              "      <td>4.38</td>\n",
              "      <td>1.05</td>\n",
              "      <td>3.40</td>\n",
              "      <td>1050.0</td>\n",
              "    </tr>\n",
              "    <tr>\n",
              "      <th>2</th>\n",
              "      <td>13.16</td>\n",
              "      <td>2.36</td>\n",
              "      <td>2.67</td>\n",
              "      <td>18.6</td>\n",
              "      <td>101.0</td>\n",
              "      <td>2.80</td>\n",
              "      <td>3.24</td>\n",
              "      <td>0.30</td>\n",
              "      <td>2.81</td>\n",
              "      <td>5.68</td>\n",
              "      <td>1.03</td>\n",
              "      <td>3.17</td>\n",
              "      <td>1185.0</td>\n",
              "    </tr>\n",
              "    <tr>\n",
              "      <th>3</th>\n",
              "      <td>14.37</td>\n",
              "      <td>1.95</td>\n",
              "      <td>2.50</td>\n",
              "      <td>16.8</td>\n",
              "      <td>113.0</td>\n",
              "      <td>3.85</td>\n",
              "      <td>3.49</td>\n",
              "      <td>0.24</td>\n",
              "      <td>2.18</td>\n",
              "      <td>7.80</td>\n",
              "      <td>0.86</td>\n",
              "      <td>3.45</td>\n",
              "      <td>1480.0</td>\n",
              "    </tr>\n",
              "    <tr>\n",
              "      <th>4</th>\n",
              "      <td>13.24</td>\n",
              "      <td>2.59</td>\n",
              "      <td>2.87</td>\n",
              "      <td>21.0</td>\n",
              "      <td>118.0</td>\n",
              "      <td>2.80</td>\n",
              "      <td>2.69</td>\n",
              "      <td>0.39</td>\n",
              "      <td>1.82</td>\n",
              "      <td>4.32</td>\n",
              "      <td>1.04</td>\n",
              "      <td>2.93</td>\n",
              "      <td>735.0</td>\n",
              "    </tr>\n",
              "  </tbody>\n",
              "</table>\n",
              "</div>"
            ],
            "text/plain": [
              "   alcohol  malic_acid   ash  alcalinity_of_ash  magnesium  total_phenols  \\\n",
              "0    14.23        1.71  2.43               15.6      127.0           2.80   \n",
              "1    13.20        1.78  2.14               11.2      100.0           2.65   \n",
              "2    13.16        2.36  2.67               18.6      101.0           2.80   \n",
              "3    14.37        1.95  2.50               16.8      113.0           3.85   \n",
              "4    13.24        2.59  2.87               21.0      118.0           2.80   \n",
              "\n",
              "   flavanoids  nonflavanoid_phenols  proanthocyanins  color_intensity   hue  \\\n",
              "0        3.06                  0.28             2.29             5.64  1.04   \n",
              "1        2.76                  0.26             1.28             4.38  1.05   \n",
              "2        3.24                  0.30             2.81             5.68  1.03   \n",
              "3        3.49                  0.24             2.18             7.80  0.86   \n",
              "4        2.69                  0.39             1.82             4.32  1.04   \n",
              "\n",
              "   od280/od315_of_diluted_wines  proline  \n",
              "0                          3.92   1065.0  \n",
              "1                          3.40   1050.0  \n",
              "2                          3.17   1185.0  \n",
              "3                          3.45   1480.0  \n",
              "4                          2.93    735.0  "
            ]
          },
          "execution_count": 28,
          "metadata": {},
          "output_type": "execute_result"
        }
      ],
      "source": [
        "X.head()"
      ]
    },
    {
      "cell_type": "code",
      "execution_count": 29,
      "metadata": {
        "id": "EKosMynnb_fY"
      },
      "outputs": [],
      "source": [
        "from sklearn.model_selection import train_test_split\n",
        "X_train, X_test, y_train, y_test = train_test_split(X, y, test_size=0.30, random_state=0)"
      ]
    },
    {
      "cell_type": "code",
      "execution_count": 30,
      "metadata": {
        "id": "3oQWzWjxb_ff"
      },
      "outputs": [
        {
          "data": {
            "text/plain": [
              "KMeans(n_clusters=3, random_state=0)"
            ]
          },
          "execution_count": 30,
          "metadata": {},
          "output_type": "execute_result"
        }
      ],
      "source": [
        "kmeans = KMeans(n_clusters=3, random_state=0)\n",
        "kmeans.fit(X_train)"
      ]
    },
    {
      "cell_type": "code",
      "execution_count": 31,
      "metadata": {
        "id": "_63XiqXob_fl"
      },
      "outputs": [
        {
          "name": "stdout",
          "output_type": "stream",
          "text": [
            "50.05%\n",
            "\n"
          ]
        }
      ],
      "source": [
        "y_pred = kmeans.predict(X_test)\n",
        "print('{:.2%}\\n'.format(mutual_info_score(y_test, y_pred)))"
      ]
    },
    {
      "cell_type": "markdown",
      "metadata": {
        "id": "mXgTmnmMb_fo"
      },
      "source": [
        "Not bad, but there is room for improvement. How?"
      ]
    },
    {
      "cell_type": "markdown",
      "metadata": {
        "id": "Ja0Npxxyb_fp"
      },
      "source": [
        "## Preprocessing : Standardization"
      ]
    },
    {
      "cell_type": "markdown",
      "metadata": {
        "id": "mh0UA6vqb_ft"
      },
      "source": [
        "Often you will encounter data where the features have very different distributions (with very different mean and variance for each column). In such a case, you can benefit from **standardization** -- a process of transforming the features so that each column has zero mean and unit variance. Some ML algorithms will suffer if the data on which they are trained is not standardized. To standardize data, we will use the `sklearn.preprocessing` package."
      ]
    },
    {
      "cell_type": "markdown",
      "metadata": {
        "id": "BBWgddIab_fu"
      },
      "source": [
        "`StandardScaler` calculates mean and standard devaition of a train set."
      ]
    },
    {
      "cell_type": "code",
      "execution_count": 32,
      "metadata": {
        "id": "ge9kAroqb_fv"
      },
      "outputs": [
        {
          "data": {
            "text/plain": [
              "StandardScaler()"
            ]
          },
          "execution_count": 32,
          "metadata": {},
          "output_type": "execute_result"
        }
      ],
      "source": [
        "from sklearn.preprocessing import StandardScaler\n",
        "scaler = StandardScaler() # calculate mean and standard deviation of train set\n",
        "scaler.fit(X_train)"
      ]
    },
    {
      "cell_type": "markdown",
      "metadata": {
        "id": "8aY3ED_7b_fz"
      },
      "source": [
        "Let's print the means of the different features (columns):"
      ]
    },
    {
      "cell_type": "code",
      "execution_count": 33,
      "metadata": {
        "id": "zFlWJanhb_f1"
      },
      "outputs": [
        {
          "data": {
            "text/plain": [
              "array([1.29830645e+01, 2.38370968e+00, 2.36314516e+00, 1.95258065e+01,\n",
              "       1.00088710e+02, 2.25838710e+00, 1.96951613e+00, 3.64274194e-01,\n",
              "       1.61250000e+00, 4.99991935e+00, 9.55854839e-01, 2.60193548e+00,\n",
              "       7.46766129e+02])"
            ]
          },
          "execution_count": 33,
          "metadata": {},
          "output_type": "execute_result"
        }
      ],
      "source": [
        "scaler.mean_"
      ]
    },
    {
      "cell_type": "markdown",
      "metadata": {
        "id": "KSQLQr4Xb_f6"
      },
      "source": [
        "`scaler.scale_` returns the standard deviations for each feature:"
      ]
    },
    {
      "cell_type": "code",
      "execution_count": 34,
      "metadata": {
        "id": "4Oshs4FUb_f7"
      },
      "outputs": [
        {
          "data": {
            "text/plain": [
              "array([7.98101757e-01, 1.13210300e+00, 2.75260483e-01, 3.56510578e+00,\n",
              "       1.46000509e+01, 5.97773270e-01, 9.73098522e-01, 1.23733411e-01,\n",
              "       5.95825024e-01, 2.34182051e+00, 2.34596176e-01, 7.19337371e-01,\n",
              "       3.07610251e+02])"
            ]
          },
          "execution_count": 34,
          "metadata": {},
          "output_type": "execute_result"
        }
      ],
      "source": [
        "scaler.scale_"
      ]
    },
    {
      "cell_type": "markdown",
      "metadata": {
        "id": "nIDO2KYTb_f-"
      },
      "source": [
        "To standardize the data, we simply call `scaler.transform` on the original values to get the transformed data. Transformed data will have 0 mean and 1 variance."
      ]
    },
    {
      "cell_type": "code",
      "execution_count": 35,
      "metadata": {
        "id": "z5n5eXaSb_gA"
      },
      "outputs": [],
      "source": [
        "X_train_scaled = scaler.transform(X_train) # You can apply the scaler even to test set"
      ]
    },
    {
      "cell_type": "markdown",
      "metadata": {
        "id": "ZJuv-qkXb_gD"
      },
      "source": [
        "Let's check means of transformed data."
      ]
    },
    {
      "cell_type": "code",
      "execution_count": 36,
      "metadata": {
        "id": "v3OyiMbZb_gE"
      },
      "outputs": [
        {
          "data": {
            "text/plain": [
              "array([ 2.89016123e-15, -1.25560404e-15,  1.14514133e-15,  2.56246637e-15,\n",
              "       -3.25904178e-16, -1.35106979e-15,  2.77555756e-16, -1.63936964e-15,\n",
              "        1.08157211e-15,  3.43811001e-16, -1.82649594e-16,  1.06903733e-15,\n",
              "        2.28311993e-17])"
            ]
          },
          "execution_count": 36,
          "metadata": {},
          "output_type": "execute_result"
        }
      ],
      "source": [
        "np.mean(X_train_scaled, axis=0)"
      ]
    },
    {
      "cell_type": "markdown",
      "metadata": {
        "id": "5QKMgBrbb_gI"
      },
      "source": [
        "Compared to means of the original data, those of the standardized data are close to zero. Now, train a k-mean clustering model with the standardized data. "
      ]
    },
    {
      "cell_type": "code",
      "execution_count": 37,
      "metadata": {
        "id": "rJ7bvzYHb_gJ"
      },
      "outputs": [
        {
          "data": {
            "text/plain": [
              "KMeans(n_clusters=3, random_state=0)"
            ]
          },
          "execution_count": 37,
          "metadata": {},
          "output_type": "execute_result"
        }
      ],
      "source": [
        "kmeans = KMeans(n_clusters=3, random_state=0)\n",
        "kmeans.fit(X_train_scaled)"
      ]
    },
    {
      "cell_type": "code",
      "execution_count": 38,
      "metadata": {
        "id": "L5lCdOf5b_gM"
      },
      "outputs": [
        {
          "name": "stdout",
          "output_type": "stream",
          "text": [
            "88.72%\n",
            "\n"
          ]
        }
      ],
      "source": [
        "X_test_scaled = scaler.transform(X_test)\n",
        "y_pred = kmeans.predict(X_test_scaled)\n",
        "print('{:.2%}\\n'.format(mutual_info_score(y_test, y_pred)))"
      ]
    },
    {
      "cell_type": "markdown",
      "metadata": {
        "id": "7gqZ2uKtb_gO"
      },
      "source": [
        "You can see that standardizing the data has a pretty substantial impact on the performance."
      ]
    },
    {
      "cell_type": "markdown",
      "metadata": {
        "id": "UFWjah-Fb_gP"
      },
      "source": [
        "### Pipelines : chaining pre-processors and estimators"
      ]
    },
    {
      "cell_type": "markdown",
      "metadata": {
        "id": "cD0vpFxmb_gP"
      },
      "source": [
        "We can do all procedures (standardize data and learn a model) at once by taking advantage of the `sklearn.pipeline` package!"
      ]
    },
    {
      "cell_type": "markdown",
      "metadata": {
        "id": "ZzvouLKib_gQ"
      },
      "source": [
        "The below code block shows how to combine the different operations, scaling with the `StandardScaler` and running the `KMeans` algorithm."
      ]
    },
    {
      "cell_type": "code",
      "execution_count": 39,
      "metadata": {
        "id": "UcSfp44tb_gR"
      },
      "outputs": [],
      "source": [
        "from sklearn.pipeline import make_pipeline\n",
        "pipe = make_pipeline(\n",
        "    StandardScaler(),\n",
        "    KMeans(n_clusters=3, random_state=0)\n",
        ")"
      ]
    },
    {
      "cell_type": "markdown",
      "metadata": {
        "id": "iG_FnXyxb_gT"
      },
      "source": [
        "To execute this pipe, following the rules of sklearn, use `.fit` method.\n",
        "```python\n",
        "pipe.fit(X_train, Y_train)\n",
        "```"
      ]
    },
    {
      "cell_type": "code",
      "execution_count": 40,
      "metadata": {
        "id": "TFhoHS09b_gW"
      },
      "outputs": [
        {
          "name": "stdout",
          "output_type": "stream",
          "text": [
            "88.72%\n",
            "\n"
          ]
        }
      ],
      "source": [
        "from sklearn.preprocessing import StandardScaler\n",
        "from sklearn.cluster import KMeans\n",
        "from sklearn.datasets import load_wine\n",
        "from sklearn.model_selection import train_test_split\n",
        "\n",
        "wine = load_wine() \n",
        "X = pd.DataFrame(wine.data, columns = wine.feature_names)\n",
        "Y = wine.target # there are three types\n",
        "X_train, X_test, Y_train, Y_test = train_test_split(X, Y, test_size=0.30, random_state=0)\n",
        "\n",
        "pipe.fit(X_train, Y_train)\n",
        "\n",
        "X_test_scaled = scaler.transform(X_test)\n",
        "Y_pred = kmeans.predict(X_test_scaled)\n",
        "print('{:.2%}\\n'.format(mutual_info_score(Y_test, Y_pred)))"
      ]
    },
    {
      "cell_type": "markdown",
      "metadata": {
        "id": "AAJ3WuS4b_ge"
      },
      "source": [
        "And of course we get the same result as before.  Making a pipeline is useful as frequently you'll want to do several transformations of your data as part of model fitting."
      ]
    },
    {
      "cell_type": "markdown",
      "metadata": {
        "id": "yzLsakRUb_gf"
      },
      "source": [
        "## Dimensionality reduction"
      ]
    },
    {
      "cell_type": "markdown",
      "metadata": {
        "id": "Zs-21vkrb_gg"
      },
      "source": [
        "Dimensionality reduction offers several advantages. (https://en.wikipedia.org/wiki/Dimensionality_reduction)\n",
        "* It reduces the time and storage space required.\n",
        "* Removes  multi-collinearity to improve the interpretation of the parameters of the machine learning model.\n",
        "* It becomes easier to visualize the data when reduced to very low dimensions such as 2D or 3D.\n",
        "* It avoids the [curse of dimensionality](https://en.wikipedia.org/wiki/Curse_of_dimensionality)."
      ]
    },
    {
      "cell_type": "markdown",
      "metadata": {
        "id": "i7uv3YvAb_gh"
      },
      "source": [
        "For example, we can reduce 13 dimensions in the wine data into 2 dimensions. This process helps to understand and visualize complicated data. In this section, we will cover a popular dimensionality reduction method: **principal component analysis (PCA)**."
      ]
    },
    {
      "cell_type": "markdown",
      "metadata": {
        "id": "AZbiiqFdb_gi"
      },
      "source": [
        "#### What is PCA?"
      ]
    },
    {
      "cell_type": "markdown",
      "metadata": {
        "id": "tnvWcA0Tb_gj"
      },
      "source": [
        "PCA finds linearly uncorrelated variables by combining existing correlated variables. Let's explore the concept with the wine data. In the wine data, \"alcohol\" and \"color_intensity\" are correlated."
      ]
    },
    {
      "cell_type": "code",
      "execution_count": 41,
      "metadata": {
        "id": "cvHMReNUb_gk"
      },
      "outputs": [],
      "source": [
        "from sklearn.datasets import load_wine\n",
        "wine = load_wine() \n",
        "X = pd.DataFrame(wine.data, columns = wine.feature_names)\n",
        "y = wine.target # there are three types\n",
        "\n",
        "from sklearn.model_selection import train_test_split\n",
        "X_train, X_test, y_train, y_test = train_test_split(X, y, test_size=0.30, random_state=0)\n",
        "X_train_scaled = scaler.transform(X_train) # You can apply the scaler even to test set"
      ]
    },
    {
      "cell_type": "code",
      "execution_count": 42,
      "metadata": {
        "id": "MJYl8rU5b_go"
      },
      "outputs": [
        {
          "name": "stdout",
          "output_type": "stream",
          "text": [
            "Correlation between alchol and color intensity is 0.55\n"
          ]
        },
        {
          "data": {
            "image/png": "[encoded data removed]",
            "text/plain": [
              "<Figure size 600x600 with 1 Axes>"
            ]
          },
          "metadata": {},
          "output_type": "display_data"
        }
      ],
      "source": [
        "plt.figure(figsize=(6,6))\n",
        "plt.scatter(X_train_scaled[:,0], X_train_scaled[:,-4])\n",
        "plt.xlabel(\"Alcohol (standardized)\")\n",
        "plt.ylabel(\"Color intensity (standardized)\")\n",
        "print(\"Correlation between alchol and color intensity is\", round(X.alcohol.corr(X.color_intensity), 2))"
      ]
    },
    {
      "cell_type": "markdown",
      "metadata": {
        "id": "j0ABrRX9b_gs"
      },
      "source": [
        "As the two variables are correlated, significant amount of variances between them can be captured through a new variable. PCA returns this new variable by combining correlated ones. The new variable is represented as the arrow on the below plot."
      ]
    },
    {
      "cell_type": "code",
      "execution_count": 43,
      "metadata": {
        "id": "m8fx4Rkxb_gv"
      },
      "outputs": [
        {
          "data": {
            "text/plain": [
              "PCA(n_components=2, random_state=0)"
            ]
          },
          "execution_count": 43,
          "metadata": {},
          "output_type": "execute_result"
        }
      ],
      "source": [
        "from sklearn.decomposition import PCA\n",
        "pca = PCA(n_components=2, random_state=0) # 13 dimensions to 2 dimensions\n",
        "pca.fit(X_train_scaled[:, (0,-4)]) # find principal components"
      ]
    },
    {
      "cell_type": "code",
      "execution_count": 44,
      "metadata": {
        "id": "1K_q_VDYb_g3"
      },
      "outputs": [
        {
          "data": {
            "image/png": "[encoded data removed]",
            "text/plain": [
              "<Figure size 600x600 with 1 Axes>"
            ]
          },
          "metadata": {},
          "output_type": "display_data"
        }
      ],
      "source": [
        "plt.figure(figsize=(6,6));\n",
        "plt.scatter(X_train_scaled[:,0], X_train_scaled[:,-4], alpha=0.3);\n",
        "plt.xlabel(\"Alcohol (standardized)\");\n",
        "plt.ylabel(\"Color intensity (standardized)\");\n",
        "plt.annotate(\"\", [0,0], -3*pca.explained_variance_ratio_[0]*pca.components_[:,0], \n",
        "             arrowprops=dict(arrowstyle='<-', linewidth=3, color='red'));"
      ]
    },
    {
      "cell_type": "markdown",
      "metadata": {
        "id": "koeqZmKCb_g9"
      },
      "source": [
        "In this way, PCA finds a given number of components (`n_components`) that are uncorrelated and explain variance well."
      ]
    },
    {
      "cell_type": "markdown",
      "metadata": {
        "id": "D-MalDzcb_g-"
      },
      "source": [
        "\"pca.explained_variance_ratio_\" summarizes how much variance that a component explains."
      ]
    },
    {
      "cell_type": "code",
      "execution_count": 45,
      "metadata": {
        "id": "f-QtCkxob_hA"
      },
      "outputs": [
        {
          "data": {
            "text/plain": [
              "array([0.78251449, 0.21748551])"
            ]
          },
          "execution_count": 45,
          "metadata": {},
          "output_type": "execute_result"
        }
      ],
      "source": [
        "pca.explained_variance_ratio_"
      ]
    },
    {
      "cell_type": "markdown",
      "metadata": {
        "id": "X7ebLePtb_hC"
      },
      "source": [
        "This shows that the first principal component (red arrow) explains about 78% of the total variance."
      ]
    },
    {
      "cell_type": "markdown",
      "metadata": {
        "id": "qBTMrmXIb_hD"
      },
      "source": [
        "Let's apply PCA for the entire wine data."
      ]
    },
    {
      "cell_type": "code",
      "execution_count": 46,
      "metadata": {
        "id": "v0ujm6qzb_hE"
      },
      "outputs": [
        {
          "data": {
            "text/plain": [
              "PCA(n_components=2, random_state=0)"
            ]
          },
          "execution_count": 46,
          "metadata": {},
          "output_type": "execute_result"
        }
      ],
      "source": [
        "from sklearn.decomposition import PCA\n",
        "pca = PCA(n_components=2, random_state=0) # 13 dimensions to 2 dimensions\n",
        "pca.fit(X_train_scaled) # find principal components"
      ]
    },
    {
      "cell_type": "code",
      "execution_count": 47,
      "metadata": {
        "id": "p-IwUWDhb_hJ"
      },
      "outputs": [
        {
          "data": {
            "text/plain": [
              "array([0.37329648, 0.18818926])"
            ]
          },
          "execution_count": 47,
          "metadata": {},
          "output_type": "execute_result"
        }
      ],
      "source": [
        "pca.explained_variance_ratio_"
      ]
    },
    {
      "cell_type": "markdown",
      "metadata": {
        "id": "7VklOxnlb_hO"
      },
      "source": [
        "About 37\\% of the variance is explained by the first principle component and about 19\\% of the variance is explained by the second principle component. It means that the first two components capture more than half of all the variance of the data. \n",
        "\n",
        "So, projecting the wine data onto the first two principal components can give a good overview of the data."
      ]
    },
    {
      "cell_type": "code",
      "execution_count": 48,
      "metadata": {
        "id": "h63-M3a-b_hQ"
      },
      "outputs": [],
      "source": [
        "pca_transformed = pca.transform(X_train_scaled) # project the data onto principal components"
      ]
    },
    {
      "cell_type": "code",
      "execution_count": 49,
      "metadata": {
        "id": "1MSsVmNQb_hV"
      },
      "outputs": [
        {
          "data": {
            "image/png": "[encoded data removed]",
            "text/plain": [
              "<Figure size 640x480 with 1 Axes>"
            ]
          },
          "metadata": {},
          "output_type": "display_data"
        }
      ],
      "source": [
        "cmap = ['tab:blue', 'tab:orange', 'tab:green', 'tab:red']\n",
        "plt.scatter(pca_transformed[:,0], pca_transformed[:,1], color = [cmap[x] for x in y_train]);"
      ]
    },
    {
      "cell_type": "markdown",
      "metadata": {
        "id": "pKIvxPPGb_hb"
      },
      "source": [
        "Three wine types are separated well by the first two principal components"
      ]
    },
    {
      "cell_type": "markdown",
      "metadata": {
        "id": "F-XTBQvhy0uX"
      },
      "source": [
        "# A ton of models"
      ]
    },
    {
      "cell_type": "markdown",
      "metadata": {
        "id": "LizREaSHy3lL"
      },
      "source": [
        "Sklearn has a ton of models that you can use. I will not cover these in detail, but you should be familiar with them from your prior coursework. In particular, you should familiarize yourself with:\n",
        "* K nearest neighbor\n",
        "* Decision trees\n",
        "* Naive bayes\n",
        "\n",
        "You can find more details at: [HERE](https://scikit-learn.org/stable/index.html)\n"
      ]
    }
  ],
  "metadata": {
    "colab": {
      "collapsed_sections": [
        "swByiBfML8m_",
        "mvfQRYqvb_Z5",
        "9nJTFOYlb_aH",
        "3efFIkl6b_aS",
        "ghZFtG5Tb_bf",
        "YoAJhuUDb_bl",
        "RmNBNVDeb_ca",
        "fRExyPGEb_co",
        "x2mxsUwZb_dZ",
        "m_1ae1tob_eD",
        "ozlD2gbHb_eU",
        "wCKecUw5b_ep",
        "PoPH7_xJb_fB",
        "Ja0Npxxyb_fp",
        "UFWjah-Fb_gP",
        "yzLsakRUb_gf",
        "AZbiiqFdb_gi",
        "F-XTBQvhy0uX"
      ],
      "name": "ECE5450ScikitLearn.ipynb",
      "private_outputs": true,
      "provenance": []
    },
    "interpreter": {
      "hash": "82c7291e38b74b071fa4ec1726e805bc06f8b2e8b468136f7f887f7861bda7b9"
    },
    "kernelspec": {
      "display_name": "Python 3.7.9 64-bit ('SUSHI': conda)",
      "name": "python3"
    },
    "language_info": {
      "codemirror_mode": {
        "name": "ipython",
        "version": 3
      },
      "file_extension": ".py",
      "mimetype": "text/x-python",
      "name": "python",
      "nbconvert_exporter": "python",
      "pygments_lexer": "ipython3",
      "version": "3.7.16"
    }
  },
  "nbformat": 4,
  "nbformat_minor": 2
}
