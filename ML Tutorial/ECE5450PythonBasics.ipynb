{
  "cells": [
    {
      "cell_type": "markdown",
      "metadata": {
        "id": "yRTYzhcBpGB0"
      },
      "source": [
        "# Python basics\n",
        "\n",
        "Data structures documentation: https://docs.python.org/3/tutorial/datastructures.html"
      ]
    },
    {
      "cell_type": "markdown",
      "metadata": {
        "id": "nq-Et4dIogb4"
      },
      "source": [
        "## Importing packages"
      ]
    },
    {
      "cell_type": "code",
      "execution_count": 1,
      "metadata": {
        "id": "VAXfN74In-K5"
      },
      "outputs": [],
      "source": [
        "import numpy as np"
      ]
    },
    {
      "cell_type": "markdown",
      "metadata": {
        "id": "IVRPSs8epS-_"
      },
      "source": [
        "## Lists"
      ]
    },
    {
      "cell_type": "code",
      "execution_count": 2,
      "metadata": {
        "colab": {
          "base_uri": "https://localhost:8080/"
        },
        "id": "OZVtlJPYpRtX",
        "outputId": "6901934c-2e9c-4e16-c091-c69df67c53c3"
      },
      "outputs": [
        {
          "name": "stdout",
          "output_type": "stream",
          "text": [
            "1\n",
            "3\n"
          ]
        }
      ],
      "source": [
        "# Creating a list\n",
        "my_list = []\n",
        "my_list2 = list()\n",
        "\n",
        "my_list.append(1)\n",
        "print(my_list[0])\n",
        "my_list[0] = 3\n",
        "print(my_list[0])"
      ]
    },
    {
      "cell_type": "code",
      "execution_count": 3,
      "metadata": {
        "colab": {
          "base_uri": "https://localhost:8080/"
        },
        "id": "4i-g2TvDtboo",
        "outputId": "823adbdb-6f04-429a-c77a-5a44ee35df63"
      },
      "outputs": [
        {
          "name": "stdout",
          "output_type": "stream",
          "text": [
            "Success\n"
          ]
        }
      ],
      "source": [
        "if my_list[0] == 3:\n",
        "  print(\"Success\")"
      ]
    },
    {
      "cell_type": "code",
      "execution_count": 4,
      "metadata": {
        "colab": {
          "base_uri": "https://localhost:8080/"
        },
        "id": "MZfZq80aw2EP",
        "outputId": "a9a3b717-7b48-478b-9ff7-eee23dc31682"
      },
      "outputs": [
        {
          "name": "stdout",
          "output_type": "stream",
          "text": [
            "[0, 1, 2, 3, 4]\n",
            "5\n"
          ]
        }
      ],
      "source": [
        "my_list3 = [0, 1, 2, 3, 4]\n",
        "print(my_list3)\n",
        "print(len(my_list3))"
      ]
    },
    {
      "cell_type": "code",
      "execution_count": 5,
      "metadata": {
        "colab": {
          "base_uri": "https://localhost:8080/"
        },
        "id": "_CuW79c5xWhY",
        "outputId": "e8c774c0-ad8b-490c-8cc4-892a834bd554"
      },
      "outputs": [
        {
          "name": "stdout",
          "output_type": "stream",
          "text": [
            "0\n",
            "1\n",
            "2\n",
            "3\n",
            "4\n"
          ]
        }
      ],
      "source": [
        "for i in range(len(my_list3)):\n",
        "  print(my_list3[i])"
      ]
    },
    {
      "cell_type": "code",
      "execution_count": 6,
      "metadata": {
        "colab": {
          "base_uri": "https://localhost:8080/"
        },
        "id": "LaUc9JzAxq11",
        "outputId": "949e13d9-144f-4e9d-8d61-c0e2fa9550b3"
      },
      "outputs": [
        {
          "name": "stdout",
          "output_type": "stream",
          "text": [
            "0\n",
            "0\n",
            "1\n",
            "1\n",
            "2\n",
            "2\n",
            "3\n",
            "3\n",
            "4\n",
            "4\n"
          ]
        }
      ],
      "source": [
        "for i in my_list3:\n",
        "  print(my_list3.index(i))\n",
        "  print(i)"
      ]
    },
    {
      "cell_type": "code",
      "execution_count": 7,
      "metadata": {
        "colab": {
          "base_uri": "https://localhost:8080/"
        },
        "id": "gtL3-vAVxz3y",
        "outputId": "a01cefd7-cfdd-47e3-a8e3-740477608a18"
      },
      "outputs": [
        {
          "name": "stdout",
          "output_type": "stream",
          "text": [
            "[0, 1, 2, 3, 4]\n"
          ]
        }
      ],
      "source": [
        "my_list4 = [i for i in range(5)]\n",
        "print(my_list4)"
      ]
    },
    {
      "cell_type": "markdown",
      "metadata": {
        "id": "JYr9TDfDqewO"
      },
      "source": [
        "## Sets"
      ]
    },
    {
      "cell_type": "code",
      "execution_count": 8,
      "metadata": {
        "colab": {
          "base_uri": "https://localhost:8080/"
        },
        "id": "ykU56_BXoQ93",
        "outputId": "7dcc3258-6440-439e-c147-cb576a402e6c"
      },
      "outputs": [
        {
          "name": "stdout",
          "output_type": "stream",
          "text": [
            "[1, 2, 3, 3, 3, 4, 5, 6]\n",
            "{1, 2, 3, 4, 5, 6}\n"
          ]
        }
      ],
      "source": [
        "my_set = set()\n",
        "list1 = [1, 2, 3, 3, 3, 4, 5, 6]\n",
        "print(list1)\n",
        "set1 = set(list1)\n",
        "print(set1)"
      ]
    },
    {
      "cell_type": "markdown",
      "metadata": {
        "id": "V9-f4DBWrc0A"
      },
      "source": [
        "## Dictionaries"
      ]
    },
    {
      "cell_type": "code",
      "execution_count": 9,
      "metadata": {
        "id": "Ij6X3QhLrbOc"
      },
      "outputs": [],
      "source": [
        "my_dictionary = dict()\n",
        "my_dictionary = {}"
      ]
    },
    {
      "cell_type": "code",
      "execution_count": 10,
      "metadata": {
        "colab": {
          "base_uri": "https://localhost:8080/"
        },
        "id": "KOf9MT1uoUXA",
        "outputId": "46d61f27-549b-4ca7-fb54-74df479aa718"
      },
      "outputs": [
        {
          "name": "stdout",
          "output_type": "stream",
          "text": [
            "dict_keys(['first_name', 'last_name', 'Age', 'grade'])\n",
            "dict_values(['John', 'Doe', 30, 'Senior'])\n",
            "\n",
            "First name: John\n"
          ]
        }
      ],
      "source": [
        "my_dictionary = {\"first_name\": \"John\", \"last_name\": \"Doe\", \"Age\": 30}\n",
        "my_dictionary[\"grade\"] = \"Senior\"\n",
        "\n",
        "print(my_dictionary.keys())\n",
        "print(my_dictionary.values())\n",
        "\n",
        "print(f\"\\nFirst name: {my_dictionary['first_name']}\")"
      ]
    },
    {
      "cell_type": "markdown",
      "metadata": {
        "id": "H_-oTVzst2sd"
      },
      "source": [
        "## Make sure to keep track of the cell order"
      ]
    },
    {
      "cell_type": "code",
      "execution_count": 11,
      "metadata": {
        "id": "3k6Peq8quB8D"
      },
      "outputs": [],
      "source": [
        "def add(a, b):\n",
        "  return a+b"
      ]
    },
    {
      "cell_type": "code",
      "execution_count": 12,
      "metadata": {
        "id": "PlEjQ1gnsiF_"
      },
      "outputs": [],
      "source": [
        "a = 4\n",
        "b = 6"
      ]
    },
    {
      "cell_type": "code",
      "execution_count": 13,
      "metadata": {
        "colab": {
          "base_uri": "https://localhost:8080/"
        },
        "id": "z9x0rrBqvcVF",
        "outputId": "b45c8f83-d79a-4db1-93ee-f40b494ddab1"
      },
      "outputs": [
        {
          "name": "stdout",
          "output_type": "stream",
          "text": [
            "10\n"
          ]
        }
      ],
      "source": [
        "print(a + b)"
      ]
    },
    {
      "cell_type": "code",
      "execution_count": 14,
      "metadata": {
        "id": "at1dntVUvgl7"
      },
      "outputs": [],
      "source": [
        "a = 5"
      ]
    },
    {
      "cell_type": "markdown",
      "metadata": {
        "id": "il4gnz7VwJLi"
      },
      "source": [
        "# Numpy"
      ]
    },
    {
      "cell_type": "markdown",
      "metadata": {
        "id": "fR3Nnanz5oaA"
      },
      "source": [
        "https://numpy.org/doc/stable/user/quickstart.html"
      ]
    },
    {
      "cell_type": "code",
      "execution_count": 15,
      "metadata": {
        "colab": {
          "base_uri": "https://localhost:8080/"
        },
        "id": "lHxnIokowuDR",
        "outputId": "86c2ca04-1048-41f4-dfe9-32f44bf040d8"
      },
      "outputs": [
        {
          "name": "stdout",
          "output_type": "stream",
          "text": [
            "[1 2 3]\n",
            "[1. 2. 3.]\n",
            "[1. 2. 3.]\n"
          ]
        }
      ],
      "source": [
        "a = np.array([1,2,3])\n",
        "print(a)\n",
        "a_float = np.array([1,2,3], dtype=np.float32)\n",
        "print(a_float)\n",
        "print(a.astype(np.float64))"
      ]
    },
    {
      "cell_type": "code",
      "execution_count": 16,
      "metadata": {
        "colab": {
          "base_uri": "https://localhost:8080/"
        },
        "id": "r6bkd0Iw5SRD",
        "outputId": "b8d6f956-18f8-4f01-f5ac-a1306af10ce5"
      },
      "outputs": [
        {
          "name": "stdout",
          "output_type": "stream",
          "text": [
            "<class 'numpy.ndarray'>\n",
            "<class 'list'>\n",
            "<class 'numpy.ndarray'>\n"
          ]
        }
      ],
      "source": [
        "print(type(a))\n",
        "print(type(a.tolist()))\n",
        "print(type(np.array(list((1,2,3)))))"
      ]
    },
    {
      "cell_type": "code",
      "execution_count": 17,
      "metadata": {
        "colab": {
          "base_uri": "https://localhost:8080/"
        },
        "id": "ewqfn4VuwIFo",
        "outputId": "8d34a5c9-3ab1-4187-8bc8-bc74d16a31b9"
      },
      "outputs": [
        {
          "name": "stdout",
          "output_type": "stream",
          "text": [
            "[[1 2]\n",
            " [3 4]]\n"
          ]
        }
      ],
      "source": [
        "m = np.array([[1,2], [3,4]])\n",
        "print(m)"
      ]
    },
    {
      "cell_type": "code",
      "execution_count": 18,
      "metadata": {
        "colab": {
          "base_uri": "https://localhost:8080/"
        },
        "id": "Z1bW7Tmxy04T",
        "outputId": "2e0b33ae-7afd-4689-ff5b-8f41df033b25"
      },
      "outputs": [
        {
          "name": "stdout",
          "output_type": "stream",
          "text": [
            "[2 3 4]\n",
            "[ 9 -7  4]\n"
          ]
        }
      ],
      "source": [
        "a1 = a+1\n",
        "print(a1)\n",
        "\n",
        "b = np.array([8,-9,1])\n",
        "print(a + b)"
      ]
    },
    {
      "cell_type": "code",
      "execution_count": 19,
      "metadata": {
        "colab": {
          "base_uri": "https://localhost:8080/"
        },
        "id": "9nJ566gmzLUs",
        "outputId": "e09f7404-e31c-4d41-fd06-ca52602c01d5"
      },
      "outputs": [
        {
          "name": "stdout",
          "output_type": "stream",
          "text": [
            "[3 6 9]\n"
          ]
        }
      ],
      "source": [
        "a3 = a*3\n",
        "print(a3)"
      ]
    },
    {
      "cell_type": "markdown",
      "metadata": {
        "id": "ncm9i1DPy1-t"
      },
      "source": [
        "## Reshaping"
      ]
    },
    {
      "cell_type": "code",
      "execution_count": 20,
      "metadata": {
        "colab": {
          "base_uri": "https://localhost:8080/"
        },
        "id": "lbc_6BoqvwV3",
        "outputId": "92c044fa-af27-46b0-f587-9609004a9adf"
      },
      "outputs": [
        {
          "name": "stdout",
          "output_type": "stream",
          "text": [
            "[0 1 2 3 4 5 6 7 8 9]\n"
          ]
        }
      ],
      "source": [
        "c = np.arange(10)\n",
        "print(c)"
      ]
    },
    {
      "cell_type": "code",
      "execution_count": 21,
      "metadata": {
        "colab": {
          "base_uri": "https://localhost:8080/"
        },
        "id": "1M3Hhnthyn3v",
        "outputId": "a8679e13-7110-436b-99b6-597d75223a1a"
      },
      "outputs": [
        {
          "name": "stdout",
          "output_type": "stream",
          "text": [
            "[[0 1 2 3 4]\n",
            " [5 6 7 8 9]]\n",
            "[[0 1]\n",
            " [2 3]\n",
            " [4 5]\n",
            " [6 7]\n",
            " [8 9]]\n"
          ]
        }
      ],
      "source": [
        "c1 = c.reshape((2,5))\n",
        "print(c1)\n",
        "c2 = c1.reshape((5,2))\n",
        "print(c2)"
      ]
    },
    {
      "cell_type": "code",
      "execution_count": 22,
      "metadata": {
        "colab": {
          "base_uri": "https://localhost:8080/"
        },
        "id": "OAfCxtRwys4X",
        "outputId": "8cf8d726-0146-4915-ab60-db03ab25d7fe"
      },
      "outputs": [
        {
          "name": "stdout",
          "output_type": "stream",
          "text": [
            "[0 5]\n",
            "[3, 4]\n"
          ]
        }
      ],
      "source": [
        "# operating on the columns\n",
        "col1 = c1[:,0]\n",
        "print(col1)\n",
        "\n",
        "alist = [1,2,3,4]\n",
        "print(alist[2:])"
      ]
    },
    {
      "cell_type": "markdown",
      "metadata": {
        "id": "qGYqakaDzdZy"
      },
      "source": [
        "## Matrix operations"
      ]
    },
    {
      "cell_type": "code",
      "execution_count": 23,
      "metadata": {
        "colab": {
          "base_uri": "https://localhost:8080/"
        },
        "id": "WTKeSsFZzggO",
        "outputId": "f22cdf01-2553-448c-db82-8a55cdbda5b8"
      },
      "outputs": [
        {
          "name": "stdout",
          "output_type": "stream",
          "text": [
            "[[0.91483815 0.9417932  0.76079337]\n",
            " [0.73665775 0.45706903 0.61617976]\n",
            " [0.13417901 0.98298579 0.45361885]]\n"
          ]
        }
      ],
      "source": [
        "m = np.random.rand(3,3)\n",
        "print(m)"
      ]
    },
    {
      "cell_type": "code",
      "execution_count": 24,
      "metadata": {
        "colab": {
          "base_uri": "https://localhost:8080/"
        },
        "id": "0BDG7IqDzl77",
        "outputId": "884f7e00-9c15-45b5-84b0-f0b149371b4a"
      },
      "outputs": [
        {
          "name": "stdout",
          "output_type": "stream",
          "text": [
            "[[0.91483815 0.73665775 0.13417901]\n",
            " [0.9417932  0.45706903 0.98298579]\n",
            " [0.76079337 0.61617976 0.45361885]]\n",
            "[[0.91483815 0.73665775 0.13417901]\n",
            " [0.9417932  0.45706903 0.98298579]\n",
            " [0.76079337 0.61617976 0.45361885]]\n"
          ]
        }
      ],
      "source": [
        "transpose = m.T\n",
        "print(transpose)\n",
        "transpose2 = np.transpose(m)\n",
        "print(transpose2)\n"
      ]
    },
    {
      "cell_type": "code",
      "execution_count": 25,
      "metadata": {
        "colab": {
          "base_uri": "https://localhost:8080/"
        },
        "id": "O-nTyNVZzt21",
        "outputId": "2e362837-8a5f-47e7-8555-cf0060797b94"
      },
      "outputs": [
        {
          "name": "stdout",
          "output_type": "stream",
          "text": [
            "[[ 4.10549979 -3.30444772 -2.39695332]\n",
            " [ 2.59178408 -3.22479691  0.03360189]\n",
            " [-6.83075412  7.96553556  2.84069026]]\n"
          ]
        }
      ],
      "source": [
        "inverse = np.linalg.inv(m)\n",
        "print(inverse)"
      ]
    },
    {
      "cell_type": "code",
      "execution_count": 26,
      "metadata": {
        "colab": {
          "base_uri": "https://localhost:8080/"
        },
        "id": "iVVMczL9z-ov",
        "outputId": "9d99e9fe-b4f8-4a89-de01-390f8fefcfb0"
      },
      "outputs": [
        {
          "name": "stdout",
          "output_type": "stream",
          "text": [
            "[[7.6982294 ]\n",
            " [5.30924165]\n",
            " [5.0317908 ]]\n"
          ]
        }
      ],
      "source": [
        "a = np.array([2,3,4]).reshape(1,3)\n",
        "x = np.matmul(m, a.T)\n",
        "print(x)"
      ]
    },
    {
      "cell_type": "code",
      "execution_count": 27,
      "metadata": {
        "colab": {
          "base_uri": "https://localhost:8080/"
        },
        "id": "P7ghVLOR0L3P",
        "outputId": "5d71cf89-b171-43b2-d680-34d86dd7369b"
      },
      "outputs": [
        {
          "name": "stdout",
          "output_type": "stream",
          "text": [
            "[[4.57636559 7.18673668 5.18460144]]\n"
          ]
        }
      ],
      "source": [
        "x2 = np.matmul(a,m)\n",
        "print(x2)"
      ]
    },
    {
      "cell_type": "code",
      "execution_count": 28,
      "metadata": {
        "colab": {
          "base_uri": "https://localhost:8080/"
        },
        "id": "Cm_C7e4f0SFT",
        "outputId": "5cac0fbd-5e7d-4082-bfe1-d9b278ce092c"
      },
      "outputs": [
        {
          "name": "stdout",
          "output_type": "stream",
          "text": [
            "[[7.6982294 ]\n",
            " [5.30924165]\n",
            " [5.0317908 ]]\n"
          ]
        }
      ],
      "source": [
        "dot = np.dot(m, a.T)\n",
        "print(dot)"
      ]
    },
    {
      "cell_type": "code",
      "execution_count": null,
      "metadata": {
        "id": "GjUn6Tmy0nPp"
      },
      "outputs": [],
      "source": []
    },
    {
      "cell_type": "markdown",
      "metadata": {
        "id": "eW4ALExZ2YT7"
      },
      "source": [
        "## Ex 1. Compute euclidean distance between 2 points"
      ]
    },
    {
      "cell_type": "code",
      "execution_count": 29,
      "metadata": {
        "colab": {
          "base_uri": "https://localhost:8080/"
        },
        "id": "H-zYh7Qq2Z_l",
        "outputId": "48f37b8d-c829-4631-aa82-8bf21d64ca11"
      },
      "outputs": [
        {
          "name": "stdout",
          "output_type": "stream",
          "text": [
            "[0. 0. 0.]\n",
            "[0.25 0.25 0.25]\n"
          ]
        }
      ],
      "source": [
        "a = np.zeros(3)\n",
        "print(a)\n",
        "# b = np.random.rand(3)\n",
        "b = np.array([0.25, 0.25, 0.25])\n",
        "print(b)\n"
      ]
    },
    {
      "cell_type": "code",
      "execution_count": 30,
      "metadata": {
        "colab": {
          "base_uri": "https://localhost:8080/"
        },
        "id": "MFBW2kkc2q0M",
        "outputId": "1af93f1d-fa78-4d59-ddb1-58ee491836a0"
      },
      "outputs": [
        {
          "name": "stdout",
          "output_type": "stream",
          "text": [
            "0.4330127018922193\n"
          ]
        }
      ],
      "source": [
        "print(np.linalg.norm(a-b))"
      ]
    },
    {
      "cell_type": "markdown",
      "metadata": {
        "id": "rLU67tef3I5q"
      },
      "source": [
        "## Ex2. Compute Mean and Standard Deviation"
      ]
    },
    {
      "cell_type": "code",
      "execution_count": 31,
      "metadata": {
        "colab": {
          "base_uri": "https://localhost:8080/"
        },
        "id": "yuN5Kp0c2ySs",
        "outputId": "4a5acbe0-602c-45d0-b81e-7c1b33715c5b"
      },
      "outputs": [
        {
          "name": "stdout",
          "output_type": "stream",
          "text": [
            "[[0.5500885  0.51975308 0.74240226]\n",
            " [0.63785016 0.90007021 0.32587806]\n",
            " [0.28388976 0.76007078 0.20669311]\n",
            " [0.50530877 0.76408161 0.75478607]\n",
            " [0.99473144 0.71432825 0.38711842]\n",
            " [0.9686774  0.87449987 0.511784  ]\n",
            " [0.99910949 0.07937424 0.9828963 ]\n",
            " [0.59338085 0.40585275 0.97529102]\n",
            " [0.95465433 0.85644636 0.91179261]\n",
            " [0.33774798 0.13639389 0.5307784 ]]\n"
          ]
        }
      ],
      "source": [
        "a = np.random.rand(10, 3)\n",
        "print(a)"
      ]
    },
    {
      "cell_type": "code",
      "execution_count": 32,
      "metadata": {
        "colab": {
          "base_uri": "https://localhost:8080/"
        },
        "id": "LOooNjsz3XBb",
        "outputId": "1e910de2-f973-4dd3-f772-cd1cdf7c7baf"
      },
      "outputs": [
        {
          "name": "stdout",
          "output_type": "stream",
          "text": [
            "0.638857665721795\n",
            "0.27426631576133936\n"
          ]
        }
      ],
      "source": [
        "mean1 = np.mean(a)\n",
        "std1 = np.std(a)\n",
        "print(mean1)\n",
        "print(std1)"
      ]
    },
    {
      "cell_type": "code",
      "execution_count": 33,
      "metadata": {
        "colab": {
          "base_uri": "https://localhost:8080/"
        },
        "id": "07Vy3Pys3f8E",
        "outputId": "b062d47e-3767-4090-8380-1cca1bd88958"
      },
      "outputs": [
        {
          "name": "stdout",
          "output_type": "stream",
          "text": [
            "[0.60408128 0.62126614 0.41688455 0.67472549 0.69872604 0.78498709\n",
            " 0.68712668 0.65817488 0.9076311  0.33497342]\n",
            "[0.09858864 0.2347061  0.2447072  0.1198558  0.24830219 0.19697258\n",
            " 0.42979684 0.23694399 0.04020108 0.16101876]\n"
          ]
        }
      ],
      "source": [
        "mean2 = np.mean(a, axis=1)\n",
        "std2 = np.std(a, axis=1)\n",
        "print(mean2)\n",
        "print(std2)"
      ]
    }
  ],
  "metadata": {
    "accelerator": "GPU",
    "colab": {
      "collapsed_sections": [
        "yRTYzhcBpGB0",
        "XT-0VDa5uHmN",
        "WJCdnKU85sw3"
      ],
      "name": "ML_Lecture_8_25.ipynb",
      "provenance": []
    },
    "kernelspec": {
      "display_name": "Python 3",
      "name": "python3"
    },
    "language_info": {
      "codemirror_mode": {
        "name": "ipython",
        "version": 3
      },
      "file_extension": ".py",
      "mimetype": "text/x-python",
      "name": "python",
      "nbconvert_exporter": "python",
      "pygments_lexer": "ipython3",
      "version": "3.7.16"
    }
  },
  "nbformat": 4,
  "nbformat_minor": 0
}
