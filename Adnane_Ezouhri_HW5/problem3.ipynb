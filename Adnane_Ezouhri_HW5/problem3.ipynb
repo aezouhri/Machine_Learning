{
 "cells": [
  {
   "cell_type": "markdown",
   "metadata": {},
   "source": [
    "# Problem 3"
   ]
  },
  {
   "cell_type": "markdown",
   "metadata": {},
   "source": [
    "### Part A\n"
   ]
  },
  {
   "cell_type": "code",
   "execution_count": null,
   "metadata": {},
   "outputs": [],
   "source": [
    "import numpy as np\n",
    "import matplotlib.pyplot as plt\n",
    "\n",
    "# Given values for part (a)\n",
    "mu1_a = np.array([2, 0])\n",
    "mu2_a = np.array([3, 1])\n",
    "Sigma1_a = Sigma2_a = 3 * np.eye(2)  # Sigma is 3 times the identity matrix\n",
    "\n",
    "# Define the discriminant functions for class 1 and class 2\n",
    "def discriminant(x, mu, Sigma):\n",
    "    Sigma_inv = np.linalg.inv(Sigma)\n",
    "    return -0.5 * ((x - mu).T @ Sigma_inv @ (x - mu))\n",
    "\n",
    "# Define the decision boundary function where the discriminant functions are equal\n",
    "def decision_boundary(x1, mu1, mu2, Sigma):\n",
    "    x2 = np.linspace(-10, 10, 200)\n",
    "    X1, X2 = np.meshgrid(x1, x2)\n",
    "    Z = np.zeros(X1.shape)\n",
    "    for i in range(X1.shape[0]):\n",
    "        for j in range(X1.shape[1]):\n",
    "            x = np.array([X1[i, j], X2[i, j]])\n",
    "            Z[i, j] = discriminant(x, mu1, Sigma) - discriminant(x, mu2, Sigma)\n",
    "    return X1, X2, Z\n",
    "\n",
    "# Plot the decision boundary for part (a)\n",
    "x1 = np.linspace(-1, 5, 200)\n",
    "X1, X2, Z = decision_boundary(x1, mu1_a, mu2_a, Sigma1_a)\n",
    "\n",
    "plt.figure(figsize=(8, 6))\n",
    "plt.contour(X1, X2, Z, levels=[0], colors='green')\n",
    "plt.scatter(mu1_a[0], mu1_a[1], c='red', label='Class 1 Mean')\n",
    "plt.scatter(mu2_a[0], mu2_a[1], c='blue', label='Class 2 Mean')\n",
    "plt.xlim(-1, 5)\n",
    "plt.ylim(-2, 3)\n",
    "plt.xlabel('X1')\n",
    "plt.ylabel('X2')\n",
    "plt.legend()\n",
    "plt.title('Decision Boundary for Part (a)')\n",
    "plt.grid(True)\n",
    "plt.show()\n"
   ]
  }
 ],
 "metadata": {
  "language_info": {
   "name": "python"
  }
 },
 "nbformat": 4,
 "nbformat_minor": 2
}
